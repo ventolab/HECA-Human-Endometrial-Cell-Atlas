{
 "cells": [
  {
   "cell_type": "markdown",
   "metadata": {},
   "source": [
    "# Merge DEGs files\n",
    "Compare CTRL and ENDO cells using the genotype as a covariate"
   ]
  },
  {
   "cell_type": "code",
   "execution_count": 1,
   "metadata": {},
   "outputs": [
    {
     "name": "stderr",
     "output_type": "stream",
     "text": [
      "\n",
      "Attaching package: ‘dplyr’\n",
      "\n",
      "\n",
      "The following objects are masked from ‘package:stats’:\n",
      "\n",
      "    filter, lag\n",
      "\n",
      "\n",
      "The following objects are masked from ‘package:base’:\n",
      "\n",
      "    intersect, setdiff, setequal, union\n",
      "\n",
      "\n",
      "\n",
      "Attaching package: ‘tidyr’\n",
      "\n",
      "\n",
      "The following object is masked from ‘package:reshape2’:\n",
      "\n",
      "    smiths\n",
      "\n",
      "\n"
     ]
    }
   ],
   "source": [
    "library(ggplot2)\n",
    "library(dplyr)\n",
    "library(reshape2)\n",
    "library(tidyr)"
   ]
  },
  {
   "cell_type": "markdown",
   "metadata": {},
   "source": [
    "# Load DEG results"
   ]
  },
  {
   "cell_type": "code",
   "execution_count": 2,
   "metadata": {},
   "outputs": [],
   "source": [
    "lineage = 'mesenchymal'\n",
    "columns2keep = c('id', 'Gene', 'celltype', 'test', 'logFC', 'adj.P.Val', 'meaning')"
   ]
  },
  {
   "cell_type": "markdown",
   "metadata": {},
   "source": [
    "### Limma"
   ]
  },
  {
   "cell_type": "code",
   "execution_count": 3,
   "metadata": {},
   "outputs": [],
   "source": [
    "path_to_DEGs = '/nfs/team292/lg18/endometriosis/DEGs_endometriosis/limma/'\n",
    "file = 'corrected.tsv' # nuclei_mesenchymal_uncorrected.tsv\n",
    "ufile = 'uncorrected.tsv' # nuclei_mesenchymal_uncorrected.tsv\n",
    "\n",
    "files = list(\n",
    "#              paste0(path_to_DEGs, 'cells_', lineage, '_' , file),\n",
    "             paste0(path_to_DEGs, 'cells_', lineage, '_' , ufile),\n",
    "#              paste0(path_to_DEGs, 'nuclei_', lineage, '_' , file),\n",
    "             paste0(path_to_DEGs, 'nuclei_', lineage, '_' , ufile)\n",
    ")\n",
    "\n",
    "ldf_limma = lapply(files, read.delim, stringsAsFactors = F)\n",
    "names(ldf_limma) = gsub('.tsv', '', files)\n",
    "names(ldf_limma) = gsub(lineage, '', names(ldf_limma))\n",
    "names(ldf_limma) = sapply(names(ldf_limma), function(x) tail(strsplit(x, split = '/')[[1]], n=1) )\n",
    "for (i in names(ldf_limma)){\n",
    "    ldf_limma[[i]]$meaning = ifelse(ldf_limma[[i]]$logFC > 0, 'up_CONTROL', 'up_ENDOMETRIOSIS')\n",
    "    ldf_limma[[i]]$meaning[ ldf_limma[[i]]$adj.P.Val > 0.05 ] = 'not_significant'\n",
    "    ldf_limma[[i]]$id = paste(ldf_limma[[i]]$celltype, ldf_limma[[i]]$Gene, sep = '_')\n",
    "    ldf_limma[[i]]$test = paste0(i, '_limma')\n",
    "    ldf_limma[[i]] = ldf_limma[[i]][, columns2keep ]\n",
    "    rownames(ldf_limma[[i]]) = ldf_limma[[i]]$id\n",
    "}\n",
    "                    "
   ]
  },
  {
   "cell_type": "markdown",
   "metadata": {},
   "source": [
    "### edgeR"
   ]
  },
  {
   "cell_type": "code",
   "execution_count": 4,
   "metadata": {},
   "outputs": [],
   "source": [
    "path_to_DEGs = '/nfs/team292/lg18/endometriosis/DEGs_endometriosis/edgeR/'\n",
    "files = list.files(path_to_DEGs, recursive = T, full.names = T)\n",
    "files = grep(lineage, files, value = T)\n",
    "files = grep('whole_uterus', files, value = T, invert = T)\n",
    "ldf = lapply(files, read.delim, stringsAsFactors = F, sep=',')\n",
    "names(ldf) = gsub('.csv', '', files)"
   ]
  },
  {
   "cell_type": "code",
   "execution_count": 5,
   "metadata": {},
   "outputs": [],
   "source": [
    "# ldf_edgeR[[test_type]]$id [ duplicated(ldf_edgeR[[test_type]]$id) ]"
   ]
  },
  {
   "cell_type": "code",
   "execution_count": 6,
   "metadata": {},
   "outputs": [
    {
     "data": {
      "text/html": [
       "<style>\n",
       ".list-inline {list-style: none; margin:0; padding: 0}\n",
       ".list-inline>li {display: inline-block}\n",
       ".list-inline>li:not(:last-child)::after {content: \"\\00b7\"; padding: 0 .5ex}\n",
       "</style>\n",
       "<ol class=list-inline><li>'cells_uncorrected_edgeR'</li><li>'nuclei_uncorrected_edgeR'</li></ol>\n"
      ],
      "text/latex": [
       "\\begin{enumerate*}\n",
       "\\item 'cells\\_uncorrected\\_edgeR'\n",
       "\\item 'nuclei\\_uncorrected\\_edgeR'\n",
       "\\end{enumerate*}\n"
      ],
      "text/markdown": [
       "1. 'cells_uncorrected_edgeR'\n",
       "2. 'nuclei_uncorrected_edgeR'\n",
       "\n",
       "\n"
      ],
      "text/plain": [
       "[1] \"cells_uncorrected_edgeR\"  \"nuclei_uncorrected_edgeR\""
      ]
     },
     "metadata": {},
     "output_type": "display_data"
    }
   ],
   "source": [
    "ldf_edgeR = list()\n",
    "\n",
    "test_type = 'cells_uncorrected_edgeR'\n",
    "cells = grep('DEGs_cells', grep('/group/', names(ldf), value = T), value = T)\n",
    "ldf_edgeR[[test_type]] = melt(ldf[cells], id.vars = names(ldf[[1]]))\n",
    "ldf_edgeR[[test_type]]$Gene = ldf_edgeR[[test_type]]$X\n",
    "ldf_edgeR[[test_type]]$celltype = ldf_edgeR[[test_type]]$cell_type\n",
    "ldf_edgeR[[test_type]]$adj.P.Val = ldf_edgeR[[test_type]]$FDR\n",
    "ldf_edgeR[[test_type]]$logFC  = ldf_edgeR[[test_type]]$logFC * (-1)\n",
    "ldf_edgeR[[test_type]]$meaning = ifelse(ldf_edgeR[[test_type]]$logFC > 0, 'up_CONTROL', 'up_ENDOMETRIOSIS')\n",
    "ldf_edgeR[[test_type]]$meaning[ ldf_edgeR[[test_type]]$FDR > 0.05 ] = 'not_significant'\n",
    "ldf_edgeR[[test_type]]$id = paste( ldf_edgeR[[test_type]]$cell_type,  ldf_edgeR[[test_type]]$Gene, sep = '_')\n",
    "ldf_edgeR[[test_type]]$test = test_type\n",
    "ldf_edgeR[[test_type]] = ldf_edgeR[[test_type]][, columns2keep ]\n",
    "rownames(ldf_edgeR[[test_type]]) = ldf_edgeR[[test_type]]$id\n",
    "\n",
    "\n",
    "# test_type = 'cells_corrected_edgeR'\n",
    "# cells = grep('DEGs_cells', grep('/group_dataset/', names(ldf), value = T), value = T)\n",
    "# ldf_edgeR[[test_type]] = melt(ldf[cells], id.vars = names(ldf[[1]]))\n",
    "# ldf_edgeR[[test_type]]$Gene = ldf_edgeR[[test_type]]$X\n",
    "# ldf_edgeR[[test_type]]$celltype = ldf_edgeR[[test_type]]$cell_type\n",
    "# ldf_edgeR[[test_type]]$adj.P.Val = ldf_edgeR[[test_type]]$FDR\n",
    "# ldf_edgeR[[test_type]]$logFC  = ldf_edgeR[[test_type]]$logFC * (-1)\n",
    "# ldf_edgeR[[test_type]]$meaning = ifelse(ldf_edgeR[[test_type]]$logFC > 0, 'up_CONTROL', 'up_ENDOMETRIOSIS')\n",
    "# ldf_edgeR[[test_type]]$meaning[ ldf_edgeR[[test_type]]$FDR > 0.05 ] = 'not_significant'\n",
    "# ldf_edgeR[[test_type]]$id = paste( ldf_edgeR[[test_type]]$cell_type,  ldf_edgeR[[test_type]]$Gene, sep = '_')\n",
    "# ldf_edgeR[[test_type]]$test = test_type\n",
    "# ldf_edgeR[[test_type]] = ldf_edgeR[[test_type]][, columns2keep ]\n",
    "# rownames(ldf_edgeR[[test_type]]) = ldf_edgeR[[test_type]]$id\n",
    "\n",
    "\n",
    "\n",
    "test_type = 'nuclei_uncorrected_edgeR'\n",
    "cells = grep('DEGs_nuclei', grep('/group/', names(ldf), value = T), value = T)\n",
    "ldf_edgeR[[test_type]] = melt(ldf[cells], id.vars = names(ldf[[1]]))\n",
    "ldf_edgeR[[test_type]]$Gene = ldf_edgeR[[test_type]]$X\n",
    "ldf_edgeR[[test_type]]$celltype = ldf_edgeR[[test_type]]$cell_type\n",
    "ldf_edgeR[[test_type]]$adj.P.Val = ldf_edgeR[[test_type]]$FDR\n",
    "ldf_edgeR[[test_type]]$logFC  = ldf_edgeR[[test_type]]$logFC * (-1)\n",
    "ldf_edgeR[[test_type]]$meaning = ifelse(ldf_edgeR[[test_type]]$logFC > 0, 'up_CONTROL', 'up_ENDOMETRIOSIS')\n",
    "ldf_edgeR[[test_type]]$meaning[ ldf_edgeR[[test_type]]$FDR > 0.05 ] = 'not_significant'\n",
    "ldf_edgeR[[test_type]]$id = paste( ldf_edgeR[[test_type]]$cell_type,  ldf_edgeR[[test_type]]$Gene, sep = '_')\n",
    "ldf_edgeR[[test_type]]$test = test_type\n",
    "ldf_edgeR[[test_type]] = ldf_edgeR[[test_type]][, columns2keep ]\n",
    "rownames(ldf_edgeR[[test_type]]) = ldf_edgeR[[test_type]]$id\n",
    "\n",
    "\n",
    "names(ldf_edgeR)"
   ]
  },
  {
   "cell_type": "markdown",
   "metadata": {},
   "source": [
    "# Merge into one table"
   ]
  },
  {
   "cell_type": "code",
   "execution_count": 7,
   "metadata": {},
   "outputs": [],
   "source": [
    "merged_table = data.frame(id = ldf_edgeR$cells_uncorrected$id, \n",
    "                          Gene = ldf_edgeR$cells_uncorrected$Gene,\n",
    "                          celltype=ldf_edgeR$cells_uncorrected$celltype, \n",
    "                          stringsAsFactors = F)\n",
    "merged_table = merged_table[ order(merged_table$Gene), ]\n",
    "merged_table = merged_table[ grep('PV', merged_table$celltype, invert = T) , ] # We are not interested on these cells\n",
    "# merged_table = merged_table[ grep('cells', merged_table$celltype, invert = T) , ] # We are not interested on these cells\n",
    "rownames(merged_table) = merged_table$id\n",
    "combinations = merged_table$id"
   ]
  },
  {
   "cell_type": "code",
   "execution_count": 8,
   "metadata": {},
   "outputs": [],
   "source": [
    "# cells\n",
    "merged_table$logFC_cells_uncorrected_limma = ldf_limma$cells__uncorrected[ combinations , ]$logFC\n",
    "merged_table$adj.P.Val_cells_uncorrected_limma = ldf_limma$cells__uncorrected[ combinations , ]$adj.P.Val\n",
    "merged_table$meaning_cells_uncorrected_limma = ldf_limma$cells__uncorrected[ combinations , ]$meaning\n",
    "\n",
    "\n",
    "merged_table$logFC_cells_uncorrected_edgeR = ldf_edgeR$cells_uncorrected[ combinations , ]$logFC\n",
    "merged_table$adj.P.Val_cells_uncorrected_edgeR = ldf_edgeR$cells_uncorrected[ combinations , ]$adj.P.Val\n",
    "merged_table$meaning_cells_uncorrected_edgeR = ldf_edgeR$cells_uncorrected[ combinations , ]$meaning\n",
    "\n",
    "\n",
    "# merged_table$logFC_cells_corrected_limma = ldf_limma$cells__corrected[ combinations , ]$logFC\n",
    "# merged_table$adj.P.Val_cells_corrected_limma = ldf_limma$cells__corrected[ combinations , ]$adj.P.Val\n",
    "# merged_table$meaning_cells_corrected_limma = ldf_limma$cells__corrected[ combinations , ]$meaning\n",
    "\n",
    "\n",
    "# merged_table$logFC_cells_corrected_edgeR = ldf_edgeR$cells_corrected[ combinations , ]$logFC\n",
    "# merged_table$adj.P.Val_cells_corrected_edgeR = ldf_edgeR$cells_corrected[ combinations , ]$adj.P.Val\n",
    "# merged_table$meaning_cells_corrected_edgeR = ldf_edgeR$cells_corrected[ combinations , ]$meaning"
   ]
  },
  {
   "cell_type": "code",
   "execution_count": 9,
   "metadata": {},
   "outputs": [],
   "source": [
    "# nuclei\n",
    "merged_table$logFC_nuclei_uncorrected_limma = ldf_limma$nuclei__uncorrected[ combinations , ]$logFC\n",
    "merged_table$adj.P.Val_nuclei_uncorrected_limma = ldf_limma$nuclei__uncorrected[ combinations , ]$adj.P.Val\n",
    "merged_table$meaning_nuclei_uncorrected_limma = ldf_limma$nuclei__uncorrected[ combinations , ]$meaning\n",
    "\n",
    "\n",
    "merged_table$logFC_nuclei_uncorrected_edgeR = ldf_edgeR$nuclei_uncorrected[ combinations , ]$logFC\n",
    "merged_table$adj.P.Val_nuclei_uncorrected_edgeR = ldf_edgeR$nuclei_uncorrected[ combinations , ]$adj.P.Val\n",
    "merged_table$meaning_nuclei_uncorrected_edgeR = ldf_edgeR$nuclei_uncorrected[ combinations , ]$meaning\n",
    "\n",
    "\n",
    "# merged_table$logFC_nuclei_corrected_limma = ldf_limma$nuclei__corrected[ combinations , ]$logFC\n",
    "# merged_table$adj.P.Val_nuclei_corrected_limma = ldf_limma$nuclei__corrected[ combinations , ]$adj.P.Val\n",
    "# merged_table$meaning_nuclei_corrected_limma = ldf_limma$nuclei__corrected[ combinations , ]$meaning\n",
    "\n",
    "\n",
    "# merged_table$logFC_nuclei_corrected_edgeR = ldf_edgeR$nuclei_corrected[ combinations , ]$logFC\n",
    "# merged_table$adj.P.Val_nuclei_corrected_edgeR = ldf_edgeR$nuclei_corrected[ combinations , ]$adj.P.Val\n",
    "# merged_table$meaning_nuclei_corrected_edgeR = ldf_edgeR$nuclei_corrected[ combinations , ]$meaning"
   ]
  },
  {
   "cell_type": "code",
   "execution_count": 10,
   "metadata": {},
   "outputs": [
    {
     "data": {
      "text/html": [
       "<table class=\"dataframe\">\n",
       "<caption>A data.frame: 6 × 4</caption>\n",
       "<thead>\n",
       "\t<tr><th></th><th scope=col>L1</th><th scope=col>not_significant</th><th scope=col>up_ENDOMETRIOSIS</th><th scope=col>up_CONTROL</th></tr>\n",
       "\t<tr><th></th><th scope=col>&lt;chr&gt;</th><th scope=col>&lt;dbl&gt;</th><th scope=col>&lt;dbl&gt;</th><th scope=col>&lt;dbl&gt;</th></tr>\n",
       "</thead>\n",
       "<tbody>\n",
       "\t<tr><th scope=row>dStromal_early_A1BG</th><td>dStromal_early_A1BG </td><td>1</td><td>0</td><td>1</td></tr>\n",
       "\t<tr><th scope=row>dStromal_early_A2M</th><td>dStromal_early_A2M  </td><td>1</td><td>1</td><td>2</td></tr>\n",
       "\t<tr><th scope=row>dStromal_early_AAAS</th><td>dStromal_early_AAAS </td><td>2</td><td>0</td><td>0</td></tr>\n",
       "\t<tr><th scope=row>dStromal_early_AACS</th><td>dStromal_early_AACS </td><td>3</td><td>0</td><td>0</td></tr>\n",
       "\t<tr><th scope=row>dStromal_early_AAK1</th><td>dStromal_early_AAK1 </td><td>4</td><td>0</td><td>0</td></tr>\n",
       "\t<tr><th scope=row>dStromal_early_AAMDC</th><td>dStromal_early_AAMDC</td><td>2</td><td>0</td><td>1</td></tr>\n",
       "</tbody>\n",
       "</table>\n"
      ],
      "text/latex": [
       "A data.frame: 6 × 4\n",
       "\\begin{tabular}{r|llll}\n",
       "  & L1 & not\\_significant & up\\_ENDOMETRIOSIS & up\\_CONTROL\\\\\n",
       "  & <chr> & <dbl> & <dbl> & <dbl>\\\\\n",
       "\\hline\n",
       "\tdStromal\\_early\\_A1BG & dStromal\\_early\\_A1BG  & 1 & 0 & 1\\\\\n",
       "\tdStromal\\_early\\_A2M & dStromal\\_early\\_A2M   & 1 & 1 & 2\\\\\n",
       "\tdStromal\\_early\\_AAAS & dStromal\\_early\\_AAAS  & 2 & 0 & 0\\\\\n",
       "\tdStromal\\_early\\_AACS & dStromal\\_early\\_AACS  & 3 & 0 & 0\\\\\n",
       "\tdStromal\\_early\\_AAK1 & dStromal\\_early\\_AAK1  & 4 & 0 & 0\\\\\n",
       "\tdStromal\\_early\\_AAMDC & dStromal\\_early\\_AAMDC & 2 & 0 & 1\\\\\n",
       "\\end{tabular}\n"
      ],
      "text/markdown": [
       "\n",
       "A data.frame: 6 × 4\n",
       "\n",
       "| <!--/--> | L1 &lt;chr&gt; | not_significant &lt;dbl&gt; | up_ENDOMETRIOSIS &lt;dbl&gt; | up_CONTROL &lt;dbl&gt; |\n",
       "|---|---|---|---|---|\n",
       "| dStromal_early_A1BG | dStromal_early_A1BG  | 1 | 0 | 1 |\n",
       "| dStromal_early_A2M | dStromal_early_A2M   | 1 | 1 | 2 |\n",
       "| dStromal_early_AAAS | dStromal_early_AAAS  | 2 | 0 | 0 |\n",
       "| dStromal_early_AACS | dStromal_early_AACS  | 3 | 0 | 0 |\n",
       "| dStromal_early_AAK1 | dStromal_early_AAK1  | 4 | 0 | 0 |\n",
       "| dStromal_early_AAMDC | dStromal_early_AAMDC | 2 | 0 | 1 |\n",
       "\n"
      ],
      "text/plain": [
       "                     L1                   not_significant up_ENDOMETRIOSIS\n",
       "dStromal_early_A1BG  dStromal_early_A1BG  1               0               \n",
       "dStromal_early_A2M   dStromal_early_A2M   1               1               \n",
       "dStromal_early_AAAS  dStromal_early_AAAS  2               0               \n",
       "dStromal_early_AACS  dStromal_early_AACS  3               0               \n",
       "dStromal_early_AAK1  dStromal_early_AAK1  4               0               \n",
       "dStromal_early_AAMDC dStromal_early_AAMDC 2               0               \n",
       "                     up_CONTROL\n",
       "dStromal_early_A1BG  1         \n",
       "dStromal_early_A2M   2         \n",
       "dStromal_early_AAAS  0         \n",
       "dStromal_early_AACS  0         \n",
       "dStromal_early_AAK1  0         \n",
       "dStromal_early_AAMDC 1         "
      ]
     },
     "metadata": {},
     "output_type": "display_data"
    }
   ],
   "source": [
    "# count significants\n",
    "x = apply(merged_table[ , grep('meaning', colnames(merged_table))], 1, table)\n",
    "xx = melt(x)\n",
    "xx = dcast(xx,  L1 ~ Var1, fill = 0)\n",
    "rownames(xx) = xx$L1\n",
    "head(xx)"
   ]
  },
  {
   "cell_type": "code",
   "execution_count": 11,
   "metadata": {},
   "outputs": [],
   "source": [
    "merged_table$up_CONTROL =  xx[combinations, ]$up_CONTROL\n",
    "merged_table$up_ENDOMETRIOSIS =  xx[combinations, ]$up_ENDOMETRIOSIS\n",
    "merged_table$not_significant =  xx[combinations, ]$not_significant"
   ]
  },
  {
   "cell_type": "markdown",
   "metadata": {},
   "source": [
    "# Save"
   ]
  },
  {
   "cell_type": "code",
   "execution_count": 12,
   "metadata": {},
   "outputs": [
    {
     "data": {
      "text/html": [
       "<table class=\"dataframe\">\n",
       "<caption>A data.frame: 6 × 18</caption>\n",
       "<thead>\n",
       "\t<tr><th></th><th scope=col>id</th><th scope=col>Gene</th><th scope=col>celltype</th><th scope=col>logFC_cells_uncorrected_limma</th><th scope=col>adj.P.Val_cells_uncorrected_limma</th><th scope=col>meaning_cells_uncorrected_limma</th><th scope=col>logFC_cells_uncorrected_edgeR</th><th scope=col>adj.P.Val_cells_uncorrected_edgeR</th><th scope=col>meaning_cells_uncorrected_edgeR</th><th scope=col>logFC_nuclei_uncorrected_limma</th><th scope=col>adj.P.Val_nuclei_uncorrected_limma</th><th scope=col>meaning_nuclei_uncorrected_limma</th><th scope=col>logFC_nuclei_uncorrected_edgeR</th><th scope=col>adj.P.Val_nuclei_uncorrected_edgeR</th><th scope=col>meaning_nuclei_uncorrected_edgeR</th><th scope=col>up_CONTROL</th><th scope=col>up_ENDOMETRIOSIS</th><th scope=col>not_significant</th></tr>\n",
       "\t<tr><th></th><th scope=col>&lt;chr&gt;</th><th scope=col>&lt;chr&gt;</th><th scope=col>&lt;chr&gt;</th><th scope=col>&lt;dbl&gt;</th><th scope=col>&lt;dbl&gt;</th><th scope=col>&lt;chr&gt;</th><th scope=col>&lt;dbl&gt;</th><th scope=col>&lt;dbl&gt;</th><th scope=col>&lt;chr&gt;</th><th scope=col>&lt;dbl&gt;</th><th scope=col>&lt;dbl&gt;</th><th scope=col>&lt;chr&gt;</th><th scope=col>&lt;dbl&gt;</th><th scope=col>&lt;dbl&gt;</th><th scope=col>&lt;chr&gt;</th><th scope=col>&lt;dbl&gt;</th><th scope=col>&lt;dbl&gt;</th><th scope=col>&lt;dbl&gt;</th></tr>\n",
       "</thead>\n",
       "<tbody>\n",
       "\t<tr><th scope=row>eStromal_A1BG</th><td>eStromal_A1BG      </td><td>A1BG</td><td>eStromal      </td><td>-0.27929252</td><td>0.002113560</td><td>up_ENDOMETRIOSIS</td><td>-0.31063568</td><td>0.0794235168</td><td>not_significant</td><td>-0.14701589</td><td>0.228391210</td><td>not_significant </td><td>       NA</td><td>       NA</td><td>NA             </td><td>0</td><td>1</td><td>2</td></tr>\n",
       "\t<tr><th scope=row>dStromal_early_A1BG</th><td>dStromal_early_A1BG</td><td>A1BG</td><td>dStromal_early</td><td> 0.26874047</td><td>0.013900692</td><td>up_CONTROL      </td><td> 0.23063170</td><td>0.1411019311</td><td>not_significant</td><td>         NA</td><td>         NA</td><td>NA              </td><td>       NA</td><td>       NA</td><td>NA             </td><td>1</td><td>0</td><td>1</td></tr>\n",
       "\t<tr><th scope=row>dStromal_late_A1BG</th><td>dStromal_late_A1BG </td><td>A1BG</td><td>dStromal_late </td><td> 0.12872314</td><td>0.546254068</td><td>not_significant </td><td> 0.06130456</td><td>0.8540435320</td><td>not_significant</td><td>-0.05585452</td><td>0.841292956</td><td>not_significant </td><td>       NA</td><td>       NA</td><td>NA             </td><td>0</td><td>0</td><td>3</td></tr>\n",
       "\t<tr><th scope=row>dStromal_mid_A1BG</th><td>dStromal_mid_A1BG  </td><td>A1BG</td><td>dStromal_mid  </td><td> 0.06937395</td><td>0.488449350</td><td>not_significant </td><td> 0.13657248</td><td>0.3751666448</td><td>not_significant</td><td>         NA</td><td>         NA</td><td>NA              </td><td>       NA</td><td>       NA</td><td>NA             </td><td>0</td><td>0</td><td>2</td></tr>\n",
       "\t<tr><th scope=row>eStromal_A2M</th><td>eStromal_A2M       </td><td>A2M </td><td>eStromal      </td><td>-0.30608757</td><td>0.022590903</td><td>up_ENDOMETRIOSIS</td><td>-0.48217561</td><td>0.0648017351</td><td>not_significant</td><td>-0.29556752</td><td>0.046899419</td><td>up_ENDOMETRIOSIS</td><td>       NA</td><td>       NA</td><td>NA             </td><td>0</td><td>2</td><td>1</td></tr>\n",
       "\t<tr><th scope=row>dStromal_early_A2M</th><td>dStromal_early_A2M </td><td>A2M </td><td>dStromal_early</td><td> 0.73119506</td><td>0.003045924</td><td>up_CONTROL      </td><td> 1.62744580</td><td>0.0002546488</td><td>up_CONTROL     </td><td>-0.59731257</td><td>0.001480451</td><td>up_ENDOMETRIOSIS</td><td>-1.295136</td><td>0.2228998</td><td>not_significant</td><td>2</td><td>1</td><td>1</td></tr>\n",
       "</tbody>\n",
       "</table>\n"
      ],
      "text/latex": [
       "A data.frame: 6 × 18\n",
       "\\begin{tabular}{r|llllllllllllllllll}\n",
       "  & id & Gene & celltype & logFC\\_cells\\_uncorrected\\_limma & adj.P.Val\\_cells\\_uncorrected\\_limma & meaning\\_cells\\_uncorrected\\_limma & logFC\\_cells\\_uncorrected\\_edgeR & adj.P.Val\\_cells\\_uncorrected\\_edgeR & meaning\\_cells\\_uncorrected\\_edgeR & logFC\\_nuclei\\_uncorrected\\_limma & adj.P.Val\\_nuclei\\_uncorrected\\_limma & meaning\\_nuclei\\_uncorrected\\_limma & logFC\\_nuclei\\_uncorrected\\_edgeR & adj.P.Val\\_nuclei\\_uncorrected\\_edgeR & meaning\\_nuclei\\_uncorrected\\_edgeR & up\\_CONTROL & up\\_ENDOMETRIOSIS & not\\_significant\\\\\n",
       "  & <chr> & <chr> & <chr> & <dbl> & <dbl> & <chr> & <dbl> & <dbl> & <chr> & <dbl> & <dbl> & <chr> & <dbl> & <dbl> & <chr> & <dbl> & <dbl> & <dbl>\\\\\n",
       "\\hline\n",
       "\teStromal\\_A1BG & eStromal\\_A1BG       & A1BG & eStromal       & -0.27929252 & 0.002113560 & up\\_ENDOMETRIOSIS & -0.31063568 & 0.0794235168 & not\\_significant & -0.14701589 & 0.228391210 & not\\_significant  &        NA &        NA & NA              & 0 & 1 & 2\\\\\n",
       "\tdStromal\\_early\\_A1BG & dStromal\\_early\\_A1BG & A1BG & dStromal\\_early &  0.26874047 & 0.013900692 & up\\_CONTROL       &  0.23063170 & 0.1411019311 & not\\_significant &          NA &          NA & NA               &        NA &        NA & NA              & 1 & 0 & 1\\\\\n",
       "\tdStromal\\_late\\_A1BG & dStromal\\_late\\_A1BG  & A1BG & dStromal\\_late  &  0.12872314 & 0.546254068 & not\\_significant  &  0.06130456 & 0.8540435320 & not\\_significant & -0.05585452 & 0.841292956 & not\\_significant  &        NA &        NA & NA              & 0 & 0 & 3\\\\\n",
       "\tdStromal\\_mid\\_A1BG & dStromal\\_mid\\_A1BG   & A1BG & dStromal\\_mid   &  0.06937395 & 0.488449350 & not\\_significant  &  0.13657248 & 0.3751666448 & not\\_significant &          NA &          NA & NA               &        NA &        NA & NA              & 0 & 0 & 2\\\\\n",
       "\teStromal\\_A2M & eStromal\\_A2M        & A2M  & eStromal       & -0.30608757 & 0.022590903 & up\\_ENDOMETRIOSIS & -0.48217561 & 0.0648017351 & not\\_significant & -0.29556752 & 0.046899419 & up\\_ENDOMETRIOSIS &        NA &        NA & NA              & 0 & 2 & 1\\\\\n",
       "\tdStromal\\_early\\_A2M & dStromal\\_early\\_A2M  & A2M  & dStromal\\_early &  0.73119506 & 0.003045924 & up\\_CONTROL       &  1.62744580 & 0.0002546488 & up\\_CONTROL      & -0.59731257 & 0.001480451 & up\\_ENDOMETRIOSIS & -1.295136 & 0.2228998 & not\\_significant & 2 & 1 & 1\\\\\n",
       "\\end{tabular}\n"
      ],
      "text/markdown": [
       "\n",
       "A data.frame: 6 × 18\n",
       "\n",
       "| <!--/--> | id &lt;chr&gt; | Gene &lt;chr&gt; | celltype &lt;chr&gt; | logFC_cells_uncorrected_limma &lt;dbl&gt; | adj.P.Val_cells_uncorrected_limma &lt;dbl&gt; | meaning_cells_uncorrected_limma &lt;chr&gt; | logFC_cells_uncorrected_edgeR &lt;dbl&gt; | adj.P.Val_cells_uncorrected_edgeR &lt;dbl&gt; | meaning_cells_uncorrected_edgeR &lt;chr&gt; | logFC_nuclei_uncorrected_limma &lt;dbl&gt; | adj.P.Val_nuclei_uncorrected_limma &lt;dbl&gt; | meaning_nuclei_uncorrected_limma &lt;chr&gt; | logFC_nuclei_uncorrected_edgeR &lt;dbl&gt; | adj.P.Val_nuclei_uncorrected_edgeR &lt;dbl&gt; | meaning_nuclei_uncorrected_edgeR &lt;chr&gt; | up_CONTROL &lt;dbl&gt; | up_ENDOMETRIOSIS &lt;dbl&gt; | not_significant &lt;dbl&gt; |\n",
       "|---|---|---|---|---|---|---|---|---|---|---|---|---|---|---|---|---|---|---|\n",
       "| eStromal_A1BG | eStromal_A1BG       | A1BG | eStromal       | -0.27929252 | 0.002113560 | up_ENDOMETRIOSIS | -0.31063568 | 0.0794235168 | not_significant | -0.14701589 | 0.228391210 | not_significant  |        NA |        NA | NA              | 0 | 1 | 2 |\n",
       "| dStromal_early_A1BG | dStromal_early_A1BG | A1BG | dStromal_early |  0.26874047 | 0.013900692 | up_CONTROL       |  0.23063170 | 0.1411019311 | not_significant |          NA |          NA | NA               |        NA |        NA | NA              | 1 | 0 | 1 |\n",
       "| dStromal_late_A1BG | dStromal_late_A1BG  | A1BG | dStromal_late  |  0.12872314 | 0.546254068 | not_significant  |  0.06130456 | 0.8540435320 | not_significant | -0.05585452 | 0.841292956 | not_significant  |        NA |        NA | NA              | 0 | 0 | 3 |\n",
       "| dStromal_mid_A1BG | dStromal_mid_A1BG   | A1BG | dStromal_mid   |  0.06937395 | 0.488449350 | not_significant  |  0.13657248 | 0.3751666448 | not_significant |          NA |          NA | NA               |        NA |        NA | NA              | 0 | 0 | 2 |\n",
       "| eStromal_A2M | eStromal_A2M        | A2M  | eStromal       | -0.30608757 | 0.022590903 | up_ENDOMETRIOSIS | -0.48217561 | 0.0648017351 | not_significant | -0.29556752 | 0.046899419 | up_ENDOMETRIOSIS |        NA |        NA | NA              | 0 | 2 | 1 |\n",
       "| dStromal_early_A2M | dStromal_early_A2M  | A2M  | dStromal_early |  0.73119506 | 0.003045924 | up_CONTROL       |  1.62744580 | 0.0002546488 | up_CONTROL      | -0.59731257 | 0.001480451 | up_ENDOMETRIOSIS | -1.295136 | 0.2228998 | not_significant | 2 | 1 | 1 |\n",
       "\n"
      ],
      "text/plain": [
       "                    id                  Gene celltype      \n",
       "eStromal_A1BG       eStromal_A1BG       A1BG eStromal      \n",
       "dStromal_early_A1BG dStromal_early_A1BG A1BG dStromal_early\n",
       "dStromal_late_A1BG  dStromal_late_A1BG  A1BG dStromal_late \n",
       "dStromal_mid_A1BG   dStromal_mid_A1BG   A1BG dStromal_mid  \n",
       "eStromal_A2M        eStromal_A2M        A2M  eStromal      \n",
       "dStromal_early_A2M  dStromal_early_A2M  A2M  dStromal_early\n",
       "                    logFC_cells_uncorrected_limma\n",
       "eStromal_A1BG       -0.27929252                  \n",
       "dStromal_early_A1BG  0.26874047                  \n",
       "dStromal_late_A1BG   0.12872314                  \n",
       "dStromal_mid_A1BG    0.06937395                  \n",
       "eStromal_A2M        -0.30608757                  \n",
       "dStromal_early_A2M   0.73119506                  \n",
       "                    adj.P.Val_cells_uncorrected_limma\n",
       "eStromal_A1BG       0.002113560                      \n",
       "dStromal_early_A1BG 0.013900692                      \n",
       "dStromal_late_A1BG  0.546254068                      \n",
       "dStromal_mid_A1BG   0.488449350                      \n",
       "eStromal_A2M        0.022590903                      \n",
       "dStromal_early_A2M  0.003045924                      \n",
       "                    meaning_cells_uncorrected_limma\n",
       "eStromal_A1BG       up_ENDOMETRIOSIS               \n",
       "dStromal_early_A1BG up_CONTROL                     \n",
       "dStromal_late_A1BG  not_significant                \n",
       "dStromal_mid_A1BG   not_significant                \n",
       "eStromal_A2M        up_ENDOMETRIOSIS               \n",
       "dStromal_early_A2M  up_CONTROL                     \n",
       "                    logFC_cells_uncorrected_edgeR\n",
       "eStromal_A1BG       -0.31063568                  \n",
       "dStromal_early_A1BG  0.23063170                  \n",
       "dStromal_late_A1BG   0.06130456                  \n",
       "dStromal_mid_A1BG    0.13657248                  \n",
       "eStromal_A2M        -0.48217561                  \n",
       "dStromal_early_A2M   1.62744580                  \n",
       "                    adj.P.Val_cells_uncorrected_edgeR\n",
       "eStromal_A1BG       0.0794235168                     \n",
       "dStromal_early_A1BG 0.1411019311                     \n",
       "dStromal_late_A1BG  0.8540435320                     \n",
       "dStromal_mid_A1BG   0.3751666448                     \n",
       "eStromal_A2M        0.0648017351                     \n",
       "dStromal_early_A2M  0.0002546488                     \n",
       "                    meaning_cells_uncorrected_edgeR\n",
       "eStromal_A1BG       not_significant                \n",
       "dStromal_early_A1BG not_significant                \n",
       "dStromal_late_A1BG  not_significant                \n",
       "dStromal_mid_A1BG   not_significant                \n",
       "eStromal_A2M        not_significant                \n",
       "dStromal_early_A2M  up_CONTROL                     \n",
       "                    logFC_nuclei_uncorrected_limma\n",
       "eStromal_A1BG       -0.14701589                   \n",
       "dStromal_early_A1BG          NA                   \n",
       "dStromal_late_A1BG  -0.05585452                   \n",
       "dStromal_mid_A1BG            NA                   \n",
       "eStromal_A2M        -0.29556752                   \n",
       "dStromal_early_A2M  -0.59731257                   \n",
       "                    adj.P.Val_nuclei_uncorrected_limma\n",
       "eStromal_A1BG       0.228391210                       \n",
       "dStromal_early_A1BG          NA                       \n",
       "dStromal_late_A1BG  0.841292956                       \n",
       "dStromal_mid_A1BG            NA                       \n",
       "eStromal_A2M        0.046899419                       \n",
       "dStromal_early_A2M  0.001480451                       \n",
       "                    meaning_nuclei_uncorrected_limma\n",
       "eStromal_A1BG       not_significant                 \n",
       "dStromal_early_A1BG NA                              \n",
       "dStromal_late_A1BG  not_significant                 \n",
       "dStromal_mid_A1BG   NA                              \n",
       "eStromal_A2M        up_ENDOMETRIOSIS                \n",
       "dStromal_early_A2M  up_ENDOMETRIOSIS                \n",
       "                    logFC_nuclei_uncorrected_edgeR\n",
       "eStromal_A1BG              NA                     \n",
       "dStromal_early_A1BG        NA                     \n",
       "dStromal_late_A1BG         NA                     \n",
       "dStromal_mid_A1BG          NA                     \n",
       "eStromal_A2M               NA                     \n",
       "dStromal_early_A2M  -1.295136                     \n",
       "                    adj.P.Val_nuclei_uncorrected_edgeR\n",
       "eStromal_A1BG              NA                         \n",
       "dStromal_early_A1BG        NA                         \n",
       "dStromal_late_A1BG         NA                         \n",
       "dStromal_mid_A1BG          NA                         \n",
       "eStromal_A2M               NA                         \n",
       "dStromal_early_A2M  0.2228998                         \n",
       "                    meaning_nuclei_uncorrected_edgeR up_CONTROL\n",
       "eStromal_A1BG       NA                               0         \n",
       "dStromal_early_A1BG NA                               1         \n",
       "dStromal_late_A1BG  NA                               0         \n",
       "dStromal_mid_A1BG   NA                               0         \n",
       "eStromal_A2M        NA                               0         \n",
       "dStromal_early_A2M  not_significant                  2         \n",
       "                    up_ENDOMETRIOSIS not_significant\n",
       "eStromal_A1BG       1                2              \n",
       "dStromal_early_A1BG 0                1              \n",
       "dStromal_late_A1BG  0                3              \n",
       "dStromal_mid_A1BG   0                2              \n",
       "eStromal_A2M        2                1              \n",
       "dStromal_early_A2M  1                1              "
      ]
     },
     "metadata": {},
     "output_type": "display_data"
    },
    {
     "data": {
      "text/html": [
       "<table class=\"dataframe\">\n",
       "<caption>A data.frame: 1 × 18</caption>\n",
       "<thead>\n",
       "\t<tr><th></th><th scope=col>id</th><th scope=col>Gene</th><th scope=col>celltype</th><th scope=col>logFC_cells_uncorrected_limma</th><th scope=col>adj.P.Val_cells_uncorrected_limma</th><th scope=col>meaning_cells_uncorrected_limma</th><th scope=col>logFC_cells_uncorrected_edgeR</th><th scope=col>adj.P.Val_cells_uncorrected_edgeR</th><th scope=col>meaning_cells_uncorrected_edgeR</th><th scope=col>logFC_nuclei_uncorrected_limma</th><th scope=col>adj.P.Val_nuclei_uncorrected_limma</th><th scope=col>meaning_nuclei_uncorrected_limma</th><th scope=col>logFC_nuclei_uncorrected_edgeR</th><th scope=col>adj.P.Val_nuclei_uncorrected_edgeR</th><th scope=col>meaning_nuclei_uncorrected_edgeR</th><th scope=col>up_CONTROL</th><th scope=col>up_ENDOMETRIOSIS</th><th scope=col>not_significant</th></tr>\n",
       "\t<tr><th></th><th scope=col>&lt;chr&gt;</th><th scope=col>&lt;chr&gt;</th><th scope=col>&lt;chr&gt;</th><th scope=col>&lt;dbl&gt;</th><th scope=col>&lt;dbl&gt;</th><th scope=col>&lt;chr&gt;</th><th scope=col>&lt;dbl&gt;</th><th scope=col>&lt;dbl&gt;</th><th scope=col>&lt;chr&gt;</th><th scope=col>&lt;dbl&gt;</th><th scope=col>&lt;dbl&gt;</th><th scope=col>&lt;chr&gt;</th><th scope=col>&lt;dbl&gt;</th><th scope=col>&lt;dbl&gt;</th><th scope=col>&lt;chr&gt;</th><th scope=col>&lt;dbl&gt;</th><th scope=col>&lt;dbl&gt;</th><th scope=col>&lt;dbl&gt;</th></tr>\n",
       "</thead>\n",
       "<tbody>\n",
       "\t<tr><th scope=row>dStromal_mid_IGF2</th><td>dStromal_mid_IGF2</td><td>IGF2</td><td>dStromal_mid</td><td>2.327181</td><td>1.464995e-10</td><td>up_CONTROL</td><td>2.656567</td><td>6.045183e-06</td><td>up_CONTROL</td><td>-0.01239687</td><td>0.9758602</td><td>not_significant</td><td>NA</td><td>NA</td><td>NA</td><td>2</td><td>0</td><td>1</td></tr>\n",
       "</tbody>\n",
       "</table>\n"
      ],
      "text/latex": [
       "A data.frame: 1 × 18\n",
       "\\begin{tabular}{r|llllllllllllllllll}\n",
       "  & id & Gene & celltype & logFC\\_cells\\_uncorrected\\_limma & adj.P.Val\\_cells\\_uncorrected\\_limma & meaning\\_cells\\_uncorrected\\_limma & logFC\\_cells\\_uncorrected\\_edgeR & adj.P.Val\\_cells\\_uncorrected\\_edgeR & meaning\\_cells\\_uncorrected\\_edgeR & logFC\\_nuclei\\_uncorrected\\_limma & adj.P.Val\\_nuclei\\_uncorrected\\_limma & meaning\\_nuclei\\_uncorrected\\_limma & logFC\\_nuclei\\_uncorrected\\_edgeR & adj.P.Val\\_nuclei\\_uncorrected\\_edgeR & meaning\\_nuclei\\_uncorrected\\_edgeR & up\\_CONTROL & up\\_ENDOMETRIOSIS & not\\_significant\\\\\n",
       "  & <chr> & <chr> & <chr> & <dbl> & <dbl> & <chr> & <dbl> & <dbl> & <chr> & <dbl> & <dbl> & <chr> & <dbl> & <dbl> & <chr> & <dbl> & <dbl> & <dbl>\\\\\n",
       "\\hline\n",
       "\tdStromal\\_mid\\_IGF2 & dStromal\\_mid\\_IGF2 & IGF2 & dStromal\\_mid & 2.327181 & 1.464995e-10 & up\\_CONTROL & 2.656567 & 6.045183e-06 & up\\_CONTROL & -0.01239687 & 0.9758602 & not\\_significant & NA & NA & NA & 2 & 0 & 1\\\\\n",
       "\\end{tabular}\n"
      ],
      "text/markdown": [
       "\n",
       "A data.frame: 1 × 18\n",
       "\n",
       "| <!--/--> | id &lt;chr&gt; | Gene &lt;chr&gt; | celltype &lt;chr&gt; | logFC_cells_uncorrected_limma &lt;dbl&gt; | adj.P.Val_cells_uncorrected_limma &lt;dbl&gt; | meaning_cells_uncorrected_limma &lt;chr&gt; | logFC_cells_uncorrected_edgeR &lt;dbl&gt; | adj.P.Val_cells_uncorrected_edgeR &lt;dbl&gt; | meaning_cells_uncorrected_edgeR &lt;chr&gt; | logFC_nuclei_uncorrected_limma &lt;dbl&gt; | adj.P.Val_nuclei_uncorrected_limma &lt;dbl&gt; | meaning_nuclei_uncorrected_limma &lt;chr&gt; | logFC_nuclei_uncorrected_edgeR &lt;dbl&gt; | adj.P.Val_nuclei_uncorrected_edgeR &lt;dbl&gt; | meaning_nuclei_uncorrected_edgeR &lt;chr&gt; | up_CONTROL &lt;dbl&gt; | up_ENDOMETRIOSIS &lt;dbl&gt; | not_significant &lt;dbl&gt; |\n",
       "|---|---|---|---|---|---|---|---|---|---|---|---|---|---|---|---|---|---|---|\n",
       "| dStromal_mid_IGF2 | dStromal_mid_IGF2 | IGF2 | dStromal_mid | 2.327181 | 1.464995e-10 | up_CONTROL | 2.656567 | 6.045183e-06 | up_CONTROL | -0.01239687 | 0.9758602 | not_significant | NA | NA | NA | 2 | 0 | 1 |\n",
       "\n"
      ],
      "text/plain": [
       "                  id                Gene celltype    \n",
       "dStromal_mid_IGF2 dStromal_mid_IGF2 IGF2 dStromal_mid\n",
       "                  logFC_cells_uncorrected_limma\n",
       "dStromal_mid_IGF2 2.327181                     \n",
       "                  adj.P.Val_cells_uncorrected_limma\n",
       "dStromal_mid_IGF2 1.464995e-10                     \n",
       "                  meaning_cells_uncorrected_limma logFC_cells_uncorrected_edgeR\n",
       "dStromal_mid_IGF2 up_CONTROL                      2.656567                     \n",
       "                  adj.P.Val_cells_uncorrected_edgeR\n",
       "dStromal_mid_IGF2 6.045183e-06                     \n",
       "                  meaning_cells_uncorrected_edgeR\n",
       "dStromal_mid_IGF2 up_CONTROL                     \n",
       "                  logFC_nuclei_uncorrected_limma\n",
       "dStromal_mid_IGF2 -0.01239687                   \n",
       "                  adj.P.Val_nuclei_uncorrected_limma\n",
       "dStromal_mid_IGF2 0.9758602                         \n",
       "                  meaning_nuclei_uncorrected_limma\n",
       "dStromal_mid_IGF2 not_significant                 \n",
       "                  logFC_nuclei_uncorrected_edgeR\n",
       "dStromal_mid_IGF2 NA                            \n",
       "                  adj.P.Val_nuclei_uncorrected_edgeR\n",
       "dStromal_mid_IGF2 NA                                \n",
       "                  meaning_nuclei_uncorrected_edgeR up_CONTROL up_ENDOMETRIOSIS\n",
       "dStromal_mid_IGF2 NA                               2          0               \n",
       "                  not_significant\n",
       "dStromal_mid_IGF2 1              "
      ]
     },
     "metadata": {},
     "output_type": "display_data"
    },
    {
     "data": {
      "text/html": [
       "<table class=\"dataframe\">\n",
       "<caption>A data.frame: 1 × 18</caption>\n",
       "<thead>\n",
       "\t<tr><th></th><th scope=col>id</th><th scope=col>Gene</th><th scope=col>celltype</th><th scope=col>logFC_cells_uncorrected_limma</th><th scope=col>adj.P.Val_cells_uncorrected_limma</th><th scope=col>meaning_cells_uncorrected_limma</th><th scope=col>logFC_cells_uncorrected_edgeR</th><th scope=col>adj.P.Val_cells_uncorrected_edgeR</th><th scope=col>meaning_cells_uncorrected_edgeR</th><th scope=col>logFC_nuclei_uncorrected_limma</th><th scope=col>adj.P.Val_nuclei_uncorrected_limma</th><th scope=col>meaning_nuclei_uncorrected_limma</th><th scope=col>logFC_nuclei_uncorrected_edgeR</th><th scope=col>adj.P.Val_nuclei_uncorrected_edgeR</th><th scope=col>meaning_nuclei_uncorrected_edgeR</th><th scope=col>up_CONTROL</th><th scope=col>up_ENDOMETRIOSIS</th><th scope=col>not_significant</th></tr>\n",
       "\t<tr><th></th><th scope=col>&lt;chr&gt;</th><th scope=col>&lt;chr&gt;</th><th scope=col>&lt;chr&gt;</th><th scope=col>&lt;dbl&gt;</th><th scope=col>&lt;dbl&gt;</th><th scope=col>&lt;chr&gt;</th><th scope=col>&lt;dbl&gt;</th><th scope=col>&lt;dbl&gt;</th><th scope=col>&lt;chr&gt;</th><th scope=col>&lt;dbl&gt;</th><th scope=col>&lt;dbl&gt;</th><th scope=col>&lt;chr&gt;</th><th scope=col>&lt;dbl&gt;</th><th scope=col>&lt;dbl&gt;</th><th scope=col>&lt;chr&gt;</th><th scope=col>&lt;dbl&gt;</th><th scope=col>&lt;dbl&gt;</th><th scope=col>&lt;dbl&gt;</th></tr>\n",
       "</thead>\n",
       "<tbody>\n",
       "\t<tr><th scope=row>dStromal_mid_DKK1</th><td>dStromal_mid_DKK1</td><td>DKK1</td><td>dStromal_mid</td><td>0.8701829</td><td>0.0005948595</td><td>up_CONTROL</td><td>0.4342849</td><td>0.3990446</td><td>not_significant</td><td>NA</td><td>NA</td><td>NA</td><td>-0.3939856</td><td>0.6129408</td><td>not_significant</td><td>1</td><td>0</td><td>2</td></tr>\n",
       "</tbody>\n",
       "</table>\n"
      ],
      "text/latex": [
       "A data.frame: 1 × 18\n",
       "\\begin{tabular}{r|llllllllllllllllll}\n",
       "  & id & Gene & celltype & logFC\\_cells\\_uncorrected\\_limma & adj.P.Val\\_cells\\_uncorrected\\_limma & meaning\\_cells\\_uncorrected\\_limma & logFC\\_cells\\_uncorrected\\_edgeR & adj.P.Val\\_cells\\_uncorrected\\_edgeR & meaning\\_cells\\_uncorrected\\_edgeR & logFC\\_nuclei\\_uncorrected\\_limma & adj.P.Val\\_nuclei\\_uncorrected\\_limma & meaning\\_nuclei\\_uncorrected\\_limma & logFC\\_nuclei\\_uncorrected\\_edgeR & adj.P.Val\\_nuclei\\_uncorrected\\_edgeR & meaning\\_nuclei\\_uncorrected\\_edgeR & up\\_CONTROL & up\\_ENDOMETRIOSIS & not\\_significant\\\\\n",
       "  & <chr> & <chr> & <chr> & <dbl> & <dbl> & <chr> & <dbl> & <dbl> & <chr> & <dbl> & <dbl> & <chr> & <dbl> & <dbl> & <chr> & <dbl> & <dbl> & <dbl>\\\\\n",
       "\\hline\n",
       "\tdStromal\\_mid\\_DKK1 & dStromal\\_mid\\_DKK1 & DKK1 & dStromal\\_mid & 0.8701829 & 0.0005948595 & up\\_CONTROL & 0.4342849 & 0.3990446 & not\\_significant & NA & NA & NA & -0.3939856 & 0.6129408 & not\\_significant & 1 & 0 & 2\\\\\n",
       "\\end{tabular}\n"
      ],
      "text/markdown": [
       "\n",
       "A data.frame: 1 × 18\n",
       "\n",
       "| <!--/--> | id &lt;chr&gt; | Gene &lt;chr&gt; | celltype &lt;chr&gt; | logFC_cells_uncorrected_limma &lt;dbl&gt; | adj.P.Val_cells_uncorrected_limma &lt;dbl&gt; | meaning_cells_uncorrected_limma &lt;chr&gt; | logFC_cells_uncorrected_edgeR &lt;dbl&gt; | adj.P.Val_cells_uncorrected_edgeR &lt;dbl&gt; | meaning_cells_uncorrected_edgeR &lt;chr&gt; | logFC_nuclei_uncorrected_limma &lt;dbl&gt; | adj.P.Val_nuclei_uncorrected_limma &lt;dbl&gt; | meaning_nuclei_uncorrected_limma &lt;chr&gt; | logFC_nuclei_uncorrected_edgeR &lt;dbl&gt; | adj.P.Val_nuclei_uncorrected_edgeR &lt;dbl&gt; | meaning_nuclei_uncorrected_edgeR &lt;chr&gt; | up_CONTROL &lt;dbl&gt; | up_ENDOMETRIOSIS &lt;dbl&gt; | not_significant &lt;dbl&gt; |\n",
       "|---|---|---|---|---|---|---|---|---|---|---|---|---|---|---|---|---|---|---|\n",
       "| dStromal_mid_DKK1 | dStromal_mid_DKK1 | DKK1 | dStromal_mid | 0.8701829 | 0.0005948595 | up_CONTROL | 0.4342849 | 0.3990446 | not_significant | NA | NA | NA | -0.3939856 | 0.6129408 | not_significant | 1 | 0 | 2 |\n",
       "\n"
      ],
      "text/plain": [
       "                  id                Gene celltype    \n",
       "dStromal_mid_DKK1 dStromal_mid_DKK1 DKK1 dStromal_mid\n",
       "                  logFC_cells_uncorrected_limma\n",
       "dStromal_mid_DKK1 0.8701829                    \n",
       "                  adj.P.Val_cells_uncorrected_limma\n",
       "dStromal_mid_DKK1 0.0005948595                     \n",
       "                  meaning_cells_uncorrected_limma logFC_cells_uncorrected_edgeR\n",
       "dStromal_mid_DKK1 up_CONTROL                      0.4342849                    \n",
       "                  adj.P.Val_cells_uncorrected_edgeR\n",
       "dStromal_mid_DKK1 0.3990446                        \n",
       "                  meaning_cells_uncorrected_edgeR\n",
       "dStromal_mid_DKK1 not_significant                \n",
       "                  logFC_nuclei_uncorrected_limma\n",
       "dStromal_mid_DKK1 NA                            \n",
       "                  adj.P.Val_nuclei_uncorrected_limma\n",
       "dStromal_mid_DKK1 NA                                \n",
       "                  meaning_nuclei_uncorrected_limma\n",
       "dStromal_mid_DKK1 NA                              \n",
       "                  logFC_nuclei_uncorrected_edgeR\n",
       "dStromal_mid_DKK1 -0.3939856                    \n",
       "                  adj.P.Val_nuclei_uncorrected_edgeR\n",
       "dStromal_mid_DKK1 0.6129408                         \n",
       "                  meaning_nuclei_uncorrected_edgeR up_CONTROL up_ENDOMETRIOSIS\n",
       "dStromal_mid_DKK1 not_significant                  1          0               \n",
       "                  not_significant\n",
       "dStromal_mid_DKK1 2              "
      ]
     },
     "metadata": {},
     "output_type": "display_data"
    },
    {
     "data": {
      "text/html": [
       "<table class=\"dataframe\">\n",
       "<caption>A data.frame: 1 × 18</caption>\n",
       "<thead>\n",
       "\t<tr><th></th><th scope=col>id</th><th scope=col>Gene</th><th scope=col>celltype</th><th scope=col>logFC_cells_uncorrected_limma</th><th scope=col>adj.P.Val_cells_uncorrected_limma</th><th scope=col>meaning_cells_uncorrected_limma</th><th scope=col>logFC_cells_uncorrected_edgeR</th><th scope=col>adj.P.Val_cells_uncorrected_edgeR</th><th scope=col>meaning_cells_uncorrected_edgeR</th><th scope=col>logFC_nuclei_uncorrected_limma</th><th scope=col>adj.P.Val_nuclei_uncorrected_limma</th><th scope=col>meaning_nuclei_uncorrected_limma</th><th scope=col>logFC_nuclei_uncorrected_edgeR</th><th scope=col>adj.P.Val_nuclei_uncorrected_edgeR</th><th scope=col>meaning_nuclei_uncorrected_edgeR</th><th scope=col>up_CONTROL</th><th scope=col>up_ENDOMETRIOSIS</th><th scope=col>not_significant</th></tr>\n",
       "\t<tr><th></th><th scope=col>&lt;chr&gt;</th><th scope=col>&lt;chr&gt;</th><th scope=col>&lt;chr&gt;</th><th scope=col>&lt;dbl&gt;</th><th scope=col>&lt;dbl&gt;</th><th scope=col>&lt;chr&gt;</th><th scope=col>&lt;dbl&gt;</th><th scope=col>&lt;dbl&gt;</th><th scope=col>&lt;chr&gt;</th><th scope=col>&lt;dbl&gt;</th><th scope=col>&lt;dbl&gt;</th><th scope=col>&lt;chr&gt;</th><th scope=col>&lt;dbl&gt;</th><th scope=col>&lt;dbl&gt;</th><th scope=col>&lt;chr&gt;</th><th scope=col>&lt;dbl&gt;</th><th scope=col>&lt;dbl&gt;</th><th scope=col>&lt;dbl&gt;</th></tr>\n",
       "</thead>\n",
       "<tbody>\n",
       "\t<tr><th scope=row>NA</th><td>NA</td><td>NA</td><td>NA</td><td>NA</td><td>NA</td><td>NA</td><td>NA</td><td>NA</td><td>NA</td><td>NA</td><td>NA</td><td>NA</td><td>NA</td><td>NA</td><td>NA</td><td>NA</td><td>NA</td><td>NA</td></tr>\n",
       "</tbody>\n",
       "</table>\n"
      ],
      "text/latex": [
       "A data.frame: 1 × 18\n",
       "\\begin{tabular}{r|llllllllllllllllll}\n",
       "  & id & Gene & celltype & logFC\\_cells\\_uncorrected\\_limma & adj.P.Val\\_cells\\_uncorrected\\_limma & meaning\\_cells\\_uncorrected\\_limma & logFC\\_cells\\_uncorrected\\_edgeR & adj.P.Val\\_cells\\_uncorrected\\_edgeR & meaning\\_cells\\_uncorrected\\_edgeR & logFC\\_nuclei\\_uncorrected\\_limma & adj.P.Val\\_nuclei\\_uncorrected\\_limma & meaning\\_nuclei\\_uncorrected\\_limma & logFC\\_nuclei\\_uncorrected\\_edgeR & adj.P.Val\\_nuclei\\_uncorrected\\_edgeR & meaning\\_nuclei\\_uncorrected\\_edgeR & up\\_CONTROL & up\\_ENDOMETRIOSIS & not\\_significant\\\\\n",
       "  & <chr> & <chr> & <chr> & <dbl> & <dbl> & <chr> & <dbl> & <dbl> & <chr> & <dbl> & <dbl> & <chr> & <dbl> & <dbl> & <chr> & <dbl> & <dbl> & <dbl>\\\\\n",
       "\\hline\n",
       "\tNA & NA & NA & NA & NA & NA & NA & NA & NA & NA & NA & NA & NA & NA & NA & NA & NA & NA & NA\\\\\n",
       "\\end{tabular}\n"
      ],
      "text/markdown": [
       "\n",
       "A data.frame: 1 × 18\n",
       "\n",
       "| <!--/--> | id &lt;chr&gt; | Gene &lt;chr&gt; | celltype &lt;chr&gt; | logFC_cells_uncorrected_limma &lt;dbl&gt; | adj.P.Val_cells_uncorrected_limma &lt;dbl&gt; | meaning_cells_uncorrected_limma &lt;chr&gt; | logFC_cells_uncorrected_edgeR &lt;dbl&gt; | adj.P.Val_cells_uncorrected_edgeR &lt;dbl&gt; | meaning_cells_uncorrected_edgeR &lt;chr&gt; | logFC_nuclei_uncorrected_limma &lt;dbl&gt; | adj.P.Val_nuclei_uncorrected_limma &lt;dbl&gt; | meaning_nuclei_uncorrected_limma &lt;chr&gt; | logFC_nuclei_uncorrected_edgeR &lt;dbl&gt; | adj.P.Val_nuclei_uncorrected_edgeR &lt;dbl&gt; | meaning_nuclei_uncorrected_edgeR &lt;chr&gt; | up_CONTROL &lt;dbl&gt; | up_ENDOMETRIOSIS &lt;dbl&gt; | not_significant &lt;dbl&gt; |\n",
       "|---|---|---|---|---|---|---|---|---|---|---|---|---|---|---|---|---|---|---|\n",
       "| NA | NA | NA | NA | NA | NA | NA | NA | NA | NA | NA | NA | NA | NA | NA | NA | NA | NA | NA |\n",
       "\n"
      ],
      "text/plain": [
       "   id Gene celltype logFC_cells_uncorrected_limma\n",
       "NA NA NA   NA       NA                           \n",
       "   adj.P.Val_cells_uncorrected_limma meaning_cells_uncorrected_limma\n",
       "NA NA                                NA                             \n",
       "   logFC_cells_uncorrected_edgeR adj.P.Val_cells_uncorrected_edgeR\n",
       "NA NA                            NA                               \n",
       "   meaning_cells_uncorrected_edgeR logFC_nuclei_uncorrected_limma\n",
       "NA NA                              NA                            \n",
       "   adj.P.Val_nuclei_uncorrected_limma meaning_nuclei_uncorrected_limma\n",
       "NA NA                                 NA                              \n",
       "   logFC_nuclei_uncorrected_edgeR adj.P.Val_nuclei_uncorrected_edgeR\n",
       "NA NA                             NA                                \n",
       "   meaning_nuclei_uncorrected_edgeR up_CONTROL up_ENDOMETRIOSIS not_significant\n",
       "NA NA                               NA         NA               NA             "
      ]
     },
     "metadata": {},
     "output_type": "display_data"
    }
   ],
   "source": [
    "head(merged_table)\n",
    "merged_table[ 'dStromal_mid_IGF2', ]\n",
    "merged_table[ 'dStromal_mid_DKK1', ]\n",
    "merged_table[ 'Glandular_ESR1', ]\n",
    "write.table(merged_table, file = paste0('/nfs/team292/lg18/endometriosis/DEGs_endometriosis/', lineage, '_merged_table.tsv'), sep = '\\t', row.names = F, quote = F )"
   ]
  },
  {
   "cell_type": "code",
   "execution_count": 13,
   "metadata": {},
   "outputs": [
    {
     "data": {
      "text/plain": [
       "                               meaning_cells_uncorrected_edgeR\n",
       "meaning_cells_uncorrected_limma not_significant up_CONTROL up_ENDOMETRIOSIS\n",
       "               not_significant            17613        112              203\n",
       "               up_CONTROL                  1948       1011                0\n",
       "               up_ENDOMETRIOSIS            2573          0              876"
      ]
     },
     "metadata": {},
     "output_type": "display_data"
    }
   ],
   "source": [
    "table(merged_table[, c('meaning_cells_uncorrected_limma', 'meaning_cells_uncorrected_edgeR') ])"
   ]
  },
  {
   "cell_type": "markdown",
   "metadata": {},
   "source": [
    "# Add GWAS genes"
   ]
  },
  {
   "cell_type": "code",
   "execution_count": 16,
   "metadata": {},
   "outputs": [],
   "source": [
    "gwas_genes1 = read.delim('/nfs/team292/lg18/endometriosis/fGWAs/Rahmioglu2023_endometriosis/loci_genes.tsv', stringsAsFactors = F)\n",
    "gwas_genes2 = read.delim('/nfs/team292/lg18/endometriosis/fGWAs/Rahmioglu2023_endometriosis/credible_sets_genes.tsv', stringsAsFactors = F)\n",
    "gwas_genes3 = read.delim('/nfs/team292/lg18/endometriosis/fGWAs/Rahmioglu2023_endometriosis/metaregression_genes.tsv', stringsAsFactors = F)\n",
    "\n",
    "gwas_genes = c(gwas_genes1[,1],\n",
    "              gwas_genes2[,1],\n",
    "              gwas_genes3[,1])"
   ]
  },
  {
   "cell_type": "code",
   "execution_count": 20,
   "metadata": {},
   "outputs": [
    {
     "data": {
      "text/html": [
       "<table class=\"dataframe\">\n",
       "<caption>A data.frame: 6 × 19</caption>\n",
       "<thead>\n",
       "\t<tr><th></th><th scope=col>id</th><th scope=col>Gene</th><th scope=col>celltype</th><th scope=col>logFC_cells_uncorrected_limma</th><th scope=col>adj.P.Val_cells_uncorrected_limma</th><th scope=col>meaning_cells_uncorrected_limma</th><th scope=col>logFC_cells_uncorrected_edgeR</th><th scope=col>adj.P.Val_cells_uncorrected_edgeR</th><th scope=col>meaning_cells_uncorrected_edgeR</th><th scope=col>logFC_nuclei_uncorrected_limma</th><th scope=col>adj.P.Val_nuclei_uncorrected_limma</th><th scope=col>meaning_nuclei_uncorrected_limma</th><th scope=col>logFC_nuclei_uncorrected_edgeR</th><th scope=col>adj.P.Val_nuclei_uncorrected_edgeR</th><th scope=col>meaning_nuclei_uncorrected_edgeR</th><th scope=col>up_CONTROL</th><th scope=col>up_ENDOMETRIOSIS</th><th scope=col>not_significant</th><th scope=col>is_GWAS_gene</th></tr>\n",
       "\t<tr><th></th><th scope=col>&lt;chr&gt;</th><th scope=col>&lt;chr&gt;</th><th scope=col>&lt;chr&gt;</th><th scope=col>&lt;dbl&gt;</th><th scope=col>&lt;dbl&gt;</th><th scope=col>&lt;chr&gt;</th><th scope=col>&lt;dbl&gt;</th><th scope=col>&lt;dbl&gt;</th><th scope=col>&lt;chr&gt;</th><th scope=col>&lt;dbl&gt;</th><th scope=col>&lt;dbl&gt;</th><th scope=col>&lt;chr&gt;</th><th scope=col>&lt;dbl&gt;</th><th scope=col>&lt;dbl&gt;</th><th scope=col>&lt;chr&gt;</th><th scope=col>&lt;dbl&gt;</th><th scope=col>&lt;dbl&gt;</th><th scope=col>&lt;dbl&gt;</th><th scope=col>&lt;chr&gt;</th></tr>\n",
       "</thead>\n",
       "<tbody>\n",
       "\t<tr><th scope=row>eStromal_A1BG</th><td>eStromal_A1BG      </td><td>A1BG</td><td>eStromal      </td><td>-0.27929252</td><td>0.002113560</td><td>up_ENDOMETRIOSIS</td><td>-0.31063568</td><td>0.0794235168</td><td>not_significant</td><td>-0.14701589</td><td>0.228391210</td><td>not_significant </td><td>       NA</td><td>       NA</td><td>NA             </td><td>0</td><td>1</td><td>2</td><td>no</td></tr>\n",
       "\t<tr><th scope=row>dStromal_early_A1BG</th><td>dStromal_early_A1BG</td><td>A1BG</td><td>dStromal_early</td><td> 0.26874047</td><td>0.013900692</td><td>up_CONTROL      </td><td> 0.23063170</td><td>0.1411019311</td><td>not_significant</td><td>         NA</td><td>         NA</td><td>NA              </td><td>       NA</td><td>       NA</td><td>NA             </td><td>1</td><td>0</td><td>1</td><td>no</td></tr>\n",
       "\t<tr><th scope=row>dStromal_late_A1BG</th><td>dStromal_late_A1BG </td><td>A1BG</td><td>dStromal_late </td><td> 0.12872314</td><td>0.546254068</td><td>not_significant </td><td> 0.06130456</td><td>0.8540435320</td><td>not_significant</td><td>-0.05585452</td><td>0.841292956</td><td>not_significant </td><td>       NA</td><td>       NA</td><td>NA             </td><td>0</td><td>0</td><td>3</td><td>no</td></tr>\n",
       "\t<tr><th scope=row>dStromal_mid_A1BG</th><td>dStromal_mid_A1BG  </td><td>A1BG</td><td>dStromal_mid  </td><td> 0.06937395</td><td>0.488449350</td><td>not_significant </td><td> 0.13657248</td><td>0.3751666448</td><td>not_significant</td><td>         NA</td><td>         NA</td><td>NA              </td><td>       NA</td><td>       NA</td><td>NA             </td><td>0</td><td>0</td><td>2</td><td>no</td></tr>\n",
       "\t<tr><th scope=row>eStromal_A2M</th><td>eStromal_A2M       </td><td>A2M </td><td>eStromal      </td><td>-0.30608757</td><td>0.022590903</td><td>up_ENDOMETRIOSIS</td><td>-0.48217561</td><td>0.0648017351</td><td>not_significant</td><td>-0.29556752</td><td>0.046899419</td><td>up_ENDOMETRIOSIS</td><td>       NA</td><td>       NA</td><td>NA             </td><td>0</td><td>2</td><td>1</td><td>no</td></tr>\n",
       "\t<tr><th scope=row>dStromal_early_A2M</th><td>dStromal_early_A2M </td><td>A2M </td><td>dStromal_early</td><td> 0.73119506</td><td>0.003045924</td><td>up_CONTROL      </td><td> 1.62744580</td><td>0.0002546488</td><td>up_CONTROL     </td><td>-0.59731257</td><td>0.001480451</td><td>up_ENDOMETRIOSIS</td><td>-1.295136</td><td>0.2228998</td><td>not_significant</td><td>2</td><td>1</td><td>1</td><td>no</td></tr>\n",
       "</tbody>\n",
       "</table>\n"
      ],
      "text/latex": [
       "A data.frame: 6 × 19\n",
       "\\begin{tabular}{r|lllllllllllllllllll}\n",
       "  & id & Gene & celltype & logFC\\_cells\\_uncorrected\\_limma & adj.P.Val\\_cells\\_uncorrected\\_limma & meaning\\_cells\\_uncorrected\\_limma & logFC\\_cells\\_uncorrected\\_edgeR & adj.P.Val\\_cells\\_uncorrected\\_edgeR & meaning\\_cells\\_uncorrected\\_edgeR & logFC\\_nuclei\\_uncorrected\\_limma & adj.P.Val\\_nuclei\\_uncorrected\\_limma & meaning\\_nuclei\\_uncorrected\\_limma & logFC\\_nuclei\\_uncorrected\\_edgeR & adj.P.Val\\_nuclei\\_uncorrected\\_edgeR & meaning\\_nuclei\\_uncorrected\\_edgeR & up\\_CONTROL & up\\_ENDOMETRIOSIS & not\\_significant & is\\_GWAS\\_gene\\\\\n",
       "  & <chr> & <chr> & <chr> & <dbl> & <dbl> & <chr> & <dbl> & <dbl> & <chr> & <dbl> & <dbl> & <chr> & <dbl> & <dbl> & <chr> & <dbl> & <dbl> & <dbl> & <chr>\\\\\n",
       "\\hline\n",
       "\teStromal\\_A1BG & eStromal\\_A1BG       & A1BG & eStromal       & -0.27929252 & 0.002113560 & up\\_ENDOMETRIOSIS & -0.31063568 & 0.0794235168 & not\\_significant & -0.14701589 & 0.228391210 & not\\_significant  &        NA &        NA & NA              & 0 & 1 & 2 & no\\\\\n",
       "\tdStromal\\_early\\_A1BG & dStromal\\_early\\_A1BG & A1BG & dStromal\\_early &  0.26874047 & 0.013900692 & up\\_CONTROL       &  0.23063170 & 0.1411019311 & not\\_significant &          NA &          NA & NA               &        NA &        NA & NA              & 1 & 0 & 1 & no\\\\\n",
       "\tdStromal\\_late\\_A1BG & dStromal\\_late\\_A1BG  & A1BG & dStromal\\_late  &  0.12872314 & 0.546254068 & not\\_significant  &  0.06130456 & 0.8540435320 & not\\_significant & -0.05585452 & 0.841292956 & not\\_significant  &        NA &        NA & NA              & 0 & 0 & 3 & no\\\\\n",
       "\tdStromal\\_mid\\_A1BG & dStromal\\_mid\\_A1BG   & A1BG & dStromal\\_mid   &  0.06937395 & 0.488449350 & not\\_significant  &  0.13657248 & 0.3751666448 & not\\_significant &          NA &          NA & NA               &        NA &        NA & NA              & 0 & 0 & 2 & no\\\\\n",
       "\teStromal\\_A2M & eStromal\\_A2M        & A2M  & eStromal       & -0.30608757 & 0.022590903 & up\\_ENDOMETRIOSIS & -0.48217561 & 0.0648017351 & not\\_significant & -0.29556752 & 0.046899419 & up\\_ENDOMETRIOSIS &        NA &        NA & NA              & 0 & 2 & 1 & no\\\\\n",
       "\tdStromal\\_early\\_A2M & dStromal\\_early\\_A2M  & A2M  & dStromal\\_early &  0.73119506 & 0.003045924 & up\\_CONTROL       &  1.62744580 & 0.0002546488 & up\\_CONTROL      & -0.59731257 & 0.001480451 & up\\_ENDOMETRIOSIS & -1.295136 & 0.2228998 & not\\_significant & 2 & 1 & 1 & no\\\\\n",
       "\\end{tabular}\n"
      ],
      "text/markdown": [
       "\n",
       "A data.frame: 6 × 19\n",
       "\n",
       "| <!--/--> | id &lt;chr&gt; | Gene &lt;chr&gt; | celltype &lt;chr&gt; | logFC_cells_uncorrected_limma &lt;dbl&gt; | adj.P.Val_cells_uncorrected_limma &lt;dbl&gt; | meaning_cells_uncorrected_limma &lt;chr&gt; | logFC_cells_uncorrected_edgeR &lt;dbl&gt; | adj.P.Val_cells_uncorrected_edgeR &lt;dbl&gt; | meaning_cells_uncorrected_edgeR &lt;chr&gt; | logFC_nuclei_uncorrected_limma &lt;dbl&gt; | adj.P.Val_nuclei_uncorrected_limma &lt;dbl&gt; | meaning_nuclei_uncorrected_limma &lt;chr&gt; | logFC_nuclei_uncorrected_edgeR &lt;dbl&gt; | adj.P.Val_nuclei_uncorrected_edgeR &lt;dbl&gt; | meaning_nuclei_uncorrected_edgeR &lt;chr&gt; | up_CONTROL &lt;dbl&gt; | up_ENDOMETRIOSIS &lt;dbl&gt; | not_significant &lt;dbl&gt; | is_GWAS_gene &lt;chr&gt; |\n",
       "|---|---|---|---|---|---|---|---|---|---|---|---|---|---|---|---|---|---|---|---|\n",
       "| eStromal_A1BG | eStromal_A1BG       | A1BG | eStromal       | -0.27929252 | 0.002113560 | up_ENDOMETRIOSIS | -0.31063568 | 0.0794235168 | not_significant | -0.14701589 | 0.228391210 | not_significant  |        NA |        NA | NA              | 0 | 1 | 2 | no |\n",
       "| dStromal_early_A1BG | dStromal_early_A1BG | A1BG | dStromal_early |  0.26874047 | 0.013900692 | up_CONTROL       |  0.23063170 | 0.1411019311 | not_significant |          NA |          NA | NA               |        NA |        NA | NA              | 1 | 0 | 1 | no |\n",
       "| dStromal_late_A1BG | dStromal_late_A1BG  | A1BG | dStromal_late  |  0.12872314 | 0.546254068 | not_significant  |  0.06130456 | 0.8540435320 | not_significant | -0.05585452 | 0.841292956 | not_significant  |        NA |        NA | NA              | 0 | 0 | 3 | no |\n",
       "| dStromal_mid_A1BG | dStromal_mid_A1BG   | A1BG | dStromal_mid   |  0.06937395 | 0.488449350 | not_significant  |  0.13657248 | 0.3751666448 | not_significant |          NA |          NA | NA               |        NA |        NA | NA              | 0 | 0 | 2 | no |\n",
       "| eStromal_A2M | eStromal_A2M        | A2M  | eStromal       | -0.30608757 | 0.022590903 | up_ENDOMETRIOSIS | -0.48217561 | 0.0648017351 | not_significant | -0.29556752 | 0.046899419 | up_ENDOMETRIOSIS |        NA |        NA | NA              | 0 | 2 | 1 | no |\n",
       "| dStromal_early_A2M | dStromal_early_A2M  | A2M  | dStromal_early |  0.73119506 | 0.003045924 | up_CONTROL       |  1.62744580 | 0.0002546488 | up_CONTROL      | -0.59731257 | 0.001480451 | up_ENDOMETRIOSIS | -1.295136 | 0.2228998 | not_significant | 2 | 1 | 1 | no |\n",
       "\n"
      ],
      "text/plain": [
       "                    id                  Gene celltype      \n",
       "eStromal_A1BG       eStromal_A1BG       A1BG eStromal      \n",
       "dStromal_early_A1BG dStromal_early_A1BG A1BG dStromal_early\n",
       "dStromal_late_A1BG  dStromal_late_A1BG  A1BG dStromal_late \n",
       "dStromal_mid_A1BG   dStromal_mid_A1BG   A1BG dStromal_mid  \n",
       "eStromal_A2M        eStromal_A2M        A2M  eStromal      \n",
       "dStromal_early_A2M  dStromal_early_A2M  A2M  dStromal_early\n",
       "                    logFC_cells_uncorrected_limma\n",
       "eStromal_A1BG       -0.27929252                  \n",
       "dStromal_early_A1BG  0.26874047                  \n",
       "dStromal_late_A1BG   0.12872314                  \n",
       "dStromal_mid_A1BG    0.06937395                  \n",
       "eStromal_A2M        -0.30608757                  \n",
       "dStromal_early_A2M   0.73119506                  \n",
       "                    adj.P.Val_cells_uncorrected_limma\n",
       "eStromal_A1BG       0.002113560                      \n",
       "dStromal_early_A1BG 0.013900692                      \n",
       "dStromal_late_A1BG  0.546254068                      \n",
       "dStromal_mid_A1BG   0.488449350                      \n",
       "eStromal_A2M        0.022590903                      \n",
       "dStromal_early_A2M  0.003045924                      \n",
       "                    meaning_cells_uncorrected_limma\n",
       "eStromal_A1BG       up_ENDOMETRIOSIS               \n",
       "dStromal_early_A1BG up_CONTROL                     \n",
       "dStromal_late_A1BG  not_significant                \n",
       "dStromal_mid_A1BG   not_significant                \n",
       "eStromal_A2M        up_ENDOMETRIOSIS               \n",
       "dStromal_early_A2M  up_CONTROL                     \n",
       "                    logFC_cells_uncorrected_edgeR\n",
       "eStromal_A1BG       -0.31063568                  \n",
       "dStromal_early_A1BG  0.23063170                  \n",
       "dStromal_late_A1BG   0.06130456                  \n",
       "dStromal_mid_A1BG    0.13657248                  \n",
       "eStromal_A2M        -0.48217561                  \n",
       "dStromal_early_A2M   1.62744580                  \n",
       "                    adj.P.Val_cells_uncorrected_edgeR\n",
       "eStromal_A1BG       0.0794235168                     \n",
       "dStromal_early_A1BG 0.1411019311                     \n",
       "dStromal_late_A1BG  0.8540435320                     \n",
       "dStromal_mid_A1BG   0.3751666448                     \n",
       "eStromal_A2M        0.0648017351                     \n",
       "dStromal_early_A2M  0.0002546488                     \n",
       "                    meaning_cells_uncorrected_edgeR\n",
       "eStromal_A1BG       not_significant                \n",
       "dStromal_early_A1BG not_significant                \n",
       "dStromal_late_A1BG  not_significant                \n",
       "dStromal_mid_A1BG   not_significant                \n",
       "eStromal_A2M        not_significant                \n",
       "dStromal_early_A2M  up_CONTROL                     \n",
       "                    logFC_nuclei_uncorrected_limma\n",
       "eStromal_A1BG       -0.14701589                   \n",
       "dStromal_early_A1BG          NA                   \n",
       "dStromal_late_A1BG  -0.05585452                   \n",
       "dStromal_mid_A1BG            NA                   \n",
       "eStromal_A2M        -0.29556752                   \n",
       "dStromal_early_A2M  -0.59731257                   \n",
       "                    adj.P.Val_nuclei_uncorrected_limma\n",
       "eStromal_A1BG       0.228391210                       \n",
       "dStromal_early_A1BG          NA                       \n",
       "dStromal_late_A1BG  0.841292956                       \n",
       "dStromal_mid_A1BG            NA                       \n",
       "eStromal_A2M        0.046899419                       \n",
       "dStromal_early_A2M  0.001480451                       \n",
       "                    meaning_nuclei_uncorrected_limma\n",
       "eStromal_A1BG       not_significant                 \n",
       "dStromal_early_A1BG NA                              \n",
       "dStromal_late_A1BG  not_significant                 \n",
       "dStromal_mid_A1BG   NA                              \n",
       "eStromal_A2M        up_ENDOMETRIOSIS                \n",
       "dStromal_early_A2M  up_ENDOMETRIOSIS                \n",
       "                    logFC_nuclei_uncorrected_edgeR\n",
       "eStromal_A1BG              NA                     \n",
       "dStromal_early_A1BG        NA                     \n",
       "dStromal_late_A1BG         NA                     \n",
       "dStromal_mid_A1BG          NA                     \n",
       "eStromal_A2M               NA                     \n",
       "dStromal_early_A2M  -1.295136                     \n",
       "                    adj.P.Val_nuclei_uncorrected_edgeR\n",
       "eStromal_A1BG              NA                         \n",
       "dStromal_early_A1BG        NA                         \n",
       "dStromal_late_A1BG         NA                         \n",
       "dStromal_mid_A1BG          NA                         \n",
       "eStromal_A2M               NA                         \n",
       "dStromal_early_A2M  0.2228998                         \n",
       "                    meaning_nuclei_uncorrected_edgeR up_CONTROL\n",
       "eStromal_A1BG       NA                               0         \n",
       "dStromal_early_A1BG NA                               1         \n",
       "dStromal_late_A1BG  NA                               0         \n",
       "dStromal_mid_A1BG   NA                               0         \n",
       "eStromal_A2M        NA                               0         \n",
       "dStromal_early_A2M  not_significant                  2         \n",
       "                    up_ENDOMETRIOSIS not_significant is_GWAS_gene\n",
       "eStromal_A1BG       1                2               no          \n",
       "dStromal_early_A1BG 0                1               no          \n",
       "dStromal_late_A1BG  0                3               no          \n",
       "dStromal_mid_A1BG   0                2               no          \n",
       "eStromal_A2M        2                1               no          \n",
       "dStromal_early_A2M  1                1               no          "
      ]
     },
     "metadata": {},
     "output_type": "display_data"
    }
   ],
   "source": [
    "head(merged_table)"
   ]
  },
  {
   "cell_type": "code",
   "execution_count": 18,
   "metadata": {},
   "outputs": [],
   "source": [
    "merged_table$is_GWAS_gene = ifelse(merged_table$Gene %in% gwas_genes, 'GWAS_gene', 'no')"
   ]
  },
  {
   "cell_type": "code",
   "execution_count": 21,
   "metadata": {},
   "outputs": [],
   "source": [
    "write.table(merged_table, file = paste0('/nfs/team292/lg18/endometriosis/DEGs_endometriosis/', lineage, '_merged_table.tsv'), sep = '\\t', row.names = F, quote = F )"
   ]
  },
  {
   "cell_type": "code",
   "execution_count": null,
   "metadata": {},
   "outputs": [],
   "source": []
  }
 ],
 "metadata": {
  "kernelspec": {
   "display_name": "miloR-env",
   "language": "R",
   "name": "milor-env"
  },
  "language_info": {
   "codemirror_mode": "r",
   "file_extension": ".r",
   "mimetype": "text/x-r-source",
   "name": "R",
   "pygments_lexer": "r",
   "version": "4.2.3"
  }
 },
 "nbformat": 4,
 "nbformat_minor": 4
}
