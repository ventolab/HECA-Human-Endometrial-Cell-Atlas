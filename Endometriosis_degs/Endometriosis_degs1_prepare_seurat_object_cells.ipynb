{
 "cells": [
  {
   "cell_type": "markdown",
   "metadata": {},
   "source": [
    "# Generate seurat object\n"
   ]
  },
  {
   "cell_type": "code",
   "execution_count": 1,
   "metadata": {},
   "outputs": [
    {
     "data": {
      "text/plain": [
       "'/home/jovyan/my-conda-envs/sc_analysis/bin/python'"
      ]
     },
     "execution_count": 1,
     "metadata": {},
     "output_type": "execute_result"
    }
   ],
   "source": [
    "import numpy as np\n",
    "import pandas as pd\n",
    "import scanpy as sc\n",
    "import anndata\n",
    "import os\n",
    "import sys\n",
    "from scipy import sparse\n",
    "\n",
    "\n",
    "\n",
    "sc.settings.verbosity = 1  # verbosity: errors (0), warnings (1), info (2), hints (3)\n",
    "sys.executable"
   ]
  },
  {
   "cell_type": "code",
   "execution_count": 2,
   "metadata": {},
   "outputs": [],
   "source": [
    "epithelials = ['preCiliated',\n",
    "'SOX9_basalis',\n",
    "'SOX9_functionalis_I',\n",
    "'SOX9_functionalis_II',\n",
    "'SOX9_luminal',\n",
    "'SOX9_basalis',\n",
    "'Ciliated',\n",
    "'preGlandular',\n",
    "'preLuminal',\n",
    "'Glandular',\n",
    "'Luminal',\n",
    "'Glandular_secretory',\n",
    "'Glandular_secretory_FGF7']\n",
    "\n",
    "mesenchymal = ['ePV_2',\n",
    "'eStromal',\n",
    "'eStromal_MMPs',\n",
    "'ePV_1a',\n",
    "'ePV_1b',\n",
    "'Fibroblast_basalis',\n",
    "'dStromal_early',\n",
    "'dStromal_mid',\n",
    "'dStromal_late'\n",
    "]\n",
    "\n",
    "immune = ['uNK1', 'uNK3', 'eM1', 'eM2']"
   ]
  },
  {
   "cell_type": "code",
   "execution_count": 3,
   "metadata": {},
   "outputs": [],
   "source": [
    "celltypes_of_interest = immune # sum([immune, mesenchymal, epithelials], [])"
   ]
  },
  {
   "cell_type": "markdown",
   "metadata": {},
   "source": [
    "## Load raw counts for sample of interest"
   ]
  },
  {
   "cell_type": "code",
   "execution_count": 4,
   "metadata": {},
   "outputs": [
    {
     "data": {
      "text/plain": [
       "(390867, 17736)"
      ]
     },
     "execution_count": 4,
     "metadata": {},
     "output_type": "execute_result"
    }
   ],
   "source": [
    "adata = sc.read('/nfs/team292/lg18/endometriosis/integrated_objects/cells_integrated.h5ad')\n",
    "adata.X.shape"
   ]
  },
  {
   "cell_type": "code",
   "execution_count": 5,
   "metadata": {},
   "outputs": [
    {
     "name": "stderr",
     "output_type": "stream",
     "text": [
      "/home/jovyan/my-conda-envs/sc_analysis/lib/python3.7/site-packages/IPython/core/interactiveshell.py:3166: DtypeWarning: Columns (5,8,10,11,12,13,14,15,16,17,18,19,20,21,22,23,24,25,26,39,40,41,42,46,47,55,56,58,59,60,62,69) have mixed types.Specify dtype option on import or set low_memory=False.\n",
      "  interactivity=interactivity, compiler=compiler, result=result)\n",
      "/home/jovyan/my-conda-envs/sc_analysis/lib/python3.7/site-packages/IPython/core/interactiveshell.py:3166: DtypeWarning: Columns (15,19,21,22,23,24,25,39,40,41,46,47,60,61,63,64,65) have mixed types.Specify dtype option on import or set low_memory=False.\n",
      "  interactivity=interactivity, compiler=compiler, result=result)\n",
      "/home/jovyan/my-conda-envs/sc_analysis/lib/python3.7/site-packages/IPython/core/interactiveshell.py:3166: DtypeWarning: Columns (13,15,17,18,19,21,22,23,24,25,41,42,46,55,58) have mixed types.Specify dtype option on import or set low_memory=False.\n",
      "  interactivity=interactivity, compiler=compiler, result=result)\n"
     ]
    },
    {
     "name": "stdout",
     "output_type": "stream",
     "text": [
      "eStromal           55612\n",
      "dStromal_mid       43790\n",
      "Mesen_dStromal     22381\n",
      "dStromal_early     16804\n",
      "Venous             15494\n",
      "                   ...  \n",
      "cDC1                 188\n",
      "dHormones            172\n",
      "Plasma_B_Cell         89\n",
      "Red_Blood_Cell        43\n",
      "Epi_cervix_KRT5       23\n",
      "Name: celltype, Length: 74, dtype: int64\n"
     ]
    }
   ],
   "source": [
    "annot_df = pd.read_csv('/nfs/team292/lg18/endometriosis/annotations/cells_endometrium.csv',index_col=0)\n",
    "annot_df.head()\n",
    "annot_all = annot_df['Mareckova_celltype'].to_dict()\n",
    "annot = dict(annot_all)\n",
    "adata.obs['Mareckova_celltype'] = adata.obs_names.map(annot)\n",
    "\n",
    "annot_df = pd.read_csv('/nfs/team292/lg18/endometriosis/annotations/cells_endometrium_epithelial_CLEAN.csv',index_col=0)\n",
    "annot_df.at[annot_df['Mareckova_epi_celltype'] == 'Hormones', 'Mareckova_epi_celltype'] = 'eHormones'\n",
    "annot_df.at[annot_df['Mareckova_epi_celltype'] == 'Hormones_secretory', 'Mareckova_epi_celltype'] = 'eHormones'\n",
    "annot_df.head()\n",
    "annot1 = annot_df['Mareckova_epi_celltype'].to_dict()\n",
    "annot.update(annot1)\n",
    "\n",
    "\n",
    "annot_df = pd.read_csv('/nfs/team292/lg18/endometriosis/annotations/cells_endometrium_mesenchymal_CLEAN.csv',index_col=0)\n",
    "annot_df.at[annot_df['Mareckova_mesen_celltype'] == 'Hormones', 'Mareckova_mesen_celltype'] = 'sHormones'\n",
    "annot_df.head()\n",
    "annot2 = annot_df['Mareckova_mesen_celltype'].to_dict()\n",
    "annot.update(annot2)\n",
    "\n",
    "annot_df = pd.read_csv('/nfs/team292/lg18/endometriosis/annotations/cells_endometrium_endothelial.csv',index_col=0)\n",
    "annot_df.head()\n",
    "annot2 = annot_df['Mareckova_endo_celltype'].to_dict()\n",
    "annot.update(annot2)\n",
    "\n",
    "annot_df = pd.read_csv('/nfs/team292/lg18/endometriosis/annotations/cells_endometrium_immune.csv',index_col=0)\n",
    "annot_df.head()\n",
    "annot2 = annot_df['immune_subcluster_labels'].to_dict()\n",
    "annot.update(annot2)\n",
    "\n",
    "\n",
    "adata.obs['celltype'] = adata.obs_names.map(annot)\n",
    "print(adata.obs['celltype'].value_counts())"
   ]
  },
  {
   "cell_type": "markdown",
   "metadata": {},
   "source": [
    "### Subset to clusters of interest"
   ]
  },
  {
   "cell_type": "code",
   "execution_count": 6,
   "metadata": {},
   "outputs": [
    {
     "name": "stderr",
     "output_type": "stream",
     "text": [
      "/home/jovyan/my-conda-envs/sc_analysis/lib/python3.7/site-packages/pandas/core/arrays/categorical.py:2487: FutureWarning: The `inplace` parameter in pandas.Categorical.remove_unused_categories is deprecated and will be removed in a future version.\n",
      "  res = method(*args, **kwargs)\n",
      "/home/jovyan/my-conda-envs/sc_analysis/lib/python3.7/site-packages/anndata/_core/anndata.py:1208: ImplicitModificationWarning: Initializing view as actual.\n",
      "  \"Initializing view as actual.\", ImplicitModificationWarning\n",
      "Trying to set attribute `.obs` of view, copying.\n",
      "... storing 'Mareckova_celltype' as categorical\n",
      "Trying to set attribute `.obs` of view, copying.\n",
      "... storing 'celltype' as categorical\n"
     ]
    },
    {
     "data": {
      "image/png": "[encoded data removed]",
      "text/plain": [
       "<Figure size 432x288 with 1 Axes>"
      ]
     },
     "metadata": {},
     "output_type": "display_data"
    }
   ],
   "source": [
    "set(adata.obs['Mareckova_celltype'])\n",
    "adata = adata[[ i in celltypes_of_interest for i in adata.obs['celltype'] ]]\n",
    "sc.pl.umap(adata, color=['celltype'])"
   ]
  },
  {
   "cell_type": "markdown",
   "metadata": {},
   "source": [
    "### Exclude cycling cells"
   ]
  },
  {
   "cell_type": "code",
   "execution_count": 7,
   "metadata": {},
   "outputs": [],
   "source": [
    "adata = adata[[ i in [\"G1\"] for i in adata.obs.phase ]]"
   ]
  },
  {
   "cell_type": "markdown",
   "metadata": {},
   "source": [
    "## Exclude patients under hormones"
   ]
  },
  {
   "cell_type": "code",
   "execution_count": 8,
   "metadata": {},
   "outputs": [
    {
     "name": "stdout",
     "output_type": "stream",
     "text": [
      "Proliferative    3375\n",
      "Secretory        2874\n",
      "Menstrual          30\n",
      "Name: Binary Stage, dtype: int64\n"
     ]
    }
   ],
   "source": [
    "adata = adata[[ i not in [\"Hormones\", \"PeriMenopause_Hormones\"] for i in adata.obs['Binary Stage'] ]]\n",
    "print(adata.obs['Binary Stage'].value_counts())"
   ]
  },
  {
   "cell_type": "markdown",
   "metadata": {},
   "source": [
    "### Define disease column"
   ]
  },
  {
   "cell_type": "code",
   "execution_count": 9,
   "metadata": {},
   "outputs": [
    {
     "name": "stderr",
     "output_type": "stream",
     "text": [
      "Trying to set attribute `.obs` of view, copying.\n"
     ]
    },
    {
     "name": "stdout",
     "output_type": "stream",
     "text": [
      "Ctrl    3219\n",
      "Endo    3060\n",
      "Name: disease, dtype: int64\n"
     ]
    }
   ],
   "source": [
    "adata.obs['disease'] = 'Endo'\n",
    "adata.obs.at[adata.obs['Group'] == 'Ctrl_whole_uterus', 'disease'] = 'Ctrl'\n",
    "adata.obs.at[adata.obs['Group'] == 'Ctrl_Superficial', 'disease'] = 'Ctrl'\n",
    "print(adata.obs['disease'].value_counts())"
   ]
  },
  {
   "cell_type": "markdown",
   "metadata": {},
   "source": [
    "# Move to Seurat"
   ]
  },
  {
   "cell_type": "code",
   "execution_count": 10,
   "metadata": {},
   "outputs": [],
   "source": [
    "import rpy2.rinterface_lib.callbacks\n",
    "import logging\n",
    "# Itoliste R warning messages\n",
    "#Note: this can be commented out to get more verbose R output\n",
    "rpy2.rinterface_lib.callbacks.logger.setLevel(logging.ERROR)\n",
    "import anndata2ri\n",
    "anndata2ri.activate()\n",
    "%load_ext rpy2.ipython"
   ]
  },
  {
   "cell_type": "code",
   "execution_count": 11,
   "metadata": {},
   "outputs": [
    {
     "name": "stderr",
     "output_type": "stream",
     "text": [
      "/home/jovyan/my-conda-envs/sc_analysis/lib/python3.7/site-packages/pandas/core/arrays/categorical.py:2487: FutureWarning: The `inplace` parameter in pandas.Categorical.remove_unused_categories is deprecated and will be removed in a future version.\n",
      "  res = method(*args, **kwargs)\n"
     ]
    }
   ],
   "source": [
    "import anndata\n",
    "sc.pp.filter_cells(adata, min_genes=1000)\n",
    "sc.pp.filter_genes(adata, min_cells=10)"
   ]
  },
  {
   "cell_type": "code",
   "execution_count": 12,
   "metadata": {},
   "outputs": [],
   "source": [
    "# This is just to allow moving adata to R without errors\n",
    "adata.X = adata.X.toarray()\n",
    "\n",
    "idx = ['n_genes', 'sample',  'percent_mito', 'n_counts', 'batch', 'S_score', 'G2M_score', 'phase', \n",
    "       'scrublet_score', 'scrublet_cluster_score', 'zscore', 'bh_pval', 'bonf_pval', 'is_doublet']\n",
    "for i in idx:\n",
    "    del adata.obs[i]\n",
    "    \n",
    "adata.obs['celltype'] = adata.obs['celltype'].astype(str)\n",
    "\n",
    "del adata.obsm['X_scVI']\n",
    "del adata.obsm['X_umap']\n",
    "del adata.obsp['connectivities']\n",
    "del adata.obsp['distances']\n",
    "del adata.uns"
   ]
  },
  {
   "cell_type": "code",
   "execution_count": 13,
   "metadata": {},
   "outputs": [
    {
     "name": "stdout",
     "output_type": "stream",
     "text": [
      "class: SingleCellExperiment \n",
      "dim: 14635 6085 \n",
      "metadata(0):\n",
      "assays(1): X\n",
      "rownames(14635): A1BG A2M ... ZYX ZZEF1\n",
      "rowData names(220): gene_ids.0.Fonseca feature_types.0.Fonseca ...\n",
      "  highly_variable_nbatches n_cells\n",
      "colnames(6085): HCA_A_RepT_RNA13247830_ACGAGGATCTTTCCTC-Mareckova\n",
      "  HCA_A_RepT_RNA13247830_ACTGTCCGTTAAGAAC-Mareckova ...\n",
      "  GSM5572240_TTTACGTCAGCGCGTT-Lai GSM5572240_TTTGATCAGTGTAGAT-Lai\n",
      "colData names(58): library StudyName ... celltype disease\n",
      "reducedDimNames(0):\n",
      "altExpNames(0):\n"
     ]
    }
   ],
   "source": [
    "%%R -i adata\n",
    "adata"
   ]
  },
  {
   "cell_type": "code",
   "execution_count": 14,
   "metadata": {},
   "outputs": [],
   "source": [
    "%%R\n",
    "\n",
    "library(Seurat)\n",
    "seurat_andata = as.Seurat(adata, counts = \"X\", data = \"X\")\n",
    "rm(adata)\n",
    "Idents(seurat_andata) = seurat_andata$celltype\n",
    "\n",
    "saveRDS(seurat_andata, \"/nfs/team292/lg18/endometriosis/SeuratR_objects/cells_immune.rds\")\n",
    "rm(seurat_andata)\n"
   ]
  }
 ],
 "metadata": {
  "kernelspec": {
   "display_name": "Python sc_analysis",
   "language": "python",
   "name": "sc_analysis"
  },
  "language_info": {
   "codemirror_mode": {
    "name": "ipython",
    "version": 3
   },
   "file_extension": ".py",
   "mimetype": "text/x-python",
   "name": "python",
   "nbconvert_exporter": "python",
   "pygments_lexer": "ipython3",
   "version": "3.7.10"
  }
 },
 "nbformat": 4,
 "nbformat_minor": 4
}
