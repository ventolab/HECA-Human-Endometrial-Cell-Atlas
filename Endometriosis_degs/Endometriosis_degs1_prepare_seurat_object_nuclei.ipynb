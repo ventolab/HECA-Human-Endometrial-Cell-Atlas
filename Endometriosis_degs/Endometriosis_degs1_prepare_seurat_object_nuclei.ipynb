{
 "cells": [
  {
   "cell_type": "markdown",
   "metadata": {},
   "source": [
    "# Generate seurat object\n"
   ]
  },
  {
   "cell_type": "code",
   "execution_count": 1,
   "metadata": {},
   "outputs": [
    {
     "data": {
      "text/plain": [
       "'/home/jovyan/my-conda-envs/sc_analysis/bin/python'"
      ]
     },
     "execution_count": 1,
     "metadata": {},
     "output_type": "execute_result"
    }
   ],
   "source": [
    "import numpy as np\n",
    "import pandas as pd\n",
    "import scanpy as sc\n",
    "import anndata\n",
    "import os\n",
    "import sys\n",
    "from scipy import sparse\n",
    "\n",
    "\n",
    "\n",
    "sc.settings.verbosity = 1  # verbosity: errors (0), warnings (1), info (2), hints (3)\n",
    "sys.executable"
   ]
  },
  {
   "cell_type": "code",
   "execution_count": 2,
   "metadata": {},
   "outputs": [],
   "source": [
    "epithelials = ['preCiliated',\n",
    "'SOX9_basalis',\n",
    "'SOX9_functionalis_I',\n",
    "'SOX9_functionalis_II',\n",
    "'SOX9_luminal',\n",
    "'SOX9_basalis',\n",
    "'Ciliated',\n",
    "'preGlandular',\n",
    "'preLuminal',\n",
    "'Glandular',\n",
    "'Luminal',\n",
    "'Glandular_secretory',\n",
    "'Glandular_secretory_FGF7']\n",
    "\n",
    "mesenchymal = ['ePV_2',\n",
    "'eStromal',\n",
    "'eStromal_MMPs',\n",
    "'ePV_1a',\n",
    "'ePV_1b',\n",
    "'Fibroblast_basalis',\n",
    "'dStromal_early',\n",
    "'dStromal_mid',\n",
    "'dStromal_late'\n",
    "]\n",
    "\n",
    "immune = ['uNK1', 'uNK3', 'eM1', 'eM2']"
   ]
  },
  {
   "cell_type": "code",
   "execution_count": 3,
   "metadata": {},
   "outputs": [],
   "source": [
    "celltypes_of_interest = mesenchymal # sum([immune, mesenchymal, epithelials], [])"
   ]
  },
  {
   "cell_type": "markdown",
   "metadata": {},
   "source": [
    "## Load raw counts for sample of interest"
   ]
  },
  {
   "cell_type": "code",
   "execution_count": 4,
   "metadata": {},
   "outputs": [
    {
     "data": {
      "text/plain": [
       "(372867, 33578)"
      ]
     },
     "execution_count": 4,
     "metadata": {},
     "output_type": "execute_result"
    }
   ],
   "source": [
    "adata = sc.read('/nfs/team292/lg18/endometriosis/integrated_objects/nuclei_integrated.h5ad')\n",
    "adata.X.shape"
   ]
  },
  {
   "cell_type": "code",
   "execution_count": 5,
   "metadata": {},
   "outputs": [
    {
     "name": "stderr",
     "output_type": "stream",
     "text": [
      "/home/jovyan/my-conda-envs/sc_analysis/lib/python3.7/site-packages/IPython/core/interactiveshell.py:3166: DtypeWarning: Columns (24,47) have mixed types.Specify dtype option on import or set low_memory=False.\n",
      "  interactivity=interactivity, compiler=compiler, result=result)\n"
     ]
    },
    {
     "name": "stdout",
     "output_type": "stream",
     "text": [
      "Doublet                  52349\n",
      "eStromal                 46062\n",
      "SOX9_functionalis_II     38538\n",
      "eStromal_MMPs            21598\n",
      "preGlandular             18101\n",
      "Cycling                  16859\n",
      "dStromal_early           16576\n",
      "Glandular                15355\n",
      "Glandular_secretory      14854\n",
      "dStromal_late            14310\n",
      "dStromal_mid             13676\n",
      "eHormones                13459\n",
      "LowQC                    13025\n",
      "eStromal_cycling          9922\n",
      "MUC5B                     9246\n",
      "SOX9_luminal              6006\n",
      "HOXA13                    5133\n",
      "eM2                       4960\n",
      "SOX9_basalis              4708\n",
      "uNK1                      4659\n",
      "preLuminal                3822\n",
      "Venous                    3394\n",
      "Luminal                   3146\n",
      "Ciliated                  2606\n",
      "eM1                       2358\n",
      "Cycling_uNK1              2320\n",
      "uNK2                      1974\n",
      "CD4_T                     1871\n",
      "cDC2                      1490\n",
      "ePV_2                     1488\n",
      "PV                        1270\n",
      "CD8_T                     1033\n",
      "uNK3                       870\n",
      "Cycling_eM2                650\n",
      "Lymphatic                  621\n",
      "Peripheral_Lymphocyte      608\n",
      "preCiliated                590\n",
      "SOX9_functionalis_I        577\n",
      "Monocyte                   529\n",
      "B_cell                     465\n",
      "cDC1                       443\n",
      "ePV_1b                     349\n",
      "T_Reg                      256\n",
      "ILC3                       188\n",
      "Arterial                   151\n",
      "ePV_1a                     122\n",
      "pDC                         93\n",
      "Fibroblast_basalis          85\n",
      "Plasma_B_cell               53\n",
      "uSMCs                       49\n",
      "Name: celltype, dtype: int64\n"
     ]
    }
   ],
   "source": [
    "annot_df = pd.read_csv('/nfs/team292/lg18/endometriosis/annotations/nuclei_endometrium.csv',index_col=0)\n",
    "annot_df.head()\n",
    "annot_all = annot_df['Nuc_celltype'].to_dict()\n",
    "annot = dict(annot_all)\n",
    "adata.obs['Nuc_celltype'] = adata.obs_names.map(annot)\n",
    "\n",
    "\n",
    "annot_df = pd.read_csv('/nfs/team292/lg18/endometriosis/annotations/nuclei_epithelials_endometrium.csv',index_col=0)\n",
    "annot_df.at[annot_df['Nuc_epi_celltype'] == 'Hormones', 'Nuc_epi_celltype'] = 'eHormones'\n",
    "annot_df.at[annot_df['Nuc_epi_celltype'] == 'Hormones_secretory', 'Nuc_epi_celltype'] = 'eHormones'\n",
    "annot_df.head()\n",
    "annot1 = annot_df['Nuc_epi_celltype'].to_dict()\n",
    "annot.update(annot1)\n",
    "\n",
    "\n",
    "annot_df = pd.read_csv('/nfs/team292/lg18/endometriosis/annotations/nuclei_endometrium_mesenchymal.csv',index_col=0)\n",
    "annot_df.at[annot_df['Nuc_mesen_celltype'] == 'Hormones', 'Nuc_mesen_celltype'] = 'sHormones'\n",
    "annot_df.at[annot_df['Nuc_mesen_celltype'] == 'Fibroblats_basalis', 'Nuc_mesen_celltype'] = 'Fibroblast_basalis'\n",
    "annot_df.head()\n",
    "annot2 = annot_df['Nuc_mesen_celltype'].to_dict()\n",
    "annot.update(annot2)\n",
    "\n",
    "annot_df = pd.read_csv('/nfs/team292/lg18/endometriosis/annotations/nuclei_endometrium_endothelial.csv',index_col=0)\n",
    "annot_df.head()\n",
    "annot2 = annot_df['Nuc_endo_celltype'].to_dict()\n",
    "annot.update(annot2)\n",
    "\n",
    "\n",
    "annot_df = pd.read_csv('/nfs/team292/lg18/endometriosis/annotations/nuclei_endometrium_PV.csv',index_col=0)\n",
    "annot_df.head()\n",
    "annot2 = annot_df['Nuc_pv_celltype'].to_dict()\n",
    "annot.update(annot2)\n",
    "\n",
    "\n",
    "annot_df = pd.read_csv('/lustre/scratch126/cellgen/team292/sh50/data/nuclei_immune_labels.csv',index_col=0)\n",
    "annot_df.head()\n",
    "annot2 = annot_df['immune_subcluster_labels'].to_dict()\n",
    "annot.update(annot2)\n",
    "\n",
    "\n",
    "adata.obs['celltype'] = adata.obs_names.map(annot)\n",
    "print(adata.obs['celltype'].value_counts())"
   ]
  },
  {
   "cell_type": "markdown",
   "metadata": {},
   "source": [
    "### Subset to clusters of interest"
   ]
  },
  {
   "cell_type": "code",
   "execution_count": 6,
   "metadata": {},
   "outputs": [
    {
     "name": "stderr",
     "output_type": "stream",
     "text": [
      "/home/jovyan/my-conda-envs/sc_analysis/lib/python3.7/site-packages/pandas/core/arrays/categorical.py:2487: FutureWarning: The `inplace` parameter in pandas.Categorical.remove_unused_categories is deprecated and will be removed in a future version.\n",
      "  res = method(*args, **kwargs)\n",
      "/home/jovyan/my-conda-envs/sc_analysis/lib/python3.7/site-packages/anndata/_core/anndata.py:1208: ImplicitModificationWarning: Initializing view as actual.\n",
      "  \"Initializing view as actual.\", ImplicitModificationWarning\n",
      "Trying to set attribute `.obs` of view, copying.\n",
      "... storing 'Nuc_celltype' as categorical\n",
      "Trying to set attribute `.obs` of view, copying.\n",
      "... storing 'celltype' as categorical\n"
     ]
    },
    {
     "data": {
      "image/png": "[encoded data removed]",
      "text/plain": [
       "<Figure size 432x288 with 1 Axes>"
      ]
     },
     "metadata": {},
     "output_type": "display_data"
    }
   ],
   "source": [
    "adata = adata[[ i in celltypes_of_interest for i in adata.obs['celltype'] ]]\n",
    "sc.pl.umap(adata, color=['celltype'])"
   ]
  },
  {
   "cell_type": "markdown",
   "metadata": {},
   "source": [
    "### Exclude cycling cells"
   ]
  },
  {
   "cell_type": "code",
   "execution_count": 7,
   "metadata": {},
   "outputs": [],
   "source": [
    "adata = adata[[ i in [\"G1\"] for i in adata.obs.phase ]]"
   ]
  },
  {
   "cell_type": "markdown",
   "metadata": {},
   "source": [
    "## Exclude patients under hormones"
   ]
  },
  {
   "cell_type": "code",
   "execution_count": 8,
   "metadata": {},
   "outputs": [
    {
     "name": "stdout",
     "output_type": "stream",
     "text": [
      "Proliferative    37597\n",
      "Secretory        35439\n",
      "Menstrual         6443\n",
      "Name: Binary Stage, dtype: int64\n"
     ]
    }
   ],
   "source": [
    "adata = adata[[ i not in [\"Hormones\", \"PeriMenopause_Hormones\", \"Unknown\"] for i in adata.obs['Binary Stage'] ]]\n",
    "print(adata.obs['Binary Stage'].value_counts())"
   ]
  },
  {
   "cell_type": "markdown",
   "metadata": {},
   "source": [
    "### Define disease column"
   ]
  },
  {
   "cell_type": "code",
   "execution_count": 9,
   "metadata": {},
   "outputs": [
    {
     "name": "stderr",
     "output_type": "stream",
     "text": [
      "Trying to set attribute `.obs` of view, copying.\n"
     ]
    },
    {
     "name": "stdout",
     "output_type": "stream",
     "text": [
      "Endo    58607\n",
      "Ctrl    20872\n",
      "Name: disease, dtype: int64\n"
     ]
    }
   ],
   "source": [
    "adata.obs['disease'] = 'Endo'\n",
    "adata.obs.at[adata.obs['Group'] == 'Ctrl_whole_uterus', 'disease'] = 'Ctrl'\n",
    "adata.obs.at[adata.obs['Group'] == 'Ctrl_Superficial', 'disease'] = 'Ctrl'\n",
    "print(adata.obs['disease'].value_counts())"
   ]
  },
  {
   "cell_type": "markdown",
   "metadata": {},
   "source": [
    "# Move to Seurat"
   ]
  },
  {
   "cell_type": "code",
   "execution_count": 10,
   "metadata": {},
   "outputs": [],
   "source": [
    "import rpy2.rinterface_lib.callbacks\n",
    "import logging\n",
    "# Itoliste R warning messages\n",
    "#Note: this can be commented out to get more verbose R output\n",
    "rpy2.rinterface_lib.callbacks.logger.setLevel(logging.ERROR)\n",
    "import anndata2ri\n",
    "anndata2ri.activate()\n",
    "%load_ext rpy2.ipython"
   ]
  },
  {
   "cell_type": "code",
   "execution_count": 11,
   "metadata": {},
   "outputs": [
    {
     "name": "stderr",
     "output_type": "stream",
     "text": [
      "/home/jovyan/my-conda-envs/sc_analysis/lib/python3.7/site-packages/pandas/core/arrays/categorical.py:2487: FutureWarning: The `inplace` parameter in pandas.Categorical.remove_unused_categories is deprecated and will be removed in a future version.\n",
      "  res = method(*args, **kwargs)\n"
     ]
    }
   ],
   "source": [
    "import anndata\n",
    "sc.pp.filter_cells(adata, min_genes=1000)\n",
    "sc.pp.filter_genes(adata, min_cells=10)"
   ]
  },
  {
   "cell_type": "code",
   "execution_count": 12,
   "metadata": {},
   "outputs": [],
   "source": [
    "# This is just to allow moving adata to R without errors\n",
    "adata.X = adata.X.toarray()\n",
    "\n",
    "idx = ['n_genes', 'sample',  'percent_mito', 'n_counts', 'batch', 'S_score', 'G2M_score', 'phase', \n",
    "       'scrublet_score', 'scrublet_cluster_score', 'zscore', 'bh_pval', 'bonf_pval', 'is_doublet']\n",
    "for i in idx:\n",
    "    del adata.obs[i]\n",
    "    \n",
    "adata.obs['celltype'] = adata.obs['celltype'].astype(str)\n",
    "\n",
    "del adata.obsm['X_scVI']\n",
    "del adata.obsm['X_umap']\n",
    "del adata.obsp['connectivities']\n",
    "del adata.obsp['distances']\n",
    "del adata.uns"
   ]
  },
  {
   "cell_type": "code",
   "execution_count": 13,
   "metadata": {},
   "outputs": [
    {
     "name": "stdout",
     "output_type": "stream",
     "text": [
      "class: SingleCellExperiment \n",
      "dim: 30595 79479 \n",
      "metadata(0):\n",
      "assays(1): X\n",
      "rownames(30595): A1BG A1BG-AS1 ... ZYX ZZEF1\n",
      "rowData names(165): gene_ids.0 feature_types.0 ... variances_norm\n",
      "  highly_variable_nbatches\n",
      "colnames(79479): UA_Endo11596521_GAACACTCAGAGAAAG\n",
      "  UA_Endo12449301_TCAGTGATCGTAGGGA ... UA_Endo11460963_GTAGGAGAGTGGATAT\n",
      "  UA_Endo11460960_GAAGGACGTCCCTCAT\n",
      "colData names(44): library StudyName ... celltype disease\n",
      "reducedDimNames(0):\n",
      "altExpNames(0):\n"
     ]
    }
   ],
   "source": [
    "%%R -i adata\n",
    "adata"
   ]
  },
  {
   "cell_type": "code",
   "execution_count": 14,
   "metadata": {},
   "outputs": [],
   "source": [
    "%%R\n",
    "\n",
    "library(Seurat)\n",
    "seurat_andata = as.Seurat(adata, counts = \"X\", data = \"X\")\n",
    "rm(adata)\n",
    "Idents(seurat_andata) = seurat_andata$celltype\n",
    "\n",
    "saveRDS(seurat_andata, \"/nfs/team292/lg18/endometriosis/SeuratR_objects/nuclei_mesenchymal.rds\")\n",
    "rm(seurat_andata)\n"
   ]
  }
 ],
 "metadata": {
  "kernelspec": {
   "display_name": "Python sc_analysis",
   "language": "python",
   "name": "sc_analysis"
  },
  "language_info": {
   "codemirror_mode": {
    "name": "ipython",
    "version": 3
   },
   "file_extension": ".py",
   "mimetype": "text/x-python",
   "name": "python",
   "nbconvert_exporter": "python",
   "pygments_lexer": "ipython3",
   "version": "3.7.10"
  }
 },
 "nbformat": 4,
 "nbformat_minor": 4
}
