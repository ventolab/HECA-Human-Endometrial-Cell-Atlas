{
 "cells": [
  {
   "cell_type": "markdown",
   "metadata": {},
   "source": [
    "(Courtesy of Martin Prete)\n",
    "\n",
    "I've build the docker and singularity images for cell2location taking the files from github. Only thing I changed for the environment is added jupyerlab and ipykernel to create a kernel for the environment, and the Dockerfile now creates that kernel, that's on my fork.\n",
    "\n",
    "First you need to login in to the farm:\n",
    "\n",
    "``\n",
    "ssh lg18@farm5-login\n",
    "``\n",
    "\n",
    "Go to the notebooks folder and create a file.sh with:\n",
    "\n",
    "```\n",
    "#!/usr/bin/env bash\n",
    "                    \n",
    "                    \n",
    "bsub -q gpu-normal -M200000 \\\n",
    "  -G team292 \\\n",
    "  -R\"select[mem>200000] rusage[mem=200000, ngpus_physical=1.00] span[hosts=1]\"  \\\n",
    "  -gpu \"mode=shared:j_exclusive=yes\" -Is \\\n",
    "  /software/singularity-v3.5.3/bin/singularity exec \\\n",
    "  --no-home  \\\n",
    "  --nv \\\n",
    " -B /nfs/users/nfs_l/lg18/team292/lg18/gonads/data/visium/cell2location:/notebooks \\\n",
    "  -B /nfs/users/nfs_l/lg18/team292/lg18/gonads/data/visium/cell2location:/data \\\n",
    "  /nfs/cellgeni/singularity/images/cell2location-latest.sif \\\n",
    "  /bin/bash -c \"HOME=$(mktemp -d) jupyter notebook --notebook-dir=/notebooks --NotebookApp.token='cell2loc' --ip=0.0.0.0 --port=1234 --no-browser --allow-root\"\n",
    "```\n",
    "\n",
    "The first part, launches an interacrive job with gpu on the farm, you probably do this already with your own scripts or with the same command\n",
    "\n",
    "Breaking it further a part it tells\n",
    "- singularity to execute something `/software/singularity-v3.5.3/bin/singularity exec`\n",
    "- don't mount my home folder by default `--no-home`\n",
    "- use `gpus --nv`\n",
    "- mount this folder as `/notebooks` inside the container `-B /nfs/users/nfs_l/lg18/team292/lg18/gonads/data/visium/cell2location:/notebooks`\n",
    "- launch this particular image file `/nfs/cellgeni/singularity/images/cell2location-latest.sif`\n",
    "- now run bash, set my home folder to a temp folder and start jupyter `/bin/bash -c \"HOME=$(mktemp -d) jupyter notebook --notebook-dir=/notebooks --NotebookApp.token='cell2loc' --ip=0.0.0.0 --port=1234 --no-browser --allow-root\"`\n"
   ]
  },
  {
   "cell_type": "code",
   "execution_count": 1,
   "metadata": {},
   "outputs": [
    {
     "name": "stderr",
     "output_type": "stream",
     "text": [
      "/opt/conda/envs/cellpymc/lib/python3.7/site-packages/theano/gpuarray/dnn.py:184: UserWarning: Your cuDNN version is more recent than Theano. If you encounter problems, try updating Theano or downgrading cuDNN to a version >= v5 and <= v7.\n",
      "  warnings.warn(\"Your cuDNN version is more recent than \"\n",
      "Using cuDNN version 7605 on context None\n",
      "Mapped name None to device cuda0: Tesla V100-SXM2-16GB (0000:07:00.0)\n"
     ]
    }
   ],
   "source": [
    "import sys\n",
    "import scanpy as sc\n",
    "import anndata\n",
    "import pandas as pd\n",
    "import numpy as np\n",
    "import os\n",
    "import matplotlib.pyplot as plt\n",
    "from os import listdir\n",
    "from os.path import isfile, join\n",
    "\n",
    "\n",
    "\n",
    "data_type = 'float32'\n",
    "sc.settings.set_figure_params(dpi = 100, color_map = 'RdPu', dpi_save = 100,\n",
    "                              vector_friendly = True, format = 'pdf',\n",
    "                              facecolor='white')\n",
    "\n",
    "\n",
    "# this line forces theano to use the GPU and should go before importing cell2location\n",
    "os.environ[\"THEANO_FLAGS\"] = 'device=cuda0,floatX=' + data_type + ',force_device=True'\n",
    "# if using the CPU uncomment this:\n",
    "#os.environ[\"THEANO_FLAGS\"] = 'device=cpu,floatX=float32,openmp=True,force_device=True'\n",
    "#os.environ[\"OMP_NUM_THREADS\"] = '8'\n",
    "\n",
    "\n",
    "import cell2location\n",
    "\n",
    "from matplotlib import rcParams\n",
    "import seaborn as sns\n",
    "\n",
    "# silence scanpy that prints a lot of warnings\n",
    "import warnings\n",
    "# warnings.filterwarnings('ignore')"
   ]
  },
  {
   "cell_type": "code",
   "execution_count": 2,
   "metadata": {},
   "outputs": [],
   "source": [
    "# pip list"
   ]
  },
  {
   "cell_type": "code",
   "execution_count": 3,
   "metadata": {},
   "outputs": [],
   "source": [
    "# path = '/nfs/users/nfs_l/lg18/team292/lg18/MFI/'\n",
    "# sample_IDs = ['34914_WS_PLA_S9101767', \n",
    "# #               '34914_WS_PLA_S9101764', \n",
    "# #               '34914_WS_PLA_S9101765',\n",
    "# #        '34914_WS_PLA_S9101766', \n",
    "#        '36173_Pla_Camb9518737'\n",
    "#              ]"
   ]
  },
  {
   "cell_type": "code",
   "execution_count": 4,
   "metadata": {},
   "outputs": [],
   "source": [
    "# # Reading Visium data in anndata format in anndata format\n",
    "# adata_raw_spatial = sc.read('/nfs/team292/lg18/MFI/adata_visium.h5ad')\n",
    "# adata_raw_spatial = adata_raw_spatial[[ i in sample_IDs for i in adata_raw_spatial.obs['sample'] ]]\n",
    "# adata_raw_spatial.raw = adata_raw_spatial.copy()\n",
    "# adata_raw_spatial.obs.index = adata_raw_spatial.obs.barcode_sample\n",
    "# adata_raw_spatial.obs['spotID'] = adata_raw_spatial.obs.index\n",
    "# del adata_raw_spatial.obs['barcode_sample']\n",
    "# # adata_raw_spatial.obs.head()\n",
    "# # adata_raw_spatial.var.head()\n",
    "\n",
    "# # Reading scRNA data in anndata format\n",
    "# #     scRNAseq_file = [f for f in listdir(path+sample+'/cell2location/') if isfile(join(path+sample+'/cell2location/', f)) and 'scRNAseq' in f]\n",
    "# adata_raw_sc = sc.read('/nfs/team292/lg18/MFI/adata_ref.h5ad')\n",
    "# adata_raw_sc.raw = adata_raw_sc.copy()\n",
    "# # adata_raw_sc.obs.head()\n",
    "# # adata_raw_sc.var.head()\n",
    "\n",
    "# intersect = np.intersect1d(adata_raw_spatial.var_names, adata_raw_sc.var_names)\n",
    "# adata_raw_spatial = adata_raw_spatial[:, intersect].copy()\n",
    "# adata_raw_sc = adata_raw_sc[:, intersect].copy()\n",
    "\n",
    "\n",
    "# # Running cell2location\n",
    "# results_folder = path+'/cell2location/'\n",
    "# os.system('mkdir -p '+ results_folder + '/std_model')\n",
    "\n",
    "# r = cell2location.run_cell2location(\n",
    "\n",
    "#       # Single cell reference signatures as anndata\n",
    "#       # (could also be data as anndata object for estimating signatures analytically - `sc_data=adata_snrna_raw`)\n",
    "#       sc_data=adata_raw_sc,\n",
    "#       # Spatial data as anndata object\n",
    "#       sp_data=adata_raw_spatial,\n",
    "\n",
    "#       # the column in sc_data.obs that gives cluster idenitity of each cell\n",
    "#       summ_sc_data_args={'cluster_col': \"cell_type\"},\n",
    "\n",
    "#       train_args={'use_raw': True, # By default uses raw slots in both of the input datasets.\n",
    "#                   'n_iter': 30000, # Increase the number of iterations if needed (see below)\n",
    "\n",
    "#                   # Whe analysing the data that contains multiple samples,\n",
    "#                   # cell2location will select a model version which pools information across samples\n",
    "#                   # For details see https://cell2location.readthedocs.io/en/latest/cell2location.models.html#module-cell2location.models.CoLocationModelNB4E6V2\n",
    "#                   'sample_name_col': 'sample'}, # Column in sp_data.obs with Sample ID\n",
    "\n",
    "#       # Number of posterios samples to use for estimating parameters,\n",
    "#       # reduce if not enough GPU memory\n",
    "#       posterior_args={'n_samples': 1000},\n",
    "\n",
    "\n",
    "#       export_args={'path': results_folder + 'std_model/', # path where to save results\n",
    "#                    'run_name_suffix': 'all_' # optinal suffix to modify the name the run\n",
    "#                   },\n",
    "\n",
    "#       model_kwargs={ # Prior on the number of cells, cell types and co-located combinations\n",
    "\n",
    "#                     'cell_number_prior': {\n",
    "#                         # Use visual inspection of the tissue image to determine\n",
    "#                         # the average number of cells per spot,\n",
    "#                         # an approximate count is good enough:\n",
    "# #                             'cells_per_spot': 8,\n",
    "#                         'cells_per_spot': 30,\n",
    "#                         # Prior on the number of cell types (or factors) in each spot\n",
    "#                         'factors_per_spot': 4,\n",
    "#                         # Prior on the number of correlated cell type combinations in each spot\n",
    "#                         'combs_per_spot': 2.5\n",
    "#                     },\n",
    "\n",
    "#                      # Prior on change in sensitivity between technologies\n",
    "#                     'gene_level_prior':{\n",
    "#                         # Prior on average change in expression level from scRNA-seq to spatial technology,\n",
    "#                         # this reflects your belief about the sensitivity of the technology in you experiment\n",
    "#                         'mean': 1/2,\n",
    "#                         # Prior on how much individual genes differ from that average,\n",
    "#                         # a good choice of this value should be lower that the mean\n",
    "#                         'sd': 1/4\n",
    "#                     }\n",
    "#       }\n",
    "# )\n"
   ]
  },
  {
   "cell_type": "code",
   "execution_count": 5,
   "metadata": {},
   "outputs": [],
   "source": [
    "path = '/nfs/team292/lg18/endometriosis/data/visium/cell2location/'\n",
    "\n",
    "Vsamples = {\n",
    "            'FX0028':['UA_HUTER_sp_10879894'],\n",
    "            'FX1101': ['UA_HUTER_sp_10879892'],\n",
    "            'FX0033':['UA_HUTER_sp_10879893'],\n",
    "            'FX0060':['UA_HUTER_sp_10879895'],\n",
    "            'A30':['152807', '152811'],\n",
    "            'A13':['152806', '152810'],\n",
    "            'donorY_lesion':['HCA_ENDO_sp13458406', 'HCA_ENDO_sp13458407'],\n",
    "            'donorX_lesion':['UA_Endo13041816', 'UA_Endo13041817']}\n",
    "            "
   ]
  },
  {
   "cell_type": "code",
   "execution_count": 6,
   "metadata": {},
   "outputs": [
    {
     "name": "stdout",
     "output_type": "stream",
     "text": [
      "FX0028\n",
      "Reading Visium data in anndata format in anndata format\n",
      "Reading scRNA data in anndata format\n",
      "Subset to shared genes\n",
      "Format raw\n",
      "Running cell2location ... \n",
      "### Summarising single cell clusters ###\n",
      "### Creating model ### - time 0.2 min\n",
      "### Analysis name: LocationModelLinearDependentWMultiExperiment_1experiments_27clusters_4346locations_17366genesFX0028\n",
      "### Training model ###\n"
     ]
    },
    {
     "data": {
      "text/html": [
       "\n",
       "    <div>\n",
       "        <style>\n",
       "            /* Turns off some styling */\n",
       "            progress {\n",
       "                /* gets rid of default border in Firefox and Opera. */\n",
       "                border: none;\n",
       "                /* Needs to be in here for Safari polyfill so background images work as expected. */\n",
       "                background-size: auto;\n",
       "            }\n",
       "            .progress-bar-interrupted, .progress-bar-interrupted::-webkit-progress-bar {\n",
       "                background: #F44336;\n",
       "            }\n",
       "        </style>\n",
       "      <progress value='30000' class='' max='30000' style='width:300px; height:20px; vertical-align: middle;'></progress>\n",
       "      100.00% [30000/30000 21:25<00:00 Average Loss = 4.9502e+07]\n",
       "    </div>\n",
       "    "
      ],
      "text/plain": [
       "<IPython.core.display.HTML object>"
      ]
     },
     "metadata": {},
     "output_type": "display_data"
    },
    {
     "name": "stderr",
     "output_type": "stream",
     "text": [
      "Finished [100%]: Average Loss = 4.9502e+07\n"
     ]
    },
    {
     "name": "stdout",
     "output_type": "stream",
     "text": [
      "[<matplotlib.lines.Line2D object at 0x7fa52ca53310>]\n"
     ]
    },
    {
     "data": {
      "text/html": [
       "\n",
       "    <div>\n",
       "        <style>\n",
       "            /* Turns off some styling */\n",
       "            progress {\n",
       "                /* gets rid of default border in Firefox and Opera. */\n",
       "                border: none;\n",
       "                /* Needs to be in here for Safari polyfill so background images work as expected. */\n",
       "                background-size: auto;\n",
       "            }\n",
       "            .progress-bar-interrupted, .progress-bar-interrupted::-webkit-progress-bar {\n",
       "                background: #F44336;\n",
       "            }\n",
       "        </style>\n",
       "      <progress value='30000' class='' max='30000' style='width:300px; height:20px; vertical-align: middle;'></progress>\n",
       "      100.00% [30000/30000 20:49<00:00 Average Loss = 4.9496e+07]\n",
       "    </div>\n",
       "    "
      ],
      "text/plain": [
       "<IPython.core.display.HTML object>"
      ]
     },
     "metadata": {},
     "output_type": "display_data"
    },
    {
     "name": "stderr",
     "output_type": "stream",
     "text": [
      "Finished [100%]: Average Loss = 4.9496e+07\n"
     ]
    },
    {
     "name": "stdout",
     "output_type": "stream",
     "text": [
      "[<matplotlib.lines.Line2D object at 0x7fa217af03d0>]\n"
     ]
    },
    {
     "data": {
      "application/vnd.jupyter.widget-view+json": {
       "model_id": "3ed95b4e99454ea9ad19ec5d0d36d2a5",
       "version_major": 2,
       "version_minor": 0
      },
      "text/plain": [
       "  0%|          | 0/24 [00:00<?, ?it/s]"
      ]
     },
     "metadata": {},
     "output_type": "display_data"
    },
    {
     "data": {
      "application/vnd.jupyter.widget-view+json": {
       "model_id": "808fd4f34f4b4a0192e265e25e0ae811",
       "version_major": 2,
       "version_minor": 0
      },
      "text/plain": [
       "  0%|          | 0/24 [00:00<?, ?it/s]"
      ]
     },
     "metadata": {},
     "output_type": "display_data"
    },
    {
     "name": "stderr",
     "output_type": "stream",
     "text": [
      "/opt/conda/envs/cellpymc/lib/python3.7/site-packages/cell2location/models/base/pymc3_model.py:449: MatplotlibDeprecationWarning: Passing non-integers as three-element position specification is deprecated since 3.3 and will be removed two minor releases later.\n",
      "/opt/conda/envs/cellpymc/lib/python3.7/site-packages/cell2location/models/base/pymc3_model.py:450: MatplotlibDeprecationWarning: Passing non-integers as three-element position specification is deprecated since 3.3 and will be removed two minor releases later.\n"
     ]
    },
    {
     "name": "stdout",
     "output_type": "stream",
     "text": [
      "### Sampling posterior ### - time 52.3 min\n"
     ]
    },
    {
     "data": {
      "application/vnd.jupyter.widget-view+json": {
       "model_id": "17611687e15e4d0bb3f634cdd541a9f7",
       "version_major": 2,
       "version_minor": 0
      },
      "text/plain": [
       "  0%|          | 0/24 [00:00<?, ?it/s]"
      ]
     },
     "metadata": {},
     "output_type": "display_data"
    },
    {
     "name": "stdout",
     "output_type": "stream",
     "text": [
      "### Saving results ###\n"
     ]
    },
    {
     "name": "stderr",
     "output_type": "stream",
     "text": [
      "/opt/conda/envs/cellpymc/lib/python3.7/site-packages/pandas/core/frame.py:3636: PerformanceWarning: DataFrame is highly fragmented.  This is usually the result of calling `frame.insert` many times, which has poor performance.  Consider joining all columns at once using pd.concat(axis=1) instead.  To get a de-fragmented frame, use `newframe = frame.copy()`\n"
     ]
    },
    {
     "name": "stdout",
     "output_type": "stream",
     "text": [
      "### Ploting results ###\n",
      "[<matplotlib.lines.Line2D object at 0x7f9f1aa74ed0>]\n",
      "[<matplotlib.lines.Line2D object at 0x7f9f1aaa1f90>]\n",
      "[<matplotlib.lines.Line2D object at 0x7f9f022e9510>]\n",
      "[<matplotlib.lines.Line2D object at 0x7f9f022e9050>]\n",
      "### Plotting posterior of W / cell locations ###\n",
      "Some error in plotting with scanpy or `cell2location.plt.plot_factor_spatial()`\n",
      " TypeError(\"can't multiply sequence by non-int of type 'float'\")\n",
      "### Done ### - time 53.91 min\n",
      "FX1101\n",
      "Reading Visium data in anndata format in anndata format\n",
      "Reading scRNA data in anndata format\n",
      "Subset to shared genes\n",
      "Format raw\n",
      "Running cell2location ... \n",
      "### Summarising single cell clusters ###\n",
      "### Creating model ### - time 0.12 min\n",
      "### Analysis name: LocationModelLinearDependentWMultiExperiment_1experiments_27clusters_1324locations_17366genesFX1101\n",
      "### Training model ###\n"
     ]
    },
    {
     "data": {
      "text/html": [
       "\n",
       "    <div>\n",
       "        <style>\n",
       "            /* Turns off some styling */\n",
       "            progress {\n",
       "                /* gets rid of default border in Firefox and Opera. */\n",
       "                border: none;\n",
       "                /* Needs to be in here for Safari polyfill so background images work as expected. */\n",
       "                background-size: auto;\n",
       "            }\n",
       "            .progress-bar-interrupted, .progress-bar-interrupted::-webkit-progress-bar {\n",
       "                background: #F44336;\n",
       "            }\n",
       "        </style>\n",
       "      <progress value='30000' class='' max='30000' style='width:300px; height:20px; vertical-align: middle;'></progress>\n",
       "      100.00% [30000/30000 07:37<00:00 Average Loss = 1.454e+07]\n",
       "    </div>\n",
       "    "
      ],
      "text/plain": [
       "<IPython.core.display.HTML object>"
      ]
     },
     "metadata": {},
     "output_type": "display_data"
    },
    {
     "name": "stderr",
     "output_type": "stream",
     "text": [
      "Finished [100%]: Average Loss = 1.454e+07\n"
     ]
    },
    {
     "name": "stdout",
     "output_type": "stream",
     "text": [
      "[<matplotlib.lines.Line2D object at 0x7f9f1b053d50>]\n"
     ]
    },
    {
     "data": {
      "text/html": [
       "\n",
       "    <div>\n",
       "        <style>\n",
       "            /* Turns off some styling */\n",
       "            progress {\n",
       "                /* gets rid of default border in Firefox and Opera. */\n",
       "                border: none;\n",
       "                /* Needs to be in here for Safari polyfill so background images work as expected. */\n",
       "                background-size: auto;\n",
       "            }\n",
       "            .progress-bar-interrupted, .progress-bar-interrupted::-webkit-progress-bar {\n",
       "                background: #F44336;\n",
       "            }\n",
       "        </style>\n",
       "      <progress value='30000' class='' max='30000' style='width:300px; height:20px; vertical-align: middle;'></progress>\n",
       "      100.00% [30000/30000 07:36<00:00 Average Loss = 1.454e+07]\n",
       "    </div>\n",
       "    "
      ],
      "text/plain": [
       "<IPython.core.display.HTML object>"
      ]
     },
     "metadata": {},
     "output_type": "display_data"
    },
    {
     "name": "stderr",
     "output_type": "stream",
     "text": [
      "Finished [100%]: Average Loss = 1.454e+07\n"
     ]
    },
    {
     "name": "stdout",
     "output_type": "stream",
     "text": [
      "[<matplotlib.lines.Line2D object at 0x7fac5ce8f6d0>]\n"
     ]
    },
    {
     "data": {
      "application/vnd.jupyter.widget-view+json": {
       "model_id": "7243cb0994e84e6580f503742c2925b7",
       "version_major": 2,
       "version_minor": 0
      },
      "text/plain": [
       "  0%|          | 0/24 [00:00<?, ?it/s]"
      ]
     },
     "metadata": {},
     "output_type": "display_data"
    },
    {
     "data": {
      "application/vnd.jupyter.widget-view+json": {
       "model_id": "b3b33e28b3504ceeb05c4dcd357cf362",
       "version_major": 2,
       "version_minor": 0
      },
      "text/plain": [
       "  0%|          | 0/24 [00:00<?, ?it/s]"
      ]
     },
     "metadata": {},
     "output_type": "display_data"
    },
    {
     "name": "stderr",
     "output_type": "stream",
     "text": [
      "/opt/conda/envs/cellpymc/lib/python3.7/site-packages/cell2location/models/base/pymc3_model.py:449: MatplotlibDeprecationWarning: Passing non-integers as three-element position specification is deprecated since 3.3 and will be removed two minor releases later.\n",
      "/opt/conda/envs/cellpymc/lib/python3.7/site-packages/cell2location/models/base/pymc3_model.py:450: MatplotlibDeprecationWarning: Passing non-integers as three-element position specification is deprecated since 3.3 and will be removed two minor releases later.\n"
     ]
    },
    {
     "name": "stdout",
     "output_type": "stream",
     "text": [
      "### Sampling posterior ### - time 16.19 min\n"
     ]
    },
    {
     "data": {
      "application/vnd.jupyter.widget-view+json": {
       "model_id": "8f4ddb85b53f45feaa84c6128d8f2ec9",
       "version_major": 2,
       "version_minor": 0
      },
      "text/plain": [
       "  0%|          | 0/24 [00:00<?, ?it/s]"
      ]
     },
     "metadata": {},
     "output_type": "display_data"
    },
    {
     "name": "stdout",
     "output_type": "stream",
     "text": [
      "### Saving results ###\n"
     ]
    },
    {
     "name": "stderr",
     "output_type": "stream",
     "text": [
      "/opt/conda/envs/cellpymc/lib/python3.7/site-packages/pandas/core/frame.py:3636: PerformanceWarning: DataFrame is highly fragmented.  This is usually the result of calling `frame.insert` many times, which has poor performance.  Consider joining all columns at once using pd.concat(axis=1) instead.  To get a de-fragmented frame, use `newframe = frame.copy()`\n"
     ]
    },
    {
     "name": "stdout",
     "output_type": "stream",
     "text": [
      "### Ploting results ###\n",
      "[<matplotlib.lines.Line2D object at 0x7fa9f1b3bb90>]\n",
      "[<matplotlib.lines.Line2D object at 0x7fa9f1b31610>]\n",
      "[<matplotlib.lines.Line2D object at 0x7faa3339b6d0>]\n",
      "[<matplotlib.lines.Line2D object at 0x7fa9f195bb50>]\n",
      "### Plotting posterior of W / cell locations ###\n",
      "Some error in plotting with scanpy or `cell2location.plt.plot_factor_spatial()`\n",
      " TypeError(\"can't multiply sequence by non-int of type 'float'\")\n",
      "### Done ### - time 16.97 min\n",
      "FX0033\n",
      "Reading Visium data in anndata format in anndata format\n",
      "Reading scRNA data in anndata format\n",
      "Subset to shared genes\n",
      "Format raw\n",
      "Running cell2location ... \n",
      "### Summarising single cell clusters ###\n",
      "### Creating model ### - time 0.13 min\n",
      "### Analysis name: LocationModelLinearDependentWMultiExperiment_1experiments_27clusters_3854locations_17366genesFX0033\n",
      "### Training model ###\n"
     ]
    },
    {
     "data": {
      "text/html": [
       "\n",
       "    <div>\n",
       "        <style>\n",
       "            /* Turns off some styling */\n",
       "            progress {\n",
       "                /* gets rid of default border in Firefox and Opera. */\n",
       "                border: none;\n",
       "                /* Needs to be in here for Safari polyfill so background images work as expected. */\n",
       "                background-size: auto;\n",
       "            }\n",
       "            .progress-bar-interrupted, .progress-bar-interrupted::-webkit-progress-bar {\n",
       "                background: #F44336;\n",
       "            }\n",
       "        </style>\n",
       "      <progress value='30000' class='' max='30000' style='width:300px; height:20px; vertical-align: middle;'></progress>\n",
       "      100.00% [30000/30000 18:43<00:00 Average Loss = 4.8103e+07]\n",
       "    </div>\n",
       "    "
      ],
      "text/plain": [
       "<IPython.core.display.HTML object>"
      ]
     },
     "metadata": {},
     "output_type": "display_data"
    },
    {
     "name": "stderr",
     "output_type": "stream",
     "text": [
      "Finished [100%]: Average Loss = 4.8103e+07\n"
     ]
    },
    {
     "name": "stdout",
     "output_type": "stream",
     "text": [
      "[<matplotlib.lines.Line2D object at 0x7fa216b977d0>]\n"
     ]
    },
    {
     "data": {
      "text/html": [
       "\n",
       "    <div>\n",
       "        <style>\n",
       "            /* Turns off some styling */\n",
       "            progress {\n",
       "                /* gets rid of default border in Firefox and Opera. */\n",
       "                border: none;\n",
       "                /* Needs to be in here for Safari polyfill so background images work as expected. */\n",
       "                background-size: auto;\n",
       "            }\n",
       "            .progress-bar-interrupted, .progress-bar-interrupted::-webkit-progress-bar {\n",
       "                background: #F44336;\n",
       "            }\n",
       "        </style>\n",
       "      <progress value='30000' class='' max='30000' style='width:300px; height:20px; vertical-align: middle;'></progress>\n",
       "      100.00% [30000/30000 18:43<00:00 Average Loss = 4.8109e+07]\n",
       "    </div>\n",
       "    "
      ],
      "text/plain": [
       "<IPython.core.display.HTML object>"
      ]
     },
     "metadata": {},
     "output_type": "display_data"
    },
    {
     "name": "stderr",
     "output_type": "stream",
     "text": [
      "Finished [100%]: Average Loss = 4.8109e+07\n"
     ]
    },
    {
     "name": "stdout",
     "output_type": "stream",
     "text": [
      "[<matplotlib.lines.Line2D object at 0x7fa5425c3210>]\n"
     ]
    },
    {
     "data": {
      "application/vnd.jupyter.widget-view+json": {
       "model_id": "12ab342e78f148dcbb9a467b1223a623",
       "version_major": 2,
       "version_minor": 0
      },
      "text/plain": [
       "  0%|          | 0/24 [00:00<?, ?it/s]"
      ]
     },
     "metadata": {},
     "output_type": "display_data"
    },
    {
     "data": {
      "application/vnd.jupyter.widget-view+json": {
       "model_id": "a2e4648a839c450c8fa83e8a8105ebbf",
       "version_major": 2,
       "version_minor": 0
      },
      "text/plain": [
       "  0%|          | 0/24 [00:00<?, ?it/s]"
      ]
     },
     "metadata": {},
     "output_type": "display_data"
    },
    {
     "name": "stderr",
     "output_type": "stream",
     "text": [
      "/opt/conda/envs/cellpymc/lib/python3.7/site-packages/cell2location/models/base/pymc3_model.py:449: MatplotlibDeprecationWarning: Passing non-integers as three-element position specification is deprecated since 3.3 and will be removed two minor releases later.\n",
      "/opt/conda/envs/cellpymc/lib/python3.7/site-packages/cell2location/models/base/pymc3_model.py:450: MatplotlibDeprecationWarning: Passing non-integers as three-element position specification is deprecated since 3.3 and will be removed two minor releases later.\n"
     ]
    },
    {
     "name": "stdout",
     "output_type": "stream",
     "text": [
      "### Sampling posterior ### - time 38.78 min\n"
     ]
    },
    {
     "data": {
      "application/vnd.jupyter.widget-view+json": {
       "model_id": "71373fde6351453c90cc6dede6952643",
       "version_major": 2,
       "version_minor": 0
      },
      "text/plain": [
       "  0%|          | 0/24 [00:00<?, ?it/s]"
      ]
     },
     "metadata": {},
     "output_type": "display_data"
    },
    {
     "name": "stdout",
     "output_type": "stream",
     "text": [
      "### Saving results ###\n"
     ]
    },
    {
     "name": "stderr",
     "output_type": "stream",
     "text": [
      "/opt/conda/envs/cellpymc/lib/python3.7/site-packages/pandas/core/frame.py:3636: PerformanceWarning: DataFrame is highly fragmented.  This is usually the result of calling `frame.insert` many times, which has poor performance.  Consider joining all columns at once using pd.concat(axis=1) instead.  To get a de-fragmented frame, use `newframe = frame.copy()`\n"
     ]
    },
    {
     "name": "stdout",
     "output_type": "stream",
     "text": [
      "### Ploting results ###\n",
      "[<matplotlib.lines.Line2D object at 0x7fa81f463e10>]\n",
      "[<matplotlib.lines.Line2D object at 0x7fa5432fac90>]\n",
      "[<matplotlib.lines.Line2D object at 0x7fa542343b90>]\n",
      "[<matplotlib.lines.Line2D object at 0x7fa54258d2d0>]\n",
      "### Plotting posterior of W / cell locations ###\n",
      "Some error in plotting with scanpy or `cell2location.plt.plot_factor_spatial()`\n",
      " TypeError(\"can't multiply sequence by non-int of type 'float'\")\n",
      "### Done ### - time 40.15 min\n",
      "FX0060\n",
      "Reading Visium data in anndata format in anndata format\n",
      "Reading scRNA data in anndata format\n",
      "Subset to shared genes\n",
      "Format raw\n",
      "Running cell2location ... \n",
      "### Summarising single cell clusters ###\n",
      "### Creating model ### - time 0.13 min\n",
      "### Analysis name: LocationModelLinearDependentWMultiExperiment_1experiments_27clusters_3038locations_17366genesFX0060\n",
      "### Training model ###\n"
     ]
    },
    {
     "data": {
      "text/html": [
       "\n",
       "    <div>\n",
       "        <style>\n",
       "            /* Turns off some styling */\n",
       "            progress {\n",
       "                /* gets rid of default border in Firefox and Opera. */\n",
       "                border: none;\n",
       "                /* Needs to be in here for Safari polyfill so background images work as expected. */\n",
       "                background-size: auto;\n",
       "            }\n",
       "            .progress-bar-interrupted, .progress-bar-interrupted::-webkit-progress-bar {\n",
       "                background: #F44336;\n",
       "            }\n",
       "        </style>\n",
       "      <progress value='30000' class='' max='30000' style='width:300px; height:20px; vertical-align: middle;'></progress>\n",
       "      100.00% [30000/30000 14:57<00:00 Average Loss = 4.0618e+07]\n",
       "    </div>\n",
       "    "
      ],
      "text/plain": [
       "<IPython.core.display.HTML object>"
      ]
     },
     "metadata": {},
     "output_type": "display_data"
    },
    {
     "name": "stderr",
     "output_type": "stream",
     "text": [
      "Finished [100%]: Average Loss = 4.0618e+07\n"
     ]
    },
    {
     "name": "stdout",
     "output_type": "stream",
     "text": [
      "[<matplotlib.lines.Line2D object at 0x7fa81cdd6a50>]\n"
     ]
    },
    {
     "data": {
      "text/html": [
       "\n",
       "    <div>\n",
       "        <style>\n",
       "            /* Turns off some styling */\n",
       "            progress {\n",
       "                /* gets rid of default border in Firefox and Opera. */\n",
       "                border: none;\n",
       "                /* Needs to be in here for Safari polyfill so background images work as expected. */\n",
       "                background-size: auto;\n",
       "            }\n",
       "            .progress-bar-interrupted, .progress-bar-interrupted::-webkit-progress-bar {\n",
       "                background: #F44336;\n",
       "            }\n",
       "        </style>\n",
       "      <progress value='30000' class='' max='30000' style='width:300px; height:20px; vertical-align: middle;'></progress>\n",
       "      100.00% [30000/30000 14:57<00:00 Average Loss = 4.0618e+07]\n",
       "    </div>\n",
       "    "
      ],
      "text/plain": [
       "<IPython.core.display.HTML object>"
      ]
     },
     "metadata": {},
     "output_type": "display_data"
    },
    {
     "name": "stderr",
     "output_type": "stream",
     "text": [
      "Finished [100%]: Average Loss = 4.0618e+07\n"
     ]
    },
    {
     "name": "stdout",
     "output_type": "stream",
     "text": [
      "[<matplotlib.lines.Line2D object at 0x7fac5d4f9290>]\n"
     ]
    },
    {
     "data": {
      "application/vnd.jupyter.widget-view+json": {
       "model_id": "3807be8d31ba4a52b135579b667e81a6",
       "version_major": 2,
       "version_minor": 0
      },
      "text/plain": [
       "  0%|          | 0/24 [00:00<?, ?it/s]"
      ]
     },
     "metadata": {},
     "output_type": "display_data"
    },
    {
     "data": {
      "application/vnd.jupyter.widget-view+json": {
       "model_id": "5ba4e10a9ff740e09a47e0478a0c411e",
       "version_major": 2,
       "version_minor": 0
      },
      "text/plain": [
       "  0%|          | 0/24 [00:00<?, ?it/s]"
      ]
     },
     "metadata": {},
     "output_type": "display_data"
    },
    {
     "name": "stderr",
     "output_type": "stream",
     "text": [
      "/opt/conda/envs/cellpymc/lib/python3.7/site-packages/cell2location/models/base/pymc3_model.py:449: MatplotlibDeprecationWarning: Passing non-integers as three-element position specification is deprecated since 3.3 and will be removed two minor releases later.\n",
      "/opt/conda/envs/cellpymc/lib/python3.7/site-packages/cell2location/models/base/pymc3_model.py:450: MatplotlibDeprecationWarning: Passing non-integers as three-element position specification is deprecated since 3.3 and will be removed two minor releases later.\n"
     ]
    },
    {
     "name": "stdout",
     "output_type": "stream",
     "text": [
      "### Sampling posterior ### - time 31.11 min\n"
     ]
    },
    {
     "data": {
      "application/vnd.jupyter.widget-view+json": {
       "model_id": "3daf07b88d864e729c2f7c4c33c15567",
       "version_major": 2,
       "version_minor": 0
      },
      "text/plain": [
       "  0%|          | 0/24 [00:00<?, ?it/s]"
      ]
     },
     "metadata": {},
     "output_type": "display_data"
    },
    {
     "name": "stdout",
     "output_type": "stream",
     "text": [
      "### Saving results ###\n"
     ]
    },
    {
     "name": "stderr",
     "output_type": "stream",
     "text": [
      "/opt/conda/envs/cellpymc/lib/python3.7/site-packages/pandas/core/frame.py:3636: PerformanceWarning: DataFrame is highly fragmented.  This is usually the result of calling `frame.insert` many times, which has poor performance.  Consider joining all columns at once using pd.concat(axis=1) instead.  To get a de-fragmented frame, use `newframe = frame.copy()`\n"
     ]
    },
    {
     "name": "stdout",
     "output_type": "stream",
     "text": [
      "### Ploting results ###\n",
      "[<matplotlib.lines.Line2D object at 0x7fa895a59910>]\n",
      "[<matplotlib.lines.Line2D object at 0x7fa895a5c8d0>]\n",
      "[<matplotlib.lines.Line2D object at 0x7fa895a37710>]\n",
      "[<matplotlib.lines.Line2D object at 0x7fa895a37250>]\n",
      "### Plotting posterior of W / cell locations ###\n",
      "Some error in plotting with scanpy or `cell2location.plt.plot_factor_spatial()`\n",
      " TypeError(\"can't multiply sequence by non-int of type 'float'\")\n",
      "### Done ### - time 32.21 min\n",
      "A30\n",
      "Reading Visium data in anndata format in anndata format\n",
      "Reading scRNA data in anndata format\n",
      "Subset to shared genes\n",
      "Format raw\n",
      "Running cell2location ... \n",
      "### Summarising single cell clusters ###\n",
      "### Creating model ### - time 0.12 min\n",
      "### Analysis name: LocationModelLinearDependentWMultiExperiment_2experiments_27clusters_7274locations_17336genesA30\n",
      "### Training model ###\n"
     ]
    },
    {
     "data": {
      "text/html": [
       "\n",
       "    <div>\n",
       "        <style>\n",
       "            /* Turns off some styling */\n",
       "            progress {\n",
       "                /* gets rid of default border in Firefox and Opera. */\n",
       "                border: none;\n",
       "                /* Needs to be in here for Safari polyfill so background images work as expected. */\n",
       "                background-size: auto;\n",
       "            }\n",
       "            .progress-bar-interrupted, .progress-bar-interrupted::-webkit-progress-bar {\n",
       "                background: #F44336;\n",
       "            }\n",
       "        </style>\n",
       "      <progress value='30000' class='' max='30000' style='width:300px; height:20px; vertical-align: middle;'></progress>\n",
       "      100.00% [30000/30000 34:23<00:00 Average Loss = 3.8396e+07]\n",
       "    </div>\n",
       "    "
      ],
      "text/plain": [
       "<IPython.core.display.HTML object>"
      ]
     },
     "metadata": {},
     "output_type": "display_data"
    },
    {
     "name": "stderr",
     "output_type": "stream",
     "text": [
      "Finished [100%]: Average Loss = 3.8396e+07\n"
     ]
    },
    {
     "name": "stdout",
     "output_type": "stream",
     "text": [
      "[<matplotlib.lines.Line2D object at 0x7f9f1aafb150>]\n"
     ]
    },
    {
     "data": {
      "text/html": [
       "\n",
       "    <div>\n",
       "        <style>\n",
       "            /* Turns off some styling */\n",
       "            progress {\n",
       "                /* gets rid of default border in Firefox and Opera. */\n",
       "                border: none;\n",
       "                /* Needs to be in here for Safari polyfill so background images work as expected. */\n",
       "                background-size: auto;\n",
       "            }\n",
       "            .progress-bar-interrupted, .progress-bar-interrupted::-webkit-progress-bar {\n",
       "                background: #F44336;\n",
       "            }\n",
       "        </style>\n",
       "      <progress value='30000' class='' max='30000' style='width:300px; height:20px; vertical-align: middle;'></progress>\n",
       "      100.00% [30000/30000 34:22<00:00 Average Loss = 3.8397e+07]\n",
       "    </div>\n",
       "    "
      ],
      "text/plain": [
       "<IPython.core.display.HTML object>"
      ]
     },
     "metadata": {},
     "output_type": "display_data"
    },
    {
     "name": "stderr",
     "output_type": "stream",
     "text": [
      "Finished [100%]: Average Loss = 3.8397e+07\n"
     ]
    },
    {
     "name": "stdout",
     "output_type": "stream",
     "text": [
      "[<matplotlib.lines.Line2D object at 0x7f9f1abcff90>]\n"
     ]
    },
    {
     "data": {
      "application/vnd.jupyter.widget-view+json": {
       "model_id": "c5bfe90a43664558ba8f177167cbc58c",
       "version_major": 2,
       "version_minor": 0
      },
      "text/plain": [
       "  0%|          | 0/24 [00:00<?, ?it/s]"
      ]
     },
     "metadata": {},
     "output_type": "display_data"
    },
    {
     "data": {
      "application/vnd.jupyter.widget-view+json": {
       "model_id": "dc40269442d0489f83dc8cf6ac65331a",
       "version_major": 2,
       "version_minor": 0
      },
      "text/plain": [
       "  0%|          | 0/24 [00:00<?, ?it/s]"
      ]
     },
     "metadata": {},
     "output_type": "display_data"
    },
    {
     "name": "stderr",
     "output_type": "stream",
     "text": [
      "/opt/conda/envs/cellpymc/lib/python3.7/site-packages/cell2location/models/base/pymc3_model.py:449: MatplotlibDeprecationWarning: Passing non-integers as three-element position specification is deprecated since 3.3 and will be removed two minor releases later.\n",
      "/opt/conda/envs/cellpymc/lib/python3.7/site-packages/cell2location/models/base/pymc3_model.py:450: MatplotlibDeprecationWarning: Passing non-integers as three-element position specification is deprecated since 3.3 and will be removed two minor releases later.\n"
     ]
    },
    {
     "name": "stdout",
     "output_type": "stream",
     "text": [
      "### Sampling posterior ### - time 70.71 min\n"
     ]
    },
    {
     "data": {
      "application/vnd.jupyter.widget-view+json": {
       "model_id": "7d6877e174d24f09b0cd5f8d77ca09cf",
       "version_major": 2,
       "version_minor": 0
      },
      "text/plain": [
       "  0%|          | 0/24 [00:00<?, ?it/s]"
      ]
     },
     "metadata": {},
     "output_type": "display_data"
    },
    {
     "name": "stdout",
     "output_type": "stream",
     "text": [
      "### Saving results ###\n"
     ]
    },
    {
     "name": "stderr",
     "output_type": "stream",
     "text": [
      "/opt/conda/envs/cellpymc/lib/python3.7/site-packages/pandas/core/frame.py:3636: PerformanceWarning: DataFrame is highly fragmented.  This is usually the result of calling `frame.insert` many times, which has poor performance.  Consider joining all columns at once using pd.concat(axis=1) instead.  To get a de-fragmented frame, use `newframe = frame.copy()`\n"
     ]
    },
    {
     "name": "stdout",
     "output_type": "stream",
     "text": [
      "### Ploting results ###\n",
      "[<matplotlib.lines.Line2D object at 0x7fa81f21a850>]\n",
      "[<matplotlib.lines.Line2D object at 0x7f9ba1b04810>]\n",
      "[<matplotlib.lines.Line2D object at 0x7fa217a3f4d0>]\n",
      "[<matplotlib.lines.Line2D object at 0x7faa327f2990>]\n",
      "### Plotting posterior of W / cell locations ###\n",
      "### Done ### - time 76.11 min\n",
      "A13\n",
      "Reading Visium data in anndata format in anndata format\n",
      "Reading scRNA data in anndata format\n",
      "Subset to shared genes\n",
      "Format raw\n",
      "Running cell2location ... \n",
      "### Summarising single cell clusters ###\n",
      "### Creating model ### - time 0.14 min\n",
      "### Analysis name: LocationModelLinearDependentWMultiExperiment_2experiments_27clusters_7356locations_17336genesA13\n",
      "### Training model ###\n"
     ]
    },
    {
     "data": {
      "text/html": [
       "\n",
       "    <div>\n",
       "        <style>\n",
       "            /* Turns off some styling */\n",
       "            progress {\n",
       "                /* gets rid of default border in Firefox and Opera. */\n",
       "                border: none;\n",
       "                /* Needs to be in here for Safari polyfill so background images work as expected. */\n",
       "                background-size: auto;\n",
       "            }\n",
       "            .progress-bar-interrupted, .progress-bar-interrupted::-webkit-progress-bar {\n",
       "                background: #F44336;\n",
       "            }\n",
       "        </style>\n",
       "      <progress value='30000' class='' max='30000' style='width:300px; height:20px; vertical-align: middle;'></progress>\n",
       "      100.00% [30000/30000 34:57<00:00 Average Loss = 5.2613e+07]\n",
       "    </div>\n",
       "    "
      ],
      "text/plain": [
       "<IPython.core.display.HTML object>"
      ]
     },
     "metadata": {},
     "output_type": "display_data"
    },
    {
     "name": "stderr",
     "output_type": "stream",
     "text": [
      "Finished [100%]: Average Loss = 5.2613e+07\n"
     ]
    },
    {
     "name": "stdout",
     "output_type": "stream",
     "text": [
      "[<matplotlib.lines.Line2D object at 0x7faa31a2d350>]\n"
     ]
    },
    {
     "data": {
      "text/html": [
       "\n",
       "    <div>\n",
       "        <style>\n",
       "            /* Turns off some styling */\n",
       "            progress {\n",
       "                /* gets rid of default border in Firefox and Opera. */\n",
       "                border: none;\n",
       "                /* Needs to be in here for Safari polyfill so background images work as expected. */\n",
       "                background-size: auto;\n",
       "            }\n",
       "            .progress-bar-interrupted, .progress-bar-interrupted::-webkit-progress-bar {\n",
       "                background: #F44336;\n",
       "            }\n",
       "        </style>\n",
       "      <progress value='30000' class='' max='30000' style='width:300px; height:20px; vertical-align: middle;'></progress>\n",
       "      100.00% [30000/30000 34:57<00:00 Average Loss = 5.2627e+07]\n",
       "    </div>\n",
       "    "
      ],
      "text/plain": [
       "<IPython.core.display.HTML object>"
      ]
     },
     "metadata": {},
     "output_type": "display_data"
    },
    {
     "name": "stderr",
     "output_type": "stream",
     "text": [
      "Finished [100%]: Average Loss = 5.2627e+07\n"
     ]
    },
    {
     "name": "stdout",
     "output_type": "stream",
     "text": [
      "[<matplotlib.lines.Line2D object at 0x7fa52f8e6d10>]\n"
     ]
    },
    {
     "data": {
      "application/vnd.jupyter.widget-view+json": {
       "model_id": "c5166f6a9c654a6a8b80ffb44296ad3c",
       "version_major": 2,
       "version_minor": 0
      },
      "text/plain": [
       "  0%|          | 0/24 [00:00<?, ?it/s]"
      ]
     },
     "metadata": {},
     "output_type": "display_data"
    },
    {
     "data": {
      "application/vnd.jupyter.widget-view+json": {
       "model_id": "f25e4ab9f81e4c6789b9d35be0e2c162",
       "version_major": 2,
       "version_minor": 0
      },
      "text/plain": [
       "  0%|          | 0/24 [00:00<?, ?it/s]"
      ]
     },
     "metadata": {},
     "output_type": "display_data"
    },
    {
     "name": "stderr",
     "output_type": "stream",
     "text": [
      "/opt/conda/envs/cellpymc/lib/python3.7/site-packages/cell2location/models/base/pymc3_model.py:449: MatplotlibDeprecationWarning: Passing non-integers as three-element position specification is deprecated since 3.3 and will be removed two minor releases later.\n",
      "/opt/conda/envs/cellpymc/lib/python3.7/site-packages/cell2location/models/base/pymc3_model.py:450: MatplotlibDeprecationWarning: Passing non-integers as three-element position specification is deprecated since 3.3 and will be removed two minor releases later.\n"
     ]
    },
    {
     "name": "stdout",
     "output_type": "stream",
     "text": [
      "### Sampling posterior ### - time 71.81 min\n"
     ]
    },
    {
     "data": {
      "application/vnd.jupyter.widget-view+json": {
       "model_id": "40ee0c9c150c4b709761954d591e7e82",
       "version_major": 2,
       "version_minor": 0
      },
      "text/plain": [
       "  0%|          | 0/24 [00:00<?, ?it/s]"
      ]
     },
     "metadata": {},
     "output_type": "display_data"
    },
    {
     "name": "stdout",
     "output_type": "stream",
     "text": [
      "### Saving results ###\n"
     ]
    },
    {
     "name": "stderr",
     "output_type": "stream",
     "text": [
      "/opt/conda/envs/cellpymc/lib/python3.7/site-packages/pandas/core/frame.py:3636: PerformanceWarning: DataFrame is highly fragmented.  This is usually the result of calling `frame.insert` many times, which has poor performance.  Consider joining all columns at once using pd.concat(axis=1) instead.  To get a de-fragmented frame, use `newframe = frame.copy()`\n"
     ]
    },
    {
     "name": "stdout",
     "output_type": "stream",
     "text": [
      "### Ploting results ###\n",
      "[<matplotlib.lines.Line2D object at 0x7fac5a2c9350>]\n",
      "[<matplotlib.lines.Line2D object at 0x7fac5a2bdf90>]\n",
      "[<matplotlib.lines.Line2D object at 0x7fabb9b29bd0>]\n",
      "[<matplotlib.lines.Line2D object at 0x7fabb9b29ad0>]\n",
      "### Plotting posterior of W / cell locations ###\n",
      "### Done ### - time 77.26 min\n",
      "donorY_lesion\n",
      "Reading Visium data in anndata format in anndata format\n",
      "Reading scRNA data in anndata format\n",
      "Subset to shared genes\n",
      "Format raw\n",
      "Running cell2location ... \n",
      "### Summarising single cell clusters ###\n",
      "### Creating model ### - time 0.14 min\n",
      "### Analysis name: LocationModelLinearDependentWMultiExperiment_2experiments_27clusters_6402locations_14737genesdonorY_lesion\n",
      "### Training model ###\n"
     ]
    },
    {
     "data": {
      "text/html": [
       "\n",
       "    <div>\n",
       "        <style>\n",
       "            /* Turns off some styling */\n",
       "            progress {\n",
       "                /* gets rid of default border in Firefox and Opera. */\n",
       "                border: none;\n",
       "                /* Needs to be in here for Safari polyfill so background images work as expected. */\n",
       "                background-size: auto;\n",
       "            }\n",
       "            .progress-bar-interrupted, .progress-bar-interrupted::-webkit-progress-bar {\n",
       "                background: #F44336;\n",
       "            }\n",
       "        </style>\n",
       "      <progress value='30000' class='' max='30000' style='width:300px; height:20px; vertical-align: middle;'></progress>\n",
       "      100.00% [30000/30000 26:08<00:00 Average Loss = 9.5281e+07]\n",
       "    </div>\n",
       "    "
      ],
      "text/plain": [
       "<IPython.core.display.HTML object>"
      ]
     },
     "metadata": {},
     "output_type": "display_data"
    },
    {
     "name": "stderr",
     "output_type": "stream",
     "text": [
      "Finished [100%]: Average Loss = 9.5281e+07\n"
     ]
    },
    {
     "name": "stdout",
     "output_type": "stream",
     "text": [
      "[<matplotlib.lines.Line2D object at 0x7fa8188457d0>]\n"
     ]
    },
    {
     "data": {
      "text/html": [
       "\n",
       "    <div>\n",
       "        <style>\n",
       "            /* Turns off some styling */\n",
       "            progress {\n",
       "                /* gets rid of default border in Firefox and Opera. */\n",
       "                border: none;\n",
       "                /* Needs to be in here for Safari polyfill so background images work as expected. */\n",
       "                background-size: auto;\n",
       "            }\n",
       "            .progress-bar-interrupted, .progress-bar-interrupted::-webkit-progress-bar {\n",
       "                background: #F44336;\n",
       "            }\n",
       "        </style>\n",
       "      <progress value='30000' class='' max='30000' style='width:300px; height:20px; vertical-align: middle;'></progress>\n",
       "      100.00% [30000/30000 26:09<00:00 Average Loss = 9.5272e+07]\n",
       "    </div>\n",
       "    "
      ],
      "text/plain": [
       "<IPython.core.display.HTML object>"
      ]
     },
     "metadata": {},
     "output_type": "display_data"
    },
    {
     "name": "stderr",
     "output_type": "stream",
     "text": [
      "Finished [100%]: Average Loss = 9.5272e+07\n"
     ]
    },
    {
     "name": "stdout",
     "output_type": "stream",
     "text": [
      "[<matplotlib.lines.Line2D object at 0x7faa32922450>]\n"
     ]
    },
    {
     "data": {
      "application/vnd.jupyter.widget-view+json": {
       "model_id": "b2f53dfcfb014266bd15fe7b9cffa2fb",
       "version_major": 2,
       "version_minor": 0
      },
      "text/plain": [
       "  0%|          | 0/24 [00:00<?, ?it/s]"
      ]
     },
     "metadata": {},
     "output_type": "display_data"
    },
    {
     "data": {
      "application/vnd.jupyter.widget-view+json": {
       "model_id": "c217bb0927d44940bc1efc315c19601e",
       "version_major": 2,
       "version_minor": 0
      },
      "text/plain": [
       "  0%|          | 0/24 [00:00<?, ?it/s]"
      ]
     },
     "metadata": {},
     "output_type": "display_data"
    },
    {
     "name": "stderr",
     "output_type": "stream",
     "text": [
      "/opt/conda/envs/cellpymc/lib/python3.7/site-packages/cell2location/models/base/pymc3_model.py:449: MatplotlibDeprecationWarning: Passing non-integers as three-element position specification is deprecated since 3.3 and will be removed two minor releases later.\n",
      "/opt/conda/envs/cellpymc/lib/python3.7/site-packages/cell2location/models/base/pymc3_model.py:450: MatplotlibDeprecationWarning: Passing non-integers as three-element position specification is deprecated since 3.3 and will be removed two minor releases later.\n"
     ]
    },
    {
     "name": "stdout",
     "output_type": "stream",
     "text": [
      "### Sampling posterior ### - time 53.97 min\n"
     ]
    },
    {
     "data": {
      "application/vnd.jupyter.widget-view+json": {
       "model_id": "deba35eb2dff44b09bc3130daaf4bccb",
       "version_major": 2,
       "version_minor": 0
      },
      "text/plain": [
       "  0%|          | 0/24 [00:00<?, ?it/s]"
      ]
     },
     "metadata": {},
     "output_type": "display_data"
    },
    {
     "name": "stdout",
     "output_type": "stream",
     "text": [
      "### Saving results ###\n"
     ]
    },
    {
     "name": "stderr",
     "output_type": "stream",
     "text": [
      "/opt/conda/envs/cellpymc/lib/python3.7/site-packages/pandas/core/frame.py:3636: PerformanceWarning: DataFrame is highly fragmented.  This is usually the result of calling `frame.insert` many times, which has poor performance.  Consider joining all columns at once using pd.concat(axis=1) instead.  To get a de-fragmented frame, use `newframe = frame.copy()`\n"
     ]
    },
    {
     "name": "stdout",
     "output_type": "stream",
     "text": [
      "### Ploting results ###\n",
      "[<matplotlib.lines.Line2D object at 0x7fa530866a50>]\n",
      "[<matplotlib.lines.Line2D object at 0x7fa530866d10>]\n",
      "[<matplotlib.lines.Line2D object at 0x7fa821da45d0>]\n",
      "[<matplotlib.lines.Line2D object at 0x7fa821da46d0>]\n",
      "### Plotting posterior of W / cell locations ###\n",
      "Some error in plotting with scanpy or `cell2location.plt.plot_factor_spatial()`\n",
      " TypeError(\"can't multiply sequence by non-int of type 'float'\")\n",
      "### Done ### - time 55.95 min\n",
      "donorX_lesion\n",
      "Reading Visium data in anndata format in anndata format\n",
      "Reading scRNA data in anndata format\n",
      "Subset to shared genes\n",
      "Format raw\n",
      "Running cell2location ... \n",
      "### Summarising single cell clusters ###\n",
      "### Creating model ### - time 0.14 min\n",
      "### Analysis name: LocationModelLinearDependentWMultiExperiment_2experiments_27clusters_7801locations_14737genesdonorX_lesion\n",
      "### Training model ###\n"
     ]
    },
    {
     "data": {
      "text/html": [
       "\n",
       "    <div>\n",
       "        <style>\n",
       "            /* Turns off some styling */\n",
       "            progress {\n",
       "                /* gets rid of default border in Firefox and Opera. */\n",
       "                border: none;\n",
       "                /* Needs to be in here for Safari polyfill so background images work as expected. */\n",
       "                background-size: auto;\n",
       "            }\n",
       "            .progress-bar-interrupted, .progress-bar-interrupted::-webkit-progress-bar {\n",
       "                background: #F44336;\n",
       "            }\n",
       "        </style>\n",
       "      <progress value='30000' class='' max='30000' style='width:300px; height:20px; vertical-align: middle;'></progress>\n",
       "      100.00% [30000/30000 31:50<00:00 Average Loss = 3.0883e+07]\n",
       "    </div>\n",
       "    "
      ],
      "text/plain": [
       "<IPython.core.display.HTML object>"
      ]
     },
     "metadata": {},
     "output_type": "display_data"
    },
    {
     "name": "stderr",
     "output_type": "stream",
     "text": [
      "Finished [100%]: Average Loss = 3.0882e+07\n"
     ]
    },
    {
     "name": "stdout",
     "output_type": "stream",
     "text": [
      "[<matplotlib.lines.Line2D object at 0x7f9f1fcd5c50>]\n"
     ]
    },
    {
     "data": {
      "text/html": [
       "\n",
       "    <div>\n",
       "        <style>\n",
       "            /* Turns off some styling */\n",
       "            progress {\n",
       "                /* gets rid of default border in Firefox and Opera. */\n",
       "                border: none;\n",
       "                /* Needs to be in here for Safari polyfill so background images work as expected. */\n",
       "                background-size: auto;\n",
       "            }\n",
       "            .progress-bar-interrupted, .progress-bar-interrupted::-webkit-progress-bar {\n",
       "                background: #F44336;\n",
       "            }\n",
       "        </style>\n",
       "      <progress value='30000' class='' max='30000' style='width:300px; height:20px; vertical-align: middle;'></progress>\n",
       "      100.00% [30000/30000 31:51<00:00 Average Loss = 3.0882e+07]\n",
       "    </div>\n",
       "    "
      ],
      "text/plain": [
       "<IPython.core.display.HTML object>"
      ]
     },
     "metadata": {},
     "output_type": "display_data"
    },
    {
     "name": "stderr",
     "output_type": "stream",
     "text": [
      "Finished [100%]: Average Loss = 3.0882e+07\n"
     ]
    },
    {
     "name": "stdout",
     "output_type": "stream",
     "text": [
      "[<matplotlib.lines.Line2D object at 0x7f9f076d7710>]\n"
     ]
    },
    {
     "data": {
      "application/vnd.jupyter.widget-view+json": {
       "model_id": "af75c8cf8aa042c1856add58a75ad1a8",
       "version_major": 2,
       "version_minor": 0
      },
      "text/plain": [
       "  0%|          | 0/24 [00:00<?, ?it/s]"
      ]
     },
     "metadata": {},
     "output_type": "display_data"
    },
    {
     "data": {
      "application/vnd.jupyter.widget-view+json": {
       "model_id": "adabd160c8734870a291f082496ecf8c",
       "version_major": 2,
       "version_minor": 0
      },
      "text/plain": [
       "  0%|          | 0/24 [00:00<?, ?it/s]"
      ]
     },
     "metadata": {},
     "output_type": "display_data"
    },
    {
     "name": "stderr",
     "output_type": "stream",
     "text": [
      "/opt/conda/envs/cellpymc/lib/python3.7/site-packages/cell2location/models/base/pymc3_model.py:449: MatplotlibDeprecationWarning: Passing non-integers as three-element position specification is deprecated since 3.3 and will be removed two minor releases later.\n",
      "/opt/conda/envs/cellpymc/lib/python3.7/site-packages/cell2location/models/base/pymc3_model.py:450: MatplotlibDeprecationWarning: Passing non-integers as three-element position specification is deprecated since 3.3 and will be removed two minor releases later.\n"
     ]
    },
    {
     "name": "stdout",
     "output_type": "stream",
     "text": [
      "### Sampling posterior ### - time 65.42 min\n"
     ]
    },
    {
     "data": {
      "application/vnd.jupyter.widget-view+json": {
       "model_id": "2a08b77a3be141f0a0ba8477678add50",
       "version_major": 2,
       "version_minor": 0
      },
      "text/plain": [
       "  0%|          | 0/24 [00:00<?, ?it/s]"
      ]
     },
     "metadata": {},
     "output_type": "display_data"
    },
    {
     "name": "stdout",
     "output_type": "stream",
     "text": [
      "### Saving results ###\n"
     ]
    },
    {
     "name": "stderr",
     "output_type": "stream",
     "text": [
      "/opt/conda/envs/cellpymc/lib/python3.7/site-packages/pandas/core/frame.py:3636: PerformanceWarning: DataFrame is highly fragmented.  This is usually the result of calling `frame.insert` many times, which has poor performance.  Consider joining all columns at once using pd.concat(axis=1) instead.  To get a de-fragmented frame, use `newframe = frame.copy()`\n"
     ]
    },
    {
     "name": "stdout",
     "output_type": "stream",
     "text": [
      "### Ploting results ###\n",
      "[<matplotlib.lines.Line2D object at 0x7fa81eb787d0>]\n",
      "[<matplotlib.lines.Line2D object at 0x7fa81eb78250>]\n",
      "[<matplotlib.lines.Line2D object at 0x7fab75d1fe10>]\n",
      "[<matplotlib.lines.Line2D object at 0x7fa9916082d0>]\n",
      "### Plotting posterior of W / cell locations ###\n",
      "### Done ### - time 71.73 min\n",
      "CPU times: user 5h 16min 5s, sys: 1h 40min 35s, total: 6h 56min 41s\n",
      "Wall time: 7h 7min 50s\n"
     ]
    }
   ],
   "source": [
    "%%time\n",
    "\n",
    "for sample in Vsamples.keys():\n",
    "    print(sample)\n",
    "    \n",
    "    print('Reading Visium data in anndata format in anndata format')\n",
    "    adata_raw_spatial = sc.read(path+sample+'/'+sample+'_RNA_visium.h5ad')\n",
    "#     adata_raw_spatial.obs.index = adata_raw_spatial.obs.barcode_sample\n",
    "    adata_raw_spatial.obs['spotID'] = adata_raw_spatial.obs.index\n",
    "#     del adata_raw_spatial.obs['barcode_sample']\n",
    "    \n",
    "    \n",
    "    print('Reading scRNA data in anndata format')\n",
    "    adata_raw_sc = sc.read(path+'/scRNAseq.h5ad')\n",
    "#     adata_raw_sc.var['SYMBOL'] = adata_raw_sc.var_names\n",
    "#     adata_raw_sc.var.rename(columns={'gene_ids-1-0': 'ENSEMBL'}, inplace=True)\n",
    "#     adata_raw_sc.var_names = adata_raw_sc.var['ENSEMBL']\n",
    "#     adata_raw_sc.var.drop(columns='ENSEMBL', inplace=True)\n",
    "    \n",
    "    print('Subset to shared genes')\n",
    "    intersect = np.intersect1d(adata_raw_spatial.var_names, adata_raw_sc.var_names)\n",
    "#     adata_raw_spatial = adata_raw_spatial[:, intersect].copy()\n",
    "#     adata_raw_sc = adata_raw_sc[:, intersect].copy()\n",
    "    \n",
    "    \n",
    "    print('Format raw')\n",
    "    adata_raw_spatial.raw = adata_raw_spatial.copy()\n",
    "    adata_raw_sc.raw = adata_raw_sc.copy()\n",
    "\n",
    "    # Running cell2location\n",
    "    results_folder = path+sample+'/cell2location_output/'\n",
    "    os.system('mkdir -p '+ results_folder + '/std_model')\n",
    "\n",
    "    print('Running cell2location ... ')\n",
    "    r = cell2location.run_cell2location(\n",
    "\n",
    "          # Single cell reference signatures as anndata\n",
    "          # (could also be data as anndata object for estimating signatures analytically - `sc_data=adata_snrna_raw`)\n",
    "          sc_data=adata_raw_sc,\n",
    "          # Spatial data as anndata object\n",
    "          sp_data=adata_raw_spatial,\n",
    "\n",
    "          # the column in sc_data.obs that gives cluster idenitity of each cell\n",
    "          summ_sc_data_args={'cluster_col': \"Mareckova_fine_lineage\"},\n",
    "\n",
    "          train_args={'use_raw': True, # By default uses raw slots in both of the input datasets.\n",
    "                      'n_iter': 30000, # Increase the number of iterations if needed (see below)\n",
    "\n",
    "                      # Whe analysing the data that contains multiple samples,\n",
    "                      # cell2location will select a model version which pools information across samples\n",
    "                      # For details see https://cell2location.readthedocs.io/en/latest/cell2location.models.html#module-cell2location.models.CoLocationModelNB4E6V2\n",
    "                      'sample_name_col': 'sample'}, # Column in sp_data.obs with Sample ID\n",
    "\n",
    "          # Number of posterios samples to use for estimating parameters,\n",
    "          # reduce if not enough GPU memory\n",
    "          posterior_args={'n_samples': 1000},\n",
    "\n",
    "\n",
    "          export_args={'path': results_folder + 'std_model/', # path where to save results\n",
    "                       'run_name_suffix': sample # optinal suffix to modify the name the run\n",
    "                      },\n",
    "\n",
    "          model_kwargs={ # Prior on the number of cells, cell types and co-located combinations\n",
    "\n",
    "                        'cell_number_prior': {\n",
    "                            # Use visual inspection of the tissue image to determine\n",
    "                            # the average number of cells per spot,\n",
    "                            # an approximate count is good enough:\n",
    "#                             'cells_per_spot': 8,\n",
    "                            'cells_per_spot': 30,\n",
    "                            # Prior on the number of cell types (or factors) in each spot\n",
    "                            'factors_per_spot': 4,\n",
    "                            # Prior on the number of correlated cell type combinations in each spot\n",
    "                            'combs_per_spot': 2.5\n",
    "                        },\n",
    "\n",
    "                         # Prior on change in sensitivity between technologies\n",
    "                        'gene_level_prior':{\n",
    "                            # Prior on average change in expression level from scRNA-seq to spatial technology,\n",
    "                            # this reflects your belief about the sensitivity of the technology in you experiment\n",
    "                            'mean': 1/2,\n",
    "                            # Prior on how much individual genes differ from that average,\n",
    "                            # a good choice of this value should be lower that the mean\n",
    "                            'sd': 1/4\n",
    "                        }\n",
    "          }\n",
    "    )\n"
   ]
  },
  {
   "cell_type": "code",
   "execution_count": null,
   "metadata": {},
   "outputs": [],
   "source": []
  },
  {
   "cell_type": "code",
   "execution_count": null,
   "metadata": {},
   "outputs": [],
   "source": []
  }
 ],
 "metadata": {
  "kernelspec": {
   "display_name": "cellpymc",
   "language": "python",
   "name": "cellpymc"
  },
  "language_info": {
   "codemirror_mode": {
    "name": "ipython",
    "version": 3
   },
   "file_extension": ".py",
   "mimetype": "text/x-python",
   "name": "python",
   "nbconvert_exporter": "python",
   "pygments_lexer": "ipython3",
   "version": "3.7.10"
  }
 },
 "nbformat": 4,
 "nbformat_minor": 4
}
