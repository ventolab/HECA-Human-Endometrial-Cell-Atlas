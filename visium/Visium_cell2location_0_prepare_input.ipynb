{
 "cells": [
  {
   "cell_type": "code",
   "execution_count": 1,
   "metadata": {},
   "outputs": [],
   "source": [
    "import scanpy as sc\n",
    "import anndata as an\n",
    "import pandas as pd\n",
    "import numpy as np\n",
    "# import matplotlib as mpl\n",
    "import matplotlib.pyplot as plt\n",
    "import seaborn as sns\n",
    "import os\n",
    "\n",
    "plt.rcParams['pdf.fonttype'] = 42\n",
    "plt.rcParams['ps.fonttype'] = 42\n",
    "plt.rcParams[\"font.family\"] = \"Arial\"\n",
    "\n",
    "sc.set_figure_params(figsize=(4, 4))\n",
    "\n",
    "palette = ['#199de5', '#fbbc04']"
   ]
  },
  {
   "cell_type": "code",
   "execution_count": 2,
   "metadata": {},
   "outputs": [],
   "source": [
    "\n",
    "sc.set_figure_params(facecolor=\"white\", figsize=(8, 8), dpi_save=300)\n",
    "sc.settings.verbosity = 1\n",
    "sc.settings.figdir = './figures-cell2location/'"
   ]
  },
  {
   "cell_type": "code",
   "execution_count": 3,
   "metadata": {},
   "outputs": [],
   "source": [
    "Vsamples = {'A13':['152806', '152810'],\n",
    "            'A30':['152807', '152811'],\n",
    "            'donorX_lesion':['UA_Endo13041816', 'UA_Endo13041817'],\n",
    "            'donorY_lesion':['HCA_ENDO_sp13458406', 'HCA_ENDO_sp13458407'],\n",
    "            'FX1101': ['UA_HUTER_sp_10879892'],\n",
    "            'FX0033':['UA_HUTER_sp_10879893'],\n",
    "            'FX0028':['UA_HUTER_sp_10879894'],\n",
    "            'FX0060':['UA_HUTER_sp_10879895']\n",
    "           }\n",
    "path = '/nfs/team292/lg18/endometriosis/data/visium/'\n",
    "\n",
    "\n"
   ]
  },
  {
   "cell_type": "markdown",
   "metadata": {},
   "source": [
    "# Reading Visium data\n",
    "\n",
    "\n",
    "The function read_visium returns an AnnData object that contains counts, images and spatial coordinates. We will calculate standards QC metrics with pp.calculate_qc_metrics and visualize them.\n",
    "\n",
    "An anndata will be saved for cell2location.\n"
   ]
  },
  {
   "cell_type": "code",
   "execution_count": 4,
   "metadata": {},
   "outputs": [],
   "source": [
    "def read_and_qc(sample_name, path):\n",
    "\n",
    "    adata = sc.read_visium(path + str(sample_name),\n",
    "                           count_file='filtered_feature_bc_matrix.h5', load_images=True)\n",
    "    adata.obs['sample'] = sample_name\n",
    "    adata.var['SYMBOL'] = adata.var_names\n",
    "    adata.var.rename(columns={'gene_ids': 'ENSEMBL'}, inplace=True)\n",
    "    adata.var_names = adata.var['ENSEMBL']\n",
    "    adata.var.drop(columns='ENSEMBL', inplace=True)\n",
    "\n",
    "    # Calculate QC metrics\n",
    "    sc.pp.calculate_qc_metrics(adata, inplace=True)\n",
    "    adata.var['mt'] = [gene.startswith('mt-') for gene in adata.var['SYMBOL']]\n",
    "    adata.obs['mt_frac'] = adata[:, adata.var['mt'].tolist()].X.sum(1).A.squeeze()/adata.obs['total_counts']\n",
    "\n",
    "    # mitochondria-encoded (MT) genes should be removed for spatial mapping\n",
    "    adata.obsm['mt'] = adata[:, adata.var['mt'].values].X.toarray()\n",
    "    adata = adata[:, ~adata.var['mt'].values]\n",
    "\n",
    "    # add sample name to obs names\n",
    "    adata.obs[\"sample\"] = [str(i) for i in adata.obs['sample']]\n",
    "    adata.obs_names = adata.obs[\"sample\"] \\\n",
    "                          + '_' + adata.obs_names\n",
    "    adata.obs.index.name = 'spot_id'\n",
    "#     adata.obs['barcode_sample'] = adata.obs_names\n",
    "\n",
    "    oldname = list(adata.uns['spatial'].keys())[0]\n",
    "    adata.uns['spatial'][sample_name] = adata.uns['spatial'].pop(oldname)\n",
    "\n",
    "\n",
    "    return adata\n",
    "\n",
    "\n",
    "def select_slide(adata, s, s_col='sample'):\n",
    "    r\"\"\" Select data for one slide from the spatial anndata object.\n",
    "\n",
    "    :param adata: Anndata object with multiple spatial samples\n",
    "    :param s: name of selected sample\n",
    "    :param s_col: column in adata.obs listing sample name for each location\n",
    "    \"\"\"\n",
    "\n",
    "    slide = adata[adata.obs[s_col].isin([s]), :]\n",
    "    s_keys = list(slide.uns['spatial'].keys())\n",
    "    s_spatial = np.array(s_keys)[[s in k for k in s_keys]][0]\n",
    "\n",
    "    slide.uns['spatial'] = {s_spatial: slide.uns['spatial'][s_spatial]}\n",
    "\n",
    "    return slide"
   ]
  },
  {
   "cell_type": "code",
   "execution_count": 5,
   "metadata": {},
   "outputs": [
    {
     "name": "stdout",
     "output_type": "stream",
     "text": [
      "A13\n"
     ]
    },
    {
     "name": "stderr",
     "output_type": "stream",
     "text": [
      "Variable names are not unique. To make them unique, call `.var_names_make_unique`.\n",
      "Variable names are not unique. To make them unique, call `.var_names_make_unique`.\n",
      "Trying to set attribute `.obs` of view, copying.\n",
      "Variable names are not unique. To make them unique, call `.var_names_make_unique`.\n",
      "Variable names are not unique. To make them unique, call `.var_names_make_unique`.\n",
      "Trying to set attribute `.obs` of view, copying.\n",
      "... storing 'sample_name' as categorical\n",
      "... storing 'feature_types' as categorical\n",
      "... storing 'genome' as categorical\n"
     ]
    },
    {
     "name": "stdout",
     "output_type": "stream",
     "text": [
      "merging\n"
     ]
    },
    {
     "name": "stderr",
     "output_type": "stream",
     "text": [
      "... storing 'SYMBOL' as categorical\n"
     ]
    },
    {
     "name": "stdout",
     "output_type": "stream",
     "text": [
      "A30\n"
     ]
    },
    {
     "name": "stderr",
     "output_type": "stream",
     "text": [
      "Variable names are not unique. To make them unique, call `.var_names_make_unique`.\n",
      "Variable names are not unique. To make them unique, call `.var_names_make_unique`.\n",
      "Trying to set attribute `.obs` of view, copying.\n",
      "Variable names are not unique. To make them unique, call `.var_names_make_unique`.\n",
      "Variable names are not unique. To make them unique, call `.var_names_make_unique`.\n",
      "Trying to set attribute `.obs` of view, copying.\n",
      "... storing 'sample_name' as categorical\n",
      "... storing 'feature_types' as categorical\n",
      "... storing 'genome' as categorical\n"
     ]
    },
    {
     "name": "stdout",
     "output_type": "stream",
     "text": [
      "merging\n"
     ]
    },
    {
     "name": "stderr",
     "output_type": "stream",
     "text": [
      "... storing 'SYMBOL' as categorical\n"
     ]
    },
    {
     "name": "stdout",
     "output_type": "stream",
     "text": [
      "donorX_lesion\n"
     ]
    },
    {
     "name": "stderr",
     "output_type": "stream",
     "text": [
      "Variable names are not unique. To make them unique, call `.var_names_make_unique`.\n",
      "Variable names are not unique. To make them unique, call `.var_names_make_unique`.\n",
      "Trying to set attribute `.obs` of view, copying.\n",
      "Variable names are not unique. To make them unique, call `.var_names_make_unique`.\n",
      "Variable names are not unique. To make them unique, call `.var_names_make_unique`.\n",
      "Trying to set attribute `.obs` of view, copying.\n",
      "... storing 'sample_name' as categorical\n",
      "... storing 'feature_types' as categorical\n",
      "... storing 'genome' as categorical\n",
      "... storing 'SYMBOL' as categorical\n"
     ]
    },
    {
     "name": "stdout",
     "output_type": "stream",
     "text": [
      "merging\n",
      "donorY_lesion\n"
     ]
    },
    {
     "name": "stderr",
     "output_type": "stream",
     "text": [
      "Variable names are not unique. To make them unique, call `.var_names_make_unique`.\n",
      "Variable names are not unique. To make them unique, call `.var_names_make_unique`.\n",
      "Trying to set attribute `.obs` of view, copying.\n",
      "Variable names are not unique. To make them unique, call `.var_names_make_unique`.\n",
      "Variable names are not unique. To make them unique, call `.var_names_make_unique`.\n",
      "Trying to set attribute `.obs` of view, copying.\n",
      "... storing 'in_tissue' as categorical\n",
      "... storing 'array_row' as categorical\n",
      "... storing 'array_col' as categorical\n",
      "... storing 'sample_name' as categorical\n",
      "... storing 'feature_types' as categorical\n",
      "... storing 'genome' as categorical\n",
      "... storing 'SYMBOL' as categorical\n"
     ]
    },
    {
     "name": "stdout",
     "output_type": "stream",
     "text": [
      "merging\n",
      "FX1101\n"
     ]
    },
    {
     "name": "stderr",
     "output_type": "stream",
     "text": [
      "Variable names are not unique. To make them unique, call `.var_names_make_unique`.\n",
      "Variable names are not unique. To make them unique, call `.var_names_make_unique`.\n",
      "Trying to set attribute `.obs` of view, copying.\n",
      "... storing 'in_tissue' as categorical\n",
      "... storing 'array_row' as categorical\n",
      "... storing 'array_col' as categorical\n",
      "... storing 'sample_name' as categorical\n",
      "... storing 'feature_types' as categorical\n",
      "... storing 'genome' as categorical\n"
     ]
    },
    {
     "name": "stdout",
     "output_type": "stream",
     "text": [
      "merging\n"
     ]
    },
    {
     "name": "stderr",
     "output_type": "stream",
     "text": [
      "... storing 'SYMBOL' as categorical\n"
     ]
    },
    {
     "name": "stdout",
     "output_type": "stream",
     "text": [
      "FX0033\n"
     ]
    },
    {
     "name": "stderr",
     "output_type": "stream",
     "text": [
      "Variable names are not unique. To make them unique, call `.var_names_make_unique`.\n",
      "Variable names are not unique. To make them unique, call `.var_names_make_unique`.\n",
      "Trying to set attribute `.obs` of view, copying.\n",
      "... storing 'in_tissue' as categorical\n",
      "... storing 'array_row' as categorical\n",
      "... storing 'array_col' as categorical\n",
      "... storing 'sample_name' as categorical\n",
      "... storing 'feature_types' as categorical\n",
      "... storing 'genome' as categorical\n"
     ]
    },
    {
     "name": "stdout",
     "output_type": "stream",
     "text": [
      "merging\n"
     ]
    },
    {
     "name": "stderr",
     "output_type": "stream",
     "text": [
      "... storing 'SYMBOL' as categorical\n"
     ]
    },
    {
     "name": "stdout",
     "output_type": "stream",
     "text": [
      "FX0028\n"
     ]
    },
    {
     "name": "stderr",
     "output_type": "stream",
     "text": [
      "Variable names are not unique. To make them unique, call `.var_names_make_unique`.\n",
      "Variable names are not unique. To make them unique, call `.var_names_make_unique`.\n",
      "Trying to set attribute `.obs` of view, copying.\n",
      "... storing 'in_tissue' as categorical\n",
      "... storing 'array_row' as categorical\n",
      "... storing 'array_col' as categorical\n",
      "... storing 'sample_name' as categorical\n",
      "... storing 'feature_types' as categorical\n",
      "... storing 'genome' as categorical\n"
     ]
    },
    {
     "name": "stdout",
     "output_type": "stream",
     "text": [
      "merging\n"
     ]
    },
    {
     "name": "stderr",
     "output_type": "stream",
     "text": [
      "... storing 'SYMBOL' as categorical\n"
     ]
    },
    {
     "name": "stdout",
     "output_type": "stream",
     "text": [
      "FX0060\n"
     ]
    },
    {
     "name": "stderr",
     "output_type": "stream",
     "text": [
      "Variable names are not unique. To make them unique, call `.var_names_make_unique`.\n",
      "Variable names are not unique. To make them unique, call `.var_names_make_unique`.\n",
      "Trying to set attribute `.obs` of view, copying.\n",
      "... storing 'in_tissue' as categorical\n",
      "... storing 'array_row' as categorical\n",
      "... storing 'array_col' as categorical\n",
      "... storing 'sample_name' as categorical\n",
      "... storing 'feature_types' as categorical\n",
      "... storing 'genome' as categorical\n"
     ]
    },
    {
     "name": "stdout",
     "output_type": "stream",
     "text": [
      "merging\n"
     ]
    },
    {
     "name": "stderr",
     "output_type": "stream",
     "text": [
      "... storing 'SYMBOL' as categorical\n"
     ]
    }
   ],
   "source": [
    "for sam in Vsamples.keys():\n",
    "    print(sam)\n",
    "    # read first sample\n",
    "    adata = read_and_qc(Vsamples[sam][0], path=path+'/')\n",
    "\n",
    "    # read the remaining samples\n",
    "    slides = {}\n",
    "    for i in Vsamples[sam][1:]:\n",
    "        adata_1 = read_and_qc(i, path=path+'/')\n",
    "        slides[str(i)] = adata_1\n",
    "\n",
    "    adata_0 = adata.copy()\n",
    "\n",
    "    # combine individual samples\n",
    "    adata = adata.concatenate(\n",
    "        list(slides.values()),\n",
    "        batch_key=\"sample\",\n",
    "        uns_merge=\"unique\",\n",
    "        batch_categories=Vsamples[sam],\n",
    "        index_unique=None\n",
    "    )\n",
    "    # merging metadata\n",
    "    print('merging')\n",
    "    adata.obs['sample_name'] = sam\n",
    "\n",
    "    \n",
    "    os.system('mkdir -p '+ path+'/cell2location/'+ sam +'/') \n",
    "    adata.write(path + '/cell2location/' + sam + '/'+ sam + '_RNA_visium.h5ad')\n",
    "      "
   ]
  },
  {
   "cell_type": "markdown",
   "metadata": {},
   "source": [
    "# Reading the merged scRNA dataset\n"
   ]
  },
  {
   "cell_type": "code",
   "execution_count": 6,
   "metadata": {},
   "outputs": [
    {
     "data": {
      "text/plain": [
       "(390867, 17736)"
      ]
     },
     "execution_count": 6,
     "metadata": {},
     "output_type": "execute_result"
    }
   ],
   "source": [
    "path2sc = '/nfs/team292/lg18/endometriosis/integrated_objects/'\n",
    "adata = sc.read(path2sc+'cells_integrated.h5ad')\n",
    "adata.X.shape"
   ]
  },
  {
   "cell_type": "code",
   "execution_count": 7,
   "metadata": {},
   "outputs": [
    {
     "name": "stderr",
     "output_type": "stream",
     "text": [
      "/home/jovyan/my-conda-envs/cellpymc/lib/python3.7/site-packages/IPython/core/interactiveshell.py:3166: DtypeWarning: Columns (5,8,10,11,12,13,14,15,16,17,18,19,20,21,22,23,24,25,26,39,40,41,42,46,47,55,56,58,59,60,62,69) have mixed types.Specify dtype option on import or set low_memory=False.\n",
      "  interactivity=interactivity, compiler=compiler, result=result)\n"
     ]
    },
    {
     "name": "stdout",
     "output_type": "stream",
     "text": [
      "Mesen_dStromal          96529\n",
      "Mesen_eStromal          79488\n",
      "Immune_Lymphoid         34456\n",
      "Epi_SOX9                32015\n",
      "Epi_Glandular           27887\n",
      "Endothelial             23519\n",
      "Epi_preGlandular        16765\n",
      "Epi_Luminal             14253\n",
      "Epi_Horm                11490\n",
      "Mesen_ePV               11325\n",
      "Immune_Myeloid          11260\n",
      "LowQC                    7549\n",
      "Epi_Ciliated             7467\n",
      "Doublet                  5616\n",
      "Mesen_mPV                4618\n",
      "Mesen_uSMCs              2995\n",
      "Epi_endocervix_MUC5B     1748\n",
      "Epi_Glands                952\n",
      "Mesen_FibBasalis          539\n",
      "Epi_cervix_KRT5           396\n",
      "Name: Mareckova_celltype, dtype: int64\n"
     ]
    }
   ],
   "source": [
    "## All celltypes\n",
    "annot_df = pd.read_csv('/nfs/team292/lg18/endometriosis/annotations/cells_endometrium.csv',index_col=0)\n",
    "\n",
    "cell_annot = annot_df['Mareckova_celltype'].to_dict()\n",
    "adata.obs['Mareckova_celltype'] = adata.obs_names.map(cell_annot)\n",
    "print(adata.obs['Mareckova_celltype'].value_counts())"
   ]
  },
  {
   "cell_type": "markdown",
   "metadata": {},
   "source": [
    "### Add cell type annotations from subanalysis as LABELS"
   ]
  },
  {
   "cell_type": "code",
   "execution_count": 8,
   "metadata": {},
   "outputs": [
    {
     "name": "stdout",
     "output_type": "stream",
     "text": [
      "Mesenchymal eStromal              63353\n",
      "Mesenchymal dStromal              56171\n",
      "Immune_Lymphoid                   34456\n",
      "Endothelial                       23519\n",
      "Mesen_dStromal                    22381\n",
      "Mesenchymal dStromal_early        16804\n",
      "Epithelial Hormones               14381\n",
      "Epithelial Glandular              13050\n",
      "Epithelial SOX9                   12583\n",
      "Epithelial preGlandular           11840\n",
      "Immune_Myeloid                    11260\n",
      "Epithelial Luminal                10250\n",
      "Epithelial Glandular_secretory     9414\n",
      "Epi_SOX9                           8638\n",
      "Mesen_eStromal                     7902\n",
      "LowQC                              7549\n",
      "Mesenchymal ePV_MMP11              7012\n",
      "Epi_Glandular                      6604\n",
      "Epithelial Ciliated                5738\n",
      "Doublet                            5616\n",
      "Mesenchymal Hormones               4132\n",
      "Epithelial Cycling                 4129\n",
      "Mesenchymal eStromal_MMPs          3993\n",
      "Epi_Luminal                        3005\n",
      "Mesenchymal ePV_AOC3               2754\n",
      "Epithelial preLuminal              2735\n",
      "Epithelial SOX9_luminal            2700\n",
      "Mesen_mPV                          1650\n",
      "Epithelial SOX9_basalis_II         1590\n",
      "Mesen_uSMCs                        1521\n",
      "Epithelial MUC5B                   1389\n",
      "Mesenchymal uSMCs                  1386\n",
      "Mesenchymal ePV_STEAP4             1382\n",
      "Mesen_ePV                          1368\n",
      "Epi_preGlandular                   1367\n",
      "Mesenchymal mPV                    1354\n",
      "Epi_Ciliated                       1155\n",
      "Mesenchymal HOXA13                  844\n",
      "Mesenchymal Other                   558\n",
      "Epi_Horm                            501\n",
      "Epithelial KRT5                     484\n",
      "Epithelial preCiliated              427\n",
      "Mesenchymal Fibroblast_basalis      420\n",
      "Mesen_FibBasalis                    366\n",
      "Epithelial SOX9_basalis_I           355\n",
      "Epi_endocervix_MUC5B                257\n",
      "Epi_Glands                          191\n",
      "Epithelial Doublet                  167\n",
      "Mesenchymal LowQC                   143\n",
      "Epi_cervix_KRT5                      23\n",
      "Name: Mareckova_fine_lineage, dtype: int64\n",
      "Mesenchymal eStromal                   55612\n",
      "Mesenchymal dStromal_mid               43790\n",
      "Immune_Lymphoid                        34456\n",
      "Endothelial                            23519\n",
      "Mesen_dStromal                         22381\n",
      "Mesenchymal dStromal_early             16804\n",
      "Epithelial Hormones                    13287\n",
      "Epithelial Glandular                   13050\n",
      "Epithelial SOX9                        12583\n",
      "Mesenchymal dStromal_late              12209\n",
      "Epithelial preGlandular                11840\n",
      "Immune_Myeloid                         11260\n",
      "Epithelial Luminal                     10250\n",
      "Epi_SOX9                                8638\n",
      "Epithelial Glandular_secretory          8610\n",
      "Mesen_eStromal                          7902\n",
      "Mesenchymal eStromal_cycling            7741\n",
      "LowQC                                   7549\n",
      "Mesenchymal ePV_MMP11                   7012\n",
      "Epi_Glandular                           6604\n",
      "Epithelial Ciliated                     5738\n",
      "Doublet                                 5616\n",
      "Mesenchymal Hormones                    4132\n",
      "Epithelial Cycling                      4129\n",
      "Mesenchymal eStromal_MMPs               3993\n",
      "Epi_Luminal                             3005\n",
      "Mesenchymal ePV_AOC3                    2754\n",
      "Epithelial preLuminal                   2735\n",
      "Epithelial SOX9_luminal                 2700\n",
      "Mesen_mPV                               1650\n",
      "Epithelial SOX9_basalis_II              1590\n",
      "Mesen_uSMCs                             1521\n",
      "Epithelial MUC5B                        1389\n",
      "Mesenchymal uSMCs                       1386\n",
      "Mesenchymal ePV_STEAP4                  1382\n",
      "Mesen_ePV                               1368\n",
      "Epi_preGlandular                        1367\n",
      "Mesenchymal mPV                         1354\n",
      "Epi_Ciliated                            1155\n",
      "Epithelial Hormones_secretory           1094\n",
      "Mesenchymal HOXA13                       844\n",
      "Epithelial Glandular_secretory_FGF7      804\n",
      "Mesenchymal Other                        558\n",
      "Epi_Horm                                 501\n",
      "Epithelial KRT5                          484\n",
      "Epithelial preCiliated                   427\n",
      "Mesenchymal Fibroblast_basalis           420\n",
      "Mesen_FibBasalis                         366\n",
      "Epithelial SOX9_basalis_I                355\n",
      "Epi_endocervix_MUC5B                     257\n",
      "Epi_Glands                               191\n",
      "Mesenchymal dStromal_menstrual           172\n",
      "Epithelial Doublet                       167\n",
      "Mesenchymal LowQC                        143\n",
      "Epi_cervix_KRT5                           23\n",
      "Name: Mareckova_fine_celltype, dtype: int64\n"
     ]
    }
   ],
   "source": [
    "# MESENCHYMAL\n",
    "annot_df = pd.read_csv('/nfs/team292/lg18/endometriosis/annotations/cells_endometrium_mesenchymal_CLEAN.csv',index_col=0)\n",
    "annot_df.at[annot_df['Mareckova_mesen_celltype'] == 'ePV_AOC3', 'Mareckova_mesen_lineage'] = 'ePV_AOC3'\n",
    "annot_df.at[annot_df['Mareckova_mesen_celltype'] == 'ePV_MMP11', 'Mareckova_mesen_lineage'] = 'ePV_MMP11'\n",
    "annot_df.at[annot_df['Mareckova_mesen_celltype'] == 'ePV_STEAP4', 'Mareckova_mesen_lineage'] = 'ePV_STEAP4'\n",
    "annot_df.at[annot_df['Mareckova_mesen_celltype'] == 'dStromal_early', 'Mareckova_mesen_lineage'] = 'dStromal_early'\n",
    "annot_df.at[annot_df['Mareckova_mesen_celltype'] == 'eStromal_MMPs', 'Mareckova_mesen_lineage'] = 'eStromal_MMPs'\n",
    "annot_df.at[annot_df['Mareckova_mesen_celltype'] == 'Fibroblast_basalis', 'Mareckova_mesen_lineage'] = 'Fibroblast_basalis'\n",
    "\n",
    "\n",
    "annot_df['Mareckova_mesen_celltype'] = [ 'Mesenchymal '+ i for i in annot_df['Mareckova_mesen_celltype']]\n",
    "annot_df['Mareckova_mesen_lineage'] = [ 'Mesenchymal '+ i for i in annot_df['Mareckova_mesen_lineage']]\n",
    "annot1 = annot_df['Mareckova_mesen_lineage'].to_dict()\n",
    "annot11 = annot_df['Mareckova_mesen_celltype'].to_dict()\n",
    "\n",
    "\n",
    "# EPITHELIAL\n",
    "annot_df = pd.read_csv('/nfs/team292/lg18/endometriosis/annotations/cells_endometrium_epithelial_CLEAN.csv',index_col=0)\n",
    "annot_df.at[annot_df['Mareckova_epi_celltype'] == 'SOX9_basalis_I', 'Mareckova_epi_lineage'] = 'SOX9_basalis_I'\n",
    "annot_df.at[annot_df['Mareckova_epi_celltype'] == 'SOX9_basalis_II', 'Mareckova_epi_lineage'] = 'SOX9_basalis_II'\n",
    "annot_df.at[annot_df['Mareckova_epi_celltype'] == 'SOX9_luminal', 'Mareckova_epi_lineage'] = 'SOX9_luminal'\n",
    "annot_df.at[annot_df['Mareckova_epi_celltype'] == 'Glandular_secretory', 'Mareckova_epi_lineage'] = 'Glandular_secretory'\n",
    "annot_df.at[annot_df['Mareckova_epi_celltype'] == 'Glandular_secretory_FGF7', 'Mareckova_epi_lineage'] = 'Glandular_secretory'\n",
    "annot_df.at[annot_df['Mareckova_epi_celltype'] == 'preLuminal', 'Mareckova_epi_lineage'] = 'preLuminal'\n",
    "\n",
    "annot_df['Mareckova_epi_celltype'] = [ 'Epithelial '+ i for i in annot_df['Mareckova_epi_celltype']]\n",
    "annot_df['Mareckova_epi_lineage'] = [ 'Epithelial '+ i for i in annot_df['Mareckova_epi_lineage']]\n",
    "annot2 = annot_df['Mareckova_epi_lineage'].to_dict()\n",
    "annot22 = annot_df['Mareckova_epi_celltype'].to_dict()\n",
    "\n",
    "\n",
    "# add to andata\n",
    "annot_all = adata.obs['Mareckova_celltype'].to_dict()\n",
    "annot = dict(annot_all)\n",
    "annot.update(annot1)\n",
    "annot.update(annot2)\n",
    "\n",
    "annotF = dict(annot_all)\n",
    "annotF.update(annot11)\n",
    "annotF.update(annot22)\n",
    "\n",
    "adata.obs['Mareckova_fine_lineage'] = adata.obs_names.map(annot)\n",
    "print(adata.obs['Mareckova_fine_lineage'].value_counts())\n",
    "\n",
    "adata.obs['Mareckova_fine_celltype'] = adata.obs_names.map(annotF)\n",
    "print(adata.obs['Mareckova_fine_celltype'].value_counts())\n",
    "# set(adata.obs['Mareckova_fine_celltype'])"
   ]
  },
  {
   "cell_type": "code",
   "execution_count": 9,
   "metadata": {},
   "outputs": [
    {
     "name": "stderr",
     "output_type": "stream",
     "text": [
      "/home/jovyan/my-conda-envs/cellpymc/lib/python3.7/site-packages/pandas/core/arrays/categorical.py:2487: FutureWarning: The `inplace` parameter in pandas.Categorical.remove_unused_categories is deprecated and will be removed in a future version.\n",
      "  res = method(*args, **kwargs)\n"
     ]
    },
    {
     "name": "stdout",
     "output_type": "stream",
     "text": [
      "Mesenchymal eStromal              63353\n",
      "Mesenchymal dStromal              56171\n",
      "Immune_Lymphoid                   34456\n",
      "Endothelial                       23519\n",
      "Mesenchymal dStromal_early        16804\n",
      "Epithelial Glandular              13050\n",
      "Epithelial SOX9                   12583\n",
      "Epithelial preGlandular           11840\n",
      "Immune_Myeloid                    11260\n",
      "Epithelial Luminal                10250\n",
      "Epithelial Glandular_secretory     9414\n",
      "Mesenchymal ePV_MMP11              7012\n",
      "Epithelial Ciliated                5738\n",
      "Epithelial Cycling                 4129\n",
      "Mesenchymal eStromal_MMPs          3993\n",
      "Mesenchymal ePV_AOC3               2754\n",
      "Epithelial preLuminal              2735\n",
      "Epithelial SOX9_luminal            2700\n",
      "Epithelial SOX9_basalis_II         1590\n",
      "Epithelial MUC5B                   1389\n",
      "Mesenchymal uSMCs                  1386\n",
      "Mesenchymal ePV_STEAP4             1382\n",
      "Mesenchymal mPV                    1354\n",
      "Mesenchymal HOXA13                  844\n",
      "Epithelial KRT5                     484\n",
      "Epithelial preCiliated              427\n",
      "Mesenchymal Fibroblast_basalis      420\n",
      "Epithelial SOX9_basalis_I           355\n",
      "Name: Mareckova_fine_lineage, dtype: int64\n"
     ]
    }
   ],
   "source": [
    "# Rename epithalial ciliated,  which are not included in the zoom in\n",
    "adata.obs.at[adata.obs['Mareckova_fine_lineage'] == 'Epithelial_Ciliated', 'Mareckova_fine_lineage'] = 'Epithelial Ciliated'\n",
    "\n",
    "# Remove unreliable populations\n",
    "adata = adata[[ 'Doublet' not in i for i in adata.obs['Mareckova_fine_lineage'] ]]\n",
    "adata = adata[[ 'LowQC' not in i for i in adata.obs['Mareckova_fine_lineage'] ]]\n",
    "adata = adata[[ 'Epi_' not in i for i in adata.obs['Mareckova_fine_lineage'] ]]\n",
    "adata = adata[[ 'Mesen_' not in i for i in adata.obs['Mareckova_fine_lineage'] ]]\n",
    "adata = adata[[ 'unknown' not in i for i in adata.obs.Mareckova_fine_celltype]]\n",
    "adata = adata[[ 'Unknown' not in i for i in adata.obs['Mareckova_fine_lineage'] ]]\n",
    "adata = adata[[ 'Hormones' not in i for i in adata.obs['Mareckova_fine_lineage'] ]]\n",
    "adata = adata[[ 'Other' not in i for i in adata.obs.Mareckova_fine_celltype]]\n",
    "adata = adata[[ i not in ['Immune'] for i in adata.obs['Mareckova_fine_lineage'] ]]\n",
    "print(adata.obs['Mareckova_fine_lineage'].value_counts())"
   ]
  },
  {
   "cell_type": "code",
   "execution_count": 10,
   "metadata": {},
   "outputs": [
    {
     "name": "stdout",
     "output_type": "stream",
     "text": [
      "Mesenchymal eStromal              55760\n",
      "Mesenchymal dStromal              55649\n",
      "Immune_Lymphoid                   31683\n",
      "Endothelial                       21859\n",
      "Mesenchymal dStromal_early        16751\n",
      "Epithelial Glandular              12827\n",
      "Epithelial SOX9                   12261\n",
      "Epithelial preGlandular           11663\n",
      "Immune_Myeloid                    10719\n",
      "Epithelial Luminal                10129\n",
      "Epithelial Glandular_secretory     9207\n",
      "Mesenchymal ePV_MMP11              6648\n",
      "Epithelial Ciliated                4394\n",
      "Mesenchymal eStromal_MMPs          3987\n",
      "Epithelial preLuminal              2655\n",
      "Mesenchymal ePV_AOC3               2411\n",
      "Epithelial SOX9_luminal            2210\n",
      "Epithelial SOX9_basalis_II         1569\n",
      "Mesenchymal ePV_STEAP4             1375\n",
      "Mesenchymal uSMCs                  1367\n",
      "Epithelial MUC5B                   1365\n",
      "Mesenchymal mPV                    1352\n",
      "Mesenchymal HOXA13                  837\n",
      "Epithelial KRT5                     475\n",
      "Mesenchymal Fibroblast_basalis      416\n",
      "Epithelial SOX9_basalis_I           352\n",
      "Epithelial preCiliated               59\n",
      "Name: Mareckova_fine_lineage, dtype: int64\n"
     ]
    }
   ],
   "source": [
    "## Remove cycling populations\n",
    "adata = adata[[ 'G1' in i for i in adata.obs.phase]]\n",
    "adata = adata[[ 'Cycling' not in i for i in adata.obs.Mareckova_fine_celltype]]\n",
    "print(adata.obs['Mareckova_fine_lineage'].value_counts())\n",
    "# print(adata.obs['Mareckova_fine_celltype'].value_counts())"
   ]
  },
  {
   "cell_type": "markdown",
   "metadata": {},
   "source": [
    "### Select cells with > 2000 genes expressed"
   ]
  },
  {
   "cell_type": "code",
   "execution_count": 11,
   "metadata": {},
   "outputs": [
    {
     "name": "stderr",
     "output_type": "stream",
     "text": [
      "Trying to set attribute `.obs` of view, copying.\n"
     ]
    },
    {
     "name": "stdout",
     "output_type": "stream",
     "text": [
      "Mesenchymal eStromal              47712\n",
      "Mesenchymal dStromal              37862\n",
      "Mesenchymal dStromal_early        14242\n",
      "Endothelial                       13971\n",
      "Epithelial preGlandular           11205\n",
      "Epithelial SOX9                   11112\n",
      "Epithelial Glandular               9939\n",
      "Immune_Myeloid                     7998\n",
      "Epithelial Glandular_secretory     7594\n",
      "Immune_Lymphoid                    6409\n",
      "Epithelial Luminal                 6369\n",
      "Mesenchymal ePV_MMP11              5626\n",
      "Epithelial Ciliated                3833\n",
      "Mesenchymal eStromal_MMPs          3799\n",
      "Epithelial preLuminal              2515\n",
      "Epithelial SOX9_luminal            2184\n",
      "Mesenchymal ePV_AOC3               2015\n",
      "Epithelial SOX9_basalis_II         1543\n",
      "Epithelial MUC5B                   1245\n",
      "Mesenchymal ePV_STEAP4              932\n",
      "Mesenchymal HOXA13                  645\n",
      "Mesenchymal mPV                     641\n",
      "Mesenchymal uSMCs                   544\n",
      "Epithelial KRT5                     434\n",
      "Epithelial SOX9_basalis_I           347\n",
      "Mesenchymal Fibroblast_basalis      252\n",
      "Epithelial preCiliated               58\n",
      "Name: Mareckova_fine_lineage, dtype: int64\n"
     ]
    }
   ],
   "source": [
    "sc.pp.filter_cells(adata, min_genes=2000)\n",
    "print(adata.obs['Mareckova_fine_lineage'].value_counts())"
   ]
  },
  {
   "cell_type": "markdown",
   "metadata": {},
   "source": [
    "### Use Ensembl id as GENE "
   ]
  },
  {
   "cell_type": "code",
   "execution_count": 12,
   "metadata": {},
   "outputs": [],
   "source": [
    "adata.var['SYMBOL'] = adata.var_names\n",
    "adata.var.rename(columns={'gene_ids-0-GarciaAlonso': 'ENSEMBL'}, inplace=True)\n",
    "adata.var_names = adata.var['ENSEMBL']\n",
    "adata.var.drop(columns='ENSEMBL', inplace=True)"
   ]
  },
  {
   "cell_type": "code",
   "execution_count": 13,
   "metadata": {},
   "outputs": [],
   "source": [
    "adata.var_names = adata.var_names.astype(str)\n",
    "adata.var_names_make_unique()"
   ]
  },
  {
   "cell_type": "code",
   "execution_count": 14,
   "metadata": {},
   "outputs": [
    {
     "name": "stderr",
     "output_type": "stream",
     "text": [
      "... storing 'Mareckova_celltype' as categorical\n",
      "... storing 'Mareckova_fine_lineage' as categorical\n",
      "... storing 'Mareckova_fine_celltype' as categorical\n"
     ]
    }
   ],
   "source": [
    "adata.write(path + '/cell2location/scRNAseq.h5ad')"
   ]
  },
  {
   "cell_type": "code",
   "execution_count": null,
   "metadata": {},
   "outputs": [],
   "source": []
  }
 ],
 "metadata": {
  "kernelspec": {
   "display_name": "cellpymc",
   "language": "python",
   "name": "cellpymc"
  },
  "language_info": {
   "codemirror_mode": {
    "name": "ipython",
    "version": 3
   },
   "file_extension": ".py",
   "mimetype": "text/x-python",
   "name": "python",
   "nbconvert_exporter": "python",
   "pygments_lexer": "ipython3",
   "version": "3.7.10"
  }
 },
 "nbformat": 4,
 "nbformat_minor": 4
}
