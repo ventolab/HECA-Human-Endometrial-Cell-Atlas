{
 "cells": [
  {
   "cell_type": "markdown",
   "metadata": {},
   "source": [
    "# Endometriosis - PLOTS\n",
    "# Cells - all datasets"
   ]
  },
  {
   "cell_type": "code",
   "execution_count": 1,
   "metadata": {},
   "outputs": [
    {
     "data": {
      "text/plain": [
       "'/home/jovyan/my-conda-envs/sc_analysis/bin/python'"
      ]
     },
     "execution_count": 1,
     "metadata": {},
     "output_type": "execute_result"
    }
   ],
   "source": [
    "import numpy as np\n",
    "import pandas as pd\n",
    "import scanpy as sc\n",
    "import matplotlib.pyplot as plt\n",
    "import os\n",
    "import sys\n",
    "import scipy\n",
    "import anndata\n",
    "\n",
    "\n",
    "plt.rcParams['pdf.fonttype'] = 42\n",
    "plt.rcParams['ps.fonttype'] = 42\n",
    "plt.rcParams[\"font.family\"] = \"Arial\"\n",
    "\n",
    "sc.set_figure_params(figsize=(4, 4))\n",
    "\n",
    "\n",
    "sc.settings.verbosity = 3  # verbosity: errors (0), warnings (1), info (2), hints (3)\n",
    "sc.settings.figdir = 'figures/DEGs/'\n",
    "\n",
    "sys.executable"
   ]
  },
  {
   "cell_type": "markdown",
   "metadata": {},
   "source": [
    "# Read in dataset"
   ]
  },
  {
   "cell_type": "code",
   "execution_count": 2,
   "metadata": {},
   "outputs": [
    {
     "data": {
      "text/plain": [
       "(390867, 17736)"
      ]
     },
     "execution_count": 2,
     "metadata": {},
     "output_type": "execute_result"
    }
   ],
   "source": [
    "path2data = '/nfs/team292/lg18/endometriosis/integrated_objects/'\n",
    "adata = sc.read(path2data + 'cells_integrated.h5ad')\n",
    "adata.X.shape"
   ]
  },
  {
   "cell_type": "markdown",
   "metadata": {},
   "source": [
    "### Import EPITHELIAL, MESENCHYMAL and ENDOTHELIAL annotations"
   ]
  },
  {
   "cell_type": "code",
   "execution_count": 3,
   "metadata": {},
   "outputs": [
    {
     "name": "stderr",
     "output_type": "stream",
     "text": [
      "/home/jovyan/my-conda-envs/sc_analysis/lib/python3.7/site-packages/IPython/core/interactiveshell.py:3166: DtypeWarning: Columns (5,8,10,11,12,13,14,15,16,17,18,19,20,21,22,23,24,25,26,39,40,41,42,46,47,55,56,58,59,60,62,69) have mixed types.Specify dtype option on import or set low_memory=False.\n",
      "  interactivity=interactivity, compiler=compiler, result=result)\n"
     ]
    },
    {
     "name": "stdout",
     "output_type": "stream",
     "text": [
      "Mesen_dStromal          96529\n",
      "Mesen_eStromal          79488\n",
      "Immune_Lymphoid         34456\n",
      "Epi_SOX9                32015\n",
      "Epi_Glandular           27887\n",
      "Endothelial             23519\n",
      "Epi_preGlandular        16765\n",
      "Epi_Luminal             14253\n",
      "Epi_Horm                11490\n",
      "Mesen_ePV               11325\n",
      "Immune_Myeloid          11260\n",
      "LowQC                    7549\n",
      "Epi_Ciliated             7467\n",
      "Doublet                  5616\n",
      "Mesen_mPV                4618\n",
      "Mesen_uSMCs              2995\n",
      "Epi_endocervix_MUC5B     1748\n",
      "Epi_Glands                952\n",
      "Mesen_FibBasalis          539\n",
      "Epi_cervix_KRT5           396\n",
      "Name: Mareckova_celltype, dtype: int64\n"
     ]
    },
    {
     "name": "stderr",
     "output_type": "stream",
     "text": [
      "/home/jovyan/my-conda-envs/sc_analysis/lib/python3.7/site-packages/IPython/core/interactiveshell.py:3166: DtypeWarning: Columns (15,19,21,22,23,24,25,39,40,41,46,47,60,61,63,64,65) have mixed types.Specify dtype option on import or set low_memory=False.\n",
      "  interactivity=interactivity, compiler=compiler, result=result)\n",
      "/home/jovyan/my-conda-envs/sc_analysis/lib/python3.7/site-packages/IPython/core/interactiveshell.py:3166: DtypeWarning: Columns (13,15,17,18,19,21,22,23,24,25,41,42,46,55,58) have mixed types.Specify dtype option on import or set low_memory=False.\n",
      "  interactivity=interactivity, compiler=compiler, result=result)\n"
     ]
    },
    {
     "name": "stdout",
     "output_type": "stream",
     "text": [
      "eStromal           55612\n",
      "dStromal_mid       43790\n",
      "Mesen_dStromal     22381\n",
      "dStromal_early     16804\n",
      "Venous             15494\n",
      "                   ...  \n",
      "cDC1                 188\n",
      "dHormones            172\n",
      "Plasma_B_Cell         89\n",
      "Red_Blood_Cell        43\n",
      "Epi_cervix_KRT5       23\n",
      "Name: celltype, Length: 74, dtype: int64\n"
     ]
    }
   ],
   "source": [
    "annot_df = pd.read_csv('/nfs/team292/lg18/endometriosis/annotations/cells_endometrium.csv',index_col=0)\n",
    "annot_all = annot_df['Mareckova_celltype'].to_dict()\n",
    "annot = dict(annot_all)\n",
    "adata.obs['Mareckova_celltype'] = adata.obs_names.map(annot)\n",
    "print(adata.obs['Mareckova_celltype'].value_counts())\n",
    "\n",
    "annot_df = pd.read_csv('/nfs/team292/lg18/endometriosis/annotations/cells_endometrium_epithelial_CLEAN.csv',index_col=0)\n",
    "annot_df.at[annot_df['Mareckova_epi_celltype'] == 'Hormones', 'Mareckova_epi_celltype'] = 'eHormones'\n",
    "annot_df.at[annot_df['Mareckova_epi_celltype'] == 'Hormones_secretory', 'Mareckova_epi_celltype'] = 'eHormones'\n",
    "annot_df.head()\n",
    "annot1 = annot_df['Mareckova_epi_celltype'].to_dict()\n",
    "annot.update(annot1)\n",
    "\n",
    "\n",
    "annot_df = pd.read_csv('/nfs/team292/lg18/endometriosis/annotations/cells_endometrium_mesenchymal_CLEAN.csv',index_col=0)\n",
    "annot_df.at[annot_df['Mareckova_mesen_celltype'] == 'Hormones', 'Mareckova_mesen_celltype'] = 'sHormones'\n",
    "annot_df.head()\n",
    "annot2 = annot_df['Mareckova_mesen_celltype'].to_dict()\n",
    "annot.update(annot2)\n",
    "\n",
    "annot_df = pd.read_csv('/nfs/team292/lg18/endometriosis/annotations/cells_endometrium_endothelial.csv',index_col=0)\n",
    "annot_df.head()\n",
    "annot2 = annot_df['Mareckova_endo_celltype'].to_dict()\n",
    "annot.update(annot2)\n",
    "\n",
    "\n",
    "\n",
    "annot_df = pd.read_csv('/nfs/team292/lg18/endometriosis/annotations/cells_endometrium_immune.csv',index_col=0)\n",
    "annot_df.head()\n",
    "annot2 = annot_df['immune_subcluster_labels'].to_dict()\n",
    "annot.update(annot2)\n",
    "\n",
    "\n",
    "adata.obs['celltype'] = adata.obs_names.map(annot)\n",
    "print(adata.obs['celltype'].value_counts())"
   ]
  },
  {
   "cell_type": "code",
   "execution_count": 4,
   "metadata": {},
   "outputs": [
    {
     "name": "stdout",
     "output_type": "stream",
     "text": [
      "Mesen          195494\n",
      "Epi            112973\n",
      "Immune          45716\n",
      "Endothelial     23519\n",
      "LowQC            7549\n",
      "Doublet          5616\n",
      "Name: Mareckova_lineage, dtype: int64\n"
     ]
    }
   ],
   "source": [
    "annot_df = pd.read_csv('/nfs/team292/lg18/endometriosis/annotations/cells_endometrium.csv',index_col=0)\n",
    "annot = annot_df['Mareckova_lineage'].to_dict()\n",
    "\n",
    "\n",
    "adata.obs['Mareckova_lineage'] = adata.obs_names.map(annot)\n",
    "print(adata.obs['Mareckova_lineage'].value_counts())"
   ]
  },
  {
   "cell_type": "markdown",
   "metadata": {},
   "source": [
    "### Remove lowQC and doublets"
   ]
  },
  {
   "cell_type": "code",
   "execution_count": 5,
   "metadata": {},
   "outputs": [
    {
     "name": "stderr",
     "output_type": "stream",
     "text": [
      "/home/jovyan/my-conda-envs/sc_analysis/lib/python3.7/site-packages/pandas/core/arrays/categorical.py:2487: FutureWarning: The `inplace` parameter in pandas.Categorical.remove_unused_categories is deprecated and will be removed in a future version.\n",
      "  res = method(*args, **kwargs)\n",
      "/home/jovyan/my-conda-envs/sc_analysis/lib/python3.7/site-packages/anndata/_core/anndata.py:1208: ImplicitModificationWarning: Initializing view as actual.\n",
      "  \"Initializing view as actual.\", ImplicitModificationWarning\n",
      "Trying to set attribute `.obs` of view, copying.\n",
      "... storing 'Mareckova_celltype' as categorical\n",
      "Trying to set attribute `.obs` of view, copying.\n",
      "... storing 'celltype' as categorical\n",
      "Trying to set attribute `.obs` of view, copying.\n",
      "... storing 'Mareckova_lineage' as categorical\n",
      "findfont: Font family ['Arial'] not found. Falling back to DejaVu Sans.\n",
      "findfont: Font family ['Arial'] not found. Falling back to DejaVu Sans.\n"
     ]
    },
    {
     "data": {
      "image/png": "[encoded data removed]",
      "text/plain": [
       "<Figure size 320x320 with 1 Axes>"
      ]
     },
     "metadata": {},
     "output_type": "display_data"
    }
   ],
   "source": [
    "adata = adata[[ i not in ['Doublet', 'LowQC', 'Other'] for i in adata.obs['celltype'] ]]\n",
    "adata = adata[[ 'Epi_' not in i for i in adata.obs['celltype'] ]]\n",
    "adata = adata[[ 'Mesen_' not in i for i in adata.obs['celltype'] ]]\n",
    "adata = adata[[ 'Immune' not in i for i in adata.obs['celltype'] ]]\n",
    "adata = adata[[ 'Hormones' not in i for i in adata.obs['Binary Stage'] ]]\n",
    "sc.pl.umap(adata, color=['celltype'])"
   ]
  },
  {
   "cell_type": "markdown",
   "metadata": {},
   "source": [
    "## Normalise"
   ]
  },
  {
   "cell_type": "code",
   "execution_count": 6,
   "metadata": {},
   "outputs": [
    {
     "name": "stderr",
     "output_type": "stream",
     "text": [
      "normalizing by total count per cell\n",
      "    finished (0:00:08): normalized adata.X and added    'n_counts', counts per cell before normalization (adata.obs)\n"
     ]
    }
   ],
   "source": [
    "sc.pp.filter_genes(adata, min_cells = 5) # custom so that you don;t lose your gene\n",
    "sc.pp.filter_cells(adata, min_genes = 200)\n",
    "sc.pp.normalize_per_cell(adata, counts_per_cell_after=1e4)\n",
    "sc.pp.log1p(adata)"
   ]
  },
  {
   "cell_type": "code",
   "execution_count": 7,
   "metadata": {},
   "outputs": [
    {
     "data": {
      "text/plain": [
       "(256408, 17736)"
      ]
     },
     "execution_count": 7,
     "metadata": {},
     "output_type": "execute_result"
    }
   ],
   "source": [
    "adata.X.shape"
   ]
  },
  {
   "cell_type": "code",
   "execution_count": 8,
   "metadata": {},
   "outputs": [],
   "source": [
    "import rpy2.rinterface_lib.callbacks\n",
    "import logging\n",
    "# Itoliste R warning messages\n",
    "#Note: this can be commented out to get more verbose R output\n",
    "rpy2.rinterface_lib.callbacks.logger.setLevel(logging.ERROR)\n",
    "import anndata2ri\n",
    "anndata2ri.activate()\n",
    "%load_ext rpy2.ipython\n"
   ]
  },
  {
   "cell_type": "markdown",
   "metadata": {},
   "source": [
    "# DEGs within Immune"
   ]
  },
  {
   "cell_type": "code",
   "execution_count": 9,
   "metadata": {
    "tags": []
   },
   "outputs": [
    {
     "name": "stderr",
     "output_type": "stream",
     "text": [
      "/home/jovyan/my-conda-envs/sc_analysis/lib/python3.7/site-packages/pandas/core/arrays/categorical.py:2487: FutureWarning: The `inplace` parameter in pandas.Categorical.remove_unused_categories is deprecated and will be removed in a future version.\n",
      "  res = method(*args, **kwargs)\n"
     ]
    },
    {
     "data": {
      "text/plain": [
       "CD8_T                    5221\n",
       "uNK2                     4213\n",
       "CD4_T                    3835\n",
       "uNK3                     3157\n",
       "uNK1                     1318\n",
       "eM2                      1042\n",
       "Peripheral_Lymphocyte     903\n",
       "ILC3                      796\n",
       "eM1                       762\n",
       "T_Reg                     600\n",
       "cDC2                      537\n",
       "Monocyte                  467\n",
       "Mast_Cell                 446\n",
       "B_Cell                    343\n",
       "pDC                       209\n",
       "cDC1                      115\n",
       "Plasma_B_Cell              81\n",
       "Name: celltype, dtype: int64"
      ]
     },
     "execution_count": 9,
     "metadata": {},
     "output_type": "execute_result"
    }
   ],
   "source": [
    "adataDown = adata[[\"Immune\" in i for i in adata.obs.Mareckova_lineage ]]\n",
    "adataDown = adataDown[[ i in [\"G1\"] for i in adataDown.obs.phase ]] \n",
    "adataDown = adataDown[[ 'Cycling' not in i for i in adataDown.obs.celltype ]]\n",
    "adataDown = adataDown[[ 'Red_Blood_Cell' not in i for i in adataDown.obs.celltype ]]  \n",
    "adataDown.obs['celltype'].value_counts()"
   ]
  },
  {
   "cell_type": "code",
   "execution_count": 10,
   "metadata": {},
   "outputs": [
    {
     "name": "stderr",
     "output_type": "stream",
     "text": [
      "filtered out 19409 cells that have less than 2000 genes expressed\n",
      "Trying to set attribute `.obs` of view, copying.\n",
      "filtered out 1858 genes that are detected in less than 5 cells\n",
      "filtered out 1676 genes that are detected in less than 10 cells\n",
      "Trying to set attribute `.var` of view, copying.\n"
     ]
    },
    {
     "name": "stdout",
     "output_type": "stream",
     "text": [
      "uNK3                     200\n",
      "uNK1                     200\n",
      "ILC3                     200\n",
      "Monocyte                 200\n",
      "uNK2                     200\n",
      "CD4_T                    200\n",
      "cDC2                     200\n",
      "eM1                      200\n",
      "eM2                      200\n",
      "CD8_T                    196\n",
      "Mast_Cell                161\n",
      "pDC                      142\n",
      "cDC1                      79\n",
      "Peripheral_Lymphocyte     66\n",
      "T_Reg                     51\n",
      "B_Cell                    30\n",
      "Plasma_B_Cell             26\n",
      "Name: celltype, dtype: int64\n"
     ]
    }
   ],
   "source": [
    "import anndata\n",
    "sc.pp.filter_cells(adataDown, min_genes=2000)\n",
    "sc.pp.filter_genes(adataDown, min_cells=5)\n",
    "\n",
    "\n",
    "### Downsample to the smallest pop size\n",
    "target_cells = 200\n",
    "\n",
    "adataDown.obs['cell'] = adataDown.obs.index\n",
    "adatas = [adataDown[adataDown.obs['celltype'].isin([cl])] for cl in adataDown.obs['celltype'].cat.categories]\n",
    "\n",
    "for dat in adatas:\n",
    "    if dat.n_obs > target_cells:\n",
    "        sc.pp.subsample(dat, n_obs=target_cells, random_state=0)\n",
    "adata_downsampled = adatas[0].concatenate(*adatas[1:])\n",
    "adataDown = adataDown[[ i in adata_downsampled.obs.cell.tolist() for i in adataDown.obs['cell'] ]]\n",
    "\n",
    "sc.pp.filter_genes(adataDown, min_cells=10)\n",
    "print(adataDown.obs['celltype'].value_counts())\n",
    "\n",
    "del adata_downsampled\n",
    "del adatas"
   ]
  },
  {
   "cell_type": "code",
   "execution_count": 11,
   "metadata": {},
   "outputs": [],
   "source": [
    "# This is just to allow moving adata to R without errors\n",
    "adataDown.X = adataDown.X.toarray()\n",
    "\n",
    "idx = ['n_genes', 'sample',  'percent_mito', 'n_counts', 'batch', 'S_score', 'G2M_score', 'phase', \n",
    "       'scrublet_score', 'scrublet_cluster_score', 'zscore', 'bh_pval', 'bonf_pval', 'is_doublet']\n",
    "for i in idx:\n",
    "    del adataDown.obs[i]\n",
    "\n",
    "del adataDown.obsm['X_scVI']\n",
    "del adataDown.obsm['X_umap']\n",
    "del adataDown.obsp['connectivities']\n",
    "del adataDown.obsp['distances']\n",
    "del adataDown.uns"
   ]
  },
  {
   "cell_type": "code",
   "execution_count": 12,
   "metadata": {},
   "outputs": [
    {
     "name": "stdout",
     "output_type": "stream",
     "text": [
      "class: SingleCellExperiment \n",
      "dim: 14202 2551 \n",
      "metadata(0):\n",
      "assays(1): X\n",
      "rownames(14202): A1BG A2M ... ZYX ZZEF1\n",
      "rowData names(220): gene_ids.0.Fonseca feature_types.0.Fonseca ...\n",
      "  highly_variable_nbatches n_cells\n",
      "colnames(2551): HCA_A_RepT_RNA13247830_AACTTTCCAGTAACGG-Mareckova\n",
      "  HCA_A_RepT_RNA13247830_AATCCAGTCATCTGCC-Mareckova ...\n",
      "  GSM5572240_TTTCATGCAATTTCTC-Lai GSM5572240_TTTGATCAGTGTAGAT-Lai\n",
      "colData names(59): library StudyName ... Mareckova_lineage cell\n",
      "reducedDimNames(0):\n",
      "altExpNames(0):\n"
     ]
    }
   ],
   "source": [
    "%%R -i adataDown\n",
    "adataDown"
   ]
  },
  {
   "cell_type": "code",
   "execution_count": 13,
   "metadata": {},
   "outputs": [],
   "source": [
    "%%R -o DEGs\n",
    "\n",
    "library(Seurat)\n",
    "so = as.Seurat(adataDown, counts = \"X\", data = \"X\")\n",
    "Idents(so) = so$celltype\n",
    "\n",
    "# # Normalize\n",
    "# so <- NormalizeData(so, normalization.method = \"LogNormalize\", scale.factor = 10000)\n",
    "# so <- ScaleData(so, features = rownames(so))\n",
    "\n",
    "# Extract DEGs for each cell_type\n",
    "DEGs <- FindAllMarkers(so, \n",
    "                       verbose = F, \n",
    "                       only.pos = T, \n",
    "                       random.seed = 1, \n",
    "                       logfc.threshold = 0, \n",
    "                       min.pct = 0.1, \n",
    "                       return.thresh = 1)\n",
    "\n",
    "DEGs$cluster = factor(DEGs$cluster, levels = sort(unique(DEGs$cluster)) )\n",
    "# topgenes_DEGs = subset(DEGs, qval <= 0.05) %>%\n",
    "#   group_by(cluster) %>%\n",
    "#   group_map(~ head(.x, 30L)$gene) %>%\n",
    "#   unlist(.)"
   ]
  },
  {
   "cell_type": "code",
   "execution_count": 14,
   "metadata": {},
   "outputs": [
    {
     "data": {
      "text/html": [
       "<div>\n",
       "<style scoped>\n",
       "    .dataframe tbody tr th:only-of-type {\n",
       "        vertical-align: middle;\n",
       "    }\n",
       "\n",
       "    .dataframe tbody tr th {\n",
       "        vertical-align: top;\n",
       "    }\n",
       "\n",
       "    .dataframe thead th {\n",
       "        text-align: right;\n",
       "    }\n",
       "</style>\n",
       "<table border=\"1\" class=\"dataframe\">\n",
       "  <thead>\n",
       "    <tr style=\"text-align: right;\">\n",
       "      <th></th>\n",
       "      <th>p_val</th>\n",
       "      <th>avg_log2FC</th>\n",
       "      <th>pct.1</th>\n",
       "      <th>pct.2</th>\n",
       "      <th>p_val_adj</th>\n",
       "      <th>cluster</th>\n",
       "      <th>gene</th>\n",
       "    </tr>\n",
       "  </thead>\n",
       "  <tbody>\n",
       "    <tr>\n",
       "      <th>VPREB3</th>\n",
       "      <td>0.000000e+00</td>\n",
       "      <td>2.053047</td>\n",
       "      <td>0.733</td>\n",
       "      <td>0.003</td>\n",
       "      <td>0.000000e+00</td>\n",
       "      <td>B_Cell</td>\n",
       "      <td>VPREB3</td>\n",
       "    </tr>\n",
       "    <tr>\n",
       "      <th>PAX5</th>\n",
       "      <td>1.689819e-285</td>\n",
       "      <td>1.225766</td>\n",
       "      <td>0.600</td>\n",
       "      <td>0.001</td>\n",
       "      <td>2.399882e-281</td>\n",
       "      <td>B_Cell</td>\n",
       "      <td>PAX5</td>\n",
       "    </tr>\n",
       "    <tr>\n",
       "      <th>MS4A1</th>\n",
       "      <td>9.336961e-240</td>\n",
       "      <td>3.436603</td>\n",
       "      <td>0.967</td>\n",
       "      <td>0.015</td>\n",
       "      <td>1.326035e-235</td>\n",
       "      <td>B_Cell</td>\n",
       "      <td>MS4A1</td>\n",
       "    </tr>\n",
       "    <tr>\n",
       "      <th>TNFRSF13C</th>\n",
       "      <td>6.957436e-179</td>\n",
       "      <td>1.751628</td>\n",
       "      <td>0.733</td>\n",
       "      <td>0.011</td>\n",
       "      <td>9.880950e-175</td>\n",
       "      <td>B_Cell</td>\n",
       "      <td>TNFRSF13C</td>\n",
       "    </tr>\n",
       "    <tr>\n",
       "      <th>CD79A</th>\n",
       "      <td>1.572405e-133</td>\n",
       "      <td>3.276182</td>\n",
       "      <td>0.933</td>\n",
       "      <td>0.033</td>\n",
       "      <td>2.233129e-129</td>\n",
       "      <td>B_Cell</td>\n",
       "      <td>CD79A</td>\n",
       "    </tr>\n",
       "    <tr>\n",
       "      <th>...</th>\n",
       "      <td>...</td>\n",
       "      <td>...</td>\n",
       "      <td>...</td>\n",
       "      <td>...</td>\n",
       "      <td>...</td>\n",
       "      <td>...</td>\n",
       "      <td>...</td>\n",
       "    </tr>\n",
       "    <tr>\n",
       "      <th>RCN27</th>\n",
       "      <td>9.972549e-01</td>\n",
       "      <td>0.030383</td>\n",
       "      <td>0.370</td>\n",
       "      <td>0.405</td>\n",
       "      <td>1.000000e+00</td>\n",
       "      <td>uNK3</td>\n",
       "      <td>RCN2</td>\n",
       "    </tr>\n",
       "    <tr>\n",
       "      <th>NPM38</th>\n",
       "      <td>9.976179e-01</td>\n",
       "      <td>0.054557</td>\n",
       "      <td>0.125</td>\n",
       "      <td>0.131</td>\n",
       "      <td>1.000000e+00</td>\n",
       "      <td>uNK3</td>\n",
       "      <td>NPM3</td>\n",
       "    </tr>\n",
       "    <tr>\n",
       "      <th>UBR38</th>\n",
       "      <td>9.985260e-01</td>\n",
       "      <td>0.028227</td>\n",
       "      <td>0.160</td>\n",
       "      <td>0.168</td>\n",
       "      <td>1.000000e+00</td>\n",
       "      <td>uNK3</td>\n",
       "      <td>UBR3</td>\n",
       "    </tr>\n",
       "    <tr>\n",
       "      <th>DPY306</th>\n",
       "      <td>9.990516e-01</td>\n",
       "      <td>0.041843</td>\n",
       "      <td>0.365</td>\n",
       "      <td>0.399</td>\n",
       "      <td>1.000000e+00</td>\n",
       "      <td>uNK3</td>\n",
       "      <td>DPY30</td>\n",
       "    </tr>\n",
       "    <tr>\n",
       "      <th>MROH16</th>\n",
       "      <td>9.991296e-01</td>\n",
       "      <td>0.042477</td>\n",
       "      <td>0.130</td>\n",
       "      <td>0.137</td>\n",
       "      <td>1.000000e+00</td>\n",
       "      <td>uNK3</td>\n",
       "      <td>MROH1</td>\n",
       "    </tr>\n",
       "  </tbody>\n",
       "</table>\n",
       "<p>61855 rows × 7 columns</p>\n",
       "</div>"
      ],
      "text/plain": [
       "                   p_val  avg_log2FC  pct.1  pct.2      p_val_adj cluster  \\\n",
       "VPREB3      0.000000e+00    2.053047  0.733  0.003   0.000000e+00  B_Cell   \n",
       "PAX5       1.689819e-285    1.225766  0.600  0.001  2.399882e-281  B_Cell   \n",
       "MS4A1      9.336961e-240    3.436603  0.967  0.015  1.326035e-235  B_Cell   \n",
       "TNFRSF13C  6.957436e-179    1.751628  0.733  0.011  9.880950e-175  B_Cell   \n",
       "CD79A      1.572405e-133    3.276182  0.933  0.033  2.233129e-129  B_Cell   \n",
       "...                  ...         ...    ...    ...            ...     ...   \n",
       "RCN27       9.972549e-01    0.030383  0.370  0.405   1.000000e+00    uNK3   \n",
       "NPM38       9.976179e-01    0.054557  0.125  0.131   1.000000e+00    uNK3   \n",
       "UBR38       9.985260e-01    0.028227  0.160  0.168   1.000000e+00    uNK3   \n",
       "DPY306      9.990516e-01    0.041843  0.365  0.399   1.000000e+00    uNK3   \n",
       "MROH16      9.991296e-01    0.042477  0.130  0.137   1.000000e+00    uNK3   \n",
       "\n",
       "                gene  \n",
       "VPREB3        VPREB3  \n",
       "PAX5            PAX5  \n",
       "MS4A1          MS4A1  \n",
       "TNFRSF13C  TNFRSF13C  \n",
       "CD79A          CD79A  \n",
       "...              ...  \n",
       "RCN27           RCN2  \n",
       "NPM38           NPM3  \n",
       "UBR38           UBR3  \n",
       "DPY306         DPY30  \n",
       "MROH16         MROH1  \n",
       "\n",
       "[61855 rows x 7 columns]"
      ]
     },
     "execution_count": 14,
     "metadata": {},
     "output_type": "execute_result"
    }
   ],
   "source": [
    "DEGs"
   ]
  },
  {
   "cell_type": "code",
   "execution_count": 15,
   "metadata": {},
   "outputs": [],
   "source": [
    "DEGs.to_csv('/nfs/team292/lg18/endometriosis/cellphoneDB/input/spare_DEGs/immune_DEGs.tsv', index=False, sep='\\t')"
   ]
  },
  {
   "cell_type": "markdown",
   "metadata": {},
   "source": [
    "# DEGs within ENDOTHELIAL"
   ]
  },
  {
   "cell_type": "code",
   "execution_count": 16,
   "metadata": {},
   "outputs": [],
   "source": [
    "endothelials = ['Arterial',\n",
    "'Venous',\n",
    "'Lymphatic']"
   ]
  },
  {
   "cell_type": "code",
   "execution_count": 17,
   "metadata": {
    "tags": []
   },
   "outputs": [
    {
     "name": "stderr",
     "output_type": "stream",
     "text": [
      "/home/jovyan/my-conda-envs/sc_analysis/lib/python3.7/site-packages/pandas/core/arrays/categorical.py:2487: FutureWarning: The `inplace` parameter in pandas.Categorical.remove_unused_categories is deprecated and will be removed in a future version.\n",
      "  res = method(*args, **kwargs)\n"
     ]
    },
    {
     "data": {
      "text/plain": [
       "Venous       10686\n",
       "Arterial      1446\n",
       "Lymphatic      132\n",
       "Name: celltype, dtype: int64"
      ]
     },
     "execution_count": 17,
     "metadata": {},
     "output_type": "execute_result"
    }
   ],
   "source": [
    "adataDown = adata[[ \"Endo\" in i for i in adata.obs.Mareckova_lineage ]]\n",
    "adataDown = adataDown[[ i in endothelials for i in adataDown.obs.celltype ]] \n",
    "adataDown = adataDown[[ i in [\"G1\"] for i in adataDown.obs.phase ]] \n",
    "adataDown.obs['celltype'].value_counts()"
   ]
  },
  {
   "cell_type": "code",
   "execution_count": 18,
   "metadata": {},
   "outputs": [
    {
     "name": "stderr",
     "output_type": "stream",
     "text": [
      "filtered out 3284 cells that have less than 2000 genes expressed\n",
      "Trying to set attribute `.obs` of view, copying.\n",
      "filtered out 921 genes that are detected in less than 5 cells\n",
      "filtered out 3514 genes that are detected in less than 10 cells\n",
      "Trying to set attribute `.var` of view, copying.\n"
     ]
    },
    {
     "name": "stdout",
     "output_type": "stream",
     "text": [
      "Arterial     500\n",
      "Venous       500\n",
      "Lymphatic     77\n",
      "Name: celltype, dtype: int64\n"
     ]
    }
   ],
   "source": [
    "import anndata\n",
    "sc.pp.filter_cells(adataDown, min_genes=2000)\n",
    "sc.pp.filter_genes(adataDown, min_cells=5)\n",
    "\n",
    "### Downsample to the smallest pop size\n",
    "target_cells = 500\n",
    "\n",
    "adataDown.obs['cell'] = adataDown.obs.index\n",
    "adatas = [adataDown[adataDown.obs['celltype'].isin([cl])] for cl in adataDown.obs['celltype'].cat.categories]\n",
    "\n",
    "for dat in adatas:\n",
    "    if dat.n_obs > target_cells:\n",
    "        sc.pp.subsample(dat, n_obs=target_cells, random_state=0)\n",
    "adata_downsampled = adatas[0].concatenate(*adatas[1:])\n",
    "adataDown = adataDown[[ i in adata_downsampled.obs.cell.tolist() for i in adataDown.obs['cell'] ]]\n",
    "\n",
    "sc.pp.filter_genes(adataDown, min_cells=10)\n",
    "print(adataDown.obs['celltype'].value_counts())\n",
    "\n",
    "del adata_downsampled\n",
    "del adatas"
   ]
  },
  {
   "cell_type": "code",
   "execution_count": 19,
   "metadata": {},
   "outputs": [],
   "source": [
    "# This is just to allow moving adata to R without errors\n",
    "adataDown.X = adataDown.X.toarray()\n",
    "\n",
    "idx = ['n_genes', 'sample',  'percent_mito', 'n_counts', 'batch', 'S_score', 'G2M_score', 'phase', \n",
    "       'scrublet_score', 'scrublet_cluster_score', 'zscore', 'bh_pval', 'bonf_pval', 'is_doublet']\n",
    "for i in idx:\n",
    "    del adataDown.obs[i]\n",
    "\n",
    "del adataDown.obsm['X_scVI']\n",
    "del adataDown.obsm['X_umap']\n",
    "del adataDown.obsp['connectivities']\n",
    "del adataDown.obsp['distances']\n",
    "del adataDown.uns"
   ]
  },
  {
   "cell_type": "code",
   "execution_count": 20,
   "metadata": {},
   "outputs": [
    {
     "name": "stdout",
     "output_type": "stream",
     "text": [
      "class: SingleCellExperiment \n",
      "dim: 13301 1077 \n",
      "metadata(0):\n",
      "assays(1): X\n",
      "rownames(13301): A1BG A2M ... ZYX ZZEF1\n",
      "rowData names(220): gene_ids.0.Fonseca feature_types.0.Fonseca ...\n",
      "  highly_variable_nbatches n_cells\n",
      "colnames(1077): HCA_A_RepT_RNA13247830_AAACGGGGTAAATGTG-Mareckova\n",
      "  HCA_A_RepT_RNA13247830_AAAGATGAGCTGATAA-Mareckova ...\n",
      "  GSM5572240_TACATTCTCCGGCAGT-Lai GSM5572240_TAGGTTGAGTCATGGG-Lai\n",
      "colData names(59): library StudyName ... Mareckova_lineage cell\n",
      "reducedDimNames(0):\n",
      "altExpNames(0):\n"
     ]
    }
   ],
   "source": [
    "%%R -i adataDown\n",
    "adataDown"
   ]
  },
  {
   "cell_type": "code",
   "execution_count": 21,
   "metadata": {},
   "outputs": [],
   "source": [
    "%%R -o DEGs\n",
    "\n",
    "library(Seurat)\n",
    "so = as.Seurat(adataDown, counts = \"X\", data = \"X\")\n",
    "Idents(so) = so$celltype\n",
    "\n",
    "# # Normalize\n",
    "# so <- NormalizeData(so, normalization.method = \"LogNormalize\", scale.factor = 10000)\n",
    "# so <- ScaleData(so, features = rownames(so))\n",
    "\n",
    "# Extract DEGs for each cell_type\n",
    "DEGs <- FindAllMarkers(so, \n",
    "                       verbose = F, \n",
    "                       only.pos = T, \n",
    "                       random.seed = 1, \n",
    "                       logfc.threshold = 0, \n",
    "                       min.pct = 0.1, \n",
    "                       return.thresh = 1)\n",
    "\n",
    "DEGs$cluster = factor(DEGs$cluster, levels = sort(unique(DEGs$cluster)) )\n",
    "# topgenes_DEGs = subset(DEGs, qval <= 0.05) %>%\n",
    "#   group_by(cluster) %>%\n",
    "#   group_map(~ head(.x, 30L)$gene) %>%\n",
    "#   unlist(.)"
   ]
  },
  {
   "cell_type": "code",
   "execution_count": 22,
   "metadata": {},
   "outputs": [
    {
     "data": {
      "text/html": [
       "<div>\n",
       "<style scoped>\n",
       "    .dataframe tbody tr th:only-of-type {\n",
       "        vertical-align: middle;\n",
       "    }\n",
       "\n",
       "    .dataframe tbody tr th {\n",
       "        vertical-align: top;\n",
       "    }\n",
       "\n",
       "    .dataframe thead th {\n",
       "        text-align: right;\n",
       "    }\n",
       "</style>\n",
       "<table border=\"1\" class=\"dataframe\">\n",
       "  <thead>\n",
       "    <tr style=\"text-align: right;\">\n",
       "      <th></th>\n",
       "      <th>p_val</th>\n",
       "      <th>avg_log2FC</th>\n",
       "      <th>pct.1</th>\n",
       "      <th>pct.2</th>\n",
       "      <th>p_val_adj</th>\n",
       "      <th>cluster</th>\n",
       "      <th>gene</th>\n",
       "    </tr>\n",
       "  </thead>\n",
       "  <tbody>\n",
       "    <tr>\n",
       "      <th>SRP14</th>\n",
       "      <td>8.720508e-125</td>\n",
       "      <td>1.989842</td>\n",
       "      <td>1.000</td>\n",
       "      <td>0.997</td>\n",
       "      <td>1.159915e-120</td>\n",
       "      <td>Arterial</td>\n",
       "      <td>SRP14</td>\n",
       "    </tr>\n",
       "    <tr>\n",
       "      <th>GJA4</th>\n",
       "      <td>1.566498e-123</td>\n",
       "      <td>2.110800</td>\n",
       "      <td>0.824</td>\n",
       "      <td>0.097</td>\n",
       "      <td>2.083600e-119</td>\n",
       "      <td>Arterial</td>\n",
       "      <td>GJA4</td>\n",
       "    </tr>\n",
       "    <tr>\n",
       "      <th>EFNB2</th>\n",
       "      <td>1.443966e-113</td>\n",
       "      <td>1.860359</td>\n",
       "      <td>0.910</td>\n",
       "      <td>0.333</td>\n",
       "      <td>1.920619e-109</td>\n",
       "      <td>Arterial</td>\n",
       "      <td>EFNB2</td>\n",
       "    </tr>\n",
       "    <tr>\n",
       "      <th>SEMA3G</th>\n",
       "      <td>8.033439e-102</td>\n",
       "      <td>1.472171</td>\n",
       "      <td>0.638</td>\n",
       "      <td>0.026</td>\n",
       "      <td>1.068528e-97</td>\n",
       "      <td>Arterial</td>\n",
       "      <td>SEMA3G</td>\n",
       "    </tr>\n",
       "    <tr>\n",
       "      <th>ADAMTS6</th>\n",
       "      <td>5.719583e-99</td>\n",
       "      <td>1.746688</td>\n",
       "      <td>0.788</td>\n",
       "      <td>0.180</td>\n",
       "      <td>7.607617e-95</td>\n",
       "      <td>Arterial</td>\n",
       "      <td>ADAMTS6</td>\n",
       "    </tr>\n",
       "    <tr>\n",
       "      <th>...</th>\n",
       "      <td>...</td>\n",
       "      <td>...</td>\n",
       "      <td>...</td>\n",
       "      <td>...</td>\n",
       "      <td>...</td>\n",
       "      <td>...</td>\n",
       "      <td>...</td>\n",
       "    </tr>\n",
       "    <tr>\n",
       "      <th>RBBP71</th>\n",
       "      <td>9.955747e-01</td>\n",
       "      <td>0.001813</td>\n",
       "      <td>0.438</td>\n",
       "      <td>0.425</td>\n",
       "      <td>1.000000e+00</td>\n",
       "      <td>Venous</td>\n",
       "      <td>RBBP7</td>\n",
       "    </tr>\n",
       "    <tr>\n",
       "      <th>TCAF11</th>\n",
       "      <td>9.963100e-01</td>\n",
       "      <td>0.000601</td>\n",
       "      <td>0.460</td>\n",
       "      <td>0.442</td>\n",
       "      <td>1.000000e+00</td>\n",
       "      <td>Venous</td>\n",
       "      <td>TCAF1</td>\n",
       "    </tr>\n",
       "    <tr>\n",
       "      <th>NME41</th>\n",
       "      <td>9.973120e-01</td>\n",
       "      <td>0.005705</td>\n",
       "      <td>0.582</td>\n",
       "      <td>0.577</td>\n",
       "      <td>1.000000e+00</td>\n",
       "      <td>Venous</td>\n",
       "      <td>NME4</td>\n",
       "    </tr>\n",
       "    <tr>\n",
       "      <th>PEX141</th>\n",
       "      <td>9.980303e-01</td>\n",
       "      <td>0.003109</td>\n",
       "      <td>0.136</td>\n",
       "      <td>0.137</td>\n",
       "      <td>1.000000e+00</td>\n",
       "      <td>Venous</td>\n",
       "      <td>PEX14</td>\n",
       "    </tr>\n",
       "    <tr>\n",
       "      <th>USP37</th>\n",
       "      <td>9.995485e-01</td>\n",
       "      <td>0.004327</td>\n",
       "      <td>0.196</td>\n",
       "      <td>0.198</td>\n",
       "      <td>1.000000e+00</td>\n",
       "      <td>Venous</td>\n",
       "      <td>USP37</td>\n",
       "    </tr>\n",
       "  </tbody>\n",
       "</table>\n",
       "<p>13900 rows × 7 columns</p>\n",
       "</div>"
      ],
      "text/plain": [
       "                 p_val  avg_log2FC  pct.1  pct.2      p_val_adj   cluster  \\\n",
       "SRP14    8.720508e-125    1.989842  1.000  0.997  1.159915e-120  Arterial   \n",
       "GJA4     1.566498e-123    2.110800  0.824  0.097  2.083600e-119  Arterial   \n",
       "EFNB2    1.443966e-113    1.860359  0.910  0.333  1.920619e-109  Arterial   \n",
       "SEMA3G   8.033439e-102    1.472171  0.638  0.026   1.068528e-97  Arterial   \n",
       "ADAMTS6   5.719583e-99    1.746688  0.788  0.180   7.607617e-95  Arterial   \n",
       "...                ...         ...    ...    ...            ...       ...   \n",
       "RBBP71    9.955747e-01    0.001813  0.438  0.425   1.000000e+00    Venous   \n",
       "TCAF11    9.963100e-01    0.000601  0.460  0.442   1.000000e+00    Venous   \n",
       "NME41     9.973120e-01    0.005705  0.582  0.577   1.000000e+00    Venous   \n",
       "PEX141    9.980303e-01    0.003109  0.136  0.137   1.000000e+00    Venous   \n",
       "USP37     9.995485e-01    0.004327  0.196  0.198   1.000000e+00    Venous   \n",
       "\n",
       "            gene  \n",
       "SRP14      SRP14  \n",
       "GJA4        GJA4  \n",
       "EFNB2      EFNB2  \n",
       "SEMA3G    SEMA3G  \n",
       "ADAMTS6  ADAMTS6  \n",
       "...          ...  \n",
       "RBBP71     RBBP7  \n",
       "TCAF11     TCAF1  \n",
       "NME41       NME4  \n",
       "PEX141     PEX14  \n",
       "USP37      USP37  \n",
       "\n",
       "[13900 rows x 7 columns]"
      ]
     },
     "execution_count": 22,
     "metadata": {},
     "output_type": "execute_result"
    }
   ],
   "source": [
    "DEGs"
   ]
  },
  {
   "cell_type": "code",
   "execution_count": 24,
   "metadata": {},
   "outputs": [],
   "source": [
    "DEGs.to_csv('/nfs/team292/lg18/endometriosis/cellphoneDB/input/spare_DEGs/endothelial_DEGs.tsv', index=False, sep='\\t')"
   ]
  },
  {
   "cell_type": "markdown",
   "metadata": {},
   "source": [
    "# DEGs within EPITHELIALS"
   ]
  },
  {
   "cell_type": "code",
   "execution_count": null,
   "metadata": {},
   "outputs": [],
   "source": [
    "epithelials = ['preCiliated',\n",
    "'SOX9_basalis',\n",
    "'SOX9_functionalis_I',\n",
    "'SOX9_functionalis_II',\n",
    "'SOX9_luminal',\n",
    "'SOX9_basalis',\n",
    "'Ciliated',\n",
    "'preGlandular',\n",
    "'preLuminal',\n",
    "'Glandular',\n",
    "'Luminal',\n",
    "'Glandular_secretory',\n",
    "'Glandular_secretory_FGF7']"
   ]
  },
  {
   "cell_type": "code",
   "execution_count": null,
   "metadata": {
    "tags": []
   },
   "outputs": [],
   "source": [
    "adataDown = adata[[ \"Epi\" in i for i in adata.obs.Mareckova_lineage ]]\n",
    "adataDown = adataDown[[ i in epithelials for i in adataDown.obs.celltype ]] \n",
    "adataDown = adataDown[[ i in [\"G1\"] for i in adataDown.obs.phase ]] \n",
    "adataDown.obs['celltype'].value_counts()"
   ]
  },
  {
   "cell_type": "code",
   "execution_count": null,
   "metadata": {},
   "outputs": [],
   "source": [
    "import anndata\n",
    "sc.pp.filter_cells(adataDown, min_genes=2000)\n",
    "sc.pp.filter_genes(adataDown, min_cells=5)\n",
    "\n",
    "### Downsample to the smallest pop size\n",
    "target_cells = 500\n",
    "\n",
    "adataDown.obs['cell'] = adataDown.obs.index\n",
    "adatas = [adataDown[adataDown.obs['celltype'].isin([cl])] for cl in adataDown.obs['celltype'].cat.categories]\n",
    "\n",
    "for dat in adatas:\n",
    "    if dat.n_obs > target_cells:\n",
    "        sc.pp.subsample(dat, n_obs=target_cells, random_state=0)\n",
    "adata_downsampled = adatas[0].concatenate(*adatas[1:])\n",
    "adataDown = adataDown[[ i in adata_downsampled.obs.cell.tolist() for i in adataDown.obs['cell'] ]]\n",
    "\n",
    "sc.pp.filter_genes(adataDown, min_cells=10)\n",
    "print(adataDown.obs['celltype'].value_counts())\n",
    "\n",
    "del adata_downsampled\n",
    "del adatas"
   ]
  },
  {
   "cell_type": "code",
   "execution_count": null,
   "metadata": {},
   "outputs": [],
   "source": [
    "# This is just to allow moving adata to R without errors\n",
    "adataDown.X = adataDown.X.toarray()\n",
    "\n",
    "idx = ['n_genes', 'sample',  'percent_mito', 'n_counts', 'batch', 'S_score', 'G2M_score', 'phase', \n",
    "       'scrublet_score', 'scrublet_cluster_score', 'zscore', 'bh_pval', 'bonf_pval', 'is_doublet']\n",
    "for i in idx:\n",
    "    del adataDown.obs[i]\n",
    "\n",
    "del adataDown.obsm['X_scVI']\n",
    "del adataDown.obsm['X_umap']\n",
    "del adataDown.obsp['connectivities']\n",
    "del adataDown.obsp['distances']\n",
    "del adataDown.uns"
   ]
  },
  {
   "cell_type": "code",
   "execution_count": null,
   "metadata": {},
   "outputs": [],
   "source": [
    "%%R -i adataDown\n",
    "adataDown"
   ]
  },
  {
   "cell_type": "code",
   "execution_count": null,
   "metadata": {},
   "outputs": [],
   "source": [
    "%%R -o DEGs\n",
    "\n",
    "library(Seurat)\n",
    "so = as.Seurat(adataDown, counts = \"X\", data = \"X\")\n",
    "Idents(so) = so$celltype\n",
    "\n",
    "# # Normalize\n",
    "# so <- NormalizeData(so, normalization.method = \"LogNormalize\", scale.factor = 10000)\n",
    "# so <- ScaleData(so, features = rownames(so))\n",
    "\n",
    "# Extract DEGs for each cell_type\n",
    "DEGs <- FindAllMarkers(so, \n",
    "                       verbose = F, \n",
    "                       only.pos = T, \n",
    "                       random.seed = 1, \n",
    "                       logfc.threshold = 0, \n",
    "                       min.pct = 0.1, \n",
    "                       return.thresh = 1)\n",
    "\n",
    "DEGs$cluster = factor(DEGs$cluster, levels = sort(unique(DEGs$cluster)) )\n",
    "# topgenes_DEGs = subset(DEGs, qval <= 0.05) %>%\n",
    "#   group_by(cluster) %>%\n",
    "#   group_map(~ head(.x, 30L)$gene) %>%\n",
    "#   unlist(.)"
   ]
  },
  {
   "cell_type": "code",
   "execution_count": null,
   "metadata": {},
   "outputs": [],
   "source": [
    "DEGs"
   ]
  },
  {
   "cell_type": "code",
   "execution_count": null,
   "metadata": {},
   "outputs": [],
   "source": [
    "DEGs.to_csv('/nfs/team292/lg18/endometriosis/cellphoneDB/input/spare_DEGs/epithelial_DEGs.tsv', index=False, sep='\\t')"
   ]
  },
  {
   "cell_type": "code",
   "execution_count": null,
   "metadata": {
    "tags": []
   },
   "outputs": [],
   "source": [
    "# topgenes_DEGs = dict(zip(topgenes_DEGs.names, map(list,list(topgenes_DEGs)))) # this is to convert into a dictionary for plotting\n",
    "# for i in topgenes_DEGs.keys():\n",
    "#     topgenes_DEGs[i] = [value for value in topgenes_DEGs[i] if value in adata.var_names] \n",
    "    \n",
    "\n",
    "    \n",
    "# sc.pl.dotplot(adata, topgenes_DEGs, groupby='celltype', standard_scale = 'var')"
   ]
  },
  {
   "cell_type": "markdown",
   "metadata": {},
   "source": [
    "# DEGs within MESENCHYMALs"
   ]
  },
  {
   "cell_type": "code",
   "execution_count": null,
   "metadata": {},
   "outputs": [],
   "source": [
    "mesenchymal = ['ePV_2',\n",
    "'eStromal',\n",
    "'eStromal_MMPs',\n",
    "'ePV_1a',\n",
    "'ePV_1b',\n",
    "'Fibroblast_basalis',\n",
    "'dStromal_early',\n",
    "'dStromal_mid',\n",
    "'dStromal_late'\n",
    "]"
   ]
  },
  {
   "cell_type": "code",
   "execution_count": null,
   "metadata": {
    "tags": []
   },
   "outputs": [],
   "source": [
    "adataDown = adata[[ i in mesenchymal for i in adata.obs.celltype ]] \n",
    "adataDown = adataDown[[ i in [\"G1\"] for i in adataDown.obs.phase ]] \n",
    "adataDown.obs['celltype'].value_counts()"
   ]
  },
  {
   "cell_type": "code",
   "execution_count": null,
   "metadata": {},
   "outputs": [],
   "source": [
    "import anndata\n",
    "sc.pp.filter_cells(adataDown, min_genes=2000)\n",
    "sc.pp.filter_genes(adataDown, min_cells=5)\n",
    "\n",
    "\n",
    "### Downsample to the smallest pop size\n",
    "target_cells = 1000\n",
    "\n",
    "adataDown.obs['cell'] = adataDown.obs.index\n",
    "adatas = [adataDown[adataDown.obs['celltype'].isin([cl])] for cl in adataDown.obs['celltype'].cat.categories]\n",
    "\n",
    "for dat in adatas:\n",
    "    if dat.n_obs > target_cells:\n",
    "        sc.pp.subsample(dat, n_obs=target_cells, random_state=0)\n",
    "adata_downsampled = adatas[0].concatenate(*adatas[1:])\n",
    "adataDown = adataDown[[ i in adata_downsampled.obs.cell.tolist() for i in adataDown.obs['cell'] ]]\n",
    "\n",
    "sc.pp.filter_genes(adataDown, min_cells=10)\n",
    "print(adataDown.obs['celltype'].value_counts())\n",
    "\n",
    "del adata_downsampled\n",
    "del adatas"
   ]
  },
  {
   "cell_type": "code",
   "execution_count": null,
   "metadata": {},
   "outputs": [],
   "source": [
    "# This is just to allow moving adata to R without errors\n",
    "adataDown.X = adataDown.X.toarray()\n",
    "\n",
    "idx = ['n_genes', 'sample',  'percent_mito', 'n_counts', 'batch', 'S_score', 'G2M_score', 'phase', \n",
    "       'scrublet_score', 'scrublet_cluster_score', 'zscore', 'bh_pval', 'bonf_pval', 'is_doublet']\n",
    "for i in idx:\n",
    "    del adataDown.obs[i]\n",
    "\n",
    "del adataDown.obsm['X_scVI']\n",
    "del adataDown.obsm['X_umap']\n",
    "del adataDown.obsp['connectivities']\n",
    "del adataDown.obsp['distances']\n",
    "del adataDown.uns"
   ]
  },
  {
   "cell_type": "code",
   "execution_count": null,
   "metadata": {},
   "outputs": [],
   "source": [
    "%%R -i adataDown\n",
    "adataDown"
   ]
  },
  {
   "cell_type": "code",
   "execution_count": null,
   "metadata": {},
   "outputs": [],
   "source": [
    "%%R -o DEGs\n",
    "\n",
    "library(Seurat)\n",
    "so = as.Seurat(adataDown, counts = \"X\", data = \"X\")\n",
    "Idents(so) = so$celltype\n",
    "\n",
    "# # Normalize\n",
    "# so <- NormalizeData(so, normalization.method = \"LogNormalize\", scale.factor = 10000)\n",
    "# so <- ScaleData(so, features = rownames(so))\n",
    "\n",
    "# Extract DEGs for each cell_type\n",
    "DEGs <- FindAllMarkers(so, \n",
    "                       verbose = F, \n",
    "                       only.pos = T, \n",
    "                       random.seed = 1, \n",
    "                       logfc.threshold = 0, \n",
    "                       min.pct = 0.1, \n",
    "                       return.thresh = 1)\n",
    "\n",
    "DEGs$cluster = factor(DEGs$cluster, levels = sort(unique(DEGs$cluster)) )\n",
    "# topgenes_DEGs = subset(DEGs, qval <= 0.05) %>%\n",
    "#   group_by(cluster) %>%\n",
    "#   group_map(~ head(.x, 30L)$gene) %>%\n",
    "#   unlist(.)"
   ]
  },
  {
   "cell_type": "code",
   "execution_count": null,
   "metadata": {},
   "outputs": [],
   "source": [
    "DEGs"
   ]
  },
  {
   "cell_type": "code",
   "execution_count": null,
   "metadata": {},
   "outputs": [],
   "source": [
    "DEGs.to_csv('/nfs/team292/lg18/endometriosis/cellphoneDB/input/spare_DEGs/mesenchymal_DEGs.tsv', index=False, sep='\\t')"
   ]
  },
  {
   "cell_type": "code",
   "execution_count": null,
   "metadata": {
    "tags": []
   },
   "outputs": [],
   "source": [
    "# topgenes_DEGs = dict(zip(topgenes_DEGs.names, map(list,list(topgenes_DEGs)))) # this is to convert into a dictionary for plotting\n",
    "# for i in topgenes_DEGs.keys():\n",
    "#     topgenes_DEGs[i] = [value for value in topgenes_DEGs[i] if value in adata.var_names] \n",
    "    \n",
    "\n",
    "    \n",
    "# sc.pl.dotplot(adata, topgenes_DEGs, groupby='celltype', standard_scale = 'var')"
   ]
  },
  {
   "cell_type": "code",
   "execution_count": null,
   "metadata": {},
   "outputs": [],
   "source": [
    "sDEGs = DEGs[ DEGs.p_val_adj < 0.05 ]\n",
    "sDEGs = sDEGs[ sDEGs.avg_log2FC > 1 ]\n",
    "sDEGs = sDEGs[ sDEGs['pct.2'] < 0.5 ]\n",
    "sDEGs.cluster.value_counts()"
   ]
  },
  {
   "cell_type": "code",
   "execution_count": null,
   "metadata": {},
   "outputs": [],
   "source": [
    "sDEGs[ ['dStromal' in i for i in sDEGs.cluster] ]"
   ]
  },
  {
   "cell_type": "code",
   "execution_count": null,
   "metadata": {},
   "outputs": [],
   "source": [
    "sc.pl.dotplot( adata[[ 'Mesen' in i for i in adata.obs.Mareckova_lineage ]] , sDEGs[ ['dStromal' in i for i in sDEGs.cluster] ].gene, groupby='celltype', standard_scale='var')"
   ]
  },
  {
   "cell_type": "markdown",
   "metadata": {},
   "source": [
    "# DEGs within STROMAL"
   ]
  },
  {
   "cell_type": "code",
   "execution_count": null,
   "metadata": {},
   "outputs": [],
   "source": [
    "mesenchymal = [\n",
    "    'eStromal',\n",
    "    'eStromal_MMPs',\n",
    "    'dStromal_early',\n",
    "    'dStromal_mid',\n",
    "    'dStromal_late'\n",
    "]"
   ]
  },
  {
   "cell_type": "code",
   "execution_count": null,
   "metadata": {
    "tags": []
   },
   "outputs": [],
   "source": [
    "adataDown = adata[[ i in mesenchymal for i in adata.obs.celltype ]] \n",
    "adataDown = adataDown[[ i in [\"G1\"] for i in adataDown.obs.phase ]] \n",
    "adataDown.obs['celltype'].value_counts()"
   ]
  },
  {
   "cell_type": "code",
   "execution_count": null,
   "metadata": {},
   "outputs": [],
   "source": [
    "import anndata\n",
    "sc.pp.filter_cells(adataDown, min_genes=2000)\n",
    "sc.pp.filter_genes(adataDown, min_cells=5)\n",
    "\n",
    "\n",
    "### Downsample to the smallest pop size\n",
    "target_cells = 2000\n",
    "\n",
    "adataDown.obs['cell'] = adataDown.obs.index\n",
    "adatas = [adataDown[adataDown.obs['celltype'].isin([cl])] for cl in adataDown.obs['celltype'].cat.categories]\n",
    "\n",
    "for dat in adatas:\n",
    "    if dat.n_obs > target_cells:\n",
    "        sc.pp.subsample(dat, n_obs=target_cells, random_state=0)\n",
    "adata_downsampled = adatas[0].concatenate(*adatas[1:])\n",
    "adataDown = adataDown[[ i in adata_downsampled.obs.cell.tolist() for i in adataDown.obs['cell'] ]]\n",
    "\n",
    "sc.pp.filter_genes(adataDown, min_cells=10)\n",
    "print(adataDown.obs['celltype'].value_counts())\n",
    "\n",
    "del adata_downsampled\n",
    "del adatas"
   ]
  },
  {
   "cell_type": "code",
   "execution_count": null,
   "metadata": {},
   "outputs": [],
   "source": [
    "# This is just to allow moving adata to R without errors\n",
    "adataDown.X = adataDown.X.toarray()\n",
    "\n",
    "idx = ['n_genes', 'sample',  'percent_mito', 'n_counts', 'batch', 'S_score', 'G2M_score', 'phase', \n",
    "       'scrublet_score', 'scrublet_cluster_score', 'zscore', 'bh_pval', 'bonf_pval', 'is_doublet']\n",
    "for i in idx:\n",
    "    del adataDown.obs[i]\n",
    "\n",
    "del adataDown.obsm['X_scVI']\n",
    "del adataDown.obsm['X_umap']\n",
    "del adataDown.obsp['connectivities']\n",
    "del adataDown.obsp['distances']\n",
    "del adataDown.uns"
   ]
  },
  {
   "cell_type": "code",
   "execution_count": null,
   "metadata": {},
   "outputs": [],
   "source": [
    "%%R -i adataDown\n",
    "adataDown"
   ]
  },
  {
   "cell_type": "code",
   "execution_count": null,
   "metadata": {},
   "outputs": [],
   "source": [
    "%%R -o DEGs\n",
    "\n",
    "library(Seurat)\n",
    "so = as.Seurat(adataDown, counts = \"X\", data = \"X\")\n",
    "Idents(so) = so$celltype\n",
    "\n",
    "# # Normalize\n",
    "# so <- NormalizeData(so, normalization.method = \"LogNormalize\", scale.factor = 10000)\n",
    "# so <- ScaleData(so, features = rownames(so))\n",
    "\n",
    "# Extract DEGs for each cell_type\n",
    "DEGs <- FindAllMarkers(so, \n",
    "                       verbose = F, \n",
    "                       only.pos = T, \n",
    "                       random.seed = 1, \n",
    "                       logfc.threshold = 0, \n",
    "                       min.pct = 0.1, \n",
    "                       return.thresh = 1)\n",
    "\n",
    "DEGs$cluster = factor(DEGs$cluster, levels = sort(unique(DEGs$cluster)) )\n",
    "# topgenes_DEGs = subset(DEGs, qval <= 0.05) %>%\n",
    "#   group_by(cluster) %>%\n",
    "#   group_map(~ head(.x, 30L)$gene) %>%\n",
    "#   unlist(.)"
   ]
  },
  {
   "cell_type": "code",
   "execution_count": null,
   "metadata": {},
   "outputs": [],
   "source": [
    "DEGs"
   ]
  },
  {
   "cell_type": "code",
   "execution_count": null,
   "metadata": {},
   "outputs": [],
   "source": [
    "DEGs.to_csv('DEGs/dStromalMid_vs_dStromalLate.tsv', index=False, sep='\\t')\n",
    "DEGs.to_csv('/nfs/team292/lg18/endometriosis/cellphoneDB/input/spare_DEGs/stromal_DEGs.tsv', index=False, sep='\\t')"
   ]
  },
  {
   "cell_type": "code",
   "execution_count": null,
   "metadata": {
    "tags": []
   },
   "outputs": [],
   "source": [
    "# topgenes_DEGs = dict(zip(topgenes_DEGs.names, map(list,list(topgenes_DEGs)))) # this is to convert into a dictionary for plotting\n",
    "# for i in topgenes_DEGs.keys():\n",
    "#     topgenes_DEGs[i] = [value for value in topgenes_DEGs[i] if value in adata.var_names] \n",
    "    \n",
    "\n",
    "    \n",
    "# sc.pl.dotplot(adata, topgenes_DEGs, groupby='celltype', standard_scale = 'var')"
   ]
  },
  {
   "cell_type": "code",
   "execution_count": null,
   "metadata": {},
   "outputs": [],
   "source": [
    "sDEGs = DEGs[ DEGs.p_val_adj < 0.05 ]\n",
    "sDEGs = sDEGs[ sDEGs.avg_log2FC > 0.75 ]\n",
    "sDEGs = sDEGs[ sDEGs['pct.2'] < 0.5 ]\n",
    "sDEGs.cluster.value_counts()"
   ]
  },
  {
   "cell_type": "code",
   "execution_count": null,
   "metadata": {},
   "outputs": [],
   "source": [
    "sDEGs[ ['dStromal_late' in i for i in sDEGs.cluster] ]"
   ]
  },
  {
   "cell_type": "code",
   "execution_count": null,
   "metadata": {},
   "outputs": [],
   "source": [
    "sc.pl.dotplot( adata[[ 'Stromal' in i for i in adata.obs.celltype ]] , sDEGs[ ['dStromal_late' in i for i in sDEGs.cluster] ].gene, groupby='celltype', standard_scale='var')"
   ]
  }
 ],
 "metadata": {
  "kernelspec": {
   "display_name": "Python sc_analysis",
   "language": "python",
   "name": "sc_analysis"
  },
  "language_info": {
   "codemirror_mode": {
    "name": "ipython",
    "version": 3
   },
   "file_extension": ".py",
   "mimetype": "text/x-python",
   "name": "python",
   "nbconvert_exporter": "python",
   "pygments_lexer": "ipython3",
   "version": "3.7.10"
  }
 },
 "nbformat": 4,
 "nbformat_minor": 4
}
