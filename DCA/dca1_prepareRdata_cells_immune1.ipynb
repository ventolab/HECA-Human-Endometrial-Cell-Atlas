{
 "cells": [
  {
   "cell_type": "markdown",
   "metadata": {},
   "source": [
    "# Generate seurat object\n"
   ]
  },
  {
   "cell_type": "code",
   "execution_count": 3,
   "metadata": {},
   "outputs": [
    {
     "data": {
      "text/plain": [
       "'/home/jovyan/my-conda-envs/sc_analysis/bin/python'"
      ]
     },
     "execution_count": 3,
     "metadata": {},
     "output_type": "execute_result"
    }
   ],
   "source": [
    "import numpy as np\n",
    "import pandas as pd\n",
    "import scanpy as sc\n",
    "import anndata\n",
    "import os\n",
    "import sys\n",
    "from scipy import sparse\n",
    "\n",
    "\n",
    "\n",
    "sc.settings.verbosity = 1  # verbosity: errors (0), warnings (1), info (2), hints (3)\n",
    "sys.executable"
   ]
  },
  {
   "cell_type": "markdown",
   "metadata": {},
   "source": [
    "## Load data for samples of interest"
   ]
  },
  {
   "cell_type": "code",
   "execution_count": 4,
   "metadata": {},
   "outputs": [
    {
     "data": {
      "text/html": [
       "<div>\n",
       "<style scoped>\n",
       "    .dataframe tbody tr th:only-of-type {\n",
       "        vertical-align: middle;\n",
       "    }\n",
       "\n",
       "    .dataframe tbody tr th {\n",
       "        vertical-align: top;\n",
       "    }\n",
       "\n",
       "    .dataframe thead th {\n",
       "        text-align: right;\n",
       "    }\n",
       "</style>\n",
       "<table border=\"1\" class=\"dataframe\">\n",
       "  <thead>\n",
       "    <tr style=\"text-align: right;\">\n",
       "      <th></th>\n",
       "      <th>n_genes</th>\n",
       "      <th>sample</th>\n",
       "      <th>library</th>\n",
       "      <th>StudyName</th>\n",
       "      <th>SampleID</th>\n",
       "      <th>Lane</th>\n",
       "      <th>Processing</th>\n",
       "      <th>Type</th>\n",
       "      <th>BiopsyType</th>\n",
       "      <th>BiopsyType_II</th>\n",
       "      <th>...</th>\n",
       "      <th>Mareckova_celltype</th>\n",
       "      <th>Mareckova_epi_celltype</th>\n",
       "      <th>Mareckova_mesen_celltype</th>\n",
       "      <th>Biopsy_type</th>\n",
       "      <th>Tissue_sampled</th>\n",
       "      <th>Spatial_location</th>\n",
       "      <th>Ectopic_group</th>\n",
       "      <th>BiopsyType_old</th>\n",
       "      <th>Endometrial_pathology</th>\n",
       "      <th>Age</th>\n",
       "    </tr>\n",
       "  </thead>\n",
       "  <tbody>\n",
       "    <tr>\n",
       "      <th>HCA_A_RepT_RNA13247830_AAACCTGAGCGATGAC-Mareckova</th>\n",
       "      <td>1981</td>\n",
       "      <td>HCA_A_RepT_RNA13247830</td>\n",
       "      <td>HCA_A_RepT_RNA13247830</td>\n",
       "      <td>CBTM</td>\n",
       "      <td>HCA_A_RepT_RNA13247830</td>\n",
       "      <td>0.0</td>\n",
       "      <td>Fresh</td>\n",
       "      <td>Cells</td>\n",
       "      <td>Organ_Donor</td>\n",
       "      <td>NaN</td>\n",
       "      <td>...</td>\n",
       "      <td>Mesen_mPV</td>\n",
       "      <td>NaN</td>\n",
       "      <td>PVe_STEAP4</td>\n",
       "      <td>Whole_Uterus</td>\n",
       "      <td>eutopic_endometrium</td>\n",
       "      <td>NaN</td>\n",
       "      <td>NaN</td>\n",
       "      <td>Organ_Donor</td>\n",
       "      <td>C</td>\n",
       "      <td>37</td>\n",
       "    </tr>\n",
       "    <tr>\n",
       "      <th>HCA_A_RepT_RNA13247830_AAACCTGAGCTAGGCA-Mareckova</th>\n",
       "      <td>3492</td>\n",
       "      <td>HCA_A_RepT_RNA13247830</td>\n",
       "      <td>HCA_A_RepT_RNA13247830</td>\n",
       "      <td>CBTM</td>\n",
       "      <td>HCA_A_RepT_RNA13247830</td>\n",
       "      <td>0.0</td>\n",
       "      <td>Fresh</td>\n",
       "      <td>Cells</td>\n",
       "      <td>Organ_Donor</td>\n",
       "      <td>NaN</td>\n",
       "      <td>...</td>\n",
       "      <td>Mesen_dS</td>\n",
       "      <td>NaN</td>\n",
       "      <td>eS</td>\n",
       "      <td>Whole_Uterus</td>\n",
       "      <td>eutopic_endometrium</td>\n",
       "      <td>NaN</td>\n",
       "      <td>NaN</td>\n",
       "      <td>Organ_Donor</td>\n",
       "      <td>C</td>\n",
       "      <td>37</td>\n",
       "    </tr>\n",
       "    <tr>\n",
       "      <th>HCA_A_RepT_RNA13247830_AAACCTGAGGCAGTCA-Mareckova</th>\n",
       "      <td>4832</td>\n",
       "      <td>HCA_A_RepT_RNA13247830</td>\n",
       "      <td>HCA_A_RepT_RNA13247830</td>\n",
       "      <td>CBTM</td>\n",
       "      <td>HCA_A_RepT_RNA13247830</td>\n",
       "      <td>0.0</td>\n",
       "      <td>Fresh</td>\n",
       "      <td>Cells</td>\n",
       "      <td>Organ_Donor</td>\n",
       "      <td>NaN</td>\n",
       "      <td>...</td>\n",
       "      <td>Epithelial_Prolif</td>\n",
       "      <td>NaN</td>\n",
       "      <td>NaN</td>\n",
       "      <td>Whole_Uterus</td>\n",
       "      <td>eutopic_endometrium</td>\n",
       "      <td>NaN</td>\n",
       "      <td>NaN</td>\n",
       "      <td>Organ_Donor</td>\n",
       "      <td>C</td>\n",
       "      <td>37</td>\n",
       "    </tr>\n",
       "    <tr>\n",
       "      <th>HCA_A_RepT_RNA13247830_AAACCTGCACCAACCG-Mareckova</th>\n",
       "      <td>2967</td>\n",
       "      <td>HCA_A_RepT_RNA13247830</td>\n",
       "      <td>HCA_A_RepT_RNA13247830</td>\n",
       "      <td>CBTM</td>\n",
       "      <td>HCA_A_RepT_RNA13247830</td>\n",
       "      <td>0.0</td>\n",
       "      <td>Fresh</td>\n",
       "      <td>Cells</td>\n",
       "      <td>Organ_Donor</td>\n",
       "      <td>NaN</td>\n",
       "      <td>...</td>\n",
       "      <td>Endothelial</td>\n",
       "      <td>NaN</td>\n",
       "      <td>NaN</td>\n",
       "      <td>Whole_Uterus</td>\n",
       "      <td>eutopic_endometrium</td>\n",
       "      <td>NaN</td>\n",
       "      <td>NaN</td>\n",
       "      <td>Organ_Donor</td>\n",
       "      <td>C</td>\n",
       "      <td>37</td>\n",
       "    </tr>\n",
       "    <tr>\n",
       "      <th>HCA_A_RepT_RNA13247830_AAACCTGCACCTGGTG-Mareckova</th>\n",
       "      <td>2597</td>\n",
       "      <td>HCA_A_RepT_RNA13247830</td>\n",
       "      <td>HCA_A_RepT_RNA13247830</td>\n",
       "      <td>CBTM</td>\n",
       "      <td>HCA_A_RepT_RNA13247830</td>\n",
       "      <td>0.0</td>\n",
       "      <td>Fresh</td>\n",
       "      <td>Cells</td>\n",
       "      <td>Organ_Donor</td>\n",
       "      <td>NaN</td>\n",
       "      <td>...</td>\n",
       "      <td>Mesen_mPV</td>\n",
       "      <td>NaN</td>\n",
       "      <td>PVe_STEAP4</td>\n",
       "      <td>Whole_Uterus</td>\n",
       "      <td>eutopic_endometrium</td>\n",
       "      <td>NaN</td>\n",
       "      <td>NaN</td>\n",
       "      <td>Organ_Donor</td>\n",
       "      <td>C</td>\n",
       "      <td>37</td>\n",
       "    </tr>\n",
       "  </tbody>\n",
       "</table>\n",
       "<p>5 rows × 70 columns</p>\n",
       "</div>"
      ],
      "text/plain": [
       "                                                   n_genes  \\\n",
       "HCA_A_RepT_RNA13247830_AAACCTGAGCGATGAC-Mareckova     1981   \n",
       "HCA_A_RepT_RNA13247830_AAACCTGAGCTAGGCA-Mareckova     3492   \n",
       "HCA_A_RepT_RNA13247830_AAACCTGAGGCAGTCA-Mareckova     4832   \n",
       "HCA_A_RepT_RNA13247830_AAACCTGCACCAACCG-Mareckova     2967   \n",
       "HCA_A_RepT_RNA13247830_AAACCTGCACCTGGTG-Mareckova     2597   \n",
       "\n",
       "                                                                   sample  \\\n",
       "HCA_A_RepT_RNA13247830_AAACCTGAGCGATGAC-Mareckova  HCA_A_RepT_RNA13247830   \n",
       "HCA_A_RepT_RNA13247830_AAACCTGAGCTAGGCA-Mareckova  HCA_A_RepT_RNA13247830   \n",
       "HCA_A_RepT_RNA13247830_AAACCTGAGGCAGTCA-Mareckova  HCA_A_RepT_RNA13247830   \n",
       "HCA_A_RepT_RNA13247830_AAACCTGCACCAACCG-Mareckova  HCA_A_RepT_RNA13247830   \n",
       "HCA_A_RepT_RNA13247830_AAACCTGCACCTGGTG-Mareckova  HCA_A_RepT_RNA13247830   \n",
       "\n",
       "                                                                  library  \\\n",
       "HCA_A_RepT_RNA13247830_AAACCTGAGCGATGAC-Mareckova  HCA_A_RepT_RNA13247830   \n",
       "HCA_A_RepT_RNA13247830_AAACCTGAGCTAGGCA-Mareckova  HCA_A_RepT_RNA13247830   \n",
       "HCA_A_RepT_RNA13247830_AAACCTGAGGCAGTCA-Mareckova  HCA_A_RepT_RNA13247830   \n",
       "HCA_A_RepT_RNA13247830_AAACCTGCACCAACCG-Mareckova  HCA_A_RepT_RNA13247830   \n",
       "HCA_A_RepT_RNA13247830_AAACCTGCACCTGGTG-Mareckova  HCA_A_RepT_RNA13247830   \n",
       "\n",
       "                                                  StudyName  \\\n",
       "HCA_A_RepT_RNA13247830_AAACCTGAGCGATGAC-Mareckova      CBTM   \n",
       "HCA_A_RepT_RNA13247830_AAACCTGAGCTAGGCA-Mareckova      CBTM   \n",
       "HCA_A_RepT_RNA13247830_AAACCTGAGGCAGTCA-Mareckova      CBTM   \n",
       "HCA_A_RepT_RNA13247830_AAACCTGCACCAACCG-Mareckova      CBTM   \n",
       "HCA_A_RepT_RNA13247830_AAACCTGCACCTGGTG-Mareckova      CBTM   \n",
       "\n",
       "                                                                 SampleID  \\\n",
       "HCA_A_RepT_RNA13247830_AAACCTGAGCGATGAC-Mareckova  HCA_A_RepT_RNA13247830   \n",
       "HCA_A_RepT_RNA13247830_AAACCTGAGCTAGGCA-Mareckova  HCA_A_RepT_RNA13247830   \n",
       "HCA_A_RepT_RNA13247830_AAACCTGAGGCAGTCA-Mareckova  HCA_A_RepT_RNA13247830   \n",
       "HCA_A_RepT_RNA13247830_AAACCTGCACCAACCG-Mareckova  HCA_A_RepT_RNA13247830   \n",
       "HCA_A_RepT_RNA13247830_AAACCTGCACCTGGTG-Mareckova  HCA_A_RepT_RNA13247830   \n",
       "\n",
       "                                                   Lane Processing   Type  \\\n",
       "HCA_A_RepT_RNA13247830_AAACCTGAGCGATGAC-Mareckova   0.0      Fresh  Cells   \n",
       "HCA_A_RepT_RNA13247830_AAACCTGAGCTAGGCA-Mareckova   0.0      Fresh  Cells   \n",
       "HCA_A_RepT_RNA13247830_AAACCTGAGGCAGTCA-Mareckova   0.0      Fresh  Cells   \n",
       "HCA_A_RepT_RNA13247830_AAACCTGCACCAACCG-Mareckova   0.0      Fresh  Cells   \n",
       "HCA_A_RepT_RNA13247830_AAACCTGCACCTGGTG-Mareckova   0.0      Fresh  Cells   \n",
       "\n",
       "                                                    BiopsyType BiopsyType_II  \\\n",
       "HCA_A_RepT_RNA13247830_AAACCTGAGCGATGAC-Mareckova  Organ_Donor           NaN   \n",
       "HCA_A_RepT_RNA13247830_AAACCTGAGCTAGGCA-Mareckova  Organ_Donor           NaN   \n",
       "HCA_A_RepT_RNA13247830_AAACCTGAGGCAGTCA-Mareckova  Organ_Donor           NaN   \n",
       "HCA_A_RepT_RNA13247830_AAACCTGCACCAACCG-Mareckova  Organ_Donor           NaN   \n",
       "HCA_A_RepT_RNA13247830_AAACCTGCACCTGGTG-Mareckova  Organ_Donor           NaN   \n",
       "\n",
       "                                                   ... Mareckova_celltype  \\\n",
       "HCA_A_RepT_RNA13247830_AAACCTGAGCGATGAC-Mareckova  ...          Mesen_mPV   \n",
       "HCA_A_RepT_RNA13247830_AAACCTGAGCTAGGCA-Mareckova  ...           Mesen_dS   \n",
       "HCA_A_RepT_RNA13247830_AAACCTGAGGCAGTCA-Mareckova  ...  Epithelial_Prolif   \n",
       "HCA_A_RepT_RNA13247830_AAACCTGCACCAACCG-Mareckova  ...        Endothelial   \n",
       "HCA_A_RepT_RNA13247830_AAACCTGCACCTGGTG-Mareckova  ...          Mesen_mPV   \n",
       "\n",
       "                                                  Mareckova_epi_celltype  \\\n",
       "HCA_A_RepT_RNA13247830_AAACCTGAGCGATGAC-Mareckova                    NaN   \n",
       "HCA_A_RepT_RNA13247830_AAACCTGAGCTAGGCA-Mareckova                    NaN   \n",
       "HCA_A_RepT_RNA13247830_AAACCTGAGGCAGTCA-Mareckova                    NaN   \n",
       "HCA_A_RepT_RNA13247830_AAACCTGCACCAACCG-Mareckova                    NaN   \n",
       "HCA_A_RepT_RNA13247830_AAACCTGCACCTGGTG-Mareckova                    NaN   \n",
       "\n",
       "                                                  Mareckova_mesen_celltype  \\\n",
       "HCA_A_RepT_RNA13247830_AAACCTGAGCGATGAC-Mareckova               PVe_STEAP4   \n",
       "HCA_A_RepT_RNA13247830_AAACCTGAGCTAGGCA-Mareckova                       eS   \n",
       "HCA_A_RepT_RNA13247830_AAACCTGAGGCAGTCA-Mareckova                      NaN   \n",
       "HCA_A_RepT_RNA13247830_AAACCTGCACCAACCG-Mareckova                      NaN   \n",
       "HCA_A_RepT_RNA13247830_AAACCTGCACCTGGTG-Mareckova               PVe_STEAP4   \n",
       "\n",
       "                                                    Biopsy_type  \\\n",
       "HCA_A_RepT_RNA13247830_AAACCTGAGCGATGAC-Mareckova  Whole_Uterus   \n",
       "HCA_A_RepT_RNA13247830_AAACCTGAGCTAGGCA-Mareckova  Whole_Uterus   \n",
       "HCA_A_RepT_RNA13247830_AAACCTGAGGCAGTCA-Mareckova  Whole_Uterus   \n",
       "HCA_A_RepT_RNA13247830_AAACCTGCACCAACCG-Mareckova  Whole_Uterus   \n",
       "HCA_A_RepT_RNA13247830_AAACCTGCACCTGGTG-Mareckova  Whole_Uterus   \n",
       "\n",
       "                                                        Tissue_sampled  \\\n",
       "HCA_A_RepT_RNA13247830_AAACCTGAGCGATGAC-Mareckova  eutopic_endometrium   \n",
       "HCA_A_RepT_RNA13247830_AAACCTGAGCTAGGCA-Mareckova  eutopic_endometrium   \n",
       "HCA_A_RepT_RNA13247830_AAACCTGAGGCAGTCA-Mareckova  eutopic_endometrium   \n",
       "HCA_A_RepT_RNA13247830_AAACCTGCACCAACCG-Mareckova  eutopic_endometrium   \n",
       "HCA_A_RepT_RNA13247830_AAACCTGCACCTGGTG-Mareckova  eutopic_endometrium   \n",
       "\n",
       "                                                  Spatial_location  \\\n",
       "HCA_A_RepT_RNA13247830_AAACCTGAGCGATGAC-Mareckova              NaN   \n",
       "HCA_A_RepT_RNA13247830_AAACCTGAGCTAGGCA-Mareckova              NaN   \n",
       "HCA_A_RepT_RNA13247830_AAACCTGAGGCAGTCA-Mareckova              NaN   \n",
       "HCA_A_RepT_RNA13247830_AAACCTGCACCAACCG-Mareckova              NaN   \n",
       "HCA_A_RepT_RNA13247830_AAACCTGCACCTGGTG-Mareckova              NaN   \n",
       "\n",
       "                                                  Ectopic_group  \\\n",
       "HCA_A_RepT_RNA13247830_AAACCTGAGCGATGAC-Mareckova           NaN   \n",
       "HCA_A_RepT_RNA13247830_AAACCTGAGCTAGGCA-Mareckova           NaN   \n",
       "HCA_A_RepT_RNA13247830_AAACCTGAGGCAGTCA-Mareckova           NaN   \n",
       "HCA_A_RepT_RNA13247830_AAACCTGCACCAACCG-Mareckova           NaN   \n",
       "HCA_A_RepT_RNA13247830_AAACCTGCACCTGGTG-Mareckova           NaN   \n",
       "\n",
       "                                                  BiopsyType_old  \\\n",
       "HCA_A_RepT_RNA13247830_AAACCTGAGCGATGAC-Mareckova    Organ_Donor   \n",
       "HCA_A_RepT_RNA13247830_AAACCTGAGCTAGGCA-Mareckova    Organ_Donor   \n",
       "HCA_A_RepT_RNA13247830_AAACCTGAGGCAGTCA-Mareckova    Organ_Donor   \n",
       "HCA_A_RepT_RNA13247830_AAACCTGCACCAACCG-Mareckova    Organ_Donor   \n",
       "HCA_A_RepT_RNA13247830_AAACCTGCACCTGGTG-Mareckova    Organ_Donor   \n",
       "\n",
       "                                                  Endometrial_pathology Age  \n",
       "HCA_A_RepT_RNA13247830_AAACCTGAGCGATGAC-Mareckova                     C  37  \n",
       "HCA_A_RepT_RNA13247830_AAACCTGAGCTAGGCA-Mareckova                     C  37  \n",
       "HCA_A_RepT_RNA13247830_AAACCTGAGGCAGTCA-Mareckova                     C  37  \n",
       "HCA_A_RepT_RNA13247830_AAACCTGCACCAACCG-Mareckova                     C  37  \n",
       "HCA_A_RepT_RNA13247830_AAACCTGCACCTGGTG-Mareckova                     C  37  \n",
       "\n",
       "[5 rows x 70 columns]"
      ]
     },
     "execution_count": 4,
     "metadata": {},
     "output_type": "execute_result"
    }
   ],
   "source": [
    "path_to_data = '/nfs/team292/lg18/endometriosis/integrated_objects/cells_integrated.h5ad'\n",
    "adata = sc.read(path_to_data)\n",
    "adata.obs.head()"
   ]
  },
  {
   "cell_type": "code",
   "execution_count": 5,
   "metadata": {},
   "outputs": [],
   "source": [
    "new_names = {'cDC1':'cDC1',\n",
    " 'Red_Blood_Cell':'Red_blood_cell',\n",
    " 'T_Reg':'T_Reg',\n",
    " 'eM2':'eM2',\n",
    " 'CD8_T':'T_cell_CD8',\n",
    " 'uNK1':'uNK1',\n",
    " 'Monocyte':'Monocyte',\n",
    " 'pDC':'pDC',\n",
    " 'ILC3':'ILC3',\n",
    " 'Doublet':'Doublet',\n",
    " 'eM1':'eM1',\n",
    " 'uNK2':'uNK2',\n",
    " 'uNK3':'uNK3',\n",
    " 'cDC2':'cDC2',\n",
    " 'CD4_T':'T_cell_CD4',\n",
    " 'B_Cell':'B_cell',\n",
    " 'Peripheral_Lymphocyte':'Peripheral_lymphocyte',\n",
    " 'Cycling_T_Cell':'T_cell_cycling',\n",
    " 'Mast_Cell':'Mast_cell',\n",
    " 'Plasma_B_Cell':'Plasma_B_cell',\n",
    " 'Cycling_uNK1':'uNK1_cycling'}"
   ]
  },
  {
   "cell_type": "code",
   "execution_count": 6,
   "metadata": {},
   "outputs": [
    {
     "name": "stderr",
     "output_type": "stream",
     "text": [
      "/home/jovyan/my-conda-envs/sc_analysis/lib/python3.7/site-packages/IPython/core/interactiveshell.py:3166: DtypeWarning: Columns (13,15,17,18,19,21,22,23,24,25,41,42,46,55,58) have mixed types.Specify dtype option on import or set low_memory=False.\n",
      "  interactivity=interactivity, compiler=compiler, result=result)\n",
      "/home/jovyan/my-conda-envs/sc_analysis/lib/python3.7/site-packages/pandas/core/arrays/categorical.py:2487: FutureWarning: The `inplace` parameter in pandas.Categorical.remove_unused_categories is deprecated and will be removed in a future version.\n",
      "  res = method(*args, **kwargs)\n",
      "Trying to set attribute `.obs` of view, copying.\n",
      "... storing 'celltype' as categorical\n"
     ]
    },
    {
     "name": "stdout",
     "output_type": "stream",
     "text": [
      "T_cell_CD8               5580\n",
      "uNK2                     4370\n",
      "T_cell_CD4               4297\n",
      "eM1                      3854\n",
      "uNK3                     3716\n",
      "uNK1                     1644\n",
      "eM2                      1643\n",
      "B_cell                   1163\n",
      "Doublet                  1114\n",
      "Peripheral_lymphocyte    1099\n",
      "ILC3                      869\n",
      "uNK1_cycling              741\n",
      "cDC2                      693\n",
      "T_Reg                     667\n",
      "Monocyte                  647\n",
      "Mast_cell                 465\n",
      "T_cell_cycling            331\n",
      "pDC                       223\n",
      "cDC1                      188\n",
      "Plasma_B_cell              89\n",
      "Red_blood_cell             43\n",
      "Name: celltype, dtype: int64\n"
     ]
    },
    {
     "data": {
      "image/png": "[encoded data removed]",
      "text/plain": [
       "<Figure size 432x288 with 1 Axes>"
      ]
     },
     "metadata": {},
     "output_type": "display_data"
    }
   ],
   "source": [
    "annot_df = pd.read_csv('/nfs/team292/lg18/endometriosis/annotations/cells_endometrium_immune.csv',index_col=0)\n",
    "annot_df['immune_subcluster_labels'] = annot_df.immune_subcluster_labels.map(new_names)\n",
    "annot_df.head()\n",
    "annot = annot_df['immune_subcluster_labels'].to_dict()\n",
    "\n",
    "\n",
    "adata = adata[annot_df.index]\n",
    "adata.obs['celltype'] = adata.obs_names.map(annot)\n",
    "print(adata.obs['celltype'].value_counts())\n",
    "sc.pl.umap(adata, color=['celltype'])"
   ]
  },
  {
   "cell_type": "markdown",
   "metadata": {},
   "source": [
    "### Exclude unwanted clusters"
   ]
  },
  {
   "cell_type": "code",
   "execution_count": 7,
   "metadata": {},
   "outputs": [
    {
     "name": "stdout",
     "output_type": "stream",
     "text": [
      "T_cell_CD8               5580\n",
      "uNK2                     4370\n",
      "T_cell_CD4               4297\n",
      "eM1                      3854\n",
      "uNK3                     3716\n",
      "uNK1                     1644\n",
      "eM2                      1643\n",
      "B_cell                   1163\n",
      "Peripheral_lymphocyte    1099\n",
      "ILC3                      869\n",
      "cDC2                      693\n",
      "T_Reg                     667\n",
      "Monocyte                  647\n",
      "Mast_cell                 465\n",
      "pDC                       223\n",
      "cDC1                      188\n",
      "Plasma_B_cell              89\n",
      "Red_blood_cell             43\n",
      "Name: celltype, dtype: int64\n"
     ]
    }
   ],
   "source": [
    "adata = adata[[ i not in ['Doublet'] for i in adata.obs['celltype'] ]]\n",
    "adata = adata[[ 'cycling' not in i for i in adata.obs['celltype'] ]]\n",
    "print(adata.obs['celltype'].value_counts())"
   ]
  },
  {
   "cell_type": "markdown",
   "metadata": {},
   "source": [
    "### Subset to Ctrl donors in either prolif/secretory phase"
   ]
  },
  {
   "cell_type": "code",
   "execution_count": 8,
   "metadata": {},
   "outputs": [
    {
     "data": {
      "text/plain": [
       "{'Proliferative', 'Secretory'}"
      ]
     },
     "execution_count": 8,
     "metadata": {},
     "output_type": "execute_result"
    }
   ],
   "source": [
    "adata = adata[[ 'Tan' not in i for i in adata.obs['dataset'] ]]\n",
    "adata = adata[[ i in ['Secretory', 'Proliferative'] for i in adata.obs['Binary Stage'] ]]\n",
    "set(adata.obs['Binary Stage'] )"
   ]
  },
  {
   "cell_type": "code",
   "execution_count": 9,
   "metadata": {},
   "outputs": [
    {
     "data": {
      "text/plain": [
       "{'Ctrl_Superficial'}"
      ]
     },
     "execution_count": 9,
     "metadata": {},
     "output_type": "execute_result"
    }
   ],
   "source": [
    "adata = adata[[ i in ['Ctrl_Superficial'] for i in adata.obs['Group'] ]]\n",
    "set(adata.obs['Group'] )"
   ]
  },
  {
   "cell_type": "code",
   "execution_count": 10,
   "metadata": {},
   "outputs": [
    {
     "data": {
      "text/plain": [
       "(10312, 17736)"
      ]
     },
     "execution_count": 10,
     "metadata": {},
     "output_type": "execute_result"
    }
   ],
   "source": [
    "adata.X.shape"
   ]
  },
  {
   "cell_type": "code",
   "execution_count": 11,
   "metadata": {},
   "outputs": [
    {
     "data": {
      "text/html": [
       "<div>\n",
       "<style scoped>\n",
       "    .dataframe tbody tr th:only-of-type {\n",
       "        vertical-align: middle;\n",
       "    }\n",
       "\n",
       "    .dataframe tbody tr th {\n",
       "        vertical-align: top;\n",
       "    }\n",
       "\n",
       "    .dataframe thead th {\n",
       "        text-align: right;\n",
       "    }\n",
       "</style>\n",
       "<table border=\"1\" class=\"dataframe\">\n",
       "  <thead>\n",
       "    <tr style=\"text-align: right;\">\n",
       "      <th>celltype</th>\n",
       "      <th>B_cell</th>\n",
       "      <th>ILC3</th>\n",
       "      <th>Mast_cell</th>\n",
       "      <th>Monocyte</th>\n",
       "      <th>Peripheral_lymphocyte</th>\n",
       "      <th>Plasma_B_cell</th>\n",
       "      <th>Red_blood_cell</th>\n",
       "      <th>T_Reg</th>\n",
       "      <th>T_cell_CD4</th>\n",
       "      <th>T_cell_CD8</th>\n",
       "      <th>cDC1</th>\n",
       "      <th>cDC2</th>\n",
       "      <th>eM1</th>\n",
       "      <th>eM2</th>\n",
       "      <th>pDC</th>\n",
       "      <th>uNK1</th>\n",
       "      <th>uNK2</th>\n",
       "      <th>uNK3</th>\n",
       "    </tr>\n",
       "    <tr>\n",
       "      <th>Binary Stage</th>\n",
       "      <th></th>\n",
       "      <th></th>\n",
       "      <th></th>\n",
       "      <th></th>\n",
       "      <th></th>\n",
       "      <th></th>\n",
       "      <th></th>\n",
       "      <th></th>\n",
       "      <th></th>\n",
       "      <th></th>\n",
       "      <th></th>\n",
       "      <th></th>\n",
       "      <th></th>\n",
       "      <th></th>\n",
       "      <th></th>\n",
       "      <th></th>\n",
       "      <th></th>\n",
       "      <th></th>\n",
       "    </tr>\n",
       "  </thead>\n",
       "  <tbody>\n",
       "    <tr>\n",
       "      <th>Proliferative</th>\n",
       "      <td>75</td>\n",
       "      <td>187</td>\n",
       "      <td>29</td>\n",
       "      <td>66</td>\n",
       "      <td>193</td>\n",
       "      <td>54</td>\n",
       "      <td>38</td>\n",
       "      <td>121</td>\n",
       "      <td>1113</td>\n",
       "      <td>1483</td>\n",
       "      <td>35</td>\n",
       "      <td>144</td>\n",
       "      <td>231</td>\n",
       "      <td>393</td>\n",
       "      <td>87</td>\n",
       "      <td>105</td>\n",
       "      <td>718</td>\n",
       "      <td>664</td>\n",
       "    </tr>\n",
       "    <tr>\n",
       "      <th>Secretory</th>\n",
       "      <td>131</td>\n",
       "      <td>215</td>\n",
       "      <td>13</td>\n",
       "      <td>57</td>\n",
       "      <td>270</td>\n",
       "      <td>3</td>\n",
       "      <td>2</td>\n",
       "      <td>51</td>\n",
       "      <td>596</td>\n",
       "      <td>822</td>\n",
       "      <td>36</td>\n",
       "      <td>89</td>\n",
       "      <td>221</td>\n",
       "      <td>188</td>\n",
       "      <td>28</td>\n",
       "      <td>399</td>\n",
       "      <td>631</td>\n",
       "      <td>824</td>\n",
       "    </tr>\n",
       "  </tbody>\n",
       "</table>\n",
       "</div>"
      ],
      "text/plain": [
       "celltype       B_cell  ILC3  Mast_cell  Monocyte  Peripheral_lymphocyte  \\\n",
       "Binary Stage                                                              \n",
       "Proliferative      75   187         29        66                    193   \n",
       "Secretory         131   215         13        57                    270   \n",
       "\n",
       "celltype       Plasma_B_cell  Red_blood_cell  T_Reg  T_cell_CD4  T_cell_CD8  \\\n",
       "Binary Stage                                                                  \n",
       "Proliferative             54              38    121        1113        1483   \n",
       "Secretory                  3               2     51         596         822   \n",
       "\n",
       "celltype       cDC1  cDC2  eM1  eM2  pDC  uNK1  uNK2  uNK3  \n",
       "Binary Stage                                                \n",
       "Proliferative    35   144  231  393   87   105   718   664  \n",
       "Secretory        36    89  221  188   28   399   631   824  "
      ]
     },
     "execution_count": 11,
     "metadata": {},
     "output_type": "execute_result"
    }
   ],
   "source": [
    "pd.crosstab(adata.obs['Binary Stage'], adata.obs.celltype )"
   ]
  },
  {
   "cell_type": "code",
   "execution_count": 12,
   "metadata": {},
   "outputs": [],
   "source": [
    "import pickle   \n",
    "\n",
    "fileObj = open('/nfs/team292/lg18/endometriosis/integrated_objects/cells_immune_integrated_X_scVI.obj', 'rb')\n",
    "X_scVI = pickle.load(fileObj)\n",
    "adata.obsm['X_scVI'] = X_scVI\n",
    "fileObj.close()\n",
    "\n",
    "fileObj = open('/nfs/team292/lg18/endometriosis/integrated_objects/cells_immune_integrated_X_umap.obj', 'rb')\n",
    "X_umap = pickle.load(fileObj)\n",
    "adata.obsm['X_umap'] = X_umap\n",
    "fileObj.close()"
   ]
  },
  {
   "cell_type": "markdown",
   "metadata": {},
   "source": [
    "# Move to Seurat"
   ]
  },
  {
   "cell_type": "code",
   "execution_count": 13,
   "metadata": {},
   "outputs": [
    {
     "name": "stderr",
     "output_type": "stream",
     "text": [
      "/home/jovyan/my-conda-envs/sc_analysis/lib/python3.7/site-packages/pandas/core/arrays/categorical.py:2487: FutureWarning: The `inplace` parameter in pandas.Categorical.remove_unused_categories is deprecated and will be removed in a future version.\n",
      "  res = method(*args, **kwargs)\n"
     ]
    }
   ],
   "source": [
    "import anndata\n",
    "adataDown = adata.copy() #[[ i in [\"G1\"] for i in adata_proliferative.obs.phase ]]\n",
    "sc.pp.filter_cells(adataDown, min_genes=1000)\n",
    "sc.pp.filter_genes(adataDown, min_cells=5)"
   ]
  },
  {
   "cell_type": "code",
   "execution_count": 14,
   "metadata": {},
   "outputs": [],
   "source": [
    "import rpy2.rinterface_lib.callbacks\n",
    "import logging\n",
    "# Itoliste R warning messages\n",
    "#Note: this can be commented out to get more verbose R output\n",
    "rpy2.rinterface_lib.callbacks.logger.setLevel(logging.ERROR)\n",
    "import anndata2ri\n",
    "anndata2ri.activate()\n",
    "%load_ext rpy2.ipython\n"
   ]
  },
  {
   "cell_type": "code",
   "execution_count": 15,
   "metadata": {},
   "outputs": [],
   "source": [
    "# This is just to allow moving adata to R without errors\n",
    "adataDown.X = adataDown.X.toarray()\n",
    "\n",
    "idx = ['n_genes', 'sample',  'percent_mito', 'n_counts', 'batch', 'S_score', 'G2M_score', 'phase', \n",
    "       'scrublet_score', 'scrublet_cluster_score', 'zscore', 'bh_pval', 'bonf_pval', 'is_doublet']\n",
    "for i in idx:\n",
    "    del adataDown.obs[i]\n",
    "    \n",
    "adataDown.obs['celltype'] = adataDown.obs['celltype'].astype(str)\n",
    "\n",
    "# del adataDown.obsm['X_scVI']\n",
    "# del adataDown.obsm['X_umap']\n",
    "del adataDown.obsp['connectivities']\n",
    "del adataDown.obsp['distances']\n",
    "del adataDown.uns"
   ]
  },
  {
   "cell_type": "code",
   "execution_count": 16,
   "metadata": {},
   "outputs": [
    {
     "name": "stdout",
     "output_type": "stream",
     "text": [
      "class: SingleCellExperiment \n",
      "dim: 16255 9809 \n",
      "metadata(0):\n",
      "assays(1): X\n",
      "rownames(16255): A1BG A2M ... ZYX ZZEF1\n",
      "rowData names(220): gene_ids.0.Fonseca feature_types.0.Fonseca ...\n",
      "  highly_variable_nbatches n_cells\n",
      "colnames(9809): UA_Endo9426399_AAACCCAGTCTAATCG-Mareckova\n",
      "  UA_Endo9426399_AAACCCATCCTACCAC-Mareckova ...\n",
      "  GSM5572240_TTTGATCAGTGTAGAT-Lai GSM5572240_TTTGGAGCAAGAGAGA-Lai\n",
      "colData names(57): library StudyName ... Age celltype\n",
      "reducedDimNames(2): X_scVI UMAP\n",
      "altExpNames(0):\n"
     ]
    }
   ],
   "source": [
    "%%R -i adataDown\n",
    "adataDown"
   ]
  },
  {
   "cell_type": "code",
   "execution_count": 17,
   "metadata": {},
   "outputs": [],
   "source": [
    "%%R\n",
    "\n",
    "library(Seurat)\n",
    "seurat_andata = as.Seurat(adataDown, counts = \"X\", data = \"X\")\n",
    "Idents(seurat_andata) = seurat_andata$celltype\n",
    "\n",
    "saveRDS(seurat_andata, \"/nfs/team292/lg18/endometriosis/MiloR_objects/cells_immune_integrated.rds\")"
   ]
  },
  {
   "cell_type": "code",
   "execution_count": null,
   "metadata": {},
   "outputs": [],
   "source": [
    "sc.pl.umap(adata, color=['celltype'])"
   ]
  }
 ],
 "metadata": {
  "kernelspec": {
   "display_name": "Python sc_analysis",
   "language": "python",
   "name": "sc_analysis"
  },
  "language_info": {
   "codemirror_mode": {
    "name": "ipython",
    "version": 3
   },
   "file_extension": ".py",
   "mimetype": "text/x-python",
   "name": "python",
   "nbconvert_exporter": "python",
   "pygments_lexer": "ipython3",
   "version": "3.7.10"
  }
 },
 "nbformat": 4,
 "nbformat_minor": 4
}
