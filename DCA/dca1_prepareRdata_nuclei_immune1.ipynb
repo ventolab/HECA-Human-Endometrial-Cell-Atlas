{
 "cells": [
  {
   "cell_type": "markdown",
   "metadata": {},
   "source": [
    "# Generate seurat object\n"
   ]
  },
  {
   "cell_type": "code",
   "execution_count": 11,
   "metadata": {},
   "outputs": [
    {
     "data": {
      "text/plain": [
       "'/home/jovyan/my-conda-envs/sc_analysis/bin/python'"
      ]
     },
     "execution_count": 11,
     "metadata": {},
     "output_type": "execute_result"
    }
   ],
   "source": [
    "import numpy as np\n",
    "import pandas as pd\n",
    "import scanpy as sc\n",
    "import anndata\n",
    "import os\n",
    "import sys\n",
    "from scipy import sparse\n",
    "\n",
    "\n",
    "\n",
    "sc.settings.verbosity = 1  # verbosity: errors (0), warnings (1), info (2), hints (3)\n",
    "sys.executable"
   ]
  },
  {
   "cell_type": "markdown",
   "metadata": {},
   "source": [
    "## Load data for samples of interest"
   ]
  },
  {
   "cell_type": "code",
   "execution_count": 12,
   "metadata": {},
   "outputs": [
    {
     "data": {
      "text/html": [
       "<div>\n",
       "<style scoped>\n",
       "    .dataframe tbody tr th:only-of-type {\n",
       "        vertical-align: middle;\n",
       "    }\n",
       "\n",
       "    .dataframe tbody tr th {\n",
       "        vertical-align: top;\n",
       "    }\n",
       "\n",
       "    .dataframe thead th {\n",
       "        text-align: right;\n",
       "    }\n",
       "</style>\n",
       "<table border=\"1\" class=\"dataframe\">\n",
       "  <thead>\n",
       "    <tr style=\"text-align: right;\">\n",
       "      <th></th>\n",
       "      <th>n_genes</th>\n",
       "      <th>sample</th>\n",
       "      <th>library</th>\n",
       "      <th>StudyName</th>\n",
       "      <th>SampleID</th>\n",
       "      <th>Lane</th>\n",
       "      <th>Processing</th>\n",
       "      <th>Type</th>\n",
       "      <th>BiopsyType</th>\n",
       "      <th>BiopsyType_II</th>\n",
       "      <th>...</th>\n",
       "      <th>Stage</th>\n",
       "      <th>n_genes_by_counts</th>\n",
       "      <th>total_counts</th>\n",
       "      <th>total_counts_MT</th>\n",
       "      <th>pct_counts_MT</th>\n",
       "      <th>S_score</th>\n",
       "      <th>G2M_score</th>\n",
       "      <th>phase</th>\n",
       "      <th>dataset</th>\n",
       "      <th>Endometrial_pathology</th>\n",
       "    </tr>\n",
       "  </thead>\n",
       "  <tbody>\n",
       "    <tr>\n",
       "      <th>UA_Endo12449300_CTTCAATGTACCGGAA</th>\n",
       "      <td>3302</td>\n",
       "      <td>UA_Endo12449300_EX0045</td>\n",
       "      <td>UA_Endo12449300</td>\n",
       "      <td>Marecckovaa</td>\n",
       "      <td>UA_Endo12449300</td>\n",
       "      <td>43996.0</td>\n",
       "      <td>Frozen</td>\n",
       "      <td>Nuclei</td>\n",
       "      <td>Superficial</td>\n",
       "      <td>NaN</td>\n",
       "      <td>...</td>\n",
       "      <td>Proliferative</td>\n",
       "      <td>3302</td>\n",
       "      <td>6476.0</td>\n",
       "      <td>22.0</td>\n",
       "      <td>0.339716</td>\n",
       "      <td>-0.078014</td>\n",
       "      <td>0.005412</td>\n",
       "      <td>G2M</td>\n",
       "      <td>Mareckova_Nuclei</td>\n",
       "      <td>E</td>\n",
       "    </tr>\n",
       "    <tr>\n",
       "      <th>UA_Endo11596521_GAACACTCAGAGAAAG</th>\n",
       "      <td>2282</td>\n",
       "      <td>UA_Endo11596521_FX1236</td>\n",
       "      <td>UA_Endo11596521</td>\n",
       "      <td>Marecckovaa</td>\n",
       "      <td>UA_Endo11596521</td>\n",
       "      <td>43281.0</td>\n",
       "      <td>Frozen</td>\n",
       "      <td>Nuclei</td>\n",
       "      <td>Superficial</td>\n",
       "      <td>NaN</td>\n",
       "      <td>...</td>\n",
       "      <td>Proliferative</td>\n",
       "      <td>2282</td>\n",
       "      <td>4967.0</td>\n",
       "      <td>71.0</td>\n",
       "      <td>1.429434</td>\n",
       "      <td>-0.045719</td>\n",
       "      <td>-0.017081</td>\n",
       "      <td>G1</td>\n",
       "      <td>Mareckova_Nuclei</td>\n",
       "      <td>E + A + P</td>\n",
       "    </tr>\n",
       "    <tr>\n",
       "      <th>UA_Endo12865963_TGCGGGTAGGGAGGGT</th>\n",
       "      <td>2786</td>\n",
       "      <td>UA_Endo12865963_FX1087</td>\n",
       "      <td>UA_Endo12865963</td>\n",
       "      <td>Marecckovaa</td>\n",
       "      <td>UA_Endo12865963</td>\n",
       "      <td>44999.0</td>\n",
       "      <td>Frozen</td>\n",
       "      <td>Nuclei</td>\n",
       "      <td>Superficial</td>\n",
       "      <td>NaN</td>\n",
       "      <td>...</td>\n",
       "      <td>Secretory Mid</td>\n",
       "      <td>2786</td>\n",
       "      <td>4926.0</td>\n",
       "      <td>49.0</td>\n",
       "      <td>0.994722</td>\n",
       "      <td>-0.114742</td>\n",
       "      <td>-0.134462</td>\n",
       "      <td>G1</td>\n",
       "      <td>Mareckova_Nuclei</td>\n",
       "      <td>E</td>\n",
       "    </tr>\n",
       "    <tr>\n",
       "      <th>UA_Endo12449301_TCAGTGATCGTAGGGA</th>\n",
       "      <td>2071</td>\n",
       "      <td>UA_Endo12449301_FX1150</td>\n",
       "      <td>UA_Endo12449301</td>\n",
       "      <td>Marecckovaa</td>\n",
       "      <td>UA_Endo12449301</td>\n",
       "      <td>43996.0</td>\n",
       "      <td>Frozen</td>\n",
       "      <td>Nuclei</td>\n",
       "      <td>Superficial</td>\n",
       "      <td>NaN</td>\n",
       "      <td>...</td>\n",
       "      <td>Proliferative</td>\n",
       "      <td>2071</td>\n",
       "      <td>3064.0</td>\n",
       "      <td>14.0</td>\n",
       "      <td>0.456919</td>\n",
       "      <td>-0.013804</td>\n",
       "      <td>-0.074582</td>\n",
       "      <td>G1</td>\n",
       "      <td>Mareckova_Nuclei</td>\n",
       "      <td>E</td>\n",
       "    </tr>\n",
       "    <tr>\n",
       "      <th>UA_Endo12865960_GAGACTTAGAGATCGC</th>\n",
       "      <td>1890</td>\n",
       "      <td>UA_Endo12865960_FX1170</td>\n",
       "      <td>UA_Endo12865960</td>\n",
       "      <td>Marecckovaa</td>\n",
       "      <td>UA_Endo12865960</td>\n",
       "      <td>44999.0</td>\n",
       "      <td>Frozen</td>\n",
       "      <td>Nuclei</td>\n",
       "      <td>Superficial</td>\n",
       "      <td>NaN</td>\n",
       "      <td>...</td>\n",
       "      <td>Secretory</td>\n",
       "      <td>1890</td>\n",
       "      <td>3010.0</td>\n",
       "      <td>13.0</td>\n",
       "      <td>0.431894</td>\n",
       "      <td>-0.130319</td>\n",
       "      <td>0.046791</td>\n",
       "      <td>G2M</td>\n",
       "      <td>Mareckova_Nuclei</td>\n",
       "      <td>E</td>\n",
       "    </tr>\n",
       "  </tbody>\n",
       "</table>\n",
       "<p>5 rows × 55 columns</p>\n",
       "</div>"
      ],
      "text/plain": [
       "                                  n_genes                  sample  \\\n",
       "UA_Endo12449300_CTTCAATGTACCGGAA     3302  UA_Endo12449300_EX0045   \n",
       "UA_Endo11596521_GAACACTCAGAGAAAG     2282  UA_Endo11596521_FX1236   \n",
       "UA_Endo12865963_TGCGGGTAGGGAGGGT     2786  UA_Endo12865963_FX1087   \n",
       "UA_Endo12449301_TCAGTGATCGTAGGGA     2071  UA_Endo12449301_FX1150   \n",
       "UA_Endo12865960_GAGACTTAGAGATCGC     1890  UA_Endo12865960_FX1170   \n",
       "\n",
       "                                          library    StudyName  \\\n",
       "UA_Endo12449300_CTTCAATGTACCGGAA  UA_Endo12449300  Marecckovaa   \n",
       "UA_Endo11596521_GAACACTCAGAGAAAG  UA_Endo11596521  Marecckovaa   \n",
       "UA_Endo12865963_TGCGGGTAGGGAGGGT  UA_Endo12865963  Marecckovaa   \n",
       "UA_Endo12449301_TCAGTGATCGTAGGGA  UA_Endo12449301  Marecckovaa   \n",
       "UA_Endo12865960_GAGACTTAGAGATCGC  UA_Endo12865960  Marecckovaa   \n",
       "\n",
       "                                         SampleID     Lane Processing    Type  \\\n",
       "UA_Endo12449300_CTTCAATGTACCGGAA  UA_Endo12449300  43996.0     Frozen  Nuclei   \n",
       "UA_Endo11596521_GAACACTCAGAGAAAG  UA_Endo11596521  43281.0     Frozen  Nuclei   \n",
       "UA_Endo12865963_TGCGGGTAGGGAGGGT  UA_Endo12865963  44999.0     Frozen  Nuclei   \n",
       "UA_Endo12449301_TCAGTGATCGTAGGGA  UA_Endo12449301  43996.0     Frozen  Nuclei   \n",
       "UA_Endo12865960_GAGACTTAGAGATCGC  UA_Endo12865960  44999.0     Frozen  Nuclei   \n",
       "\n",
       "                                   BiopsyType  BiopsyType_II  ...  \\\n",
       "UA_Endo12449300_CTTCAATGTACCGGAA  Superficial            NaN  ...   \n",
       "UA_Endo11596521_GAACACTCAGAGAAAG  Superficial            NaN  ...   \n",
       "UA_Endo12865963_TGCGGGTAGGGAGGGT  Superficial            NaN  ...   \n",
       "UA_Endo12449301_TCAGTGATCGTAGGGA  Superficial            NaN  ...   \n",
       "UA_Endo12865960_GAGACTTAGAGATCGC  Superficial            NaN  ...   \n",
       "\n",
       "                                          Stage n_genes_by_counts  \\\n",
       "UA_Endo12449300_CTTCAATGTACCGGAA  Proliferative              3302   \n",
       "UA_Endo11596521_GAACACTCAGAGAAAG  Proliferative              2282   \n",
       "UA_Endo12865963_TGCGGGTAGGGAGGGT  Secretory Mid              2786   \n",
       "UA_Endo12449301_TCAGTGATCGTAGGGA  Proliferative              2071   \n",
       "UA_Endo12865960_GAGACTTAGAGATCGC      Secretory              1890   \n",
       "\n",
       "                                 total_counts total_counts_MT pct_counts_MT  \\\n",
       "UA_Endo12449300_CTTCAATGTACCGGAA       6476.0            22.0      0.339716   \n",
       "UA_Endo11596521_GAACACTCAGAGAAAG       4967.0            71.0      1.429434   \n",
       "UA_Endo12865963_TGCGGGTAGGGAGGGT       4926.0            49.0      0.994722   \n",
       "UA_Endo12449301_TCAGTGATCGTAGGGA       3064.0            14.0      0.456919   \n",
       "UA_Endo12865960_GAGACTTAGAGATCGC       3010.0            13.0      0.431894   \n",
       "\n",
       "                                   S_score G2M_score phase           dataset  \\\n",
       "UA_Endo12449300_CTTCAATGTACCGGAA -0.078014  0.005412   G2M  Mareckova_Nuclei   \n",
       "UA_Endo11596521_GAACACTCAGAGAAAG -0.045719 -0.017081    G1  Mareckova_Nuclei   \n",
       "UA_Endo12865963_TGCGGGTAGGGAGGGT -0.114742 -0.134462    G1  Mareckova_Nuclei   \n",
       "UA_Endo12449301_TCAGTGATCGTAGGGA -0.013804 -0.074582    G1  Mareckova_Nuclei   \n",
       "UA_Endo12865960_GAGACTTAGAGATCGC -0.130319  0.046791   G2M  Mareckova_Nuclei   \n",
       "\n",
       "                                 Endometrial_pathology  \n",
       "UA_Endo12449300_CTTCAATGTACCGGAA                     E  \n",
       "UA_Endo11596521_GAACACTCAGAGAAAG             E + A + P  \n",
       "UA_Endo12865963_TGCGGGTAGGGAGGGT                     E  \n",
       "UA_Endo12449301_TCAGTGATCGTAGGGA                     E  \n",
       "UA_Endo12865960_GAGACTTAGAGATCGC                     E  \n",
       "\n",
       "[5 rows x 55 columns]"
      ]
     },
     "execution_count": 12,
     "metadata": {},
     "output_type": "execute_result"
    }
   ],
   "source": [
    "path_to_data = '/nfs/team292/lg18/endometriosis/integrated_objects/nuclei_integrated.h5ad'\n",
    "adata = sc.read(path_to_data)\n",
    "adata.obs.head()"
   ]
  },
  {
   "cell_type": "code",
   "execution_count": 13,
   "metadata": {},
   "outputs": [
    {
     "name": "stderr",
     "output_type": "stream",
     "text": [
      "/home/jovyan/my-conda-envs/sc_analysis/lib/python3.7/site-packages/IPython/core/interactiveshell.py:3166: DtypeWarning: Columns (11,12,24,47) have mixed types.Specify dtype option on import or set low_memory=False.\n",
      "  interactivity=interactivity, compiler=compiler, result=result)\n",
      "/home/jovyan/my-conda-envs/sc_analysis/lib/python3.7/site-packages/pandas/core/arrays/categorical.py:2487: FutureWarning: The `inplace` parameter in pandas.Categorical.remove_unused_categories is deprecated and will be removed in a future version.\n",
      "  res = method(*args, **kwargs)\n",
      "Trying to set attribute `.obs` of view, copying.\n",
      "... storing 'celltype' as categorical\n"
     ]
    },
    {
     "name": "stdout",
     "output_type": "stream",
     "text": [
      "Doublet                  6023\n",
      "eM2                      4960\n",
      "uNK1                     4659\n",
      "eM1                      2358\n",
      "uNK1_cycling             2320\n",
      "uNK2                     1974\n",
      "T_cell_CD4               1871\n",
      "cDC2                     1490\n",
      "T_cell_CD8               1033\n",
      "uNK3                      870\n",
      "eM2_cycling               650\n",
      "Peripheral_lymphocyte     608\n",
      "Monocyte                  529\n",
      "B_cell                    465\n",
      "cDC1                      443\n",
      "T_Reg                     256\n",
      "ILC3                      188\n",
      "pDC                        93\n",
      "Plasma_B_cell              53\n",
      "Name: celltype, dtype: int64\n"
     ]
    },
    {
     "data": {
      "image/png": "[encoded data removed]",
      "text/plain": [
       "<Figure size 432x288 with 1 Axes>"
      ]
     },
     "metadata": {},
     "output_type": "display_data"
    }
   ],
   "source": [
    "annot_df = pd.read_csv('/nfs/team292/lg18/endometriosis/annotations/nuclei_endometrium_immune.csv',index_col=0)\n",
    "annot_df.head()\n",
    "annot = annot_df['celltype'].to_dict()\n",
    "\n",
    "adata = adata[ annot_df.index ]\n",
    "adata.obs['celltype'] = adata.obs_names.map(annot)\n",
    "print(adata.obs['celltype'].value_counts())\n",
    "sc.pl.umap(adata, color=['celltype'])"
   ]
  },
  {
   "cell_type": "markdown",
   "metadata": {},
   "source": [
    "### Exclude unwanted clusters"
   ]
  },
  {
   "cell_type": "code",
   "execution_count": 14,
   "metadata": {},
   "outputs": [
    {
     "name": "stdout",
     "output_type": "stream",
     "text": [
      "eM2                      4960\n",
      "uNK1                     4659\n",
      "eM1                      2358\n",
      "uNK2                     1974\n",
      "T_cell_CD4               1871\n",
      "cDC2                     1490\n",
      "T_cell_CD8               1033\n",
      "uNK3                      870\n",
      "Peripheral_lymphocyte     608\n",
      "Monocyte                  529\n",
      "B_cell                    465\n",
      "cDC1                      443\n",
      "T_Reg                     256\n",
      "ILC3                      188\n",
      "pDC                        93\n",
      "Plasma_B_cell              53\n",
      "Name: celltype, dtype: int64\n"
     ]
    }
   ],
   "source": [
    "adata = adata[[ i not in ['Doublet'] for i in adata.obs['celltype'] ]]\n",
    "adata = adata[[ 'cycling' not in i for i in adata.obs['celltype'] ]]\n",
    "print(adata.obs['celltype'].value_counts())"
   ]
  },
  {
   "cell_type": "markdown",
   "metadata": {},
   "source": [
    "### Subset to Ctrl donors in either prolif/secretory phase"
   ]
  },
  {
   "cell_type": "code",
   "execution_count": 15,
   "metadata": {},
   "outputs": [
    {
     "data": {
      "text/plain": [
       "{'Proliferative', 'Secretory'}"
      ]
     },
     "execution_count": 15,
     "metadata": {},
     "output_type": "execute_result"
    }
   ],
   "source": [
    "adata = adata[[ i in ['Secretory', 'Proliferative'] for i in adata.obs['Binary Stage'] ]]\n",
    "set(adata.obs['Binary Stage'] )"
   ]
  },
  {
   "cell_type": "code",
   "execution_count": 16,
   "metadata": {},
   "outputs": [
    {
     "data": {
      "text/plain": [
       "{'Ctrl_Superficial'}"
      ]
     },
     "execution_count": 16,
     "metadata": {},
     "output_type": "execute_result"
    }
   ],
   "source": [
    "adata = adata[[ i in ['Ctrl_Superficial'] for i in adata.obs['Group'] ]]\n",
    "set(adata.obs['Group'] )"
   ]
  },
  {
   "cell_type": "code",
   "execution_count": 17,
   "metadata": {},
   "outputs": [
    {
     "data": {
      "text/plain": [
       "(2952, 33578)"
      ]
     },
     "execution_count": 17,
     "metadata": {},
     "output_type": "execute_result"
    }
   ],
   "source": [
    "adata.X.shape"
   ]
  },
  {
   "cell_type": "code",
   "execution_count": 18,
   "metadata": {},
   "outputs": [
    {
     "data": {
      "text/html": [
       "<div>\n",
       "<style scoped>\n",
       "    .dataframe tbody tr th:only-of-type {\n",
       "        vertical-align: middle;\n",
       "    }\n",
       "\n",
       "    .dataframe tbody tr th {\n",
       "        vertical-align: top;\n",
       "    }\n",
       "\n",
       "    .dataframe thead th {\n",
       "        text-align: right;\n",
       "    }\n",
       "</style>\n",
       "<table border=\"1\" class=\"dataframe\">\n",
       "  <thead>\n",
       "    <tr style=\"text-align: right;\">\n",
       "      <th>celltype</th>\n",
       "      <th>B_cell</th>\n",
       "      <th>ILC3</th>\n",
       "      <th>Monocyte</th>\n",
       "      <th>Peripheral_lymphocyte</th>\n",
       "      <th>Plasma_B_cell</th>\n",
       "      <th>T_Reg</th>\n",
       "      <th>T_cell_CD4</th>\n",
       "      <th>T_cell_CD8</th>\n",
       "      <th>cDC1</th>\n",
       "      <th>cDC2</th>\n",
       "      <th>eM1</th>\n",
       "      <th>eM2</th>\n",
       "      <th>pDC</th>\n",
       "      <th>uNK1</th>\n",
       "      <th>uNK2</th>\n",
       "      <th>uNK3</th>\n",
       "    </tr>\n",
       "    <tr>\n",
       "      <th>Binary Stage</th>\n",
       "      <th></th>\n",
       "      <th></th>\n",
       "      <th></th>\n",
       "      <th></th>\n",
       "      <th></th>\n",
       "      <th></th>\n",
       "      <th></th>\n",
       "      <th></th>\n",
       "      <th></th>\n",
       "      <th></th>\n",
       "      <th></th>\n",
       "      <th></th>\n",
       "      <th></th>\n",
       "      <th></th>\n",
       "      <th></th>\n",
       "      <th></th>\n",
       "    </tr>\n",
       "  </thead>\n",
       "  <tbody>\n",
       "    <tr>\n",
       "      <th>Proliferative</th>\n",
       "      <td>22</td>\n",
       "      <td>35</td>\n",
       "      <td>67</td>\n",
       "      <td>67</td>\n",
       "      <td>5</td>\n",
       "      <td>20</td>\n",
       "      <td>224</td>\n",
       "      <td>104</td>\n",
       "      <td>46</td>\n",
       "      <td>171</td>\n",
       "      <td>131</td>\n",
       "      <td>426</td>\n",
       "      <td>16</td>\n",
       "      <td>35</td>\n",
       "      <td>87</td>\n",
       "      <td>73</td>\n",
       "    </tr>\n",
       "    <tr>\n",
       "      <th>Secretory</th>\n",
       "      <td>7</td>\n",
       "      <td>6</td>\n",
       "      <td>7</td>\n",
       "      <td>11</td>\n",
       "      <td>1</td>\n",
       "      <td>5</td>\n",
       "      <td>16</td>\n",
       "      <td>10</td>\n",
       "      <td>15</td>\n",
       "      <td>69</td>\n",
       "      <td>7</td>\n",
       "      <td>211</td>\n",
       "      <td>0</td>\n",
       "      <td>717</td>\n",
       "      <td>282</td>\n",
       "      <td>59</td>\n",
       "    </tr>\n",
       "  </tbody>\n",
       "</table>\n",
       "</div>"
      ],
      "text/plain": [
       "celltype       B_cell  ILC3  Monocyte  Peripheral_lymphocyte  Plasma_B_cell  \\\n",
       "Binary Stage                                                                  \n",
       "Proliferative      22    35        67                     67              5   \n",
       "Secretory           7     6         7                     11              1   \n",
       "\n",
       "celltype       T_Reg  T_cell_CD4  T_cell_CD8  cDC1  cDC2  eM1  eM2  pDC  uNK1  \\\n",
       "Binary Stage                                                                    \n",
       "Proliferative     20         224         104    46   171  131  426   16    35   \n",
       "Secretory          5          16          10    15    69    7  211    0   717   \n",
       "\n",
       "celltype       uNK2  uNK3  \n",
       "Binary Stage               \n",
       "Proliferative    87    73  \n",
       "Secretory       282    59  "
      ]
     },
     "execution_count": 18,
     "metadata": {},
     "output_type": "execute_result"
    }
   ],
   "source": [
    "pd.crosstab(adata.obs['Binary Stage'], adata.obs.celltype )"
   ]
  },
  {
   "cell_type": "code",
   "execution_count": 19,
   "metadata": {},
   "outputs": [],
   "source": [
    "import pickle   \n",
    "\n",
    "fileObj = open('/nfs/team292/lg18/endometriosis/integrated_objects/nuclei_immune_integrated_X_scVI.obj', 'rb')\n",
    "X_scVI = pickle.load(fileObj)\n",
    "adata.obsm['X_scVI'] = X_scVI\n",
    "fileObj.close()\n",
    "\n",
    "fileObj = open('/nfs/team292/lg18/endometriosis/integrated_objects/nuclei_immune_integrated_X_umap.obj', 'rb')\n",
    "X_umap = pickle.load(fileObj)\n",
    "adata.obsm['X_umap'] = X_umap\n",
    "fileObj.close()"
   ]
  },
  {
   "cell_type": "markdown",
   "metadata": {},
   "source": [
    "# Move to Seurat"
   ]
  },
  {
   "cell_type": "code",
   "execution_count": 20,
   "metadata": {},
   "outputs": [
    {
     "name": "stderr",
     "output_type": "stream",
     "text": [
      "/home/jovyan/my-conda-envs/sc_analysis/lib/python3.7/site-packages/pandas/core/arrays/categorical.py:2487: FutureWarning: The `inplace` parameter in pandas.Categorical.remove_unused_categories is deprecated and will be removed in a future version.\n",
      "  res = method(*args, **kwargs)\n"
     ]
    }
   ],
   "source": [
    "import anndata\n",
    "adataDown = adata.copy() #[[ i in [\"G1\"] for i in adata_proliferative.obs.phase ]]\n",
    "sc.pp.filter_cells(adataDown, min_genes=1000)\n",
    "sc.pp.filter_genes(adataDown, min_cells=5)"
   ]
  },
  {
   "cell_type": "code",
   "execution_count": 21,
   "metadata": {},
   "outputs": [],
   "source": [
    "import rpy2.rinterface_lib.callbacks\n",
    "import logging\n",
    "# Itoliste R warning messages\n",
    "#Note: this can be commented out to get more verbose R output\n",
    "rpy2.rinterface_lib.callbacks.logger.setLevel(logging.ERROR)\n",
    "import anndata2ri\n",
    "anndata2ri.activate()\n",
    "%load_ext rpy2.ipython\n"
   ]
  },
  {
   "cell_type": "code",
   "execution_count": 22,
   "metadata": {},
   "outputs": [],
   "source": [
    "# This is just to allow moving adata to R without errors\n",
    "adataDown.X = adataDown.X.toarray()\n",
    "\n",
    "idx = ['n_genes', 'sample',  'percent_mito', 'n_counts', 'batch', 'S_score', 'G2M_score', 'phase', \n",
    "       'scrublet_score', 'scrublet_cluster_score', 'zscore', 'bh_pval', 'bonf_pval', 'is_doublet']\n",
    "for i in idx:\n",
    "    del adataDown.obs[i]\n",
    "    \n",
    "adataDown.obs['celltype'] = adataDown.obs['celltype'].astype(str)\n",
    "\n",
    "# del adataDown.obsm['X_scVI']\n",
    "# del adataDown.obsm['X_umap']\n",
    "del adataDown.obsp['connectivities']\n",
    "del adataDown.obsp['distances']\n",
    "del adataDown.uns"
   ]
  },
  {
   "cell_type": "code",
   "execution_count": 23,
   "metadata": {},
   "outputs": [
    {
     "name": "stdout",
     "output_type": "stream",
     "text": [
      "class: SingleCellExperiment \n",
      "dim: 23074 2952 \n",
      "metadata(0):\n",
      "assays(1): X\n",
      "rownames(23074): A1BG A1BG-AS1 ... ZYX ZZEF1\n",
      "rowData names(165): gene_ids.0 feature_types.0 ... variances_norm\n",
      "  highly_variable_nbatches\n",
      "colnames(2952): UA_Endo11173480_AAACGCTCAGTTCCAA\n",
      "  UA_Endo11173480_AAAGTGAAGGCCATAG ... UA_Endo12604667_TTTCAGTTCCCTTCCC\n",
      "  UA_Endo12604667_TTTCCTCTCGCAACAT\n",
      "colData names(42): library StudyName ... Endometrial_pathology celltype\n",
      "reducedDimNames(2): X_scVI UMAP\n",
      "altExpNames(0):\n"
     ]
    }
   ],
   "source": [
    "%%R -i adataDown\n",
    "adataDown"
   ]
  },
  {
   "cell_type": "code",
   "execution_count": 24,
   "metadata": {},
   "outputs": [],
   "source": [
    "%%R\n",
    "\n",
    "library(Seurat)\n",
    "seurat_andata = as.Seurat(adataDown, counts = \"X\", data = \"X\")\n",
    "Idents(seurat_andata) = seurat_andata$celltype\n",
    "\n",
    "saveRDS(seurat_andata, \"/nfs/team292/lg18/endometriosis/MiloR_objects/nuclei_immune_integrated.rds\")"
   ]
  },
  {
   "cell_type": "code",
   "execution_count": 25,
   "metadata": {},
   "outputs": [
    {
     "data": {
      "image/png": "[encoded data removed]",
      "text/plain": [
       "<Figure size 432x288 with 1 Axes>"
      ]
     },
     "metadata": {},
     "output_type": "display_data"
    }
   ],
   "source": [
    "sc.pl.umap(adata, color=['celltype'])"
   ]
  },
  {
   "cell_type": "code",
   "execution_count": null,
   "metadata": {},
   "outputs": [],
   "source": []
  }
 ],
 "metadata": {
  "kernelspec": {
   "display_name": "Python sc_analysis",
   "language": "python",
   "name": "sc_analysis"
  },
  "language_info": {
   "codemirror_mode": {
    "name": "ipython",
    "version": 3
   },
   "file_extension": ".py",
   "mimetype": "text/x-python",
   "name": "python",
   "nbconvert_exporter": "python",
   "pygments_lexer": "ipython3",
   "version": "3.7.10"
  }
 },
 "nbformat": 4,
 "nbformat_minor": 4
}
