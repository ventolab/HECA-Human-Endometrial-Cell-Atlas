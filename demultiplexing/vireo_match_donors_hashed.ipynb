{
 "cells": [
  {
   "cell_type": "markdown",
   "metadata": {},
   "source": [
    "# Donor match - with souporcell genotyping\n",
    "\n",
    "In this notebook, we align donors (after running `cellSNP` and `vireo` without any genotype) by their genotypes. Specifically we are aligning the donor genotypes estimated with vireo from the scRNA-seq data with other the genotypes coming from other 'omics data (e.g., SNP array, Exome-seq). The idea is that we align the donors with giving least genotype difference, either using categorical genotype value or genotype probability.\n",
    "\n",
    "To do so \n",
    "\n",
    "1. First run souporcell to genotype the barcodes in the scRNA-seq libaries and make a .vcf file with the varians in their reads (CellGen can do this for you, is computational expensive):\n",
    "\n",
    "\n",
    "\n",
    "2. Use the code below will link the donor's genotype from the two libraries"
   ]
  },
  {
   "cell_type": "code",
   "execution_count": 1,
   "metadata": {},
   "outputs": [
    {
     "name": "stdout",
     "output_type": "stream",
     "text": [
      "vireoSNP version: 0.5.8\n"
     ]
    }
   ],
   "source": [
    "from os.path import exists\n",
    "import numpy as np\n",
    "import pandas as pd\n",
    "import matplotlib.pyplot as plt\n",
    "import vireoSNP\n",
    "print(\"vireoSNP version: %s\" %vireoSNP.__version__)\n",
    "\n",
    "\n",
    "def getdataframe(res, library_id):\n",
    "    # What to make the function do\n",
    "    \n",
    "    df = pd.DataFrame(res['matched_GPb_diff'],\n",
    "                 index=res['matched_donors1'],\n",
    "                 columns=res['matched_donors2'])\n",
    "    df['Patient'] = df.index\n",
    "    df['library'] = library_id\n",
    "    results = pd.melt(df, id_vars = ['Patient', 'library'])\n",
    "    return results\n",
    "\n",
    "\n",
    "def match_donors(scRNAseq_libraries, genotype_vcf):\n",
    "    for library_id in scRNAseq_libraries:\n",
    "#         print(library_id)\n",
    "\n",
    "\n",
    "        # Link donors\n",
    "        res = vireoSNP.vcf.match_VCF_samples('/home/jovyan/vireo/out_novcf/'+library_id+'/GT_donors.vireo.vcf.gz', \n",
    "                                              genotype_vcf,\n",
    "                                             GT_tag1 = 'GT', GT_tag2='GT')\n",
    "\n",
    "\n",
    "        # Save data frame\n",
    "        results = getdataframe(res, library_id)\n",
    "        results.to_csv('~/vireo/donor_assignements/'+library_id+'_donor_assignement.csv')\n",
    "\n",
    "\n",
    "        # Plot\n",
    "        fig = plt.figure()\n",
    "        vireoSNP.plot.heat_matrix(res['matched_GPb_diff'], \n",
    "                                  res['matched_donors1'] , \n",
    "                                  res['matched_donors2'] )\n",
    "        plt.title(\"Geno Prob Delta: %d SNPs\" %(res['matched_n_var']))\n",
    "        plt.tight_layout()\n",
    "        plt.show()\n",
    "\n",
    "        fig = plt.figure()\n",
    "        vireoSNP.plot.heat_matrix(res['matched_GPb_diff'] < 0.11, \n",
    "                                  res['matched_donors1'] , \n",
    "                                  res['matched_donors2'] )\n",
    "        plt.title(\"Geno Prob Delta: %d SNPs\" %(res['matched_n_var']))\n",
    "        plt.tight_layout()\n",
    "        plt.show()"
   ]
  },
  {
   "cell_type": "code",
   "execution_count": 2,
   "metadata": {},
   "outputs": [],
   "source": [
    "# match_donors(scRNAseq_libraries=['UA_Endo12680033', 'UA_Endo12680034'],\n",
    "#              genotype_vcf='/nfs/users/nfs_l/lg18/team292/lg18/endometriosis/data/genotypes/sample_specific_filtered/all_for_nuclei_deconvolution.renamed.fixed.vcf')"
   ]
  },
  {
   "cell_type": "code",
   "execution_count": 3,
   "metadata": {},
   "outputs": [
    {
     "name": "stdout",
     "output_type": "stream",
     "text": [
      "Shape for Geno Prob in VCF1: (59329, 2, 3)\n",
      "Shape for Geno Prob in VCF2: (59329, 2, 3)\n",
      "n_variants in VCF1, VCF2 and matched: 59329, 64696, 18765\n",
      "aligned donors:\n",
      "['donor0' 'donor1']\n",
      "['donor0' 'donor1']\n"
     ]
    },
    {
     "data": {
      "image/png": "[encoded data removed]",
      "text/plain": [
       "<Figure size 432x288 with 1 Axes>"
      ]
     },
     "metadata": {
      "needs_background": "light"
     },
     "output_type": "display_data"
    },
    {
     "data": {
      "image/png": "[encoded data removed]",
      "text/plain": [
       "<Figure size 432x288 with 1 Axes>"
      ]
     },
     "metadata": {
      "needs_background": "light"
     },
     "output_type": "display_data"
    }
   ],
   "source": [
    "# Link donors\n",
    "res = vireoSNP.vcf.match_VCF_samples('/home/jovyan/vireo/out_novcf/UA_Endo12680034/GT_donors.vireo.vcf.gz', \n",
    "                                      '/home/jovyan/vireo/out_novcf/UA_Endo12680033/GT_donors.vireo.vcf.gz',\n",
    "                                     GT_tag1 = 'GT', GT_tag2='GT')\n",
    "\n",
    "\n",
    "# Save data frame\n",
    "# results = getdataframe(res, library_id)\n",
    "# results.to_csv('~/vireo/donor_assignements/'+library_id+'_donor_assignement.csv')\n",
    "\n",
    "\n",
    "# Plot\n",
    "fig = plt.figure()\n",
    "vireoSNP.plot.heat_matrix(res['matched_GPb_diff'], \n",
    "                          res['matched_donors1'] , \n",
    "                          res['matched_donors2'] )\n",
    "plt.title(\"Geno Prob Delta: %d SNPs\" %(res['matched_n_var']))\n",
    "plt.tight_layout()\n",
    "plt.show()\n",
    "\n",
    "fig = plt.figure()\n",
    "vireoSNP.plot.heat_matrix(res['matched_GPb_diff'] < 0.11, \n",
    "                          res['matched_donors1'] , \n",
    "                          res['matched_donors2'] )\n",
    "plt.title(\"Geno Prob Delta: %d SNPs\" %(res['matched_n_var']))\n",
    "plt.tight_layout()\n",
    "plt.show()"
   ]
  },
  {
   "cell_type": "code",
   "execution_count": 4,
   "metadata": {},
   "outputs": [
    {
     "name": "stdout",
     "output_type": "stream",
     "text": [
      "Shape for Geno Prob in VCF1: (59329, 2, 3)\n",
      "Shape for Geno Prob in VCF2: (59329, 2, 3)\n",
      "n_variants in VCF1, VCF2 and matched: 59329, 34313, 269\n",
      "aligned donors:\n",
      "['donor0' 'donor1']\n",
      "['FX1233' 'FX1215']\n"
     ]
    },
    {
     "data": {
      "image/png": "[encoded data removed]",
      "text/plain": [
       "<Figure size 432x288 with 1 Axes>"
      ]
     },
     "metadata": {
      "needs_background": "light"
     },
     "output_type": "display_data"
    },
    {
     "data": {
      "image/png": "[encoded data removed]",
      "text/plain": [
       "<Figure size 432x288 with 1 Axes>"
      ]
     },
     "metadata": {
      "needs_background": "light"
     },
     "output_type": "display_data"
    }
   ],
   "source": [
    "# Link donors\n",
    "res = vireoSNP.vcf.match_VCF_samples('/home/jovyan/vireo/out_novcf/UA_Endo12680034/GT_donors.vireo.vcf.gz', \n",
    "                                      '/nfs/users/nfs_l/lg18/team292/lg18/endometriosis/data/genotypes/sample_specific_filtered/all_for_nuclei_deconvolution.renamed.fixed.vcf',\n",
    "                                     GT_tag1 = 'GT', GT_tag2='GT')\n",
    "\n",
    "\n",
    "# Save data frame\n",
    "# results = getdataframe(res, library_id)\n",
    "# results.to_csv('~/vireo/donor_assignements/'+library_id+'_donor_assignement.csv')\n",
    "\n",
    "\n",
    "# Plot\n",
    "fig = plt.figure()\n",
    "vireoSNP.plot.heat_matrix(res['matched_GPb_diff'], \n",
    "                          res['matched_donors1'] , \n",
    "                          res['matched_donors2'] )\n",
    "plt.title(\"Geno Prob Delta: %d SNPs\" %(res['matched_n_var']))\n",
    "plt.tight_layout()\n",
    "plt.show()\n",
    "\n",
    "fig = plt.figure()\n",
    "vireoSNP.plot.heat_matrix(res['matched_GPb_diff'] < 0.11, \n",
    "                          res['matched_donors1'] , \n",
    "                          res['matched_donors2'] )\n",
    "plt.title(\"Geno Prob Delta: %d SNPs\" %(res['matched_n_var']))\n",
    "plt.tight_layout()\n",
    "plt.show()"
   ]
  },
  {
   "cell_type": "code",
   "execution_count": 8,
   "metadata": {},
   "outputs": [
    {
     "name": "stdout",
     "output_type": "stream",
     "text": [
      "Shape for Geno Prob in VCF1: (247924, 2, 3)\n",
      "Shape for Geno Prob in VCF2: (247924, 2, 3)\n",
      "n_variants in VCF1, VCF2 and matched: 247924, 141342, 115990\n",
      "aligned donors:\n",
      "['0' '1']\n",
      "['0' '1']\n"
     ]
    },
    {
     "data": {
      "image/png": "[encoded data removed]",
      "text/plain": [
       "<Figure size 432x288 with 1 Axes>"
      ]
     },
     "metadata": {
      "needs_background": "light"
     },
     "output_type": "display_data"
    },
    {
     "data": {
      "image/png": "[encoded data removed]",
      "text/plain": [
       "<Figure size 432x288 with 1 Axes>"
      ]
     },
     "metadata": {
      "needs_background": "light"
     },
     "output_type": "display_data"
    }
   ],
   "source": [
    "# Link donors\n",
    "library_id = 'UA_Endo12680033'\n",
    "res = vireoSNP.vcf.match_VCF_samples('/lustre/scratch126/cellgen/cellgeni/tickets/nextflow-tower-results/sm42/1678704302591/souporcell-results/UA_Endo12680033/cluster_genotypes.vcf', \n",
    "                                      '/lustre/scratch126/cellgen/cellgeni/tickets/nextflow-tower-results/sm42/1678704302591/souporcell-results/UA_Endo12680034/cluster_genotypes.vcf',\n",
    "                                     GT_tag1 = 'GT', GT_tag2='GT')\n",
    "\n",
    "\n",
    "# Save data frame\n",
    "results = getdataframe(res, library_id)\n",
    "results.to_csv('~/vireo/donor_assignements/'+library_id+'_donor_assignement.csv')\n",
    "\n",
    "\n",
    "# Plot\n",
    "fig = plt.figure()\n",
    "vireoSNP.plot.heat_matrix(res['matched_GPb_diff'], \n",
    "                          res['matched_donors1'] , \n",
    "                          res['matched_donors2'] )\n",
    "plt.title(\"Geno Prob Delta: %d SNPs\" %(res['matched_n_var']))\n",
    "plt.tight_layout()\n",
    "plt.show()\n",
    "\n",
    "fig = plt.figure()\n",
    "vireoSNP.plot.heat_matrix(res['matched_GPb_diff'] < 0.11, \n",
    "                          res['matched_donors1'] , \n",
    "                          res['matched_donors2'] )\n",
    "plt.title(\"Geno Prob Delta: %d SNPs\" %(res['matched_n_var']))\n",
    "plt.tight_layout()\n",
    "plt.show()"
   ]
  },
  {
   "cell_type": "code",
   "execution_count": 9,
   "metadata": {},
   "outputs": [
    {
     "name": "stdout",
     "output_type": "stream",
     "text": [
      "Shape for Geno Prob in VCF1: (141342, 2, 3)\n",
      "Shape for Geno Prob in VCF2: (141342, 2, 3)\n",
      "n_variants in VCF1, VCF2 and matched: 141342, 247924, 115990\n",
      "aligned donors:\n",
      "['0' '1']\n",
      "['0' '1']\n"
     ]
    },
    {
     "data": {
      "image/png": "[encoded data removed]",
      "text/plain": [
       "<Figure size 432x288 with 1 Axes>"
      ]
     },
     "metadata": {
      "needs_background": "light"
     },
     "output_type": "display_data"
    },
    {
     "data": {
      "image/png": "[encoded data removed]",
      "text/plain": [
       "<Figure size 432x288 with 1 Axes>"
      ]
     },
     "metadata": {
      "needs_background": "light"
     },
     "output_type": "display_data"
    }
   ],
   "source": [
    "# Link donors\n",
    "library_id = 'UA_Endo12680034'\n",
    "res = vireoSNP.vcf.match_VCF_samples('/lustre/scratch126/cellgen/cellgeni/tickets/nextflow-tower-results/sm42/1678704302591/souporcell-results/UA_Endo12680034/cluster_genotypes.vcf', \n",
    "                                      '/lustre/scratch126/cellgen/cellgeni/tickets/nextflow-tower-results/sm42/1678704302591/souporcell-results/UA_Endo12680033/cluster_genotypes.vcf',\n",
    "                                     GT_tag1 = 'GT', GT_tag2='GT')\n",
    "\n",
    "\n",
    "# Save data frame\n",
    "results = getdataframe(res, library_id)\n",
    "results.to_csv('~/vireo/donor_assignements/'+library_id+'_donor_assignement.csv')\n",
    "\n",
    "\n",
    "# Plot\n",
    "fig = plt.figure()\n",
    "vireoSNP.plot.heat_matrix(res['matched_GPb_diff'], \n",
    "                          res['matched_donors1'] , \n",
    "                          res['matched_donors2'] )\n",
    "plt.title(\"Geno Prob Delta: %d SNPs\" %(res['matched_n_var']))\n",
    "plt.tight_layout()\n",
    "plt.show()\n",
    "\n",
    "fig = plt.figure()\n",
    "vireoSNP.plot.heat_matrix(res['matched_GPb_diff'] < 0.11, \n",
    "                          res['matched_donors1'] , \n",
    "                          res['matched_donors2'] )\n",
    "plt.title(\"Geno Prob Delta: %d SNPs\" %(res['matched_n_var']))\n",
    "plt.tight_layout()\n",
    "plt.show()"
   ]
  },
  {
   "cell_type": "code",
   "execution_count": null,
   "metadata": {},
   "outputs": [],
   "source": []
  }
 ],
 "metadata": {
  "kernelspec": {
   "display_name": "Python (vireoSNP)",
   "language": "python",
   "name": "vireo"
  },
  "language_info": {
   "codemirror_mode": {
    "name": "ipython",
    "version": 3
   },
   "file_extension": ".py",
   "mimetype": "text/x-python",
   "name": "python",
   "nbconvert_exporter": "python",
   "pygments_lexer": "ipython3",
   "version": "3.8.6"
  }
 },
 "nbformat": 4,
 "nbformat_minor": 4
}
