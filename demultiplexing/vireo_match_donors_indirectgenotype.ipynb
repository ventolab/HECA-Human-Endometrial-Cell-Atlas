{
 "cells": [
  {
   "cell_type": "markdown",
   "metadata": {},
   "source": [
    "# Donor match\n",
    "\n",
    "In this notebook, we align donors (after running `cellSNP` and `vireo` without any genotype) by their genotypes. Here we are aligning the donor genotypes estimated with vireo from the scRNA-seq data. The idea is that we align the donors with giving least genotype difference, either using categorical genotype value or genotype probability.\n",
    "\n",
    "To do so \n",
    "\n",
    "1. First run cellSNP to genotype the barcodes in the scRNA-seq libaries and make a .vcf file with the varians in their reads (CellGen can do this for you, is computational expensive):\n",
    "\n",
    "```\n",
    "cellSNP -s sample.bam -b sample.barcodes.tsv -o out.sample.cellsnp -R genome1K.phase3.SNP_AF5e2.chr1toX.hg38.vcf.gz -p 6 --minMAF 0.1 --minCOUNT 20\n",
    "```\n",
    "\n",
    "> Find `genome1K.phase3.SNP_AF5e2.chr1toX.hg38.vcf.gz` here https://sourceforge.net/projects/cellsnp/files/SNPlist/\n",
    "\n",
    "2. Next run vireo without any genotype. This uses the SNPs in the previous step to classify scRNA-seq barcodes and the variants into `N` donors, and generate a .vcf with the variants of each donor:\n",
    "\n",
    "```\n",
    "vireo -c sample/cellSNP-out/ -N 2 -o out/sample/ -t GT\n",
    "```\n",
    "\n",
    "3. Use the code below will link the donor's genotype from step 2 (i.e. donors and genotypes estimated from scRNA-seq).\n"
   ]
  },
  {
   "cell_type": "code",
   "execution_count": 1,
   "metadata": {},
   "outputs": [
    {
     "name": "stdout",
     "output_type": "stream",
     "text": [
      "vireoSNP version: 0.5.8\n"
     ]
    }
   ],
   "source": [
    "from os.path import exists\n",
    "import numpy as np\n",
    "import pandas as pd\n",
    "import matplotlib.pyplot as plt\n",
    "import vireoSNP\n",
    "print(\"vireoSNP version: %s\" %vireoSNP.__version__)\n",
    "\n",
    "\n",
    "def getdataframe(res, library_id):\n",
    "    # What to make the function do\n",
    "    \n",
    "    df = pd.DataFrame(res['matched_GPb_diff'],\n",
    "                 index=res['matched_donors1'],\n",
    "                 columns=res['matched_donors2'])\n",
    "    df['Patient'] = df.index\n",
    "    df['library'] = library_id\n",
    "    results = pd.melt(df, id_vars = ['Patient', 'library'])\n",
    "    return results\n",
    "\n",
    "\n",
    "def match_donors(scRNAseq_libraries, genotype_vcf):\n",
    "    for library_id in scRNAseq_libraries:\n",
    "#         print(library_id)\n",
    "\n",
    "\n",
    "        # Link donors\n",
    "        res = vireoSNP.vcf.match_VCF_samples('/home/jovyan/vireo/out_novcf/'+library_id+'/GT_donors.vireo.vcf.gz', \n",
    "                                              genotype_vcf,\n",
    "                                             GT_tag1 = 'GT', GT_tag2='GT')\n",
    "\n",
    "\n",
    "        # Save data frame\n",
    "        results = getdataframe(res, library_id)\n",
    "        results.to_csv('~/vireo/donor_assignements/'+library_id+'_donor_assignement.csv')\n",
    "\n",
    "\n",
    "        # Plot\n",
    "        fig = plt.figure()\n",
    "        vireoSNP.plot.heat_matrix(res['matched_GPb_diff'], \n",
    "                                  res['matched_donors1'] , \n",
    "                                  res['matched_donors2'] )\n",
    "        plt.title(\"Geno Prob Delta: %d SNPs\" %(res['matched_n_var']))\n",
    "        plt.tight_layout()\n",
    "        plt.show()\n",
    "\n",
    "        fig = plt.figure()\n",
    "        vireoSNP.plot.heat_matrix(res['matched_GPb_diff'] < 0.11, \n",
    "                                  res['matched_donors1'] , \n",
    "                                  res['matched_donors2'] )\n",
    "        plt.title(\"Geno Prob Delta: %d SNPs\" %(res['matched_n_var']))\n",
    "        plt.tight_layout()\n",
    "        plt.show()"
   ]
  },
  {
   "cell_type": "code",
   "execution_count": 2,
   "metadata": {},
   "outputs": [],
   "source": [
    "# match_donors(scRNAseq_libraries=['UA_Endo12680033', 'UA_Endo12680034'],\n",
    "#              genotype_vcf='/nfs/users/nfs_l/lg18/team292/lg18/endometriosis/data/genotypes/sample_specific_filtered/all_for_nuclei_deconvolution.renamed.fixed.vcf')"
   ]
  },
  {
   "cell_type": "markdown",
   "metadata": {},
   "source": [
    "# Donor FX9006 - lib UA_Endo12865961"
   ]
  },
  {
   "cell_type": "code",
   "execution_count": 3,
   "metadata": {},
   "outputs": [
    {
     "name": "stdout",
     "output_type": "stream",
     "text": [
      "Shape for Geno Prob in VCF1: (161548, 2, 3)\n",
      "Shape for Geno Prob in VCF2: (161548, 2, 3)\n",
      "n_variants in VCF1, VCF2 and matched: 161548, 185896, 97871\n",
      "aligned donors:\n",
      "['donor0' 'donor1']\n",
      "['donor1' 'donor0']\n"
     ]
    },
    {
     "data": {
      "image/png": "[encoded data removed]",
      "text/plain": [
       "<Figure size 432x288 with 1 Axes>"
      ]
     },
     "metadata": {
      "needs_background": "light"
     },
     "output_type": "display_data"
    },
    {
     "data": {
      "image/png": "[encoded data removed]",
      "text/plain": [
       "<Figure size 432x288 with 1 Axes>"
      ]
     },
     "metadata": {
      "needs_background": "light"
     },
     "output_type": "display_data"
    }
   ],
   "source": [
    "genotype = 'FX9006'\n",
    "library_id = 'UA_Endo12865961'\n",
    "library_id_genotyped = 'UA_Endo11460963'\n",
    "\n",
    "\n",
    "# Link donors\n",
    "res = vireoSNP.vcf.match_VCF_samples('/home/jovyan/vireo/out_novcf/'+library_id+'/GT_donors.vireo.vcf.gz', \n",
    "                                      '/home/jovyan/vireo/out_novcf/'+library_id_genotyped+'/GT_donors.vireo.vcf.gz',\n",
    "                                     GT_tag1 = 'GT', GT_tag2='GT')\n",
    "\n",
    "\n",
    "# Save data frame\n",
    "results = getdataframe(res, library_id)\n",
    "results.to_csv('~/vireo/donor_assignements/'+library_id+'_donor_assignement.csv')\n",
    "\n",
    "\n",
    "# Plot\n",
    "fig = plt.figure()\n",
    "vireoSNP.plot.heat_matrix(res['matched_GPb_diff'], \n",
    "                          res['matched_donors1'] , \n",
    "                          res['matched_donors2'] )\n",
    "plt.title(\"Geno Prob Delta: %d SNPs\" %(res['matched_n_var']))\n",
    "plt.tight_layout()\n",
    "plt.show()\n",
    "\n",
    "fig = plt.figure()\n",
    "vireoSNP.plot.heat_matrix(res['matched_GPb_diff'] < 0.11, \n",
    "                          res['matched_donors1'] , \n",
    "                          res['matched_donors2'] )\n",
    "plt.title(\"Geno Prob Delta: %d SNPs\" %(res['matched_n_var']))\n",
    "plt.tight_layout()\n",
    "plt.show()"
   ]
  },
  {
   "cell_type": "markdown",
   "metadata": {},
   "source": [
    "# Donor FX1236 - lib UA_Endo12865962"
   ]
  },
  {
   "cell_type": "code",
   "execution_count": 7,
   "metadata": {},
   "outputs": [],
   "source": [
    "# genotype = 'FX1236'\n",
    "# library_id = 'UA_Endo12865962'\n",
    "# library_id_genotyped = 'UA_Endo11596521'\n",
    "\n",
    "\n",
    "# # Link donors\n",
    "# res = vireoSNP.vcf.match_VCF_samples('/home/jovyan/vireo/out_novcf/'+library_id+'/GT_donors.vireo.vcf.gz', \n",
    "#                                       '/home/jovyan/vireo/out_novcf/'+library_id_genotyped+'/GT_donors.vireo.vcf.gz',\n",
    "#                                      GT_tag1 = 'GT', GT_tag2='GT')\n",
    "\n",
    "\n",
    "# # Save data frame\n",
    "# results = getdataframe(res, library_id)\n",
    "# results.to_csv('~/vireo/donor_assignements/'+library_id+'_donor_assignement.csv')\n",
    "\n",
    "\n",
    "# # Plot\n",
    "# fig = plt.figure()\n",
    "# vireoSNP.plot.heat_matrix(res['matched_GPb_diff'], \n",
    "#                           res['matched_donors1'] , \n",
    "#                           res['matched_donors2'] )\n",
    "# plt.title(\"Geno Prob Delta: %d SNPs\" %(res['matched_n_var']))\n",
    "# plt.tight_layout()\n",
    "# plt.show()\n",
    "\n",
    "# fig = plt.figure()\n",
    "# vireoSNP.plot.heat_matrix(res['matched_GPb_diff'] < 0.11, \n",
    "#                           res['matched_donors1'] , \n",
    "#                           res['matched_donors2'] )\n",
    "# plt.title(\"Geno Prob Delta: %d SNPs\" %(res['matched_n_var']))\n",
    "# plt.tight_layout()\n",
    "# plt.show()"
   ]
  },
  {
   "cell_type": "markdown",
   "metadata": {},
   "source": [
    "# Donor SE02 - libs UA_Endo12961679 & UA_Endo12961680\n"
   ]
  },
  {
   "cell_type": "code",
   "execution_count": 7,
   "metadata": {},
   "outputs": [
    {
     "name": "stdout",
     "output_type": "stream",
     "text": [
      "Shape for Geno Prob in VCF1: (12436, 2, 3)\n",
      "Shape for Geno Prob in VCF2: (12436, 2, 3)\n",
      "n_variants in VCF1, VCF2 and matched: 12436, 73434, 8237\n",
      "aligned donors:\n",
      "['donor0' 'donor1']\n",
      "['donor0' 'donor1']\n"
     ]
    },
    {
     "data": {
      "image/png": "[encoded data removed]",
      "text/plain": [
       "<Figure size 432x288 with 1 Axes>"
      ]
     },
     "metadata": {
      "needs_background": "light"
     },
     "output_type": "display_data"
    },
    {
     "data": {
      "image/png": "[encoded data removed]",
      "text/plain": [
       "<Figure size 432x288 with 1 Axes>"
      ]
     },
     "metadata": {
      "needs_background": "light"
     },
     "output_type": "display_data"
    }
   ],
   "source": [
    "genotype = 'SE02'\n",
    "library_id = 'UA_Endo12961679'\n",
    "library_id_genotyped = 'UA_Endo13066782'\n",
    "\n",
    "\n",
    "# Link donors\n",
    "res = vireoSNP.vcf.match_VCF_samples('/home/jovyan/vireo/out_novcf/'+library_id+'/GT_donors.vireo.vcf.gz', \n",
    "                                      '/home/jovyan/vireo/out_novcf/'+library_id_genotyped+'/GT_donors.vireo.vcf.gz',\n",
    "                                     GT_tag1 = 'GT', GT_tag2='GT')\n",
    "\n",
    "\n",
    "# Save data frame\n",
    "results = getdataframe(res, library_id)\n",
    "results.to_csv('~/vireo/donor_assignements/'+library_id+'_donor_assignement.csv')\n",
    "\n",
    "\n",
    "# Plot\n",
    "fig = plt.figure()\n",
    "vireoSNP.plot.heat_matrix(res['matched_GPb_diff'], \n",
    "                          res['matched_donors1'] , \n",
    "                          res['matched_donors2'] )\n",
    "plt.title(\"Geno Prob Delta: %d SNPs\" %(res['matched_n_var']))\n",
    "plt.tight_layout()\n",
    "plt.show()\n",
    "\n",
    "fig = plt.figure()\n",
    "vireoSNP.plot.heat_matrix(res['matched_GPb_diff'] < 0.11, \n",
    "                          res['matched_donors1'] , \n",
    "                          res['matched_donors2'] )\n",
    "plt.title(\"Geno Prob Delta: %d SNPs\" %(res['matched_n_var']))\n",
    "plt.tight_layout()\n",
    "plt.show()"
   ]
  },
  {
   "cell_type": "code",
   "execution_count": 8,
   "metadata": {},
   "outputs": [],
   "source": [
    "# genotype = 'SE02'\n",
    "# library_id = 'UA_Endo12961679'\n",
    "# library_id_genotyped = 'UA_Endo13066783'\n",
    "\n",
    "\n",
    "# # Link donors\n",
    "# res = vireoSNP.vcf.match_VCF_samples('/home/jovyan/vireo/out_novcf/'+library_id+'/GT_donors.vireo.vcf.gz', \n",
    "#                                       '/home/jovyan/vireo/out_novcf/'+library_id_genotyped+'/GT_donors.vireo.vcf.gz',\n",
    "#                                      GT_tag1 = 'GT', GT_tag2='GT')\n",
    "\n",
    "\n",
    "# # Save data frame\n",
    "# results = getdataframe(res, library_id)\n",
    "# results.to_csv('~/vireo/donor_assignements/'+library_id+'_donor_assignement.csv')\n",
    "\n",
    "\n",
    "# # Plot\n",
    "# fig = plt.figure()\n",
    "# vireoSNP.plot.heat_matrix(res['matched_GPb_diff'], \n",
    "#                           res['matched_donors1'] , \n",
    "#                           res['matched_donors2'] )\n",
    "# plt.title(\"Geno Prob Delta: %d SNPs\" %(res['matched_n_var']))\n",
    "# plt.tight_layout()\n",
    "# plt.show()\n",
    "\n",
    "# fig = plt.figure()\n",
    "# vireoSNP.plot.heat_matrix(res['matched_GPb_diff'] < 0.11, \n",
    "#                           res['matched_donors1'] , \n",
    "#                           res['matched_donors2'] )\n",
    "# plt.title(\"Geno Prob Delta: %d SNPs\" %(res['matched_n_var']))\n",
    "# plt.tight_layout()\n",
    "# plt.show()"
   ]
  },
  {
   "cell_type": "code",
   "execution_count": 9,
   "metadata": {},
   "outputs": [
    {
     "name": "stdout",
     "output_type": "stream",
     "text": [
      "Shape for Geno Prob in VCF1: (6995, 2, 3)\n",
      "Shape for Geno Prob in VCF2: (6995, 2, 3)\n",
      "n_variants in VCF1, VCF2 and matched: 6995, 73434, 5176\n",
      "aligned donors:\n",
      "['donor0' 'donor1']\n",
      "['donor0' 'donor1']\n"
     ]
    },
    {
     "data": {
      "image/png": "[encoded data removed]",
      "text/plain": [
       "<Figure size 432x288 with 1 Axes>"
      ]
     },
     "metadata": {
      "needs_background": "light"
     },
     "output_type": "display_data"
    },
    {
     "data": {
      "image/png": "[encoded data removed]",
      "text/plain": [
       "<Figure size 432x288 with 1 Axes>"
      ]
     },
     "metadata": {
      "needs_background": "light"
     },
     "output_type": "display_data"
    }
   ],
   "source": [
    "genotype = 'SE02'\n",
    "library_id = 'UA_Endo12961680'\n",
    "library_id_genotyped = 'UA_Endo13066782'\n",
    "\n",
    "\n",
    "# Link donors\n",
    "res = vireoSNP.vcf.match_VCF_samples('/home/jovyan/vireo/out_novcf/'+library_id+'/GT_donors.vireo.vcf.gz', \n",
    "                                      '/home/jovyan/vireo/out_novcf/'+library_id_genotyped+'/GT_donors.vireo.vcf.gz',\n",
    "                                     GT_tag1 = 'GT', GT_tag2='GT')\n",
    "\n",
    "\n",
    "# Save data frame\n",
    "results = getdataframe(res, library_id)\n",
    "results.to_csv('~/vireo/donor_assignements/'+library_id+'_donor_assignement.csv')\n",
    "\n",
    "\n",
    "# Plot\n",
    "fig = plt.figure()\n",
    "vireoSNP.plot.heat_matrix(res['matched_GPb_diff'], \n",
    "                          res['matched_donors1'] , \n",
    "                          res['matched_donors2'] )\n",
    "plt.title(\"Geno Prob Delta: %d SNPs\" %(res['matched_n_var']))\n",
    "plt.tight_layout()\n",
    "plt.show()\n",
    "\n",
    "fig = plt.figure()\n",
    "vireoSNP.plot.heat_matrix(res['matched_GPb_diff'] < 0.11, \n",
    "                          res['matched_donors1'] , \n",
    "                          res['matched_donors2'] )\n",
    "plt.title(\"Geno Prob Delta: %d SNPs\" %(res['matched_n_var']))\n",
    "plt.tight_layout()\n",
    "plt.show()"
   ]
  },
  {
   "cell_type": "code",
   "execution_count": 10,
   "metadata": {},
   "outputs": [],
   "source": [
    "# genotype = 'SE02'\n",
    "# library_id = 'UA_Endo12961680'\n",
    "# library_id_genotyped = 'UA_Endo13066783'\n",
    "\n",
    "\n",
    "# # Link donors\n",
    "# res = vireoSNP.vcf.match_VCF_samples('/home/jovyan/vireo/out_novcf/'+library_id+'/GT_donors.vireo.vcf.gz', \n",
    "#                                       '/home/jovyan/vireo/out_novcf/'+library_id_genotyped+'/GT_donors.vireo.vcf.gz',\n",
    "#                                      GT_tag1 = 'GT', GT_tag2='GT')\n",
    "\n",
    "\n",
    "# # Save data frame\n",
    "# results = getdataframe(res, library_id)\n",
    "# results.to_csv('~/vireo/donor_assignements/'+library_id+'_donor_assignement.csv')\n",
    "\n",
    "\n",
    "# # Plot\n",
    "# fig = plt.figure()\n",
    "# vireoSNP.plot.heat_matrix(res['matched_GPb_diff'], \n",
    "#                           res['matched_donors1'] , \n",
    "#                           res['matched_donors2'] )\n",
    "# plt.title(\"Geno Prob Delta: %d SNPs\" %(res['matched_n_var']))\n",
    "# plt.tight_layout()\n",
    "# plt.show()\n",
    "\n",
    "# fig = plt.figure()\n",
    "# vireoSNP.plot.heat_matrix(res['matched_GPb_diff'] < 0.11, \n",
    "#                           res['matched_donors1'] , \n",
    "#                           res['matched_donors2'] )\n",
    "# plt.title(\"Geno Prob Delta: %d SNPs\" %(res['matched_n_var']))\n",
    "# plt.tight_layout()\n",
    "# plt.show()"
   ]
  },
  {
   "cell_type": "markdown",
   "metadata": {},
   "source": [
    "# Donor FX1289 - libs UA_Endo12961681 & UA_Endo12961682"
   ]
  },
  {
   "cell_type": "code",
   "execution_count": 11,
   "metadata": {},
   "outputs": [
    {
     "name": "stdout",
     "output_type": "stream",
     "text": [
      "Shape for Geno Prob in VCF1: (19831, 2, 3)\n",
      "Shape for Geno Prob in VCF2: (19831, 2, 3)\n",
      "n_variants in VCF1, VCF2 and matched: 19831, 73434, 12048\n",
      "aligned donors:\n",
      "['donor0' 'donor1']\n",
      "['donor0' 'donor1']\n"
     ]
    },
    {
     "data": {
      "image/png": "[encoded data removed]",
      "text/plain": [
       "<Figure size 432x288 with 1 Axes>"
      ]
     },
     "metadata": {
      "needs_background": "light"
     },
     "output_type": "display_data"
    },
    {
     "data": {
      "image/png": "[encoded data removed]",
      "text/plain": [
       "<Figure size 432x288 with 1 Axes>"
      ]
     },
     "metadata": {
      "needs_background": "light"
     },
     "output_type": "display_data"
    }
   ],
   "source": [
    "genotype = 'FX1289'\n",
    "library_id = 'UA_Endo12961681'\n",
    "library_id_genotyped = 'UA_Endo13066782'\n",
    "\n",
    "\n",
    "# Link donors\n",
    "res = vireoSNP.vcf.match_VCF_samples('/home/jovyan/vireo/out_novcf/'+library_id+'/GT_donors.vireo.vcf.gz', \n",
    "                                      '/home/jovyan/vireo/out_novcf/'+library_id_genotyped+'/GT_donors.vireo.vcf.gz',\n",
    "                                     GT_tag1 = 'GT', GT_tag2='GT')\n",
    "\n",
    "\n",
    "# Save data frame\n",
    "results = getdataframe(res, library_id)\n",
    "results.to_csv('~/vireo/donor_assignements/'+library_id+'_donor_assignement.csv')\n",
    "\n",
    "\n",
    "# Plot\n",
    "fig = plt.figure()\n",
    "vireoSNP.plot.heat_matrix(res['matched_GPb_diff'], \n",
    "                          res['matched_donors1'] , \n",
    "                          res['matched_donors2'] )\n",
    "plt.title(\"Geno Prob Delta: %d SNPs\" %(res['matched_n_var']))\n",
    "plt.tight_layout()\n",
    "plt.show()\n",
    "\n",
    "fig = plt.figure()\n",
    "vireoSNP.plot.heat_matrix(res['matched_GPb_diff'] < 0.11, \n",
    "                          res['matched_donors1'] , \n",
    "                          res['matched_donors2'] )\n",
    "plt.title(\"Geno Prob Delta: %d SNPs\" %(res['matched_n_var']))\n",
    "plt.tight_layout()\n",
    "plt.show()"
   ]
  },
  {
   "cell_type": "code",
   "execution_count": 12,
   "metadata": {},
   "outputs": [],
   "source": [
    "# genotype = 'FX1289'\n",
    "# library_id = 'UA_Endo12961681'\n",
    "# library_id_genotyped = 'UA_Endo13066783'\n",
    "\n",
    "\n",
    "# # Link donors\n",
    "# res = vireoSNP.vcf.match_VCF_samples('/home/jovyan/vireo/out_novcf/'+library_id+'/GT_donors.vireo.vcf.gz', \n",
    "#                                       '/home/jovyan/vireo/out_novcf/'+library_id_genotyped+'/GT_donors.vireo.vcf.gz',\n",
    "#                                      GT_tag1 = 'GT', GT_tag2='GT')\n",
    "\n",
    "\n",
    "# # Save data frame\n",
    "# results = getdataframe(res, library_id)\n",
    "# results.to_csv('~/vireo/donor_assignements/'+library_id+'_donor_assignement.csv')\n",
    "\n",
    "\n",
    "# # Plot\n",
    "# fig = plt.figure()\n",
    "# vireoSNP.plot.heat_matrix(res['matched_GPb_diff'], \n",
    "#                           res['matched_donors1'] , \n",
    "#                           res['matched_donors2'] )\n",
    "# plt.title(\"Geno Prob Delta: %d SNPs\" %(res['matched_n_var']))\n",
    "# plt.tight_layout()\n",
    "# plt.show()\n",
    "\n",
    "# fig = plt.figure()\n",
    "# vireoSNP.plot.heat_matrix(res['matched_GPb_diff'] < 0.11, \n",
    "#                           res['matched_donors1'] , \n",
    "#                           res['matched_donors2'] )\n",
    "# plt.title(\"Geno Prob Delta: %d SNPs\" %(res['matched_n_var']))\n",
    "# plt.tight_layout()\n",
    "# plt.show()"
   ]
  },
  {
   "cell_type": "code",
   "execution_count": 13,
   "metadata": {},
   "outputs": [
    {
     "name": "stdout",
     "output_type": "stream",
     "text": [
      "Shape for Geno Prob in VCF1: (12875, 2, 3)\n",
      "Shape for Geno Prob in VCF2: (12875, 2, 3)\n",
      "n_variants in VCF1, VCF2 and matched: 12875, 73434, 8959\n",
      "aligned donors:\n",
      "['donor0' 'donor1']\n",
      "['donor1' 'donor0']\n"
     ]
    },
    {
     "data": {
      "image/png": "[encoded data removed]",
      "text/plain": [
       "<Figure size 432x288 with 1 Axes>"
      ]
     },
     "metadata": {
      "needs_background": "light"
     },
     "output_type": "display_data"
    },
    {
     "data": {
      "image/png": "[encoded data removed]",
      "text/plain": [
       "<Figure size 432x288 with 1 Axes>"
      ]
     },
     "metadata": {
      "needs_background": "light"
     },
     "output_type": "display_data"
    }
   ],
   "source": [
    "genotype = 'FX1289'\n",
    "library_id = 'UA_Endo12961682'\n",
    "library_id_genotyped = 'UA_Endo13066782'\n",
    "\n",
    "\n",
    "# Link donors\n",
    "res = vireoSNP.vcf.match_VCF_samples('/home/jovyan/vireo/out_novcf/'+library_id+'/GT_donors.vireo.vcf.gz', \n",
    "                                      '/home/jovyan/vireo/out_novcf/'+library_id_genotyped+'/GT_donors.vireo.vcf.gz',\n",
    "                                     GT_tag1 = 'GT', GT_tag2='GT')\n",
    "\n",
    "\n",
    "# Save data frame\n",
    "results = getdataframe(res, library_id)\n",
    "results.to_csv('~/vireo/donor_assignements/'+library_id+'_donor_assignement.csv')\n",
    "\n",
    "\n",
    "# Plot\n",
    "fig = plt.figure()\n",
    "vireoSNP.plot.heat_matrix(res['matched_GPb_diff'], \n",
    "                          res['matched_donors1'] , \n",
    "                          res['matched_donors2'] )\n",
    "plt.title(\"Geno Prob Delta: %d SNPs\" %(res['matched_n_var']))\n",
    "plt.tight_layout()\n",
    "plt.show()\n",
    "\n",
    "fig = plt.figure()\n",
    "vireoSNP.plot.heat_matrix(res['matched_GPb_diff'] < 0.11, \n",
    "                          res['matched_donors1'] , \n",
    "                          res['matched_donors2'] )\n",
    "plt.title(\"Geno Prob Delta: %d SNPs\" %(res['matched_n_var']))\n",
    "plt.tight_layout()\n",
    "plt.show()"
   ]
  },
  {
   "cell_type": "code",
   "execution_count": 14,
   "metadata": {},
   "outputs": [],
   "source": [
    "# genotype = 'FX1289'\n",
    "# library_id = 'UA_Endo12961682'\n",
    "# library_id_genotyped = 'UA_Endo13066783'\n",
    "\n",
    "\n",
    "# # Link donors\n",
    "# res = vireoSNP.vcf.match_VCF_samples('/home/jovyan/vireo/out_novcf/'+library_id+'/GT_donors.vireo.vcf.gz', \n",
    "#                                       '/home/jovyan/vireo/out_novcf/'+library_id_genotyped+'/GT_donors.vireo.vcf.gz',\n",
    "#                                      GT_tag1 = 'GT', GT_tag2='GT')\n",
    "\n",
    "\n",
    "# # Save data frame\n",
    "# results = getdataframe(res, library_id)\n",
    "# results.to_csv('~/vireo/donor_assignements/'+library_id+'_donor_assignement.csv')\n",
    "\n",
    "\n",
    "# # Plot\n",
    "# fig = plt.figure()\n",
    "# vireoSNP.plot.heat_matrix(res['matched_GPb_diff'], \n",
    "#                           res['matched_donors1'] , \n",
    "#                           res['matched_donors2'] )\n",
    "# plt.title(\"Geno Prob Delta: %d SNPs\" %(res['matched_n_var']))\n",
    "# plt.tight_layout()\n",
    "# plt.show()\n",
    "\n",
    "# fig = plt.figure()\n",
    "# vireoSNP.plot.heat_matrix(res['matched_GPb_diff'] < 0.11, \n",
    "#                           res['matched_donors1'] , \n",
    "#                           res['matched_donors2'] )\n",
    "# plt.title(\"Geno Prob Delta: %d SNPs\" %(res['matched_n_var']))\n",
    "# plt.tight_layout()\n",
    "# plt.show()"
   ]
  },
  {
   "cell_type": "code",
   "execution_count": null,
   "metadata": {},
   "outputs": [],
   "source": []
  }
 ],
 "metadata": {
  "kernelspec": {
   "display_name": "Python (vireoSNP)",
   "language": "python",
   "name": "vireo"
  },
  "language_info": {
   "codemirror_mode": {
    "name": "ipython",
    "version": 3
   },
   "file_extension": ".py",
   "mimetype": "text/x-python",
   "name": "python",
   "nbconvert_exporter": "python",
   "pygments_lexer": "ipython3",
   "version": "3.8.6"
  }
 },
 "nbformat": 4,
 "nbformat_minor": 4
}
