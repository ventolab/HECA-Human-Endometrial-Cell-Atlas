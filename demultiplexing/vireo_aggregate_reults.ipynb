{
 "cells": [
  {
   "cell_type": "markdown",
   "metadata": {},
   "source": [
    "# Aggregate vireo results form samples that are genotypes"
   ]
  },
  {
   "cell_type": "code",
   "execution_count": 1,
   "metadata": {},
   "outputs": [],
   "source": [
    "# Location of vireo files\n",
    "path_barcodes = '/nfs/users/nfs_l/lg18/team292/lg18/endometriosis/data/genotypes/vireo_donors_demultiplexing/SAMPLE/donor_ids.tsv'\n",
    "path_barcodes_souporcell = '/nfs/users/nfs_l/lg18/team292/lg18/endometriosis/data/genotypes/souporcell_donors_demultiplexing/SAMPLE/clusters.tsv'\n",
    "path_donors = '/nfs/users/nfs_l/lg18/team292/lg18/endometriosis/data/genotypes/vireo_match_donors/SAMPLE_donor_assignement.csv'"
   ]
  },
  {
   "cell_type": "code",
   "execution_count": 2,
   "metadata": {},
   "outputs": [],
   "source": [
    "# Load L-F\n",
    "LF = read.delim('demultiplexed_LF.csv', stringsAsFactors = F, sep = ',')\n",
    "LF$source = 'LFHandfield'"
   ]
  },
  {
   "cell_type": "code",
   "execution_count": 3,
   "metadata": {},
   "outputs": [],
   "source": [
    "# metadata linking libraries to genotype\n",
    "metadata = read.delim('metadata-libraries.csv', stringsAsFactors = F, sep = ',', row.names = 1)\n",
    "genotypes_meta = subset(metadata, multiplexed == 'yes' & StudyName == 'Marecckovaa')[, c('genotype0', 'genotype1', 'genotyped') ]\n",
    "genotypes_meta = genotypes_meta[ grep('no', genotypes_meta$genotyped, invert = T), ]\n",
    "genotypes_meta$sclibary = rownames(genotypes_meta)\n",
    "genotypes_meta = subset(genotypes_meta, ! sclibary %in% c('UA_Endo12894973', 'UA_Endo12894974') ) # These are the libraries that Vireo did not manage to deconvolute"
   ]
  },
  {
   "cell_type": "markdown",
   "metadata": {},
   "source": [
    "## build a dictionary linking vireo donors to genotypes"
   ]
  },
  {
   "cell_type": "code",
   "execution_count": 18,
   "metadata": {},
   "outputs": [],
   "source": [
    "# for genotyped donors\n",
    "vireodonor2genotype = list()\n",
    "for (sam in rownames(genotypes_meta) ){\n",
    "    multiplexed_genotypes = as.character(genotypes_meta[sam, 1:2])\n",
    "    donors = read.delim(gsub('SAMPLE', sam, path_donors), stringsAsFactors = F, sep = ',', row.names = 1)\n",
    "\n",
    "    genotyped_genotypes = intersect(donors$variable, multiplexed_genotypes)\n",
    "    nongenotyped_genotypes = setdiff(multiplexed_genotypes, genotyped_genotypes)\n",
    "\n",
    "    for(geno in genotyped_genotypes){\n",
    "        x = subset(donors, variable %in% geno)\n",
    "        x = x[which.min(x$value), ]\n",
    "        if( nrow(x) > 0 ){\n",
    "            vireodonor2genotype[[sam]][[x$Patient]] = geno\n",
    "        }\n",
    "    }\n",
    "    for (geno in nongenotyped_genotypes){\n",
    "        patient = setdiff(c('donor0', 'donor1') , names(vireodonor2genotype[[sam]]))\n",
    "        vireodonor2genotype[[sam]][[patient]] = geno\n",
    "    }\n",
    "}\n",
    "# vireodonor2genotype"
   ]
  },
  {
   "cell_type": "code",
   "execution_count": 19,
   "metadata": {},
   "outputs": [
    {
     "data": {
      "text/html": [
       "<strong>$UA_Endo12865961</strong> = <dl>\n",
       "\t<dt>$donor0</dt>\n",
       "\t\t<dd>'FX9006'</dd>\n",
       "\t<dt>$donor1</dt>\n",
       "\t\t<dd>'FX9014'</dd>\n",
       "</dl>\n"
      ],
      "text/latex": [
       "\\textbf{\\$UA\\_Endo12865961} = \\begin{description}\n",
       "\\item[\\$donor0] 'FX9006'\n",
       "\\item[\\$donor1] 'FX9014'\n",
       "\\end{description}\n"
      ],
      "text/markdown": [
       "**$UA_Endo12865961** = $donor0\n",
       ":   'FX9006'\n",
       "$donor1\n",
       ":   'FX9014'\n",
       "\n",
       "\n"
      ],
      "text/plain": [
       "$UA_Endo12865961\n",
       "$UA_Endo12865961$donor0\n",
       "[1] \"FX9006\"\n",
       "\n",
       "$UA_Endo12865961$donor1\n",
       "[1] \"FX9014\"\n",
       "\n"
      ]
     },
     "metadata": {},
     "output_type": "display_data"
    }
   ],
   "source": [
    "# For samples not genotyped - sharing genotypes\n",
    "genotype_shared = 'FX9006'\n",
    "genotype_other = 'FX9014'\n",
    "sample_target = 'UA_Endo12865961'\n",
    "sample_genotyped = 'UA_Endo11460963'\n",
    "donor_in_genotyped = names(which(vireodonor2genotype[[sample_genotyped]] == genotype_shared))\n",
    "\n",
    "\n",
    "donors2align = read.delim(gsub('SAMPLE', sample_target, path_donors), stringsAsFactors = F, sep = ',', row.names = 1)\n",
    "donor_in_target = donors2align$Patient[ intersect(which.min(donors2align$value), which(donors2align$variable == donor_in_genotyped)) ] \n",
    "other_donor_in_target = setdiff(donors2align$Patient, donor_in_target)\n",
    "\n",
    "\n",
    "vireodonor2genotype[[sample_target]][[donor_in_target]] = genotype_shared\n",
    "vireodonor2genotype[[sample_target]][[other_donor_in_target]] = genotype_other\n",
    "\n",
    "vireodonor2genotype[sample_target]"
   ]
  },
  {
   "cell_type": "code",
   "execution_count": 20,
   "metadata": {},
   "outputs": [
    {
     "data": {
      "text/plain": [
       "         donor\n",
       "genotype     0  0/1    1  1/0\n",
       "  doublet   32  326   49  323\n",
       "  FX1249  4814  341    6   97\n",
       "  FX1254    10   73 6053  209"
      ]
     },
     "metadata": {},
     "output_type": "display_data"
    },
    {
     "data": {
      "text/html": [
       "'0'"
      ],
      "text/latex": [
       "'0'"
      ],
      "text/markdown": [
       "'0'"
      ],
      "text/plain": [
       "[1] \"0\""
      ]
     },
     "metadata": {},
     "output_type": "display_data"
    },
    {
     "name": "stdout",
     "output_type": "stream",
     "text": [
      "FX1249 genotype in sample  UA_Endo12680033  is donor  0"
     ]
    },
    {
     "data": {
      "text/html": [
       "<strong>$UA_Endo12680034</strong> = <dl>\n",
       "\t<dt>$donor0</dt>\n",
       "\t\t<dd>'FX1249'</dd>\n",
       "\t<dt>$donor1</dt>\n",
       "\t\t<dd>'FX1254'</dd>\n",
       "</dl>\n"
      ],
      "text/latex": [
       "\\textbf{\\$UA\\_Endo12680034} = \\begin{description}\n",
       "\\item[\\$donor0] 'FX1249'\n",
       "\\item[\\$donor1] 'FX1254'\n",
       "\\end{description}\n"
      ],
      "text/markdown": [
       "**$UA_Endo12680034** = $donor0\n",
       ":   'FX1249'\n",
       "$donor1\n",
       ":   'FX1254'\n",
       "\n",
       "\n"
      ],
      "text/plain": [
       "$UA_Endo12680034\n",
       "$UA_Endo12680034$donor0\n",
       "[1] \"FX1249\"\n",
       "\n",
       "$UA_Endo12680034$donor1\n",
       "[1] \"FX1254\"\n",
       "\n"
      ]
     },
     "metadata": {},
     "output_type": "display_data"
    }
   ],
   "source": [
    "# For HASHED samples not genotyped - sharing genotypes - NOTE this one was done using souporcell as Vireo failed\n",
    "genotype_shared = 'FX1249'\n",
    "genotype_other = 'FX1254'\n",
    "sample_target = 'UA_Endo12680034'\n",
    "sample_hashed = 'UA_Endo12680033'\n",
    "\n",
    "\n",
    "hashing_demultiplexing = subset(LF, library == sample_hashed)\n",
    "barcodes_genotype = read.delim(gsub('SAMPLE', sample_hashed, path_barcodes_souporcell), stringsAsFactors = F, sep = '\\t', row.names = 1)\n",
    "hashing_demultiplexing$donor = barcodes_genotype$assignment[ match(hashing_demultiplexing$barcode, rownames(barcodes_genotype)) ]\n",
    "asso = table(hashing_demultiplexing[, c('genotype', 'donor') ])\n",
    "asso\n",
    "donor_in_hashed = names(which.max(asso[ genotype_shared , ]))\n",
    "donor_in_hashed\n",
    "cat(genotype_shared, 'genotype in sample ', sample_hashed,  ' is donor ', donor_in_hashed)\n",
    "\n",
    "donors2align = read.delim(gsub('SAMPLE', sample_target, path_donors), stringsAsFactors = F, sep = ',', row.names = 1)\n",
    "donor_in_target = donors2align$Patient[ intersect(which.min(donors2align$value), which(donors2align$variable == donor_in_hashed)) ] \n",
    "other_donor_in_target = setdiff(donors2align$Patient, donor_in_target)\n",
    "\n",
    "\n",
    "vireodonor2genotype[[sample_target]][[paste0('donor',donor_in_target)]] = genotype_shared\n",
    "vireodonor2genotype[[sample_target]][[paste0('donor',other_donor_in_target)]] = genotype_other\n",
    "\n",
    "vireodonor2genotype[sample_target]"
   ]
  },
  {
   "cell_type": "code",
   "execution_count": 21,
   "metadata": {},
   "outputs": [
    {
     "name": "stdout",
     "output_type": "stream",
     "text": [
      "SE02 genotype in sample  UA_Endo13066782  is donor  donor1"
     ]
    },
    {
     "data": {
      "text/html": [
       "<strong>$UA_Endo12961679</strong> = <dl>\n",
       "\t<dt>$donor1</dt>\n",
       "\t\t<dd>'SE02'</dd>\n",
       "\t<dt>$donor0</dt>\n",
       "\t\t<dd>'FX1285'</dd>\n",
       "</dl>\n"
      ],
      "text/latex": [
       "\\textbf{\\$UA\\_Endo12961679} = \\begin{description}\n",
       "\\item[\\$donor1] 'SE02'\n",
       "\\item[\\$donor0] 'FX1285'\n",
       "\\end{description}\n"
      ],
      "text/markdown": [
       "**$UA_Endo12961679** = $donor1\n",
       ":   'SE02'\n",
       "$donor0\n",
       ":   'FX1285'\n",
       "\n",
       "\n"
      ],
      "text/plain": [
       "$UA_Endo12961679\n",
       "$UA_Endo12961679$donor1\n",
       "[1] \"SE02\"\n",
       "\n",
       "$UA_Endo12961679$donor0\n",
       "[1] \"FX1285\"\n",
       "\n"
      ]
     },
     "metadata": {},
     "output_type": "display_data"
    }
   ],
   "source": [
    "# For HASHED samples not genotyped - sharing genotypes\n",
    "genotype_shared = 'SE02'\n",
    "genotype_other = 'FX1285'\n",
    "sample_target = 'UA_Endo12961679'\n",
    "sample_hashed = 'UA_Endo13066782'\n",
    "\n",
    "\n",
    "hashing_demultiplexing = subset(LF, library == sample_hashed)\n",
    "barcodes_genotype = read.delim(gsub('SAMPLE', sample_hashed, path_barcodes), stringsAsFactors = F, sep = '\\t', row.names = 1)\n",
    "hashing_demultiplexing$donor = barcodes_genotype$donor_id[ match(hashing_demultiplexing$barcode, rownames(barcodes_genotype)) ]\n",
    "asso = table(hashing_demultiplexing[, c('genotype', 'donor') ])\n",
    "donor_in_hashed = names(which.max(asso[ genotype_shared , ]))\n",
    "cat(genotype_shared, 'genotype in sample ', sample_hashed,  ' is donor ', donor_in_hashed)\n",
    "\n",
    "donors2align = read.delim(gsub('SAMPLE', sample_target, path_donors), stringsAsFactors = F, sep = ',', row.names = 1)\n",
    "donor_in_target = donors2align$Patient[ intersect(which.min(donors2align$value), which(donors2align$variable == donor_in_hashed)) ] \n",
    "other_donor_in_target = setdiff(donors2align$Patient, donor_in_target)\n",
    "\n",
    "\n",
    "vireodonor2genotype[[sample_target]][[donor_in_target]] = genotype_shared\n",
    "vireodonor2genotype[[sample_target]][[other_donor_in_target]] = genotype_other\n",
    "\n",
    "vireodonor2genotype[sample_target]"
   ]
  },
  {
   "cell_type": "code",
   "execution_count": 22,
   "metadata": {},
   "outputs": [
    {
     "name": "stdout",
     "output_type": "stream",
     "text": [
      "SE02 genotype in sample  UA_Endo13066782  is donor  donor1"
     ]
    },
    {
     "data": {
      "text/html": [
       "<strong>$UA_Endo12961680</strong> = <dl>\n",
       "\t<dt>$donor1</dt>\n",
       "\t\t<dd>'SE02'</dd>\n",
       "\t<dt>$donor0</dt>\n",
       "\t\t<dd>'FX1285'</dd>\n",
       "</dl>\n"
      ],
      "text/latex": [
       "\\textbf{\\$UA\\_Endo12961680} = \\begin{description}\n",
       "\\item[\\$donor1] 'SE02'\n",
       "\\item[\\$donor0] 'FX1285'\n",
       "\\end{description}\n"
      ],
      "text/markdown": [
       "**$UA_Endo12961680** = $donor1\n",
       ":   'SE02'\n",
       "$donor0\n",
       ":   'FX1285'\n",
       "\n",
       "\n"
      ],
      "text/plain": [
       "$UA_Endo12961680\n",
       "$UA_Endo12961680$donor1\n",
       "[1] \"SE02\"\n",
       "\n",
       "$UA_Endo12961680$donor0\n",
       "[1] \"FX1285\"\n",
       "\n"
      ]
     },
     "metadata": {},
     "output_type": "display_data"
    }
   ],
   "source": [
    "# Add vireo results from HASHED samples not genotyped - sharing genotypes\n",
    "genotype_shared = 'SE02'\n",
    "genotype_other = 'FX1285'\n",
    "sample_target = 'UA_Endo12961680'\n",
    "sample_hashed = 'UA_Endo13066782'\n",
    "\n",
    "\n",
    "hashing_demultiplexing = subset(LF, library == sample_hashed)\n",
    "barcodes_genotype = read.delim(gsub('SAMPLE', sample_hashed, path_barcodes), stringsAsFactors = F, sep = '\\t', row.names = 1)\n",
    "hashing_demultiplexing$donor = barcodes_genotype$donor_id[ match(hashing_demultiplexing$barcode, rownames(barcodes_genotype)) ]\n",
    "asso = table(hashing_demultiplexing[, c('genotype', 'donor') ])\n",
    "donor_in_hashed = names(which.max(asso[ genotype_shared , ]))\n",
    "cat(genotype_shared, 'genotype in sample ', sample_hashed,  ' is donor ', donor_in_hashed)\n",
    "\n",
    "donors2align = read.delim(gsub('SAMPLE', sample_target, path_donors), stringsAsFactors = F, sep = ',', row.names = 1)\n",
    "donor_in_target = donors2align$Patient[ intersect(which.min(donors2align$value), which(donors2align$variable == donor_in_hashed)) ] \n",
    "other_donor_in_target = setdiff(donors2align$Patient, donor_in_target)\n",
    "\n",
    "\n",
    "vireodonor2genotype[[sample_target]][[donor_in_target]] = genotype_shared\n",
    "vireodonor2genotype[[sample_target]][[other_donor_in_target]] = genotype_other\n",
    "\n",
    "vireodonor2genotype[sample_target]"
   ]
  },
  {
   "cell_type": "code",
   "execution_count": 23,
   "metadata": {},
   "outputs": [
    {
     "name": "stdout",
     "output_type": "stream",
     "text": [
      "FX1289 genotype in sample  UA_Endo13066782  is donor  donor0"
     ]
    },
    {
     "data": {
      "text/html": [
       "<strong>$UA_Endo12961681</strong> = <dl>\n",
       "\t<dt>$donor0</dt>\n",
       "\t\t<dd>'FX1289'</dd>\n",
       "\t<dt>$donor1</dt>\n",
       "\t\t<dd>'SE03'</dd>\n",
       "</dl>\n"
      ],
      "text/latex": [
       "\\textbf{\\$UA\\_Endo12961681} = \\begin{description}\n",
       "\\item[\\$donor0] 'FX1289'\n",
       "\\item[\\$donor1] 'SE03'\n",
       "\\end{description}\n"
      ],
      "text/markdown": [
       "**$UA_Endo12961681** = $donor0\n",
       ":   'FX1289'\n",
       "$donor1\n",
       ":   'SE03'\n",
       "\n",
       "\n"
      ],
      "text/plain": [
       "$UA_Endo12961681\n",
       "$UA_Endo12961681$donor0\n",
       "[1] \"FX1289\"\n",
       "\n",
       "$UA_Endo12961681$donor1\n",
       "[1] \"SE03\"\n",
       "\n"
      ]
     },
     "metadata": {},
     "output_type": "display_data"
    }
   ],
   "source": [
    "# Add vireo results from HASHED samples not genotyped - sharing genotypes\n",
    "genotype_shared = 'FX1289'\n",
    "genotype_other = 'SE03'\n",
    "sample_target = 'UA_Endo12961681'\n",
    "sample_hashed = 'UA_Endo13066782'\n",
    "\n",
    "\n",
    "hashing_demultiplexing = subset(LF, library == sample_hashed)\n",
    "barcodes_genotype = read.delim(gsub('SAMPLE', sample_hashed, path_barcodes), stringsAsFactors = F, sep = '\\t', row.names = 1)\n",
    "hashing_demultiplexing$donor = barcodes_genotype$donor_id[ match(hashing_demultiplexing$barcode, rownames(barcodes_genotype)) ]\n",
    "asso = table(hashing_demultiplexing[, c('genotype', 'donor') ])\n",
    "donor_in_hashed = names(which.max(asso[ genotype_shared , ]))\n",
    "cat(genotype_shared, 'genotype in sample ', sample_hashed,  ' is donor ', donor_in_hashed)\n",
    "\n",
    "donors2align = read.delim(gsub('SAMPLE', sample_target, path_donors), stringsAsFactors = F, sep = ',', row.names = 1)\n",
    "donor_in_target = donors2align$Patient[ intersect(which.min(donors2align$value), which(donors2align$variable == donor_in_hashed)) ] \n",
    "other_donor_in_target = setdiff(donors2align$Patient, donor_in_target)\n",
    "\n",
    "\n",
    "vireodonor2genotype[[sample_target]][[donor_in_target]] = genotype_shared\n",
    "vireodonor2genotype[[sample_target]][[other_donor_in_target]] = genotype_other\n",
    "\n",
    "vireodonor2genotype[sample_target]"
   ]
  },
  {
   "cell_type": "code",
   "execution_count": 24,
   "metadata": {},
   "outputs": [
    {
     "name": "stdout",
     "output_type": "stream",
     "text": [
      "FX1289 genotype in sample  UA_Endo13066782  is donor  donor0"
     ]
    },
    {
     "data": {
      "text/html": [
       "<strong>$UA_Endo12961682</strong> = <dl>\n",
       "\t<dt>$donor1</dt>\n",
       "\t\t<dd>'FX1289'</dd>\n",
       "\t<dt>$donor0</dt>\n",
       "\t\t<dd>'SE03'</dd>\n",
       "</dl>\n"
      ],
      "text/latex": [
       "\\textbf{\\$UA\\_Endo12961682} = \\begin{description}\n",
       "\\item[\\$donor1] 'FX1289'\n",
       "\\item[\\$donor0] 'SE03'\n",
       "\\end{description}\n"
      ],
      "text/markdown": [
       "**$UA_Endo12961682** = $donor1\n",
       ":   'FX1289'\n",
       "$donor0\n",
       ":   'SE03'\n",
       "\n",
       "\n"
      ],
      "text/plain": [
       "$UA_Endo12961682\n",
       "$UA_Endo12961682$donor1\n",
       "[1] \"FX1289\"\n",
       "\n",
       "$UA_Endo12961682$donor0\n",
       "[1] \"SE03\"\n",
       "\n"
      ]
     },
     "metadata": {},
     "output_type": "display_data"
    }
   ],
   "source": [
    "# Add vireo results from HASHED samples not genotyped - sharing genotypes\n",
    "genotype_shared = 'FX1289'\n",
    "genotype_other = 'SE03'\n",
    "sample_target = 'UA_Endo12961682'\n",
    "sample_hashed = 'UA_Endo13066782'\n",
    "\n",
    "\n",
    "hashing_demultiplexing = subset(LF, library == sample_hashed)\n",
    "barcodes_genotype = read.delim(gsub('SAMPLE', sample_hashed, path_barcodes), stringsAsFactors = F, sep = '\\t', row.names = 1)\n",
    "hashing_demultiplexing$donor = barcodes_genotype$donor_id[ match(hashing_demultiplexing$barcode, rownames(barcodes_genotype)) ]\n",
    "asso = table(hashing_demultiplexing[, c('genotype', 'donor') ])\n",
    "donor_in_hashed = names(which.max(asso[ genotype_shared , ]))\n",
    "cat(genotype_shared, 'genotype in sample ', sample_hashed,  ' is donor ', donor_in_hashed)\n",
    "\n",
    "donors2align = read.delim(gsub('SAMPLE', sample_target, path_donors), stringsAsFactors = F, sep = ',', row.names = 1)\n",
    "donor_in_target = donors2align$Patient[ intersect(which.min(donors2align$value), which(donors2align$variable == donor_in_hashed)) ] \n",
    "other_donor_in_target = setdiff(donors2align$Patient, donor_in_target)\n",
    "\n",
    "\n",
    "vireodonor2genotype[[sample_target]][[donor_in_target]] = genotype_shared\n",
    "vireodonor2genotype[[sample_target]][[other_donor_in_target]] = genotype_other\n",
    "\n",
    "vireodonor2genotype[sample_target]"
   ]
  },
  {
   "cell_type": "markdown",
   "metadata": {},
   "source": [
    "## Assign barcodes to genotypes"
   ]
  },
  {
   "cell_type": "code",
   "execution_count": 25,
   "metadata": {},
   "outputs": [],
   "source": [
    "barcodes_list = list()\n",
    "for (sam in setdiff(names(vireodonor2genotype), 'UA_Endo12680034') ){\n",
    "    barcodes = read.delim(gsub('SAMPLE', sam, path_barcodes), stringsAsFactors = F)[, 1:2]\n",
    "    barcodes$library = sam\n",
    "    barcodes$barcode = barcodes$cell\n",
    "    barcodes$genotype = barcodes$donor_id\n",
    "    barcodes$genotype[ barcodes$genotype == 'donor0' ] = vireodonor2genotype[[sam]]$donor0\n",
    "    barcodes$genotype[ barcodes$genotype == 'donor1' ] = vireodonor2genotype[[sam]]$donor1\n",
    "    barcodes_list[[sam]] = barcodes\n",
    "}"
   ]
  },
  {
   "cell_type": "code",
   "execution_count": 28,
   "metadata": {},
   "outputs": [],
   "source": [
    "# Add souporcell sample\n",
    "sam = 'UA_Endo12680034'\n",
    "barcodes = read.delim(gsub('SAMPLE', sam, path_barcodes_souporcell), stringsAsFactors = F)\n",
    "barcodes$donor_id = paste0('donor', barcodes$assignment)\n",
    "barcodes$donor_id[ barcodes$status  == 'doublet' ] = 'doublet'\n",
    "barcodes$donor_id[ barcodes$status  == 'unassigned' ] = 'unassigned'\n",
    "barcodes$cell = barcodes$barcode\n",
    "barcodes$library = sam\n",
    "barcodes$genotype = barcodes$donor_id\n",
    "barcodes$genotype[ barcodes$assignment == '0' ] = vireodonor2genotype[[sam]]$donor0\n",
    "barcodes$genotype[ barcodes$assignment == '1' ] = vireodonor2genotype[[sam]]$donor1\n",
    "barcodes_list[[sam]] = barcodes[, names(barcodes_list[[1]]) ]"
   ]
  },
  {
   "cell_type": "markdown",
   "metadata": {},
   "source": [
    "# Save Results"
   ]
  },
  {
   "cell_type": "code",
   "execution_count": 30,
   "metadata": {},
   "outputs": [],
   "source": [
    "library(reshape2)\n",
    "BARCODES = melt(barcodes_list, id.vars = names(barcodes_list[[1]]))\n",
    "BARCODES$source = 'LGarciaAlonso'\n",
    "write.csv(BARCODES, file='/nfs/users/nfs_l/lg18/team292/lg18/endometriosis/data/genotypes/demultiplexed_vireo.csv', row.names=F)"
   ]
  },
  {
   "cell_type": "code",
   "execution_count": 31,
   "metadata": {},
   "outputs": [],
   "source": [
    "# Merge with L-F hashing deconvolution\n",
    "LFf = subset(LF, ! LF$library %in% BARCODES$library )\n",
    "merged_df = rbind(LFf, BARCODES[, colnames(LFf) ])\n",
    "write.csv(merged_df, file='/nfs/users/nfs_l/lg18/team292/lg18/endometriosis/data/genotypes/demultiplexed_merged.csv', row.names=F)"
   ]
  },
  {
   "cell_type": "markdown",
   "metadata": {},
   "source": [
    "# Compare VIREO predictions to L-F"
   ]
  },
  {
   "cell_type": "code",
   "execution_count": 63,
   "metadata": {},
   "outputs": [
    {
     "data": {
      "text/plain": [
       "\n",
       "UA_Endo10298210 UA_Endo10298211 UA_Endo10298212 UA_Endo10298213 UA_Endo11173480 \n",
       "           9431            1970           18384           17526           14459 \n",
       "UA_Endo11173481 UA_Endo11173482 UA_Endo11282193 UA_Endo11460960 UA_Endo11460961 \n",
       "          15418           15036           20779           28040           21865 \n",
       "UA_Endo11460962 UA_Endo11460963 UA_Endo11596522 UA_Endo12061415 UA_Endo12061703 \n",
       "          15583           19951           25817            6073           21730 \n",
       "UA_Endo12061704 UA_Endo12061705 UA_Endo12061706 UA_Endo12269810 UA_Endo12269811 \n",
       "          21358           16584            6079           13270           17098 \n",
       "UA_Endo12269812 UA_Endo12269813 UA_Endo12269814 UA_Endo12296823 UA_Endo12296824 \n",
       "          17838           15084           15760           20344           19947 \n",
       "UA_Endo12449298 UA_Endo12449299 UA_Endo12449300 UA_Endo12449301 UA_Endo12604667 \n",
       "          18122           12032           18432           14665           15761 \n",
       "UA_Endo12680031 UA_Endo12680034 UA_Endo12821480 UA_Endo12821481 UA_Endo12865960 \n",
       "          15411            5471           10971           15975           25711 \n",
       "UA_Endo12865961 UA_Endo12865963 UA_Endo12865964 UA_Endo12865965 UA_Endo12865966 \n",
       "          22861           32374           16530            7579            8132 \n",
       "UA_Endo12961679 UA_Endo12961680 UA_Endo12961681 UA_Endo12961682  UA_Endo9426401 \n",
       "           1577             118            2118            1473           28447 \n",
       " UA_Endo9426402 \n",
       "           1835 "
      ]
     },
     "metadata": {},
     "output_type": "display_data"
    }
   ],
   "source": [
    "barcodes_s = BARCODES[, c('library', 'barcode', 'genotype') ]\n",
    "barcodes_s = subset(barcodes_s, genotype != 'unassigned' )\n",
    "barcodes_s$id = apply(barcodes_s, 1, paste, collapse = '_')\n",
    "barcodes_s$barcode_id = apply(barcodes_s[, 1:2], 1, paste, collapse = '_')\n",
    "table(barcodes_s$library)"
   ]
  },
  {
   "cell_type": "code",
   "execution_count": 64,
   "metadata": {},
   "outputs": [
    {
     "data": {
      "text/plain": [
       "\n",
       "UA_Endo10298210 UA_Endo10298211 UA_Endo10298212 UA_Endo10298213 UA_Endo11173480 \n",
       "           9621            2068           18262           20158           12914 \n",
       "UA_Endo11173481 UA_Endo11173482 UA_Endo11282193 UA_Endo11460960 UA_Endo11460961 \n",
       "          14362           13954           19359           27560           20506 \n",
       "UA_Endo11460962 UA_Endo11460963 UA_Endo11596522 UA_Endo12061415 UA_Endo12061703 \n",
       "          14618           17122           24461           11318           18979 \n",
       "UA_Endo12061704 UA_Endo12061705 UA_Endo12061706 UA_Endo12269810 UA_Endo12269811 \n",
       "          19565           16016            8864           12956           16630 \n",
       "UA_Endo12269812 UA_Endo12269813 UA_Endo12269814 UA_Endo12296823 UA_Endo12296824 \n",
       "          22917           14308           13755           14350           15025 \n",
       "UA_Endo12449298 UA_Endo12449299 UA_Endo12449300 UA_Endo12449301 UA_Endo12604667 \n",
       "          11883           11248           16927           12631           13828 \n",
       "UA_Endo12680031 UA_Endo12680034 UA_Endo12821480 UA_Endo12821481 UA_Endo12865960 \n",
       "          14832            5618            8661           11573           24762 \n",
       "UA_Endo12865961 UA_Endo12865963 UA_Endo12865964 UA_Endo12865965 UA_Endo12865966 \n",
       "          19047           27811           17122           19175           10522 \n",
       "UA_Endo12961679 UA_Endo12961680 UA_Endo12961681 UA_Endo12961682  UA_Endo9426401 \n",
       "           1632             130            2029            1942           30688 \n",
       " UA_Endo9426402 \n",
       "           1833 "
      ]
     },
     "metadata": {},
     "output_type": "display_data"
    }
   ],
   "source": [
    "LF = read.delim('demultiplexed_LF.csv', stringsAsFactors = F, sep = ',')\n",
    "LF = subset(LF, LF$library %in% barcodes_s$library )\n",
    "LF$id = apply(LF, 1, paste, collapse = '_')\n",
    "LF$barcode_id = apply(LF[, 1:2], 1, paste, collapse = '_')\n",
    "table(LF$library)"
   ]
  },
  {
   "cell_type": "code",
   "execution_count": 65,
   "metadata": {},
   "outputs": [
    {
     "data": {
      "text/plain": [
       "\n",
       " FALSE   TRUE \n",
       "187656 503363 "
      ]
     },
     "metadata": {},
     "output_type": "display_data"
    }
   ],
   "source": [
    "barcodes_s$pred_LF = LF$genotype[ match(barcodes_s$barcode_id, LF$barcode_id) ]\n",
    "barcodes_s$pred_match = barcodes_s$id %in% LF$id\n",
    "table(barcodes_s$pred_match)"
   ]
  },
  {
   "cell_type": "code",
   "execution_count": 67,
   "metadata": {},
   "outputs": [
    {
     "data": {
      "text/plain": [
       "\n",
       "UA_Endo10298210 UA_Endo10298211 UA_Endo10298212 UA_Endo10298213 UA_Endo11173480 \n",
       "            261             287            1319            1178           13882 \n",
       "UA_Endo11173481 UA_Endo11173482 UA_Endo11282193 UA_Endo11460960 UA_Endo11460961 \n",
       "           1873            2052            2641            1905            2303 \n",
       "UA_Endo11460962 UA_Endo11460963 UA_Endo11596522 UA_Endo12061415 UA_Endo12061703 \n",
       "          10258           11168            2436            5061            6227 \n",
       "UA_Endo12061704 UA_Endo12061705 UA_Endo12061706 UA_Endo12269810 UA_Endo12269811 \n",
       "           3339            8131            2802             932            1338 \n",
       "UA_Endo12269812 UA_Endo12269813 UA_Endo12269814 UA_Endo12296823 UA_Endo12296824 \n",
       "           4946            1561           15191            6954            5573 \n",
       "UA_Endo12449298 UA_Endo12449299 UA_Endo12449300 UA_Endo12449301 UA_Endo12604667 \n",
       "           7562           11489            2201            2838            2363 \n",
       "UA_Endo12680031 UA_Endo12680034 UA_Endo12821480 UA_Endo12821481 UA_Endo12865960 \n",
       "           2469             145            3379            5060            3405 \n",
       "UA_Endo12865961 UA_Endo12865963 UA_Endo12865964 UA_Endo12865965 UA_Endo12865966 \n",
       "          10090            6596            6992            3967             932 \n",
       "UA_Endo12961679 UA_Endo12961680 UA_Endo12961681 UA_Endo12961682  UA_Endo9426401 \n",
       "            859              15             936             518            2110 \n",
       " UA_Endo9426402 \n",
       "            112 "
      ]
     },
     "metadata": {},
     "output_type": "display_data"
    },
    {
     "name": "stdout",
     "output_type": "stream",
     "text": [
      "Ratio missmatch per libary"
     ]
    },
    {
     "data": {
      "text/plain": [
       "\n",
       "UA_Endo10298210 UA_Endo10298211 UA_Endo10298212 UA_Endo10298213 UA_Endo11173480 \n",
       "     0.02767469      0.14568528      0.07174717      0.06721442      0.96009406 \n",
       "UA_Endo11173481 UA_Endo11173482 UA_Endo11282193 UA_Endo11460960 UA_Endo11460961 \n",
       "     0.12148139      0.13647247      0.12709948      0.06793866      0.10532815 \n",
       "UA_Endo11460962 UA_Endo11460963 UA_Endo11596522 UA_Endo12061415 UA_Endo12061703 \n",
       "     0.65828146      0.55977144      0.09435643      0.83336078      0.28656236 \n",
       "UA_Endo12061704 UA_Endo12061705 UA_Endo12061706 UA_Endo12269810 UA_Endo12269811 \n",
       "     0.15633486      0.49029185      0.46093107      0.07023361      0.07825477 \n",
       "UA_Endo12269812 UA_Endo12269813 UA_Endo12269814 UA_Endo12296823 UA_Endo12296824 \n",
       "     0.27727324      0.10348714      0.96389594      0.34182068      0.27939038 \n",
       "UA_Endo12449298 UA_Endo12449299 UA_Endo12449300 UA_Endo12449301 UA_Endo12604667 \n",
       "     0.41728286      0.95487035      0.11941189      0.19352199      0.14992704 \n",
       "UA_Endo12680031 UA_Endo12680034 UA_Endo12821480 UA_Endo12821481 UA_Endo12865960 \n",
       "     0.16021024      0.02650338      0.30799380      0.31674491      0.13243359 \n",
       "UA_Endo12865961 UA_Endo12865963 UA_Endo12865964 UA_Endo12865965 UA_Endo12865966 \n",
       "     0.44136302      0.20374374      0.42298851      0.52341998      0.11460895 \n",
       "UA_Endo12961679 UA_Endo12961680 UA_Endo12961681 UA_Endo12961682  UA_Endo9426401 \n",
       "     0.54470514      0.12711864      0.44192635      0.35166327      0.07417302 \n",
       " UA_Endo9426402 \n",
       "     0.06103542 "
      ]
     },
     "metadata": {},
     "output_type": "display_data"
    },
    {
     "data": {
      "text/plain": [
       "\n",
       "doublet  EX0045  EX0277  EX0288  EX0366  EX0540  EX0661  EX0789  EX0795  FX0011 \n",
       "  96997     179    5229    5394     229     813    8863    5418     611     325 \n",
       " FX0022  FX0028  FX0033  FX0052  FX0056  FX0060  FX1074  FX1087  FX1090  FX1097 \n",
       "    204     145     133   10592     264     178     699    3742     462     587 \n",
       " FX1100  FX1104  FX1106  FX1109  FX1111  FX1119  FX1122  FX1125  FX1129  FX1130 \n",
       "    255     241     138    1830     152     253    2626     312     369     429 \n",
       " FX1136  FX1141  FX1146  FX1150  FX1156  FX1158  FX1160  FX1163  FX1170  FX1176 \n",
       "    242    2023     481     189     706    2451    1218     115    1057     935 \n",
       " FX1205  FX1215  FX1223  FX1233  FX1249  FX1254  FX1259  FX1285  FX1289  FX9001 \n",
       "   2868    4681    1460     682      76      11    1862      75      52    1814 \n",
       " FX9005  FX9006  FX9007  FX9008  FX9009  FX9011  FX9013  FX9014  FX9020  FX9021 \n",
       "    841    7937     578     999     193     863     117    2548     127    1231 \n",
       " FX9022  FX9024  FX9027    SE02    SE03 \n",
       "    421     211     152     142     629 "
      ]
     },
     "metadata": {},
     "output_type": "display_data"
    },
    {
     "data": {
      "text/plain": [
       "\n",
       "FALSE  TRUE \n",
       "91505 96151 "
      ]
     },
     "metadata": {},
     "output_type": "display_data"
    },
    {
     "data": {
      "text/html": [
       "0.27156416827902"
      ],
      "text/latex": [
       "0.27156416827902"
      ],
      "text/markdown": [
       "0.27156416827902"
      ],
      "text/plain": [
       "[1] 0.2715642"
      ]
     },
     "metadata": {},
     "output_type": "display_data"
    },
    {
     "data": {
      "text/html": [
       "0.140368065132797"
      ],
      "text/latex": [
       "0.140368065132797"
      ],
      "text/markdown": [
       "0.140368065132797"
      ],
      "text/plain": [
       "[1] 0.1403681"
      ]
     },
     "metadata": {},
     "output_type": "display_data"
    },
    {
     "data": {
      "text/html": [
       "0.139143786205589"
      ],
      "text/latex": [
       "0.139143786205589"
      ],
      "text/markdown": [
       "0.139143786205589"
      ],
      "text/plain": [
       "[1] 0.1391438"
      ]
     },
     "metadata": {},
     "output_type": "display_data"
    }
   ],
   "source": [
    "# retrieve missmatch\n",
    "missmatch = subset(barcodes_s, ! pred_match )\n",
    "table(missmatch$library)\n",
    "cat('Ratio missmatch per libary')\n",
    "table(missmatch$library) / table(barcodes_s$library)\n",
    "# How many doublets?\n",
    "table(missmatch$genotype)\n",
    "# How many missmatch?\n",
    "table(is.na(missmatch$pred_LF))\n",
    "\n",
    "187656 / (503363+187656) # missmatch ratio\n",
    "\n",
    "96997 / (503363+187656) # missmatch %  I say \"doublet\"\n",
    "\n",
    "96151 / (503363+187656) # missmatch % L-F says NA"
   ]
  },
  {
   "cell_type": "code",
   "execution_count": 68,
   "metadata": {},
   "outputs": [
    {
     "data": {
      "text/plain": [
       "\n",
       "UA_Endo10298210 UA_Endo10298211 UA_Endo10298212 UA_Endo10298213 UA_Endo11173480 \n",
       "            131             269             303             487           13460 \n",
       "UA_Endo11173481 UA_Endo11173482 UA_Endo11282193 UA_Endo11460960 UA_Endo11460961 \n",
       "            883            1771            1294             484             912 \n",
       "UA_Endo11460962 UA_Endo11460963 UA_Endo11596522 UA_Endo12061415 UA_Endo12061703 \n",
       "            533             592            1082            3905             391 \n",
       "UA_Endo12061704 UA_Endo12061705 UA_Endo12061706 UA_Endo12269810 UA_Endo12269811 \n",
       "            326             562             375             271             382 \n",
       "UA_Endo12269812 UA_Endo12269813 UA_Endo12269814 UA_Endo12296823 UA_Endo12296824 \n",
       "           1856             856           12425             858            1167 \n",
       "UA_Endo12449298 UA_Endo12449299 UA_Endo12449300 UA_Endo12449301 UA_Endo12604667 \n",
       "           1317           10623             331             431             574 \n",
       "UA_Endo12680031 UA_Endo12680034 UA_Endo12821480 UA_Endo12821481 UA_Endo12865960 \n",
       "           1868              87            3325             730             882 \n",
       "UA_Endo12865961 UA_Endo12865963 UA_Endo12865964 UA_Endo12865965 UA_Endo12865966 \n",
       "           9210            4065            6100            3422             611 \n",
       "UA_Endo12961679 UA_Endo12961680 UA_Endo12961681 UA_Endo12961682  UA_Endo9426401 \n",
       "            204              13             182             499             527 \n",
       " UA_Endo9426402 \n",
       "             83 "
      ]
     },
     "metadata": {},
     "output_type": "display_data"
    },
    {
     "name": "stdout",
     "output_type": "stream",
     "text": [
      "Ratio genotype swap per libary"
     ]
    },
    {
     "data": {
      "text/plain": [
       "\n",
       "UA_Endo10298210 UA_Endo10298211 UA_Endo10298212 UA_Endo10298213 UA_Endo11173480 \n",
       "     0.01389036      0.13654822      0.01648172      0.02778729      0.93090808 \n",
       "UA_Endo11173481 UA_Endo11173482 UA_Endo11282193 UA_Endo11460960 UA_Endo11460961 \n",
       "     0.05727072      0.11778399      0.06227441      0.01726106      0.04171050 \n",
       "UA_Endo11460962 UA_Endo11460963 UA_Endo11596522 UA_Endo12061415 UA_Endo12061703 \n",
       "     0.03420394      0.02967270      0.04191037      0.64301004      0.01799356 \n",
       "UA_Endo12061704 UA_Endo12061705 UA_Endo12061706 UA_Endo12269810 UA_Endo12269811 \n",
       "     0.01526360      0.03388808      0.06168778      0.02042200      0.02234179 \n",
       "UA_Endo12269812 UA_Endo12269813 UA_Endo12269814 UA_Endo12296823 UA_Endo12296824 \n",
       "     0.10404754      0.05674887      0.78838832      0.04217460      0.05850504 \n",
       "UA_Endo12449298 UA_Endo12449299 UA_Endo12449300 UA_Endo12449301 UA_Endo12604667 \n",
       "     0.07267410      0.88289561      0.01795790      0.02938970      0.03641901 \n",
       "UA_Endo12680031 UA_Endo12680034 UA_Endo12821480 UA_Endo12821481 UA_Endo12865960 \n",
       "     0.12121212      0.01590203      0.30307173      0.04569640      0.03430438 \n",
       "UA_Endo12865961 UA_Endo12865963 UA_Endo12865964 UA_Endo12865965 UA_Endo12865966 \n",
       "     0.40286952      0.12556372      0.36902601      0.45151075      0.07513527 \n",
       "UA_Endo12961679 UA_Endo12961680 UA_Endo12961681 UA_Endo12961682  UA_Endo9426401 \n",
       "     0.12935954      0.11016949      0.08593012      0.33876443      0.01852568 \n",
       " UA_Endo9426402 \n",
       "     0.04523161 "
      ]
     },
     "metadata": {},
     "output_type": "display_data"
    }
   ],
   "source": [
    "# missmatch due to 'doublet' in vireo\n",
    "missmatch = subset(missmatch, genotype != 'doublet')\n",
    "table(missmatch$library)\n",
    "cat('Ratio genotype swap per libary')\n",
    "table(missmatch$library) / table(barcodes_s$library)"
   ]
  },
  {
   "cell_type": "code",
   "execution_count": 70,
   "metadata": {},
   "outputs": [
    {
     "data": {
      "text/html": [
       "54499"
      ],
      "text/latex": [
       "54499"
      ],
      "text/markdown": [
       "54499"
      ],
      "text/plain": [
       "[1] 54499"
      ]
     },
     "metadata": {},
     "output_type": "display_data"
    },
    {
     "data": {
      "text/plain": [
       "\n",
       "UA_Endo10298210 UA_Endo10298211 UA_Endo10298212 UA_Endo10298213 UA_Endo11173480 \n",
       "             23             209              47             141           11334 \n",
       "UA_Endo11173481 UA_Endo11173482 UA_Endo11282193 UA_Endo11460960 UA_Endo11460961 \n",
       "            116             210              93             124             100 \n",
       "UA_Endo11460962 UA_Endo11460963 UA_Endo11596522 UA_Endo12061415 UA_Endo12061703 \n",
       "            131             125              81            3756              89 \n",
       "UA_Endo12061704 UA_Endo12061705 UA_Endo12061706 UA_Endo12269810 UA_Endo12269811 \n",
       "             60             145              90              33              42 \n",
       "UA_Endo12269812 UA_Endo12269813 UA_Endo12269814 UA_Endo12296823 UA_Endo12296824 \n",
       "            533             138           12195              89              72 \n",
       "UA_Endo12449298 UA_Endo12449299 UA_Endo12449300 UA_Endo12449301 UA_Endo12604667 \n",
       "             92           10340              61              54              56 \n",
       "UA_Endo12680031 UA_Endo12680034 UA_Endo12821480 UA_Endo12821481 UA_Endo12865960 \n",
       "            191              12             501              52             248 \n",
       "UA_Endo12865961 UA_Endo12865963 UA_Endo12865964 UA_Endo12865965 UA_Endo12865966 \n",
       "           4756             256            3568            3287             257 \n",
       "UA_Endo12961679 UA_Endo12961680 UA_Endo12961681 UA_Endo12961682  UA_Endo9426401 \n",
       "             59               3              68             363             293 \n",
       " UA_Endo9426402 \n",
       "              6 "
      ]
     },
     "metadata": {},
     "output_type": "display_data"
    },
    {
     "data": {
      "text/plain": [
       "\n",
       "UA_Endo10298210 UA_Endo10298211 UA_Endo10298212 UA_Endo10298213 UA_Endo11173480 \n",
       "    0.002438766     0.106091371     0.002556571     0.008045190     0.783871637 \n",
       "UA_Endo11173481 UA_Endo11173482 UA_Endo11282193 UA_Endo11460960 UA_Endo11460961 \n",
       "    0.007523674     0.013966480     0.004475673     0.004422254     0.004573519 \n",
       "UA_Endo11460962 UA_Endo11460963 UA_Endo11596522 UA_Endo12061415 UA_Endo12061703 \n",
       "    0.008406597     0.006265350     0.003137468     0.618475218     0.004095720 \n",
       "UA_Endo12061704 UA_Endo12061705 UA_Endo12061706 UA_Endo12269810 UA_Endo12269811 \n",
       "    0.002809252     0.008743367     0.014805067     0.002486812     0.002456428 \n",
       "UA_Endo12269812 UA_Endo12269813 UA_Endo12269814 UA_Endo12296823 UA_Endo12296824 \n",
       "    0.029880031     0.009148767     0.773794416     0.004374754     0.003609565 \n",
       "UA_Endo12449298 UA_Endo12449299 UA_Endo12449300 UA_Endo12449301 UA_Endo12604667 \n",
       "    0.005076702     0.859375000     0.003309462     0.003682237     0.003553074 \n",
       "UA_Endo12680031 UA_Endo12680034 UA_Endo12821480 UA_Endo12821481 UA_Endo12865960 \n",
       "    0.012393745     0.002193383     0.045665846     0.003255086     0.009645677 \n",
       "UA_Endo12865961 UA_Endo12865963 UA_Endo12865964 UA_Endo12865965 UA_Endo12865966 \n",
       "    0.208039893     0.007907580     0.215849970     0.433698377     0.031603542 \n",
       "UA_Endo12961679 UA_Endo12961680 UA_Endo12961681 UA_Endo12961682  UA_Endo9426401 \n",
       "    0.037412809     0.025423729     0.032105760     0.246435845     0.010299856 \n",
       " UA_Endo9426402 \n",
       "    0.003269755 "
      ]
     },
     "metadata": {},
     "output_type": "display_data"
    },
    {
     "data": {
      "text/html": [
       "0.0788675854064794"
      ],
      "text/latex": [
       "0.0788675854064794"
      ],
      "text/markdown": [
       "0.0788675854064794"
      ],
      "text/plain": [
       "[1] 0.07886759"
      ]
     },
     "metadata": {},
     "output_type": "display_data"
    }
   ],
   "source": [
    "# missmatch due to NAs in L-F\n",
    "missmatch = subset(missmatch, ! is.na(missmatch$pred_LF) )\n",
    "nrow(missmatch)\n",
    "table(missmatch$library)\n",
    "table(missmatch$library) / table(barcodes_s$library)\n",
    "\n",
    "54499 / (503363+187656) # missmatch % L-F says NA"
   ]
  },
  {
   "cell_type": "code",
   "execution_count": 71,
   "metadata": {},
   "outputs": [
    {
     "data": {
      "text/plain": [
       "\n",
       "UA_Endo11173480 UA_Endo12061415 UA_Endo12269814 UA_Endo12449299 UA_Endo12865961 \n",
       "      0.7838716       0.6184752       0.7737944       0.8593750       0.2080399 \n",
       "UA_Endo12865964 UA_Endo12865965 UA_Endo12961682 \n",
       "      0.2158500       0.4336984       0.2464358 "
      ]
     },
     "metadata": {},
     "output_type": "display_data"
    }
   ],
   "source": [
    "x = table(missmatch$library) / table(barcodes_s$library)\n",
    "x[ x > 0.2 ]"
   ]
  },
  {
   "cell_type": "code",
   "execution_count": null,
   "metadata": {},
   "outputs": [],
   "source": []
  }
 ],
 "metadata": {
  "kernelspec": {
   "display_name": "R",
   "language": "R",
   "name": "ir"
  },
  "language_info": {
   "codemirror_mode": "r",
   "file_extension": ".r",
   "mimetype": "text/x-r-source",
   "name": "R",
   "pygments_lexer": "r",
   "version": "4.0.3"
  }
 },
 "nbformat": 4,
 "nbformat_minor": 4
}
