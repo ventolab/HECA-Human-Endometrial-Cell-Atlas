{
 "cells": [
  {
   "cell_type": "markdown",
   "id": "greater-grant",
   "metadata": {},
   "source": [
    "## Notebook to fix GWAS Endometriosis summary statistics and plot results of fGWAS analysis "
   ]
  },
  {
   "cell_type": "code",
   "execution_count": 1,
   "id": "taken-inspector",
   "metadata": {},
   "outputs": [],
   "source": [
    "# Import libraries\n",
    "import numpy as np\n",
    "import pandas as pd\n",
    "import matplotlib.pyplot as plt"
   ]
  },
  {
   "cell_type": "markdown",
   "id": "material-tunisia",
   "metadata": {},
   "source": [
    "### 1. Fix summary statistics "
   ]
  },
  {
   "cell_type": "markdown",
   "id": "sweet-ceiling",
   "metadata": {},
   "source": [
    "The file **GCST90205183_buildGRCh38.tsv** doesn’t seem to be properly tab separated, so we have to fix this first (I can’t even read it properly in python otherwise) "
   ]
  },
  {
   "cell_type": "raw",
   "id": "binding-compilation",
   "metadata": {},
   "source": [
    "# Run this from command line\n",
    "sed 's/ \\+/\\t/g' GCST90205183_buildGRCh38.tsv > GCST90205183_buildGRCh38_prova.tsv"
   ]
  },
  {
   "cell_type": "markdown",
   "id": "about-federation",
   "metadata": {},
   "source": [
    "Now we can read the properly tab separated file **GCST90205183_buildGRCh38_prova.tsv** in python and reformat it in a way that is compatible for fGWAS to be run"
   ]
  },
  {
   "cell_type": "code",
   "execution_count": null,
   "id": "suspended-young",
   "metadata": {},
   "outputs": [],
   "source": [
    "endo = pd.read_csv('/nfs/team292/vl6/FetalReproductiveTract/fGWAS/adult_endometrium/GCST90205183_buildGRCh38_prova.tsv', sep = '\\t', header = 0)\n",
    "\n",
    "# Chromosome column contains pseudochromosomes or however they are called, remove them \n",
    "endo['chromosome'] = endo['chromosome'].astype(str)\n",
    "endo = endo[~endo['chromosome'].str.contains('_')]\n",
    "np.unique(endo['chromosome'])\n",
    "endo['chromosome'] = endo['chromosome'].astype(int)\n",
    "\n",
    "# Duplicate base pair location column\n",
    "endo['base_pair_location_2'] = endo['base_pair_location']\n",
    "\n",
    "# Drop unnecessary columns \n",
    "endo = endo.drop(['effect_allele_frequency', 'p_value'], axis = 1)\n",
    "\n",
    "# Reorder columns \n",
    "endo = endo[['chromosome', 'base_pair_location', 'base_pair_location_2', 'other_allele', 'effect_allele', 'beta', 'standard_error']]\n",
    "\n",
    "# Sort dataframe by chromosome and base pair position\n",
    "endo = endo.sort_values(by=['chromosome', 'base_pair_location'])\n",
    "\n",
    "# Define a dictionary to map old column names to new ones\n",
    "column_map = {'chromosome' : 'hm_chrom', 'base_pair_location': 'hm_pos', 'base_pair_location_2': 'hm_pos', 'other_allele': 'hm_other_allele', 'effect_allele' : 'hm_effect_allele', 'beta' : 'hm_beta', 'standard_error' : 'standard_error'}\n",
    "\n",
    "# Rename the columns based on the dictionary\n",
    "endo = endo.rename(columns=column_map)\n",
    "\n",
    "# Save the dataframe as a TSV file without the index and header\n",
    "endo.to_csv('/nfs/team292/vl6/FetalReproductiveTract/fGWAS/adult_endometrium/GCST90205183_buildGRCh38_corrected.tsv', sep='\\t', index=False)\n"
   ]
  },
  {
   "cell_type": "markdown",
   "id": "palestinian-acoustic",
   "metadata": {},
   "source": [
    "### 2. Convert to bed and tabix indexed file "
   ]
  },
  {
   "cell_type": "raw",
   "id": "least-trouble",
   "metadata": {},
   "source": [
    "# Run this in terminal\n",
    "bash /nfs/team292/vl6/FetalReproductiveTract/fGWAS/adult_endometrium/prepare_custom_gwas.sh GCST90205183_buildGRCh38_corrected.tsv"
   ]
  }
 ],
 "metadata": {
  "kernelspec": {
   "display_name": "atac_env",
   "language": "python",
   "name": "atac_env"
  },
  "language_info": {
   "codemirror_mode": {
    "name": "ipython",
    "version": 3
   },
   "file_extension": ".py",
   "mimetype": "text/x-python",
   "name": "python",
   "nbconvert_exporter": "python",
   "pygments_lexer": "ipython3",
   "version": "3.8.3"
  }
 },
 "nbformat": 4,
 "nbformat_minor": 5
}
