{
 "cells": [
  {
   "cell_type": "markdown",
   "id": "laden-spanish",
   "metadata": {},
   "source": [
    "## Plot results of fGWAS analysis "
   ]
  },
  {
   "cell_type": "code",
   "execution_count": 1,
   "id": "secondary-arrival",
   "metadata": {},
   "outputs": [],
   "source": [
    "# Import libraries\n",
    "import numpy as np\n",
    "import pandas as pd\n",
    "import matplotlib.pyplot as plt"
   ]
  },
  {
   "cell_type": "markdown",
   "id": "sized-qatar",
   "metadata": {},
   "source": [
    "### 3. Run fGWAS analysis"
   ]
  },
  {
   "cell_type": "raw",
   "id": "favorite-thomas",
   "metadata": {},
   "source": [
    "# Run this in the farm\n",
    "bash /nfs/team292/vl6/FetalReproductiveTract/fGWAS/adult_endometrium/submit_fGWAS.sh GCST90205183 \"\" GCST90205183_buildGRCh38_corrected.bed.gz \"\""
   ]
  },
  {
   "cell_type": "markdown",
   "id": "valuable-development",
   "metadata": {},
   "source": [
    "### 4. Plot output of fGWAS "
   ]
  },
  {
   "cell_type": "markdown",
   "id": "alpha-arabic",
   "metadata": {},
   "source": [
    "This currently plots all the cell type, consider removing cell types whose log(OR) is negative (as done by Teichmann lab and in their gut paper https://www.nature.com/articles/s41586-021-03852-1/figures/19) "
   ]
  },
  {
   "cell_type": "code",
   "execution_count": null,
   "id": "renewable-desire",
   "metadata": {},
   "outputs": [],
   "source": [
    "res = pd.read_csv('/nfs/team292/vl6/FetalReproductiveTract/fGWAS/adult_endometrium/GCST90205183/forest_GCST90205183_noatac.tsv', sep = '\\t')\n",
    "res.head()"
   ]
  },
  {
   "cell_type": "code",
   "execution_count": null,
   "id": "modular-cologne",
   "metadata": {},
   "outputs": [],
   "source": [
    "# Order by increasing FDR \n",
    "res = res.sort_values(by='FDR', ascending = False)\n",
    "\n",
    "# Columns are off by one\n",
    "res = res.reset_index().rename(columns={'index': 'celltype'})\n",
    "res.head()"
   ]
  },
  {
   "cell_type": "code",
   "execution_count": null,
   "id": "square-sport",
   "metadata": {},
   "outputs": [],
   "source": [
    "# Create the forest plot\n",
    "fig, ax = plt.subplots(figsize = (8, 16))\n",
    "plt.rcParams['font.size'] = 14\n",
    "y_pos = range(len(res))\n",
    "ax.scatter(res['log OR'], y_pos, marker='o', color='black', s=30)\n",
    "ax.hlines(y_pos, res['CI (lower 95%)'], res['CI (upper 95%)'], color='black')\n",
    "\n",
    "# Color the confidence intervals based on FDR\n",
    "colors = ['orange' if x < 0.001 else 'darkgray' for x in res['FDR']]\n",
    "for i, (lo, hi) in enumerate(zip(res['CI (lower 95%)'], res['CI (upper 95%)'])):\n",
    "    ax.plot([lo, hi], [i, i], color=colors[i], lw=3)\n",
    "\n",
    "# Set the y-axis labels to the study names\n",
    "ax.set_yticks(y_pos)\n",
    "ax.set_yticklabels(res['celltype'], fontsize=15)\n",
    "ax.set_ylabel('Cell type', fontsize=18)\n",
    "\n",
    "# Add a vertical line at the null value\n",
    "ax.axvline(x=0, color='black', linestyle='--')\n",
    "\n",
    "# Set the x-axis limits and label\n",
    "#ax.set_xlim([-3, 3])\n",
    "ax.set_xlabel('log(OR)', fontsize=18)\n",
    "\n",
    "# Add a title\n",
    "plt.title('Forest Plot (FDR < 0.001 in orange)', fontsize=20)\n",
    "\n",
    "plt.show()\n",
    "fig.savefig('ForestPlotEndometriosis_FDR0point001.pdf', bbox_inches='tight')"
   ]
  },
  {
   "cell_type": "code",
   "execution_count": null,
   "id": "referenced-printer",
   "metadata": {},
   "outputs": [],
   "source": [
    "# Create the forest plot\n",
    "fig, ax = plt.subplots(figsize = (8, 16))\n",
    "plt.rcParams['font.size'] = 14\n",
    "y_pos = range(len(res))\n",
    "ax.scatter(res['log OR'], y_pos, marker='o', color='black', s=30)\n",
    "ax.hlines(y_pos, res['CI (lower 95%)'], res['CI (upper 95%)'], color='black')\n",
    "\n",
    "# Color the confidence intervals based on FDR\n",
    "colors = ['orange' if x < 0.05 else 'darkgray' for x in res['FDR']]\n",
    "for i, (lo, hi) in enumerate(zip(res['CI (lower 95%)'], res['CI (upper 95%)'])):\n",
    "    ax.plot([lo, hi], [i, i], color=colors[i], lw=3)\n",
    "\n",
    "# Set the y-axis labels to the study names\n",
    "ax.set_yticks(y_pos)\n",
    "ax.set_yticklabels(res['celltype'], fontsize=15)\n",
    "ax.set_ylabel('Cell type', fontsize=18)\n",
    "\n",
    "# Add a vertical line at the null value\n",
    "ax.axvline(x=0, color='black', linestyle='--')\n",
    "\n",
    "# Set the x-axis limits and label\n",
    "#ax.set_xlim([-3, 3])\n",
    "ax.set_xlabel('log(OR)', fontsize=18)\n",
    "\n",
    "# Add a title\n",
    "plt.title('Forest Plot (FDR < 0.05 in orange)', fontsize=20)\n",
    "\n",
    "plt.show()\n",
    "fig.savefig('ForestPlotEndometriosis_FDR0point05.pdf', bbox_inches='tight')"
   ]
  }
 ],
 "metadata": {
  "kernelspec": {
   "display_name": "Python sc_analysis",
   "language": "python",
   "name": "sc_analysis"
  },
  "language_info": {
   "codemirror_mode": {
    "name": "ipython",
    "version": 3
   },
   "file_extension": ".py",
   "mimetype": "text/x-python",
   "name": "python",
   "nbconvert_exporter": "python",
   "pygments_lexer": "ipython3",
   "version": "3.7.10"
  }
 },
 "nbformat": 4,
 "nbformat_minor": 5
}
