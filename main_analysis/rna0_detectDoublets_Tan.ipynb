{
 "cells": [
  {
   "cell_type": "markdown",
   "metadata": {},
   "source": [
    "# Endometriosis analysis - doublets\n",
    "# Tan 2022"
   ]
  },
  {
   "cell_type": "code",
   "execution_count": 1,
   "metadata": {},
   "outputs": [
    {
     "name": "stderr",
     "output_type": "stream",
     "text": [
      "WARNING: If you miss a compact list, please try `print_header`!\n"
     ]
    },
    {
     "name": "stdout",
     "output_type": "stream",
     "text": [
      "-----\n",
      "anndata     0.7.5\n",
      "scanpy      1.7.1\n",
      "sinfo       0.3.1\n",
      "-----\n",
      "PIL                 8.1.2\n",
      "anndata             0.7.5\n",
      "anyio               NA\n",
      "attr                20.3.0\n",
      "babel               2.9.0\n",
      "backcall            0.2.0\n",
      "brotli              NA\n",
      "cairo               1.20.0\n",
      "certifi             2020.12.05\n",
      "cffi                1.14.5\n",
      "chardet             4.0.0\n",
      "cloudpickle         1.6.0\n",
      "colorama            0.4.4\n",
      "cycler              0.10.0\n",
      "cython_runtime      NA\n",
      "cytoolz             0.11.0\n",
      "dask                2021.03.1\n",
      "dateutil            2.8.1\n",
      "decorator           4.4.2\n",
      "fsspec              0.8.7\n",
      "get_version         2.1\n",
      "google              NA\n",
      "h5py                3.1.0\n",
      "idna                2.10\n",
      "igraph              0.8.3\n",
      "ipykernel           5.5.0\n",
      "ipython_genutils    0.2.0\n",
      "jedi                0.18.0\n",
      "jinja2              2.11.3\n",
      "joblib              1.0.1\n",
      "json5               NA\n",
      "jsonschema          3.2.0\n",
      "jupyter_server      1.4.1\n",
      "jupyterlab_server   2.3.0\n",
      "kiwisolver          1.3.1\n",
      "legacy_api_wrap     0.0.0\n",
      "leidenalg           0.8.3\n",
      "llvmlite            0.34.0\n",
      "louvain             0.7.0\n",
      "markupsafe          1.1.1\n",
      "matplotlib          3.3.4\n",
      "mpl_toolkits        NA\n",
      "natsort             7.1.1\n",
      "nbclassic           NA\n",
      "nbformat            5.1.2\n",
      "numba               0.51.2\n",
      "numexpr             2.7.3\n",
      "numpy               1.20.1\n",
      "packaging           20.9\n",
      "pandas              1.2.3\n",
      "parso               0.8.1\n",
      "pexpect             4.8.0\n",
      "pickleshare         0.7.5\n",
      "pkg_resources       NA\n",
      "prometheus_client   NA\n",
      "prompt_toolkit      3.0.16\n",
      "psutil              5.8.0\n",
      "ptyprocess          0.7.0\n",
      "pvectorc            NA\n",
      "pyarrow             0.16.0\n",
      "pygments            2.8.0\n",
      "pyparsing           2.4.7\n",
      "pyrsistent          NA\n",
      "pytoml              NA\n",
      "pytz                2021.1\n",
      "requests            2.25.1\n",
      "ruamel              NA\n",
      "scanpy              1.7.1\n",
      "scipy               1.6.1\n",
      "scrublet            NA\n",
      "send2trash          NA\n",
      "setuptools_scm      NA\n",
      "sinfo               0.3.1\n",
      "six                 1.15.0\n",
      "sklearn             0.24.1\n",
      "sniffio             1.2.0\n",
      "socks               1.7.1\n",
      "sphinxcontrib       NA\n",
      "storemagic          NA\n",
      "tables              3.6.1\n",
      "tblib               1.7.0\n",
      "texttable           1.6.3\n",
      "tlz                 0.11.0\n",
      "toolz               0.11.1\n",
      "tornado             6.1\n",
      "traitlets           5.0.5\n",
      "typing_extensions   NA\n",
      "urllib3             1.26.3\n",
      "wcwidth             0.2.5\n",
      "yaml                5.3.1\n",
      "zmq                 22.0.3\n",
      "-----\n",
      "IPython             7.21.0\n",
      "jupyter_client      6.1.11\n",
      "jupyter_core        4.7.1\n",
      "jupyterlab          3.0.9\n",
      "notebook            6.2.0\n",
      "-----\n",
      "Python 3.8.8 | packaged by conda-forge | (default, Feb 20 2021, 16:22:27) [GCC 9.3.0]\n",
      "Linux-4.15.0-158-generic-x86_64-with-glibc2.10\n",
      "60 logical CPU cores, x86_64\n",
      "-----\n",
      "Session information updated at 2022-08-18 10:07\n",
      "\n"
     ]
    },
    {
     "data": {
      "text/plain": [
       "'/opt/conda/bin/python'"
      ]
     },
     "execution_count": 1,
     "metadata": {},
     "output_type": "execute_result"
    }
   ],
   "source": [
    "import scrublet as scr\n",
    "import numpy as np\n",
    "import pandas as pd\n",
    "import scanpy as sc\n",
    "import matplotlib.pyplot as plt\n",
    "import os\n",
    "import sys\n",
    "import scipy\n",
    "\n",
    "\n",
    "def MovePlots(plotpattern, subplotdir):\n",
    "    os.system('mkdir -p '+str(sc.settings.figdir)+'/'+subplotdir)\n",
    "    os.system('mv '+str(sc.settings.figdir)+'/*'+plotpattern+'** '+str(sc.settings.figdir)+'/'+subplotdir)\n",
    "\n",
    "\n",
    "sc.settings.verbosity = 3  # verbosity: errors (0), warnings (1), info (2), hints (3)\n",
    "sc.settings.figdir = './figures/'\n",
    "sc.logging.print_versions()\n",
    "sc.settings.set_figure_params(dpi=80)  # low dpi (dots per inch) yields small inline figures\n",
    "\n",
    "sys.executable"
   ]
  },
  {
   "cell_type": "code",
   "execution_count": 2,
   "metadata": {},
   "outputs": [],
   "source": [
    "# Benjamini-Hochberg and Bonferroni FDR helper functions.\n",
    "\n",
    "def bh(pvalues):\n",
    "    \"\"\"\n",
    "    Computes the Benjamini-Hochberg FDR correction.\n",
    "    \n",
    "    Input:\n",
    "        * pvals - vector of p-values to correct\n",
    "    \"\"\"\n",
    "    pvalues = np.array(pvalues)\n",
    "    n = int(pvalues.shape[0])\n",
    "    new_pvalues = np.empty(n)\n",
    "    values = [ (pvalue, i) for i, pvalue in enumerate(pvalues) ]\n",
    "    values.sort()\n",
    "    values.reverse()\n",
    "    new_values = []\n",
    "    for i, vals in enumerate(values):\n",
    "        rank = n - i\n",
    "        pvalue, index = vals\n",
    "        new_values.append((n/rank) * pvalue)\n",
    "    for i in range(0, int(n)-1):\n",
    "        if new_values[i] < new_values[i+1]:\n",
    "            new_values[i+1] = new_values[i]\n",
    "    for i, vals in enumerate(values):\n",
    "        pvalue, index = vals\n",
    "        new_pvalues[index] = new_values[i]\n",
    "    return new_pvalues\n",
    "\n",
    "def bonf(pvalues):\n",
    "    \"\"\"\n",
    "    Computes the Bonferroni FDR correction.\n",
    "    \n",
    "    Input:\n",
    "        * pvals - vector of p-values to correct\n",
    "    \"\"\"\n",
    "    new_pvalues = np.array(pvalues) * len(pvalues)\n",
    "    new_pvalues[new_pvalues>1] = 1\n",
    "    return new_pvalues"
   ]
  },
  {
   "cell_type": "markdown",
   "metadata": {},
   "source": [
    "## Scrumblet\n",
    "\n",
    "(Courtesy of K Polansky)\n",
    "\n",
    "Two-step doublet score processing, mirroring the approach from Popescu et al. https://www.nature.com/articles/s41586-019-1652-y which was closely based on Pijuan-Sala et al. https://www.nature.com/articles/s41586-019-0933-9\n",
    "\n",
    "The first step starts with some sort of doublet score, e.g. Scrublet, and ends up with a per-cell p-value (with significant values marking doublets). For each sample individually:\n",
    "\n",
    " - run Scrublet to obtain each cell's score\n",
    "- overcluster the manifold - run a basic Scanpy pipeline up to clustering, then additionally cluster each cluster separately\n",
    "- compute per-cluster Scrublet scores as the median of the observed values, and use those going forward\n",
    "- identify p-values:\n",
    "  - compute normal distribution parameters: centered at the median of the scores, with a MAD-derived standard deviation\n",
    "  - the score distribution is zero-truncated, so as per the paper I only use above-median values to compute the MAD\n",
    "  - K deviates from the paper a bit, at least the exact wording captured within it, and multiply the MAD by 1.4826 to obtain a literature-derived normal distribution standard deviation estimate\n",
    "  - FDR-correct the p-values via Benjamini-Hochberg\n",
    "- write out all this doublet info into CSVs for later use\n",
    "\n",
    "NOTE: The second step is performed later, in a multi-sample space"
   ]
  },
  {
   "cell_type": "code",
   "execution_count": 3,
   "metadata": {
    "tags": []
   },
   "outputs": [
    {
     "name": "stdout",
     "output_type": "stream",
     "text": [
      "Number of samples:  33\n"
     ]
    },
    {
     "data": {
      "text/html": [
       "<div>\n",
       "<style scoped>\n",
       "    .dataframe tbody tr th:only-of-type {\n",
       "        vertical-align: middle;\n",
       "    }\n",
       "\n",
       "    .dataframe tbody tr th {\n",
       "        vertical-align: top;\n",
       "    }\n",
       "\n",
       "    .dataframe thead th {\n",
       "        text-align: right;\n",
       "    }\n",
       "</style>\n",
       "<table border=\"1\" class=\"dataframe\">\n",
       "  <thead>\n",
       "    <tr style=\"text-align: right;\">\n",
       "      <th></th>\n",
       "      <th>file</th>\n",
       "      <th>sample_long</th>\n",
       "      <th>sample</th>\n",
       "    </tr>\n",
       "  </thead>\n",
       "  <tbody>\n",
       "    <tr>\n",
       "      <th>0</th>\n",
       "      <td>GSM6102532_C01_Ctrl_filtered_feature_bc_matrix.h5</td>\n",
       "      <td>GSM6102532_C01_Ctrl</td>\n",
       "      <td>C01_Ctrl</td>\n",
       "    </tr>\n",
       "    <tr>\n",
       "      <th>1</th>\n",
       "      <td>GSM6102533_C02_Ctrl_filtered_feature_bc_matrix.h5</td>\n",
       "      <td>GSM6102533_C02_Ctrl</td>\n",
       "      <td>C02_Ctrl</td>\n",
       "    </tr>\n",
       "    <tr>\n",
       "      <th>2</th>\n",
       "      <td>GSM6102534_C03_Ctrl_filtered_feature_bc_matrix.h5</td>\n",
       "      <td>GSM6102534_C03_Ctrl</td>\n",
       "      <td>C03_Ctrl</td>\n",
       "    </tr>\n",
       "    <tr>\n",
       "      <th>3</th>\n",
       "      <td>GSM6102535_E01_EcPA_filtered_feature_bc_matrix.h5</td>\n",
       "      <td>GSM6102535_E01_EcPA</td>\n",
       "      <td>E01_EcPA</td>\n",
       "    </tr>\n",
       "    <tr>\n",
       "      <th>4</th>\n",
       "      <td>GSM6102536_E01_EcP_filtered_feature_bc_matrix.h5</td>\n",
       "      <td>GSM6102536_E01_EcP</td>\n",
       "      <td>E01_EcP</td>\n",
       "    </tr>\n",
       "  </tbody>\n",
       "</table>\n",
       "</div>"
      ],
      "text/plain": [
       "                                                file          sample_long  \\\n",
       "0  GSM6102532_C01_Ctrl_filtered_feature_bc_matrix.h5  GSM6102532_C01_Ctrl   \n",
       "1  GSM6102533_C02_Ctrl_filtered_feature_bc_matrix.h5  GSM6102533_C02_Ctrl   \n",
       "2  GSM6102534_C03_Ctrl_filtered_feature_bc_matrix.h5  GSM6102534_C03_Ctrl   \n",
       "3  GSM6102535_E01_EcPA_filtered_feature_bc_matrix.h5  GSM6102535_E01_EcPA   \n",
       "4   GSM6102536_E01_EcP_filtered_feature_bc_matrix.h5   GSM6102536_E01_EcP   \n",
       "\n",
       "     sample  \n",
       "0  C01_Ctrl  \n",
       "1  C02_Ctrl  \n",
       "2  C03_Ctrl  \n",
       "3  E01_EcPA  \n",
       "4   E01_EcP  "
      ]
     },
     "execution_count": 3,
     "metadata": {},
     "output_type": "execute_result"
    }
   ],
   "source": [
    "sample_directory = '/nfs/team292/lg18/endometriosis/other_datasets/endometriosis_Tan2022/'\n",
    "meta = pd.read_csv(sample_directory+'scRNAseq_metadata.csv',index_col=None)\n",
    "print('Number of samples: ', meta.index.size)\n",
    "meta.head()"
   ]
  },
  {
   "cell_type": "code",
   "execution_count": 4,
   "metadata": {},
   "outputs": [
    {
     "name": "stdout",
     "output_type": "stream",
     "text": [
      "Number of samples:  30\n"
     ]
    },
    {
     "data": {
      "text/html": [
       "<div>\n",
       "<style scoped>\n",
       "    .dataframe tbody tr th:only-of-type {\n",
       "        vertical-align: middle;\n",
       "    }\n",
       "\n",
       "    .dataframe tbody tr th {\n",
       "        vertical-align: top;\n",
       "    }\n",
       "\n",
       "    .dataframe thead th {\n",
       "        text-align: right;\n",
       "    }\n",
       "</style>\n",
       "<table border=\"1\" class=\"dataframe\">\n",
       "  <thead>\n",
       "    <tr style=\"text-align: right;\">\n",
       "      <th></th>\n",
       "      <th>file</th>\n",
       "      <th>sample_long</th>\n",
       "      <th>sample</th>\n",
       "    </tr>\n",
       "  </thead>\n",
       "  <tbody>\n",
       "    <tr>\n",
       "      <th>0</th>\n",
       "      <td>GSM6102532_C01_Ctrl_filtered_feature_bc_matrix.h5</td>\n",
       "      <td>GSM6102532_C01_Ctrl</td>\n",
       "      <td>C01_Ctrl</td>\n",
       "    </tr>\n",
       "    <tr>\n",
       "      <th>1</th>\n",
       "      <td>GSM6102533_C02_Ctrl_filtered_feature_bc_matrix.h5</td>\n",
       "      <td>GSM6102533_C02_Ctrl</td>\n",
       "      <td>C02_Ctrl</td>\n",
       "    </tr>\n",
       "    <tr>\n",
       "      <th>2</th>\n",
       "      <td>GSM6102534_C03_Ctrl_filtered_feature_bc_matrix.h5</td>\n",
       "      <td>GSM6102534_C03_Ctrl</td>\n",
       "      <td>C03_Ctrl</td>\n",
       "    </tr>\n",
       "    <tr>\n",
       "      <th>3</th>\n",
       "      <td>GSM6102535_E01_EcPA_filtered_feature_bc_matrix.h5</td>\n",
       "      <td>GSM6102535_E01_EcPA</td>\n",
       "      <td>E01_EcPA</td>\n",
       "    </tr>\n",
       "    <tr>\n",
       "      <th>4</th>\n",
       "      <td>GSM6102536_E01_EcP_filtered_feature_bc_matrix.h5</td>\n",
       "      <td>GSM6102536_E01_EcP</td>\n",
       "      <td>E01_EcP</td>\n",
       "    </tr>\n",
       "  </tbody>\n",
       "</table>\n",
       "</div>"
      ],
      "text/plain": [
       "                                                file          sample_long  \\\n",
       "0  GSM6102532_C01_Ctrl_filtered_feature_bc_matrix.h5  GSM6102532_C01_Ctrl   \n",
       "1  GSM6102533_C02_Ctrl_filtered_feature_bc_matrix.h5  GSM6102533_C02_Ctrl   \n",
       "2  GSM6102534_C03_Ctrl_filtered_feature_bc_matrix.h5  GSM6102534_C03_Ctrl   \n",
       "3  GSM6102535_E01_EcPA_filtered_feature_bc_matrix.h5  GSM6102535_E01_EcPA   \n",
       "4   GSM6102536_E01_EcP_filtered_feature_bc_matrix.h5   GSM6102536_E01_EcP   \n",
       "\n",
       "     sample  \n",
       "0  C01_Ctrl  \n",
       "1  C02_Ctrl  \n",
       "2  C03_Ctrl  \n",
       "3  E01_EcPA  \n",
       "4   E01_EcP  "
      ]
     },
     "execution_count": 4,
     "metadata": {},
     "output_type": "execute_result"
    }
   ],
   "source": [
    "# Filter meta to samples in the analysis\n",
    "meta_analysis = pd.read_csv('metadata-Tan2022.csv',index_col=None)\n",
    "\n",
    "meta = meta[ [i in meta_analysis['sample'].tolist() for i in meta['sample']] ]\n",
    "print('Number of samples: ', meta.index.size)\n",
    "meta.head()"
   ]
  },
  {
   "cell_type": "code",
   "execution_count": 5,
   "metadata": {},
   "outputs": [
    {
     "name": "stdout",
     "output_type": "stream",
     "text": [
      "GSM6102562_E11_EcO\n"
     ]
    },
    {
     "name": "stderr",
     "output_type": "stream",
     "text": [
      "Variable names are not unique. To make them unique, call `.var_names_make_unique`.\n",
      "Variable names are not unique. To make them unique, call `.var_names_make_unique`.\n",
      "Trying to set attribute `.obs` of view, copying.\n",
      "/opt/conda/lib/python3.8/site-packages/scanpy/preprocessing/_simple.py:810: UserWarning: Revieved a view of an AnnData. Making a copy.\n",
      "  view_to_actual(adata)\n"
     ]
    },
    {
     "name": "stdout",
     "output_type": "stream",
     "text": [
      "GSM6102561_E10_EcO\n"
     ]
    },
    {
     "name": "stderr",
     "output_type": "stream",
     "text": [
      "Variable names are not unique. To make them unique, call `.var_names_make_unique`.\n",
      "Variable names are not unique. To make them unique, call `.var_names_make_unique`.\n",
      "Trying to set attribute `.obs` of view, copying.\n",
      "/opt/conda/lib/python3.8/site-packages/scanpy/preprocessing/_simple.py:810: UserWarning: Revieved a view of an AnnData. Making a copy.\n",
      "  view_to_actual(adata)\n"
     ]
    },
    {
     "name": "stdout",
     "output_type": "stream",
     "text": [
      "GSM6102560_E09_EuE\n"
     ]
    },
    {
     "name": "stderr",
     "output_type": "stream",
     "text": [
      "Variable names are not unique. To make them unique, call `.var_names_make_unique`.\n",
      "Variable names are not unique. To make them unique, call `.var_names_make_unique`.\n",
      "Trying to set attribute `.obs` of view, copying.\n",
      "/opt/conda/lib/python3.8/site-packages/scanpy/preprocessing/_simple.py:810: UserWarning: Revieved a view of an AnnData. Making a copy.\n",
      "  view_to_actual(adata)\n"
     ]
    },
    {
     "name": "stdout",
     "output_type": "stream",
     "text": [
      "GSM6102559_E09_EcP\n"
     ]
    },
    {
     "name": "stderr",
     "output_type": "stream",
     "text": [
      "Variable names are not unique. To make them unique, call `.var_names_make_unique`.\n",
      "Variable names are not unique. To make them unique, call `.var_names_make_unique`.\n",
      "Trying to set attribute `.obs` of view, copying.\n",
      "/opt/conda/lib/python3.8/site-packages/scanpy/preprocessing/_simple.py:810: UserWarning: Revieved a view of an AnnData. Making a copy.\n",
      "  view_to_actual(adata)\n"
     ]
    },
    {
     "name": "stdout",
     "output_type": "stream",
     "text": [
      "GSM6102558_E09_EcPA\n"
     ]
    },
    {
     "name": "stderr",
     "output_type": "stream",
     "text": [
      "Variable names are not unique. To make them unique, call `.var_names_make_unique`.\n",
      "Variable names are not unique. To make them unique, call `.var_names_make_unique`.\n",
      "Trying to set attribute `.obs` of view, copying.\n",
      "/opt/conda/lib/python3.8/site-packages/scanpy/preprocessing/_simple.py:810: UserWarning: Revieved a view of an AnnData. Making a copy.\n",
      "  view_to_actual(adata)\n"
     ]
    },
    {
     "name": "stdout",
     "output_type": "stream",
     "text": [
      "GSM6102556_E09_EcO\n"
     ]
    },
    {
     "name": "stderr",
     "output_type": "stream",
     "text": [
      "Variable names are not unique. To make them unique, call `.var_names_make_unique`.\n",
      "Variable names are not unique. To make them unique, call `.var_names_make_unique`.\n",
      "Trying to set attribute `.obs` of view, copying.\n",
      "/opt/conda/lib/python3.8/site-packages/scanpy/preprocessing/_simple.py:810: UserWarning: Revieved a view of an AnnData. Making a copy.\n",
      "  view_to_actual(adata)\n"
     ]
    },
    {
     "name": "stdout",
     "output_type": "stream",
     "text": [
      "GSM6102555_E08_EuE\n"
     ]
    },
    {
     "name": "stderr",
     "output_type": "stream",
     "text": [
      "Variable names are not unique. To make them unique, call `.var_names_make_unique`.\n",
      "Variable names are not unique. To make them unique, call `.var_names_make_unique`.\n",
      "Trying to set attribute `.obs` of view, copying.\n",
      "/opt/conda/lib/python3.8/site-packages/scanpy/preprocessing/_simple.py:810: UserWarning: Revieved a view of an AnnData. Making a copy.\n",
      "  view_to_actual(adata)\n"
     ]
    },
    {
     "name": "stdout",
     "output_type": "stream",
     "text": [
      "GSM6102554_E07_EuE\n"
     ]
    },
    {
     "name": "stderr",
     "output_type": "stream",
     "text": [
      "Variable names are not unique. To make them unique, call `.var_names_make_unique`.\n",
      "Variable names are not unique. To make them unique, call `.var_names_make_unique`.\n",
      "Trying to set attribute `.obs` of view, copying.\n",
      "/opt/conda/lib/python3.8/site-packages/scanpy/preprocessing/_simple.py:810: UserWarning: Revieved a view of an AnnData. Making a copy.\n",
      "  view_to_actual(adata)\n"
     ]
    },
    {
     "name": "stdout",
     "output_type": "stream",
     "text": [
      "GSM6102553_E07_EcP\n"
     ]
    },
    {
     "name": "stderr",
     "output_type": "stream",
     "text": [
      "Variable names are not unique. To make them unique, call `.var_names_make_unique`.\n",
      "Variable names are not unique. To make them unique, call `.var_names_make_unique`.\n",
      "Trying to set attribute `.obs` of view, copying.\n",
      "/opt/conda/lib/python3.8/site-packages/scanpy/preprocessing/_simple.py:810: UserWarning: Revieved a view of an AnnData. Making a copy.\n",
      "  view_to_actual(adata)\n"
     ]
    },
    {
     "name": "stdout",
     "output_type": "stream",
     "text": [
      "GSM6102552_E07_EcO\n"
     ]
    },
    {
     "name": "stderr",
     "output_type": "stream",
     "text": [
      "Variable names are not unique. To make them unique, call `.var_names_make_unique`.\n",
      "Variable names are not unique. To make them unique, call `.var_names_make_unique`.\n",
      "Trying to set attribute `.obs` of view, copying.\n",
      "/opt/conda/lib/python3.8/site-packages/scanpy/preprocessing/_simple.py:810: UserWarning: Revieved a view of an AnnData. Making a copy.\n",
      "  view_to_actual(adata)\n"
     ]
    },
    {
     "name": "stdout",
     "output_type": "stream",
     "text": [
      "GSM6102551_E06_EuE\n"
     ]
    },
    {
     "name": "stderr",
     "output_type": "stream",
     "text": [
      "Variable names are not unique. To make them unique, call `.var_names_make_unique`.\n",
      "Variable names are not unique. To make them unique, call `.var_names_make_unique`.\n",
      "Trying to set attribute `.obs` of view, copying.\n",
      "/opt/conda/lib/python3.8/site-packages/scanpy/preprocessing/_simple.py:810: UserWarning: Revieved a view of an AnnData. Making a copy.\n",
      "  view_to_actual(adata)\n"
     ]
    },
    {
     "name": "stdout",
     "output_type": "stream",
     "text": [
      "GSM6102550_E06_EcP\n"
     ]
    },
    {
     "name": "stderr",
     "output_type": "stream",
     "text": [
      "Variable names are not unique. To make them unique, call `.var_names_make_unique`.\n",
      "Variable names are not unique. To make them unique, call `.var_names_make_unique`.\n",
      "Trying to set attribute `.obs` of view, copying.\n",
      "/opt/conda/lib/python3.8/site-packages/scanpy/preprocessing/_simple.py:810: UserWarning: Revieved a view of an AnnData. Making a copy.\n",
      "  view_to_actual(adata)\n"
     ]
    },
    {
     "name": "stdout",
     "output_type": "stream",
     "text": [
      "GSM6102549_E05_EuE\n"
     ]
    },
    {
     "name": "stderr",
     "output_type": "stream",
     "text": [
      "Variable names are not unique. To make them unique, call `.var_names_make_unique`.\n",
      "Variable names are not unique. To make them unique, call `.var_names_make_unique`.\n",
      "Trying to set attribute `.obs` of view, copying.\n",
      "/opt/conda/lib/python3.8/site-packages/scanpy/preprocessing/_simple.py:810: UserWarning: Revieved a view of an AnnData. Making a copy.\n",
      "  view_to_actual(adata)\n"
     ]
    },
    {
     "name": "stdout",
     "output_type": "stream",
     "text": [
      "GSM6102548_E05_EcP\n"
     ]
    },
    {
     "name": "stderr",
     "output_type": "stream",
     "text": [
      "Variable names are not unique. To make them unique, call `.var_names_make_unique`.\n",
      "Variable names are not unique. To make them unique, call `.var_names_make_unique`.\n",
      "Trying to set attribute `.obs` of view, copying.\n",
      "/opt/conda/lib/python3.8/site-packages/scanpy/preprocessing/_simple.py:810: UserWarning: Revieved a view of an AnnData. Making a copy.\n",
      "  view_to_actual(adata)\n"
     ]
    },
    {
     "name": "stdout",
     "output_type": "stream",
     "text": [
      "GSM6102547_E05_EcPA\n"
     ]
    },
    {
     "name": "stderr",
     "output_type": "stream",
     "text": [
      "Variable names are not unique. To make them unique, call `.var_names_make_unique`.\n",
      "Variable names are not unique. To make them unique, call `.var_names_make_unique`.\n",
      "Trying to set attribute `.obs` of view, copying.\n",
      "/opt/conda/lib/python3.8/site-packages/scanpy/preprocessing/_simple.py:810: UserWarning: Revieved a view of an AnnData. Making a copy.\n",
      "  view_to_actual(adata)\n"
     ]
    },
    {
     "name": "stdout",
     "output_type": "stream",
     "text": [
      "GSM6102546_E04_EuE\n"
     ]
    },
    {
     "name": "stderr",
     "output_type": "stream",
     "text": [
      "Variable names are not unique. To make them unique, call `.var_names_make_unique`.\n",
      "Variable names are not unique. To make them unique, call `.var_names_make_unique`.\n",
      "Trying to set attribute `.obs` of view, copying.\n",
      "/opt/conda/lib/python3.8/site-packages/scanpy/preprocessing/_simple.py:810: UserWarning: Revieved a view of an AnnData. Making a copy.\n",
      "  view_to_actual(adata)\n"
     ]
    },
    {
     "name": "stdout",
     "output_type": "stream",
     "text": [
      "GSM6102545_E04_EcP\n"
     ]
    },
    {
     "name": "stderr",
     "output_type": "stream",
     "text": [
      "Variable names are not unique. To make them unique, call `.var_names_make_unique`.\n",
      "Variable names are not unique. To make them unique, call `.var_names_make_unique`.\n",
      "Trying to set attribute `.obs` of view, copying.\n",
      "/opt/conda/lib/python3.8/site-packages/scanpy/preprocessing/_simple.py:810: UserWarning: Revieved a view of an AnnData. Making a copy.\n",
      "  view_to_actual(adata)\n"
     ]
    },
    {
     "name": "stdout",
     "output_type": "stream",
     "text": [
      "GSM6102544_E04_EcPA\n"
     ]
    },
    {
     "name": "stderr",
     "output_type": "stream",
     "text": [
      "Variable names are not unique. To make them unique, call `.var_names_make_unique`.\n",
      "Variable names are not unique. To make them unique, call `.var_names_make_unique`.\n",
      "Trying to set attribute `.obs` of view, copying.\n",
      "/opt/conda/lib/python3.8/site-packages/scanpy/preprocessing/_simple.py:810: UserWarning: Revieved a view of an AnnData. Making a copy.\n",
      "  view_to_actual(adata)\n"
     ]
    },
    {
     "name": "stdout",
     "output_type": "stream",
     "text": [
      "GSM6102543_E03_EuE\n"
     ]
    },
    {
     "name": "stderr",
     "output_type": "stream",
     "text": [
      "Variable names are not unique. To make them unique, call `.var_names_make_unique`.\n",
      "Variable names are not unique. To make them unique, call `.var_names_make_unique`.\n",
      "Trying to set attribute `.obs` of view, copying.\n",
      "/opt/conda/lib/python3.8/site-packages/scanpy/preprocessing/_simple.py:810: UserWarning: Revieved a view of an AnnData. Making a copy.\n",
      "  view_to_actual(adata)\n"
     ]
    },
    {
     "name": "stdout",
     "output_type": "stream",
     "text": [
      "GSM6102542_E03_EcP\n"
     ]
    },
    {
     "name": "stderr",
     "output_type": "stream",
     "text": [
      "Variable names are not unique. To make them unique, call `.var_names_make_unique`.\n",
      "Variable names are not unique. To make them unique, call `.var_names_make_unique`.\n",
      "Trying to set attribute `.obs` of view, copying.\n",
      "/opt/conda/lib/python3.8/site-packages/scanpy/preprocessing/_simple.py:810: UserWarning: Revieved a view of an AnnData. Making a copy.\n",
      "  view_to_actual(adata)\n"
     ]
    },
    {
     "name": "stdout",
     "output_type": "stream",
     "text": [
      "GSM6102541_E03_EcPA\n"
     ]
    },
    {
     "name": "stderr",
     "output_type": "stream",
     "text": [
      "Variable names are not unique. To make them unique, call `.var_names_make_unique`.\n",
      "Variable names are not unique. To make them unique, call `.var_names_make_unique`.\n",
      "Trying to set attribute `.obs` of view, copying.\n",
      "/opt/conda/lib/python3.8/site-packages/scanpy/preprocessing/_simple.py:810: UserWarning: Revieved a view of an AnnData. Making a copy.\n",
      "  view_to_actual(adata)\n"
     ]
    },
    {
     "name": "stdout",
     "output_type": "stream",
     "text": [
      "GSM6102540_E02_EuE\n"
     ]
    },
    {
     "name": "stderr",
     "output_type": "stream",
     "text": [
      "Variable names are not unique. To make them unique, call `.var_names_make_unique`.\n",
      "Variable names are not unique. To make them unique, call `.var_names_make_unique`.\n",
      "Trying to set attribute `.obs` of view, copying.\n",
      "/opt/conda/lib/python3.8/site-packages/scanpy/preprocessing/_simple.py:810: UserWarning: Revieved a view of an AnnData. Making a copy.\n",
      "  view_to_actual(adata)\n"
     ]
    },
    {
     "name": "stdout",
     "output_type": "stream",
     "text": [
      "GSM6102539_E02_EcP\n"
     ]
    },
    {
     "name": "stderr",
     "output_type": "stream",
     "text": [
      "Variable names are not unique. To make them unique, call `.var_names_make_unique`.\n",
      "Variable names are not unique. To make them unique, call `.var_names_make_unique`.\n",
      "Trying to set attribute `.obs` of view, copying.\n",
      "/opt/conda/lib/python3.8/site-packages/scanpy/preprocessing/_simple.py:810: UserWarning: Revieved a view of an AnnData. Making a copy.\n",
      "  view_to_actual(adata)\n"
     ]
    },
    {
     "name": "stdout",
     "output_type": "stream",
     "text": [
      "GSM6102538_E02_EcPA\n"
     ]
    },
    {
     "name": "stderr",
     "output_type": "stream",
     "text": [
      "Variable names are not unique. To make them unique, call `.var_names_make_unique`.\n",
      "Variable names are not unique. To make them unique, call `.var_names_make_unique`.\n",
      "Trying to set attribute `.obs` of view, copying.\n",
      "/opt/conda/lib/python3.8/site-packages/scanpy/preprocessing/_simple.py:810: UserWarning: Revieved a view of an AnnData. Making a copy.\n",
      "  view_to_actual(adata)\n"
     ]
    },
    {
     "name": "stdout",
     "output_type": "stream",
     "text": [
      "GSM6102537_E01_EuE\n"
     ]
    },
    {
     "name": "stderr",
     "output_type": "stream",
     "text": [
      "Variable names are not unique. To make them unique, call `.var_names_make_unique`.\n",
      "Variable names are not unique. To make them unique, call `.var_names_make_unique`.\n",
      "Trying to set attribute `.obs` of view, copying.\n",
      "/opt/conda/lib/python3.8/site-packages/scanpy/preprocessing/_simple.py:810: UserWarning: Revieved a view of an AnnData. Making a copy.\n",
      "  view_to_actual(adata)\n"
     ]
    },
    {
     "name": "stdout",
     "output_type": "stream",
     "text": [
      "GSM6102536_E01_EcP\n"
     ]
    },
    {
     "name": "stderr",
     "output_type": "stream",
     "text": [
      "Variable names are not unique. To make them unique, call `.var_names_make_unique`.\n",
      "Variable names are not unique. To make them unique, call `.var_names_make_unique`.\n",
      "Trying to set attribute `.obs` of view, copying.\n",
      "/opt/conda/lib/python3.8/site-packages/scanpy/preprocessing/_simple.py:810: UserWarning: Revieved a view of an AnnData. Making a copy.\n",
      "  view_to_actual(adata)\n"
     ]
    },
    {
     "name": "stdout",
     "output_type": "stream",
     "text": [
      "GSM6102535_E01_EcPA\n"
     ]
    },
    {
     "name": "stderr",
     "output_type": "stream",
     "text": [
      "Variable names are not unique. To make them unique, call `.var_names_make_unique`.\n",
      "Variable names are not unique. To make them unique, call `.var_names_make_unique`.\n",
      "Trying to set attribute `.obs` of view, copying.\n",
      "/opt/conda/lib/python3.8/site-packages/scanpy/preprocessing/_simple.py:810: UserWarning: Revieved a view of an AnnData. Making a copy.\n",
      "  view_to_actual(adata)\n"
     ]
    },
    {
     "name": "stdout",
     "output_type": "stream",
     "text": [
      "GSM6102534_C03_Ctrl\n"
     ]
    },
    {
     "name": "stderr",
     "output_type": "stream",
     "text": [
      "Variable names are not unique. To make them unique, call `.var_names_make_unique`.\n",
      "Variable names are not unique. To make them unique, call `.var_names_make_unique`.\n",
      "Trying to set attribute `.obs` of view, copying.\n",
      "/opt/conda/lib/python3.8/site-packages/scanpy/preprocessing/_simple.py:810: UserWarning: Revieved a view of an AnnData. Making a copy.\n",
      "  view_to_actual(adata)\n"
     ]
    },
    {
     "name": "stdout",
     "output_type": "stream",
     "text": [
      "GSM6102533_C02_Ctrl\n"
     ]
    },
    {
     "name": "stderr",
     "output_type": "stream",
     "text": [
      "Variable names are not unique. To make them unique, call `.var_names_make_unique`.\n",
      "Variable names are not unique. To make them unique, call `.var_names_make_unique`.\n",
      "Trying to set attribute `.obs` of view, copying.\n",
      "/opt/conda/lib/python3.8/site-packages/scanpy/preprocessing/_simple.py:810: UserWarning: Revieved a view of an AnnData. Making a copy.\n",
      "  view_to_actual(adata)\n"
     ]
    },
    {
     "name": "stdout",
     "output_type": "stream",
     "text": [
      "GSM6102532_C01_Ctrl\n"
     ]
    },
    {
     "name": "stderr",
     "output_type": "stream",
     "text": [
      "Variable names are not unique. To make them unique, call `.var_names_make_unique`.\n",
      "Variable names are not unique. To make them unique, call `.var_names_make_unique`.\n",
      "Trying to set attribute `.obs` of view, copying.\n",
      "/opt/conda/lib/python3.8/site-packages/scanpy/preprocessing/_simple.py:810: UserWarning: Revieved a view of an AnnData. Making a copy.\n",
      "  view_to_actual(adata)\n"
     ]
    }
   ],
   "source": [
    "#there's loads of clustering going on, so set verbosity low unless you enjoy walls of text\n",
    "sc.settings.verbosity = 0  # verbosity: errors (0), warnings (1), info (2), hints (3)\n",
    "\n",
    "\n",
    "scorenames = ['scrublet_score','scrublet_cluster_score','zscore','bh_pval','bonf_pval']\n",
    "if not os.path.exists('scrublet-scores'):\n",
    "    os.makedirs('scrublet-scores')\n",
    "    #loop over the subfolders of the rawdata folder\n",
    "\n",
    "samples = meta['sample_long'].to_list()\n",
    "\n",
    "for sample in reversed(list(samples)):\n",
    "    print(sample)\n",
    "    #import data\n",
    "    adata_sample = sc.read_10x_h5(sample_directory+sample+'_filtered_feature_bc_matrix.h5')\n",
    "    adata_sample.var_names_make_unique()\n",
    "    #rename cells to SAMPLE_BARCODE\n",
    "    adata_sample.obs_names = [sample+'_'+i for i in adata_sample.obs_names]\n",
    "    #do some early filtering to retain meaningful cells for doublet inspection\n",
    "    sc.pp.filter_cells(adata_sample, min_genes=150)\n",
    "    sc.pp.filter_genes(adata_sample, min_cells=3)\n",
    "    #convert to lower to be species agnostic: human mito start with MT-, mouse with mt-\n",
    "    mito_genes = [name for name in adata_sample.var_names if name.lower().startswith('mt-')]\n",
    "    # for each cell compute fraction of counts in mito genes vs. all genes\n",
    "    # the `.A1` is only necessary as X is sparse (to transform to a dense array after summing)\n",
    "    adata_sample.obs['percent_mito'] = np.sum(\n",
    "        adata_sample[:, mito_genes].X, axis=1).A1 / np.sum(adata_sample.X, axis=1).A1\n",
    "    adata_sample = adata_sample[adata_sample.obs['percent_mito'] < 0.2, :]\n",
    "\n",
    "    #set up and run Scrublet, seeding for replicability\n",
    "    np.random.seed(0)\n",
    "    scrub = scr.Scrublet(adata_sample.X)\n",
    "    doublet_scores, predicted_doublets = scrub.scrub_doublets(verbose=False)\n",
    "    adata_sample.obs['scrublet_score'] = doublet_scores\n",
    "\n",
    "    #overcluster prep. run turbo basic scanpy pipeline\n",
    "    sc.pp.normalize_per_cell(adata_sample, counts_per_cell_after=1e4)\n",
    "    sc.pp.log1p(adata_sample)\n",
    "    sc.pp.highly_variable_genes(adata_sample, min_mean=0.0125, max_mean=3, min_disp=0.5)\n",
    "    adata_sample = adata_sample[:, adata_sample.var['highly_variable']]\n",
    "    sc.pp.scale(adata_sample, max_value=10)\n",
    "    sc.tl.pca(adata_sample, svd_solver='arpack')\n",
    "    sc.pp.neighbors(adata_sample)\n",
    "    #overclustering proper - do basic clustering first, then cluster each cluster\n",
    "    sc.tl.leiden(adata_sample)\n",
    "    adata_sample.obs['leiden'] = [str(i) for i in adata_sample.obs['leiden']]\n",
    "    for clus in np.unique(adata_sample.obs['leiden']):\n",
    "        adata_sub = adata_sample[adata_sample.obs['leiden']==clus].copy()\n",
    "        sc.tl.leiden(adata_sub)\n",
    "        adata_sub.obs['leiden'] = [clus+','+i for i in adata_sub.obs['leiden']]\n",
    "        adata_sample.obs.loc[adata_sub.obs_names,'leiden'] = adata_sub.obs['leiden']\n",
    "\n",
    "    #compute the cluster scores - the median of Scrublet scores per overclustered cluster\n",
    "    for clus in np.unique(adata_sample.obs['leiden']):\n",
    "        adata_sample.obs.loc[adata_sample.obs['leiden']==clus, 'scrublet_cluster_score'] = \\\n",
    "            np.median(adata_sample.obs.loc[adata_sample.obs['leiden']==clus, 'scrublet_score'])\n",
    "    #now compute doublet p-values. figure out the median and mad (from above-median values) for the distribution\n",
    "    med = np.median(adata_sample.obs['scrublet_cluster_score'])\n",
    "    mask = adata_sample.obs['scrublet_cluster_score']>med\n",
    "    mad = np.median(adata_sample.obs['scrublet_cluster_score'][mask]-med)\n",
    "    #let's do a one-sided test. the Bertie write-up does not address this but it makes sense\n",
    "    zscores = (adata_sample.obs['scrublet_cluster_score'].values - med) / (1.4826 * mad)\n",
    "    adata_sample.obs['zscore'] = zscores\n",
    "    pvals = 1-scipy.stats.norm.cdf(zscores)\n",
    "    adata_sample.obs['bh_pval'] = bh(pvals)\n",
    "    adata_sample.obs['bonf_pval'] = bonf(pvals)\n",
    "\n",
    "    #create results data frame for single sample and copy stuff over from the adata object\n",
    "    scrublet_sample = pd.DataFrame(0, index=adata_sample.obs_names, columns=scorenames)\n",
    "    for score in scorenames:\n",
    "        scrublet_sample[score] = adata_sample.obs[score]\n",
    "    #write out complete sample scores\n",
    "    scrublet_sample.to_csv('scrublet-scores/'+sample+'.csv')"
   ]
  }
 ],
 "metadata": {
  "kernelspec": {
   "display_name": "Python scvelo",
   "language": "python",
   "name": "scvelo"
  },
  "language_info": {
   "codemirror_mode": {
    "name": "ipython",
    "version": 3
   },
   "file_extension": ".py",
   "mimetype": "text/x-python",
   "name": "python",
   "nbconvert_exporter": "python",
   "pygments_lexer": "ipython3",
   "version": "3.8.8"
  }
 },
 "nbformat": 4,
 "nbformat_minor": 4
}
